{
  "nbformat": 4,
  "nbformat_minor": 0,
  "metadata": {
    "colab": {
      "provenance": [],
      "gpuType": "T4"
    },
    "kernelspec": {
      "name": "python3",
      "display_name": "Python 3"
    },
    "language_info": {
      "name": "python"
    },
    "accelerator": "GPU"
  },
  "cells": [
    {
      "cell_type": "code",
      "execution_count": null,
      "metadata": {
        "colab": {
          "base_uri": "https://localhost:8080/"
        },
        "id": "7Q5Sj_hdLwCa",
        "outputId": "5669d00f-b629-48e4-bda7-1a0806ed33e4"
      },
      "outputs": [
        {
          "output_type": "stream",
          "name": "stdout",
          "text": [
            "Collecting roboflow\n",
            "  Downloading roboflow-1.1.63-py3-none-any.whl.metadata (9.7 kB)\n",
            "Collecting ultralytics\n",
            "  Downloading ultralytics-8.3.129-py3-none-any.whl.metadata (37 kB)\n",
            "Requirement already satisfied: certifi in /usr/local/lib/python3.11/dist-packages (from roboflow) (2025.4.26)\n",
            "Collecting idna==3.7 (from roboflow)\n",
            "  Downloading idna-3.7-py3-none-any.whl.metadata (9.9 kB)\n",
            "Requirement already satisfied: cycler in /usr/local/lib/python3.11/dist-packages (from roboflow) (0.12.1)\n",
            "Requirement already satisfied: kiwisolver>=1.3.1 in /usr/local/lib/python3.11/dist-packages (from roboflow) (1.4.8)\n",
            "Requirement already satisfied: matplotlib in /usr/local/lib/python3.11/dist-packages (from roboflow) (3.10.0)\n",
            "Requirement already satisfied: numpy>=1.18.5 in /usr/local/lib/python3.11/dist-packages (from roboflow) (2.0.2)\n",
            "Collecting opencv-python-headless==4.10.0.84 (from roboflow)\n",
            "  Downloading opencv_python_headless-4.10.0.84-cp37-abi3-manylinux_2_17_x86_64.manylinux2014_x86_64.whl.metadata (20 kB)\n",
            "Requirement already satisfied: Pillow>=7.1.2 in /usr/local/lib/python3.11/dist-packages (from roboflow) (11.2.1)\n",
            "Collecting pillow-heif>=0.18.0 (from roboflow)\n",
            "  Downloading pillow_heif-0.22.0-cp311-cp311-manylinux_2_17_x86_64.manylinux2014_x86_64.whl.metadata (9.6 kB)\n",
            "Requirement already satisfied: python-dateutil in /usr/local/lib/python3.11/dist-packages (from roboflow) (2.9.0.post0)\n",
            "Collecting python-dotenv (from roboflow)\n",
            "  Downloading python_dotenv-1.1.0-py3-none-any.whl.metadata (24 kB)\n",
            "Requirement already satisfied: requests in /usr/local/lib/python3.11/dist-packages (from roboflow) (2.32.3)\n",
            "Requirement already satisfied: six in /usr/local/lib/python3.11/dist-packages (from roboflow) (1.17.0)\n",
            "Requirement already satisfied: urllib3>=1.26.6 in /usr/local/lib/python3.11/dist-packages (from roboflow) (2.4.0)\n",
            "Requirement already satisfied: tqdm>=4.41.0 in /usr/local/lib/python3.11/dist-packages (from roboflow) (4.67.1)\n",
            "Requirement already satisfied: PyYAML>=5.3.1 in /usr/local/lib/python3.11/dist-packages (from roboflow) (6.0.2)\n",
            "Requirement already satisfied: requests-toolbelt in /usr/local/lib/python3.11/dist-packages (from roboflow) (1.0.0)\n",
            "Collecting filetype (from roboflow)\n",
            "  Downloading filetype-1.2.0-py2.py3-none-any.whl.metadata (6.5 kB)\n",
            "Requirement already satisfied: opencv-python>=4.6.0 in /usr/local/lib/python3.11/dist-packages (from ultralytics) (4.11.0.86)\n",
            "Requirement already satisfied: scipy>=1.4.1 in /usr/local/lib/python3.11/dist-packages (from ultralytics) (1.15.2)\n",
            "Requirement already satisfied: torch>=1.8.0 in /usr/local/lib/python3.11/dist-packages (from ultralytics) (2.6.0+cu124)\n",
            "Requirement already satisfied: torchvision>=0.9.0 in /usr/local/lib/python3.11/dist-packages (from ultralytics) (0.21.0+cu124)\n",
            "Requirement already satisfied: psutil in /usr/local/lib/python3.11/dist-packages (from ultralytics) (5.9.5)\n",
            "Requirement already satisfied: py-cpuinfo in /usr/local/lib/python3.11/dist-packages (from ultralytics) (9.0.0)\n",
            "Requirement already satisfied: pandas>=1.1.4 in /usr/local/lib/python3.11/dist-packages (from ultralytics) (2.2.2)\n",
            "Requirement already satisfied: seaborn>=0.11.0 in /usr/local/lib/python3.11/dist-packages (from ultralytics) (0.13.2)\n",
            "Collecting ultralytics-thop>=2.0.0 (from ultralytics)\n",
            "  Downloading ultralytics_thop-2.0.14-py3-none-any.whl.metadata (9.4 kB)\n",
            "Requirement already satisfied: contourpy>=1.0.1 in /usr/local/lib/python3.11/dist-packages (from matplotlib->roboflow) (1.3.2)\n",
            "Requirement already satisfied: fonttools>=4.22.0 in /usr/local/lib/python3.11/dist-packages (from matplotlib->roboflow) (4.57.0)\n",
            "Requirement already satisfied: packaging>=20.0 in /usr/local/lib/python3.11/dist-packages (from matplotlib->roboflow) (24.2)\n",
            "Requirement already satisfied: pyparsing>=2.3.1 in /usr/local/lib/python3.11/dist-packages (from matplotlib->roboflow) (3.2.3)\n",
            "Requirement already satisfied: pytz>=2020.1 in /usr/local/lib/python3.11/dist-packages (from pandas>=1.1.4->ultralytics) (2025.2)\n",
            "Requirement already satisfied: tzdata>=2022.7 in /usr/local/lib/python3.11/dist-packages (from pandas>=1.1.4->ultralytics) (2025.2)\n",
            "Requirement already satisfied: charset-normalizer<4,>=2 in /usr/local/lib/python3.11/dist-packages (from requests->roboflow) (3.4.1)\n",
            "Requirement already satisfied: filelock in /usr/local/lib/python3.11/dist-packages (from torch>=1.8.0->ultralytics) (3.18.0)\n",
            "Requirement already satisfied: typing-extensions>=4.10.0 in /usr/local/lib/python3.11/dist-packages (from torch>=1.8.0->ultralytics) (4.13.2)\n",
            "Requirement already satisfied: networkx in /usr/local/lib/python3.11/dist-packages (from torch>=1.8.0->ultralytics) (3.4.2)\n",
            "Requirement already satisfied: jinja2 in /usr/local/lib/python3.11/dist-packages (from torch>=1.8.0->ultralytics) (3.1.6)\n",
            "Requirement already satisfied: fsspec in /usr/local/lib/python3.11/dist-packages (from torch>=1.8.0->ultralytics) (2025.3.2)\n",
            "Collecting nvidia-cuda-nvrtc-cu12==12.4.127 (from torch>=1.8.0->ultralytics)\n",
            "  Downloading nvidia_cuda_nvrtc_cu12-12.4.127-py3-none-manylinux2014_x86_64.whl.metadata (1.5 kB)\n",
            "Collecting nvidia-cuda-runtime-cu12==12.4.127 (from torch>=1.8.0->ultralytics)\n",
            "  Downloading nvidia_cuda_runtime_cu12-12.4.127-py3-none-manylinux2014_x86_64.whl.metadata (1.5 kB)\n",
            "Collecting nvidia-cuda-cupti-cu12==12.4.127 (from torch>=1.8.0->ultralytics)\n",
            "  Downloading nvidia_cuda_cupti_cu12-12.4.127-py3-none-manylinux2014_x86_64.whl.metadata (1.6 kB)\n",
            "Collecting nvidia-cudnn-cu12==9.1.0.70 (from torch>=1.8.0->ultralytics)\n",
            "  Downloading nvidia_cudnn_cu12-9.1.0.70-py3-none-manylinux2014_x86_64.whl.metadata (1.6 kB)\n",
            "Collecting nvidia-cublas-cu12==12.4.5.8 (from torch>=1.8.0->ultralytics)\n",
            "  Downloading nvidia_cublas_cu12-12.4.5.8-py3-none-manylinux2014_x86_64.whl.metadata (1.5 kB)\n",
            "Collecting nvidia-cufft-cu12==11.2.1.3 (from torch>=1.8.0->ultralytics)\n",
            "  Downloading nvidia_cufft_cu12-11.2.1.3-py3-none-manylinux2014_x86_64.whl.metadata (1.5 kB)\n",
            "Collecting nvidia-curand-cu12==10.3.5.147 (from torch>=1.8.0->ultralytics)\n",
            "  Downloading nvidia_curand_cu12-10.3.5.147-py3-none-manylinux2014_x86_64.whl.metadata (1.5 kB)\n",
            "Collecting nvidia-cusolver-cu12==11.6.1.9 (from torch>=1.8.0->ultralytics)\n",
            "  Downloading nvidia_cusolver_cu12-11.6.1.9-py3-none-manylinux2014_x86_64.whl.metadata (1.6 kB)\n",
            "Collecting nvidia-cusparse-cu12==12.3.1.170 (from torch>=1.8.0->ultralytics)\n",
            "  Downloading nvidia_cusparse_cu12-12.3.1.170-py3-none-manylinux2014_x86_64.whl.metadata (1.6 kB)\n",
            "Requirement already satisfied: nvidia-cusparselt-cu12==0.6.2 in /usr/local/lib/python3.11/dist-packages (from torch>=1.8.0->ultralytics) (0.6.2)\n",
            "Requirement already satisfied: nvidia-nccl-cu12==2.21.5 in /usr/local/lib/python3.11/dist-packages (from torch>=1.8.0->ultralytics) (2.21.5)\n",
            "Requirement already satisfied: nvidia-nvtx-cu12==12.4.127 in /usr/local/lib/python3.11/dist-packages (from torch>=1.8.0->ultralytics) (12.4.127)\n",
            "Collecting nvidia-nvjitlink-cu12==12.4.127 (from torch>=1.8.0->ultralytics)\n",
            "  Downloading nvidia_nvjitlink_cu12-12.4.127-py3-none-manylinux2014_x86_64.whl.metadata (1.5 kB)\n",
            "Requirement already satisfied: triton==3.2.0 in /usr/local/lib/python3.11/dist-packages (from torch>=1.8.0->ultralytics) (3.2.0)\n",
            "Requirement already satisfied: sympy==1.13.1 in /usr/local/lib/python3.11/dist-packages (from torch>=1.8.0->ultralytics) (1.13.1)\n",
            "Requirement already satisfied: mpmath<1.4,>=1.1.0 in /usr/local/lib/python3.11/dist-packages (from sympy==1.13.1->torch>=1.8.0->ultralytics) (1.3.0)\n",
            "Requirement already satisfied: MarkupSafe>=2.0 in /usr/local/lib/python3.11/dist-packages (from jinja2->torch>=1.8.0->ultralytics) (3.0.2)\n",
            "Downloading roboflow-1.1.63-py3-none-any.whl (85 kB)\n",
            "\u001b[2K   \u001b[90m━━━━━━━━━━━━━━━━━━━━━━━━━━━━━━━━━━━━━━━━\u001b[0m \u001b[32m85.3/85.3 kB\u001b[0m \u001b[31m8.2 MB/s\u001b[0m eta \u001b[36m0:00:00\u001b[0m\n",
            "\u001b[?25hDownloading idna-3.7-py3-none-any.whl (66 kB)\n",
            "\u001b[2K   \u001b[90m━━━━━━━━━━━━━━━━━━━━━━━━━━━━━━━━━━━━━━━━\u001b[0m \u001b[32m66.8/66.8 kB\u001b[0m \u001b[31m6.9 MB/s\u001b[0m eta \u001b[36m0:00:00\u001b[0m\n",
            "\u001b[?25hDownloading opencv_python_headless-4.10.0.84-cp37-abi3-manylinux_2_17_x86_64.manylinux2014_x86_64.whl (49.9 MB)\n",
            "\u001b[2K   \u001b[90m━━━━━━━━━━━━━━━━━━━━━━━━━━━━━━━━━━━━━━━━\u001b[0m \u001b[32m49.9/49.9 MB\u001b[0m \u001b[31m18.9 MB/s\u001b[0m eta \u001b[36m0:00:00\u001b[0m\n",
            "\u001b[?25hDownloading ultralytics-8.3.129-py3-none-any.whl (1.0 MB)\n",
            "\u001b[2K   \u001b[90m━━━━━━━━━━━━━━━━━━━━━━━━━━━━━━━━━━━━━━━━\u001b[0m \u001b[32m1.0/1.0 MB\u001b[0m \u001b[31m65.3 MB/s\u001b[0m eta \u001b[36m0:00:00\u001b[0m\n",
            "\u001b[?25hDownloading pillow_heif-0.22.0-cp311-cp311-manylinux_2_17_x86_64.manylinux2014_x86_64.whl (7.8 MB)\n",
            "\u001b[2K   \u001b[90m━━━━━━━━━━━━━━━━━━━━━━━━━━━━━━━━━━━━━━━━\u001b[0m \u001b[32m7.8/7.8 MB\u001b[0m \u001b[31m29.0 MB/s\u001b[0m eta \u001b[36m0:00:00\u001b[0m\n",
            "\u001b[?25hDownloading nvidia_cublas_cu12-12.4.5.8-py3-none-manylinux2014_x86_64.whl (363.4 MB)\n",
            "\u001b[2K   \u001b[90m━━━━━━━━━━━━━━━━━━━━━━━━━━━━━━━━━━━━━━━━\u001b[0m \u001b[32m363.4/363.4 MB\u001b[0m \u001b[31m4.5 MB/s\u001b[0m eta \u001b[36m0:00:00\u001b[0m\n",
            "\u001b[?25hDownloading nvidia_cuda_cupti_cu12-12.4.127-py3-none-manylinux2014_x86_64.whl (13.8 MB)\n",
            "\u001b[2K   \u001b[90m━━━━━━━━━━━━━━━━━━━━━━━━━━━━━━━━━━━━━━━━\u001b[0m \u001b[32m13.8/13.8 MB\u001b[0m \u001b[31m127.9 MB/s\u001b[0m eta \u001b[36m0:00:00\u001b[0m\n",
            "\u001b[?25hDownloading nvidia_cuda_nvrtc_cu12-12.4.127-py3-none-manylinux2014_x86_64.whl (24.6 MB)\n",
            "\u001b[2K   \u001b[90m━━━━━━━━━━━━━━━━━━━━━━━━━━━━━━━━━━━━━━━━\u001b[0m \u001b[32m24.6/24.6 MB\u001b[0m \u001b[31m94.2 MB/s\u001b[0m eta \u001b[36m0:00:00\u001b[0m\n",
            "\u001b[?25hDownloading nvidia_cuda_runtime_cu12-12.4.127-py3-none-manylinux2014_x86_64.whl (883 kB)\n",
            "\u001b[2K   \u001b[90m━━━━━━━━━━━━━━━━━━━━━━━━━━━━━━━━━━━━━━━━\u001b[0m \u001b[32m883.7/883.7 kB\u001b[0m \u001b[31m61.0 MB/s\u001b[0m eta \u001b[36m0:00:00\u001b[0m\n",
            "\u001b[?25hDownloading nvidia_cudnn_cu12-9.1.0.70-py3-none-manylinux2014_x86_64.whl (664.8 MB)\n",
            "\u001b[2K   \u001b[90m━━━━━━━━━━━━━━━━━━━━━━━━━━━━━━━━━━━━━━━━\u001b[0m \u001b[32m664.8/664.8 MB\u001b[0m \u001b[31m2.1 MB/s\u001b[0m eta \u001b[36m0:00:00\u001b[0m\n",
            "\u001b[?25hDownloading nvidia_cufft_cu12-11.2.1.3-py3-none-manylinux2014_x86_64.whl (211.5 MB)\n",
            "\u001b[2K   \u001b[90m━━━━━━━━━━━━━━━━━━━━━━━━━━━━━━━━━━━━━━━━\u001b[0m \u001b[32m211.5/211.5 MB\u001b[0m \u001b[31m5.4 MB/s\u001b[0m eta \u001b[36m0:00:00\u001b[0m\n",
            "\u001b[?25hDownloading nvidia_curand_cu12-10.3.5.147-py3-none-manylinux2014_x86_64.whl (56.3 MB)\n",
            "\u001b[2K   \u001b[90m━━━━━━━━━━━━━━━━━━━━━━━━━━━━━━━━━━━━━━━━\u001b[0m \u001b[32m56.3/56.3 MB\u001b[0m \u001b[31m12.3 MB/s\u001b[0m eta \u001b[36m0:00:00\u001b[0m\n",
            "\u001b[?25hDownloading nvidia_cusolver_cu12-11.6.1.9-py3-none-manylinux2014_x86_64.whl (127.9 MB)\n",
            "\u001b[2K   \u001b[90m━━━━━━━━━━━━━━━━━━━━━━━━━━━━━━━━━━━━━━━━\u001b[0m \u001b[32m127.9/127.9 MB\u001b[0m \u001b[31m7.5 MB/s\u001b[0m eta \u001b[36m0:00:00\u001b[0m\n",
            "\u001b[?25hDownloading nvidia_cusparse_cu12-12.3.1.170-py3-none-manylinux2014_x86_64.whl (207.5 MB)\n",
            "\u001b[2K   \u001b[90m━━━━━━━━━━━━━━━━━━━━━━━━━━━━━━━━━━━━━━━━\u001b[0m \u001b[32m207.5/207.5 MB\u001b[0m \u001b[31m5.5 MB/s\u001b[0m eta \u001b[36m0:00:00\u001b[0m\n",
            "\u001b[?25hDownloading nvidia_nvjitlink_cu12-12.4.127-py3-none-manylinux2014_x86_64.whl (21.1 MB)\n",
            "\u001b[2K   \u001b[90m━━━━━━━━━━━━━━━━━━━━━━━━━━━━━━━━━━━━━━━━\u001b[0m \u001b[32m21.1/21.1 MB\u001b[0m \u001b[31m112.1 MB/s\u001b[0m eta \u001b[36m0:00:00\u001b[0m\n",
            "\u001b[?25hDownloading ultralytics_thop-2.0.14-py3-none-any.whl (26 kB)\n",
            "Downloading filetype-1.2.0-py2.py3-none-any.whl (19 kB)\n",
            "Downloading python_dotenv-1.1.0-py3-none-any.whl (20 kB)\n",
            "Installing collected packages: filetype, python-dotenv, pillow-heif, opencv-python-headless, nvidia-nvjitlink-cu12, nvidia-curand-cu12, nvidia-cufft-cu12, nvidia-cuda-runtime-cu12, nvidia-cuda-nvrtc-cu12, nvidia-cuda-cupti-cu12, nvidia-cublas-cu12, idna, nvidia-cusparse-cu12, nvidia-cudnn-cu12, nvidia-cusolver-cu12, roboflow, ultralytics-thop, ultralytics\n",
            "  Attempting uninstall: opencv-python-headless\n",
            "    Found existing installation: opencv-python-headless 4.11.0.86\n",
            "    Uninstalling opencv-python-headless-4.11.0.86:\n",
            "      Successfully uninstalled opencv-python-headless-4.11.0.86\n",
            "  Attempting uninstall: nvidia-nvjitlink-cu12\n",
            "    Found existing installation: nvidia-nvjitlink-cu12 12.5.82\n",
            "    Uninstalling nvidia-nvjitlink-cu12-12.5.82:\n",
            "      Successfully uninstalled nvidia-nvjitlink-cu12-12.5.82\n",
            "  Attempting uninstall: nvidia-curand-cu12\n",
            "    Found existing installation: nvidia-curand-cu12 10.3.6.82\n",
            "    Uninstalling nvidia-curand-cu12-10.3.6.82:\n",
            "      Successfully uninstalled nvidia-curand-cu12-10.3.6.82\n",
            "  Attempting uninstall: nvidia-cufft-cu12\n",
            "    Found existing installation: nvidia-cufft-cu12 11.2.3.61\n",
            "    Uninstalling nvidia-cufft-cu12-11.2.3.61:\n",
            "      Successfully uninstalled nvidia-cufft-cu12-11.2.3.61\n",
            "  Attempting uninstall: nvidia-cuda-runtime-cu12\n",
            "    Found existing installation: nvidia-cuda-runtime-cu12 12.5.82\n",
            "    Uninstalling nvidia-cuda-runtime-cu12-12.5.82:\n",
            "      Successfully uninstalled nvidia-cuda-runtime-cu12-12.5.82\n",
            "  Attempting uninstall: nvidia-cuda-nvrtc-cu12\n",
            "    Found existing installation: nvidia-cuda-nvrtc-cu12 12.5.82\n",
            "    Uninstalling nvidia-cuda-nvrtc-cu12-12.5.82:\n",
            "      Successfully uninstalled nvidia-cuda-nvrtc-cu12-12.5.82\n",
            "  Attempting uninstall: nvidia-cuda-cupti-cu12\n",
            "    Found existing installation: nvidia-cuda-cupti-cu12 12.5.82\n",
            "    Uninstalling nvidia-cuda-cupti-cu12-12.5.82:\n",
            "      Successfully uninstalled nvidia-cuda-cupti-cu12-12.5.82\n",
            "  Attempting uninstall: nvidia-cublas-cu12\n",
            "    Found existing installation: nvidia-cublas-cu12 12.5.3.2\n",
            "    Uninstalling nvidia-cublas-cu12-12.5.3.2:\n",
            "      Successfully uninstalled nvidia-cublas-cu12-12.5.3.2\n",
            "  Attempting uninstall: idna\n",
            "    Found existing installation: idna 3.10\n",
            "    Uninstalling idna-3.10:\n",
            "      Successfully uninstalled idna-3.10\n",
            "  Attempting uninstall: nvidia-cusparse-cu12\n",
            "    Found existing installation: nvidia-cusparse-cu12 12.5.1.3\n",
            "    Uninstalling nvidia-cusparse-cu12-12.5.1.3:\n",
            "      Successfully uninstalled nvidia-cusparse-cu12-12.5.1.3\n",
            "  Attempting uninstall: nvidia-cudnn-cu12\n",
            "    Found existing installation: nvidia-cudnn-cu12 9.3.0.75\n",
            "    Uninstalling nvidia-cudnn-cu12-9.3.0.75:\n",
            "      Successfully uninstalled nvidia-cudnn-cu12-9.3.0.75\n",
            "  Attempting uninstall: nvidia-cusolver-cu12\n",
            "    Found existing installation: nvidia-cusolver-cu12 11.6.3.83\n",
            "    Uninstalling nvidia-cusolver-cu12-11.6.3.83:\n",
            "      Successfully uninstalled nvidia-cusolver-cu12-11.6.3.83\n",
            "Successfully installed filetype-1.2.0 idna-3.7 nvidia-cublas-cu12-12.4.5.8 nvidia-cuda-cupti-cu12-12.4.127 nvidia-cuda-nvrtc-cu12-12.4.127 nvidia-cuda-runtime-cu12-12.4.127 nvidia-cudnn-cu12-9.1.0.70 nvidia-cufft-cu12-11.2.1.3 nvidia-curand-cu12-10.3.5.147 nvidia-cusolver-cu12-11.6.1.9 nvidia-cusparse-cu12-12.3.1.170 nvidia-nvjitlink-cu12-12.4.127 opencv-python-headless-4.10.0.84 pillow-heif-0.22.0 python-dotenv-1.1.0 roboflow-1.1.63 ultralytics-8.3.129 ultralytics-thop-2.0.14\n"
          ]
        }
      ],
      "source": [
        "!pip install roboflow ultralytics"
      ]
    },
    {
      "cell_type": "code",
      "source": [
        "!pip install roboflow\n",
        "\n",
        "from roboflow import Roboflow\n",
        "rf = Roboflow(api_key=\"oAeanIPa419asYxe2D5M\")\n",
        "project = rf.workspace(\"kacem-el-amri-hslmc\").project(\"playing-cards-yy60t\")\n",
        "version = project.version(2)\n",
        "dataset = version.download(\"yolov8\")\n"
      ],
      "metadata": {
        "colab": {
          "base_uri": "https://localhost:8080/"
        },
        "id": "ah-b2Pd1MHqn",
        "outputId": "c9b77275-8f63-4e6b-fe11-c94cd16ddb09"
      },
      "execution_count": null,
      "outputs": [
        {
          "output_type": "stream",
          "name": "stdout",
          "text": [
            "Requirement already satisfied: roboflow in /usr/local/lib/python3.11/dist-packages (1.1.63)\n",
            "Requirement already satisfied: certifi in /usr/local/lib/python3.11/dist-packages (from roboflow) (2025.4.26)\n",
            "Requirement already satisfied: idna==3.7 in /usr/local/lib/python3.11/dist-packages (from roboflow) (3.7)\n",
            "Requirement already satisfied: cycler in /usr/local/lib/python3.11/dist-packages (from roboflow) (0.12.1)\n",
            "Requirement already satisfied: kiwisolver>=1.3.1 in /usr/local/lib/python3.11/dist-packages (from roboflow) (1.4.8)\n",
            "Requirement already satisfied: matplotlib in /usr/local/lib/python3.11/dist-packages (from roboflow) (3.10.0)\n",
            "Requirement already satisfied: numpy>=1.18.5 in /usr/local/lib/python3.11/dist-packages (from roboflow) (2.0.2)\n",
            "Requirement already satisfied: opencv-python-headless==4.10.0.84 in /usr/local/lib/python3.11/dist-packages (from roboflow) (4.10.0.84)\n",
            "Requirement already satisfied: Pillow>=7.1.2 in /usr/local/lib/python3.11/dist-packages (from roboflow) (11.2.1)\n",
            "Requirement already satisfied: pillow-heif>=0.18.0 in /usr/local/lib/python3.11/dist-packages (from roboflow) (0.22.0)\n",
            "Requirement already satisfied: python-dateutil in /usr/local/lib/python3.11/dist-packages (from roboflow) (2.9.0.post0)\n",
            "Requirement already satisfied: python-dotenv in /usr/local/lib/python3.11/dist-packages (from roboflow) (1.1.0)\n",
            "Requirement already satisfied: requests in /usr/local/lib/python3.11/dist-packages (from roboflow) (2.32.3)\n",
            "Requirement already satisfied: six in /usr/local/lib/python3.11/dist-packages (from roboflow) (1.17.0)\n",
            "Requirement already satisfied: urllib3>=1.26.6 in /usr/local/lib/python3.11/dist-packages (from roboflow) (2.4.0)\n",
            "Requirement already satisfied: tqdm>=4.41.0 in /usr/local/lib/python3.11/dist-packages (from roboflow) (4.67.1)\n",
            "Requirement already satisfied: PyYAML>=5.3.1 in /usr/local/lib/python3.11/dist-packages (from roboflow) (6.0.2)\n",
            "Requirement already satisfied: requests-toolbelt in /usr/local/lib/python3.11/dist-packages (from roboflow) (1.0.0)\n",
            "Requirement already satisfied: filetype in /usr/local/lib/python3.11/dist-packages (from roboflow) (1.2.0)\n",
            "Requirement already satisfied: contourpy>=1.0.1 in /usr/local/lib/python3.11/dist-packages (from matplotlib->roboflow) (1.3.2)\n",
            "Requirement already satisfied: fonttools>=4.22.0 in /usr/local/lib/python3.11/dist-packages (from matplotlib->roboflow) (4.57.0)\n",
            "Requirement already satisfied: packaging>=20.0 in /usr/local/lib/python3.11/dist-packages (from matplotlib->roboflow) (24.2)\n",
            "Requirement already satisfied: pyparsing>=2.3.1 in /usr/local/lib/python3.11/dist-packages (from matplotlib->roboflow) (3.2.3)\n",
            "Requirement already satisfied: charset-normalizer<4,>=2 in /usr/local/lib/python3.11/dist-packages (from requests->roboflow) (3.4.1)\n",
            "loading Roboflow workspace...\n",
            "loading Roboflow project...\n"
          ]
        },
        {
          "output_type": "stream",
          "name": "stderr",
          "text": [
            "Downloading Dataset Version Zip in Playing-Cards-2 to yolov8:: 100%|██████████| 821058/821058 [00:46<00:00, 17693.02it/s]"
          ]
        },
        {
          "output_type": "stream",
          "name": "stdout",
          "text": [
            "\n"
          ]
        },
        {
          "output_type": "stream",
          "name": "stderr",
          "text": [
            "\n",
            "Extracting Dataset Version Zip to Playing-Cards-2 in yolov8:: 100%|██████████| 19798/19798 [00:04<00:00, 4878.72it/s]\n"
          ]
        },
        {
          "output_type": "stream",
          "name": "stdout",
          "text": [
            "Creating new Ultralytics Settings v0.0.6 file ✅ \n",
            "View Ultralytics Settings with 'yolo settings' or at '/root/.config/Ultralytics/settings.json'\n",
            "Update Settings with 'yolo settings key=value', i.e. 'yolo settings runs_dir=path/to/dir'. For help see https://docs.ultralytics.com/quickstart/#ultralytics-settings.\n"
          ]
        }
      ]
    },
    {
      "cell_type": "code",
      "source": [
        "!ls /content/Playing-Cards-2"
      ],
      "metadata": {
        "colab": {
          "base_uri": "https://localhost:8080/"
        },
        "id": "8S9G8eAzMtUA",
        "outputId": "0955d1b6-57b8-47c4-8d63-be14cf3f9a8b"
      },
      "execution_count": null,
      "outputs": [
        {
          "output_type": "stream",
          "name": "stdout",
          "text": [
            "data.yaml  README.dataset.txt  README.roboflow.txt  test  train  valid\n"
          ]
        }
      ]
    },
    {
      "cell_type": "code",
      "source": [
        "!cat /content/Playing-Cards-2/data.yaml"
      ],
      "metadata": {
        "colab": {
          "base_uri": "https://localhost:8080/"
        },
        "id": "kPPNWfP2M66i",
        "outputId": "15232852-642f-41fb-cd73-35f2a7846562"
      },
      "execution_count": null,
      "outputs": [
        {
          "output_type": "stream",
          "name": "stdout",
          "text": [
            "names:\n",
            "- 10C\n",
            "- 10D\n",
            "- 10H\n",
            "- 10S\n",
            "- 2C\n",
            "- 2D\n",
            "- 2H\n",
            "- 2S\n",
            "- 3C\n",
            "- 3D\n",
            "- 3H\n",
            "- 3S\n",
            "- 4C\n",
            "- 4D\n",
            "- 4H\n",
            "- 4S\n",
            "- 5C\n",
            "- 5D\n",
            "- 5H\n",
            "- 5S\n",
            "- 6C\n",
            "- 6D\n",
            "- 6H\n",
            "- 6S\n",
            "- 7C\n",
            "- 7D\n",
            "- 7H\n",
            "- 7S\n",
            "- 8C\n",
            "- 8D\n",
            "- 8H\n",
            "- 8S\n",
            "- 9C\n",
            "- 9D\n",
            "- 9H\n",
            "- 9S\n",
            "- AC\n",
            "- AD\n",
            "- AH\n",
            "- AS\n",
            "- JC\n",
            "- JD\n",
            "- JH\n",
            "- JS\n",
            "- KC\n",
            "- KD\n",
            "- KH\n",
            "- KS\n",
            "- QC\n",
            "- QD\n",
            "- QH\n",
            "- QS\n",
            "- joker\n",
            "nc: 53\n",
            "roboflow:\n",
            "  license: CC BY 4.0\n",
            "  project: playing-cards-yy60t\n",
            "  url: https://universe.roboflow.com/kacem-el-amri-hslmc/playing-cards-yy60t/dataset/2\n",
            "  version: 2\n",
            "  workspace: kacem-el-amri-hslmc\n",
            "test: ../test/images\n",
            "train: ../train/images\n",
            "val: ../valid/images\n"
          ]
        }
      ]
    },
    {
      "cell_type": "code",
      "source": [
        "from ultralytics import YOLO\n",
        "model = YOLO(\"yolov8n.pt\")"
      ],
      "metadata": {
        "colab": {
          "base_uri": "https://localhost:8080/"
        },
        "id": "anD_dQdeNG5Y",
        "outputId": "558964ac-53fc-419f-e01e-ed892026d9ee"
      },
      "execution_count": null,
      "outputs": [
        {
          "output_type": "stream",
          "name": "stdout",
          "text": [
            "Downloading https://github.com/ultralytics/assets/releases/download/v8.3.0/yolov8n.pt to 'yolov8n.pt'...\n"
          ]
        },
        {
          "output_type": "stream",
          "name": "stderr",
          "text": [
            "100%|██████████| 6.25M/6.25M [00:00<00:00, 266MB/s]\n"
          ]
        }
      ]
    },
    {
      "cell_type": "code",
      "source": [
        "model.train(\n",
        "    data=\"/content/Playing-Cards-2/data.yaml\",  # Path to data.yaml\n",
        "    epochs=50,                                  # Number of training epochs\n",
        "    imgsz=640,                                  # Image size (match dataset preprocessing)\n",
        "    batch=16,                                   # Batch size (adjust based on GPU memory)\n",
        "    name=\"playing_cards_yolov8\",                # Name for training run\n",
        "    patience=10                                 # Early stopping after 10 epochs of no improvement\n",
        ")"
      ],
      "metadata": {
        "colab": {
          "base_uri": "https://localhost:8080/"
        },
        "id": "36DjCC-pNLFb",
        "outputId": "101bb49f-88ef-43df-c87a-435a8eda77a7"
      },
      "execution_count": null,
      "outputs": [
        {
          "output_type": "stream",
          "name": "stdout",
          "text": [
            "Ultralytics 8.3.129 🚀 Python-3.11.12 torch-2.6.0+cu124 CUDA:0 (Tesla T4, 15095MiB)\n",
            "\u001b[34m\u001b[1mengine/trainer: \u001b[0magnostic_nms=False, amp=True, augment=False, auto_augment=randaugment, batch=16, bgr=0.0, box=7.5, cache=False, cfg=None, classes=None, close_mosaic=10, cls=0.5, conf=None, copy_paste=0.0, copy_paste_mode=flip, cos_lr=False, cutmix=0.0, data=/content/Playing-Cards-2/data.yaml, degrees=0.0, deterministic=True, device=None, dfl=1.5, dnn=False, dropout=0.0, dynamic=False, embed=None, epochs=50, erasing=0.4, exist_ok=False, fliplr=0.5, flipud=0.0, format=torchscript, fraction=1.0, freeze=None, half=False, hsv_h=0.015, hsv_s=0.7, hsv_v=0.4, imgsz=640, int8=False, iou=0.7, keras=False, kobj=1.0, line_width=None, lr0=0.01, lrf=0.01, mask_ratio=4, max_det=300, mixup=0.0, mode=train, model=yolov8n.pt, momentum=0.937, mosaic=1.0, multi_scale=False, name=playing_cards_yolov8, nbs=64, nms=False, opset=None, optimize=False, optimizer=auto, overlap_mask=True, patience=10, perspective=0.0, plots=True, pose=12.0, pretrained=True, profile=False, project=None, rect=False, resume=False, retina_masks=False, save=True, save_conf=False, save_crop=False, save_dir=runs/detect/playing_cards_yolov8, save_frames=False, save_json=False, save_period=-1, save_txt=False, scale=0.5, seed=0, shear=0.0, show=False, show_boxes=True, show_conf=True, show_labels=True, simplify=True, single_cls=False, source=None, split=val, stream_buffer=False, task=detect, time=None, tracker=botsort.yaml, translate=0.1, val=True, verbose=True, vid_stride=1, visualize=False, warmup_bias_lr=0.1, warmup_epochs=3.0, warmup_momentum=0.8, weight_decay=0.0005, workers=8, workspace=None\n",
            "Downloading https://ultralytics.com/assets/Arial.ttf to '/root/.config/Ultralytics/Arial.ttf'...\n"
          ]
        },
        {
          "output_type": "stream",
          "name": "stderr",
          "text": [
            "100%|██████████| 755k/755k [00:00<00:00, 103MB/s]"
          ]
        },
        {
          "output_type": "stream",
          "name": "stdout",
          "text": [
            "Overriding model.yaml nc=80 with nc=53\n",
            "\n",
            "                   from  n    params  module                                       arguments                     \n",
            "  0                  -1  1       464  ultralytics.nn.modules.conv.Conv             [3, 16, 3, 2]                 \n",
            "  1                  -1  1      4672  ultralytics.nn.modules.conv.Conv             [16, 32, 3, 2]                \n",
            "  2                  -1  1      7360  ultralytics.nn.modules.block.C2f             [32, 32, 1, True]             \n",
            "  3                  -1  1     18560  ultralytics.nn.modules.conv.Conv             [32, 64, 3, 2]                \n",
            "  4                  -1  2     49664  ultralytics.nn.modules.block.C2f             [64, 64, 2, True]             \n",
            "  5                  -1  1     73984  ultralytics.nn.modules.conv.Conv             [64, 128, 3, 2]               \n",
            "  6                  -1  2    197632  ultralytics.nn.modules.block.C2f             [128, 128, 2, True]           \n",
            "  7                  -1  1    295424  ultralytics.nn.modules.conv.Conv             [128, 256, 3, 2]              \n",
            "  8                  -1  1    460288  ultralytics.nn.modules.block.C2f             [256, 256, 1, True]           \n",
            "  9                  -1  1    164608  ultralytics.nn.modules.block.SPPF            [256, 256, 5]                 \n",
            " 10                  -1  1         0  torch.nn.modules.upsampling.Upsample         [None, 2, 'nearest']          \n",
            " 11             [-1, 6]  1         0  ultralytics.nn.modules.conv.Concat           [1]                           \n",
            " 12                  -1  1    148224  ultralytics.nn.modules.block.C2f             [384, 128, 1]                 \n",
            " 13                  -1  1         0  torch.nn.modules.upsampling.Upsample         [None, 2, 'nearest']          \n",
            " 14             [-1, 4]  1         0  ultralytics.nn.modules.conv.Concat           [1]                           \n",
            " 15                  -1  1     37248  ultralytics.nn.modules.block.C2f             [192, 64, 1]                  \n",
            " 16                  -1  1     36992  ultralytics.nn.modules.conv.Conv             [64, 64, 3, 2]                \n",
            " 17            [-1, 12]  1         0  ultralytics.nn.modules.conv.Concat           [1]                           \n",
            " 18                  -1  1    123648  ultralytics.nn.modules.block.C2f             [192, 128, 1]                 \n",
            " 19                  -1  1    147712  ultralytics.nn.modules.conv.Conv             [128, 128, 3, 2]              \n",
            " 20             [-1, 9]  1         0  ultralytics.nn.modules.conv.Concat           [1]                           \n",
            " 21                  -1  1    493056  ultralytics.nn.modules.block.C2f             [384, 256, 1]                 \n",
            " 22        [15, 18, 21]  1    761647  ultralytics.nn.modules.head.Detect           [53, [64, 128, 256]]          \n"
          ]
        },
        {
          "output_type": "stream",
          "name": "stderr",
          "text": [
            "\n"
          ]
        },
        {
          "output_type": "stream",
          "name": "stdout",
          "text": [
            "Model summary: 129 layers, 3,021,183 parameters, 3,021,167 gradients, 8.3 GFLOPs\n",
            "\n",
            "Transferred 319/355 items from pretrained weights\n",
            "Freezing layer 'model.22.dfl.conv.weight'\n",
            "\u001b[34m\u001b[1mAMP: \u001b[0mrunning Automatic Mixed Precision (AMP) checks...\n",
            "Downloading https://github.com/ultralytics/assets/releases/download/v8.3.0/yolo11n.pt to 'yolo11n.pt'...\n"
          ]
        },
        {
          "output_type": "stream",
          "name": "stderr",
          "text": [
            "100%|██████████| 5.35M/5.35M [00:00<00:00, 327MB/s]\n"
          ]
        },
        {
          "output_type": "stream",
          "name": "stdout",
          "text": [
            "\u001b[34m\u001b[1mAMP: \u001b[0mchecks passed ✅\n",
            "\u001b[34m\u001b[1mtrain: \u001b[0mFast image access ✅ (ping: 0.0±0.0 ms, read: 1615.5±914.2 MB/s, size: 95.3 KB)\n"
          ]
        },
        {
          "output_type": "stream",
          "name": "stderr",
          "text": [
            "\u001b[34m\u001b[1mtrain: \u001b[0mScanning /content/Playing-Cards-2/train/labels... 7071 images, 0 backgrounds, 0 corrupt: 100%|██████████| 7071/7071 [00:03<00:00, 2206.32it/s]\n"
          ]
        },
        {
          "output_type": "stream",
          "name": "stdout",
          "text": [
            "\u001b[34m\u001b[1mtrain: \u001b[0mNew cache created: /content/Playing-Cards-2/train/labels.cache\n",
            "\u001b[34m\u001b[1malbumentations: \u001b[0mBlur(p=0.01, blur_limit=(3, 7)), MedianBlur(p=0.01, blur_limit=(3, 7)), ToGray(p=0.01, method='weighted_average', num_output_channels=3), CLAHE(p=0.01, clip_limit=(1.0, 4.0), tile_grid_size=(8, 8))\n",
            "\u001b[34m\u001b[1mval: \u001b[0mFast image access ✅ (ping: 0.0±0.1 ms, read: 874.1±634.8 MB/s, size: 69.5 KB)\n"
          ]
        },
        {
          "output_type": "stream",
          "name": "stderr",
          "text": [
            "\u001b[34m\u001b[1mval: \u001b[0mScanning /content/Playing-Cards-2/valid/labels... 2019 images, 0 backgrounds, 0 corrupt: 100%|██████████| 2019/2019 [00:01<00:00, 1149.80it/s]"
          ]
        },
        {
          "output_type": "stream",
          "name": "stdout",
          "text": [
            "\u001b[34m\u001b[1mval: \u001b[0mNew cache created: /content/Playing-Cards-2/valid/labels.cache\n"
          ]
        },
        {
          "output_type": "stream",
          "name": "stderr",
          "text": [
            "\n"
          ]
        },
        {
          "output_type": "stream",
          "name": "stdout",
          "text": [
            "Plotting labels to runs/detect/playing_cards_yolov8/labels.jpg... \n",
            "\u001b[34m\u001b[1moptimizer:\u001b[0m 'optimizer=auto' found, ignoring 'lr0=0.01' and 'momentum=0.937' and determining best 'optimizer', 'lr0' and 'momentum' automatically... \n",
            "\u001b[34m\u001b[1moptimizer:\u001b[0m AdamW(lr=0.000175, momentum=0.9) with parameter groups 57 weight(decay=0.0), 64 weight(decay=0.0005), 63 bias(decay=0.0)\n",
            "Image sizes 640 train, 640 val\n",
            "Using 2 dataloader workers\n",
            "Logging results to \u001b[1mruns/detect/playing_cards_yolov8\u001b[0m\n",
            "Starting training for 50 epochs...\n",
            "\n",
            "      Epoch    GPU_mem   box_loss   cls_loss   dfl_loss  Instances       Size\n"
          ]
        },
        {
          "output_type": "stream",
          "name": "stderr",
          "text": [
            "       1/50      2.17G       1.27      4.557     0.9961        141        640: 100%|██████████| 442/442 [02:25<00:00,  3.03it/s]\n",
            "                 Class     Images  Instances      Box(P          R      mAP50  mAP50-95): 100%|██████████| 64/64 [00:22<00:00,  2.87it/s]\n"
          ]
        },
        {
          "output_type": "stream",
          "name": "stdout",
          "text": [
            "                   all       2019       8074     0.0698      0.288     0.0547     0.0433\n",
            "\n",
            "      Epoch    GPU_mem   box_loss   cls_loss   dfl_loss  Instances       Size\n"
          ]
        },
        {
          "output_type": "stream",
          "name": "stderr",
          "text": [
            "       2/50      2.79G     0.8987      2.986     0.8934        116        640: 100%|██████████| 442/442 [02:17<00:00,  3.21it/s]\n",
            "                 Class     Images  Instances      Box(P          R      mAP50  mAP50-95): 100%|██████████| 64/64 [00:22<00:00,  2.90it/s]\n"
          ]
        },
        {
          "output_type": "stream",
          "name": "stdout",
          "text": [
            "                   all       2019       8074      0.242      0.536       0.28      0.236\n",
            "\n",
            "      Epoch    GPU_mem   box_loss   cls_loss   dfl_loss  Instances       Size\n"
          ]
        },
        {
          "output_type": "stream",
          "name": "stderr",
          "text": [
            "       3/50       2.8G     0.7944      2.364     0.8744         71        640: 100%|██████████| 442/442 [02:17<00:00,  3.22it/s]\n",
            "                 Class     Images  Instances      Box(P          R      mAP50  mAP50-95): 100%|██████████| 64/64 [00:22<00:00,  2.90it/s]\n"
          ]
        },
        {
          "output_type": "stream",
          "name": "stdout",
          "text": [
            "                   all       2019       8074      0.444      0.674      0.551      0.471\n",
            "\n",
            "      Epoch    GPU_mem   box_loss   cls_loss   dfl_loss  Instances       Size\n"
          ]
        },
        {
          "output_type": "stream",
          "name": "stderr",
          "text": [
            "       4/50      2.82G     0.7157      1.899     0.8612         69        640: 100%|██████████| 442/442 [02:16<00:00,  3.24it/s]\n",
            "                 Class     Images  Instances      Box(P          R      mAP50  mAP50-95): 100%|██████████| 64/64 [00:20<00:00,  3.09it/s]\n"
          ]
        },
        {
          "output_type": "stream",
          "name": "stdout",
          "text": [
            "                   all       2019       8074      0.611      0.742       0.75      0.658\n",
            "\n",
            "      Epoch    GPU_mem   box_loss   cls_loss   dfl_loss  Instances       Size\n"
          ]
        },
        {
          "output_type": "stream",
          "name": "stderr",
          "text": [
            "       5/50      2.83G     0.6736      1.575      0.853         71        640: 100%|██████████| 442/442 [02:16<00:00,  3.24it/s]\n",
            "                 Class     Images  Instances      Box(P          R      mAP50  mAP50-95): 100%|██████████| 64/64 [00:20<00:00,  3.08it/s]\n"
          ]
        },
        {
          "output_type": "stream",
          "name": "stdout",
          "text": [
            "                   all       2019       8074      0.787      0.838      0.889      0.791\n",
            "\n",
            "      Epoch    GPU_mem   box_loss   cls_loss   dfl_loss  Instances       Size\n"
          ]
        },
        {
          "output_type": "stream",
          "name": "stderr",
          "text": [
            "       6/50      2.85G     0.6407      1.335     0.8461         73        640: 100%|██████████| 442/442 [02:16<00:00,  3.23it/s]\n",
            "                 Class     Images  Instances      Box(P          R      mAP50  mAP50-95): 100%|██████████| 64/64 [00:20<00:00,  3.17it/s]\n"
          ]
        },
        {
          "output_type": "stream",
          "name": "stdout",
          "text": [
            "                   all       2019       8074      0.885      0.891      0.955      0.856\n",
            "\n",
            "      Epoch    GPU_mem   box_loss   cls_loss   dfl_loss  Instances       Size\n"
          ]
        },
        {
          "output_type": "stream",
          "name": "stderr",
          "text": [
            "       7/50      2.87G     0.6117       1.17     0.8407         89        640: 100%|██████████| 442/442 [02:17<00:00,  3.22it/s]\n",
            "                 Class     Images  Instances      Box(P          R      mAP50  mAP50-95): 100%|██████████| 64/64 [00:21<00:00,  3.03it/s]\n"
          ]
        },
        {
          "output_type": "stream",
          "name": "stdout",
          "text": [
            "                   all       2019       8074      0.934      0.928      0.978      0.886\n",
            "\n",
            "      Epoch    GPU_mem   box_loss   cls_loss   dfl_loss  Instances       Size\n"
          ]
        },
        {
          "output_type": "stream",
          "name": "stderr",
          "text": [
            "       8/50      2.88G     0.5852      1.036     0.8352         78        640: 100%|██████████| 442/442 [02:15<00:00,  3.25it/s]\n",
            "                 Class     Images  Instances      Box(P          R      mAP50  mAP50-95): 100%|██████████| 64/64 [00:20<00:00,  3.06it/s]\n"
          ]
        },
        {
          "output_type": "stream",
          "name": "stdout",
          "text": [
            "                   all       2019       8074       0.95      0.956      0.985      0.899\n",
            "\n",
            "      Epoch    GPU_mem   box_loss   cls_loss   dfl_loss  Instances       Size\n"
          ]
        },
        {
          "output_type": "stream",
          "name": "stderr",
          "text": [
            "       9/50       2.9G     0.5653     0.9464     0.8325         78        640: 100%|██████████| 442/442 [02:16<00:00,  3.24it/s]\n",
            "                 Class     Images  Instances      Box(P          R      mAP50  mAP50-95): 100%|██████████| 64/64 [00:22<00:00,  2.89it/s]\n"
          ]
        },
        {
          "output_type": "stream",
          "name": "stdout",
          "text": [
            "                   all       2019       8074      0.961      0.951      0.989      0.904\n",
            "\n",
            "      Epoch    GPU_mem   box_loss   cls_loss   dfl_loss  Instances       Size\n"
          ]
        },
        {
          "output_type": "stream",
          "name": "stderr",
          "text": [
            "      10/50      2.92G     0.5479     0.8764       0.83         85        640: 100%|██████████| 442/442 [02:17<00:00,  3.22it/s]\n",
            "                 Class     Images  Instances      Box(P          R      mAP50  mAP50-95): 100%|██████████| 64/64 [00:21<00:00,  2.98it/s]\n"
          ]
        },
        {
          "output_type": "stream",
          "name": "stdout",
          "text": [
            "                   all       2019       8074      0.977      0.963      0.991       0.91\n",
            "\n",
            "      Epoch    GPU_mem   box_loss   cls_loss   dfl_loss  Instances       Size\n"
          ]
        },
        {
          "output_type": "stream",
          "name": "stderr",
          "text": [
            "      11/50      2.93G     0.5342     0.8198     0.8259        107        640: 100%|██████████| 442/442 [02:16<00:00,  3.23it/s]\n",
            "                 Class     Images  Instances      Box(P          R      mAP50  mAP50-95): 100%|██████████| 64/64 [00:21<00:00,  2.97it/s]\n"
          ]
        },
        {
          "output_type": "stream",
          "name": "stdout",
          "text": [
            "                   all       2019       8074      0.982      0.979      0.988      0.914\n",
            "\n",
            "      Epoch    GPU_mem   box_loss   cls_loss   dfl_loss  Instances       Size\n"
          ]
        },
        {
          "output_type": "stream",
          "name": "stderr",
          "text": [
            "      12/50      2.95G     0.5145     0.7663     0.8225         96        640: 100%|██████████| 442/442 [02:17<00:00,  3.21it/s]\n",
            "                 Class     Images  Instances      Box(P          R      mAP50  mAP50-95): 100%|██████████| 64/64 [00:20<00:00,  3.12it/s]\n"
          ]
        },
        {
          "output_type": "stream",
          "name": "stdout",
          "text": [
            "                   all       2019       8074      0.988      0.984      0.989      0.913\n",
            "\n",
            "      Epoch    GPU_mem   box_loss   cls_loss   dfl_loss  Instances       Size\n"
          ]
        },
        {
          "output_type": "stream",
          "name": "stderr",
          "text": [
            "      13/50      2.97G      0.506     0.7268     0.8209         81        640: 100%|██████████| 442/442 [02:15<00:00,  3.26it/s]\n",
            "                 Class     Images  Instances      Box(P          R      mAP50  mAP50-95): 100%|██████████| 64/64 [00:19<00:00,  3.21it/s]\n"
          ]
        },
        {
          "output_type": "stream",
          "name": "stdout",
          "text": [
            "                   all       2019       8074      0.984      0.986      0.989      0.922\n",
            "\n",
            "      Epoch    GPU_mem   box_loss   cls_loss   dfl_loss  Instances       Size\n"
          ]
        },
        {
          "output_type": "stream",
          "name": "stderr",
          "text": [
            "      14/50      2.98G     0.4993      0.707     0.8202         88        640: 100%|██████████| 442/442 [02:14<00:00,  3.30it/s]\n",
            "                 Class     Images  Instances      Box(P          R      mAP50  mAP50-95): 100%|██████████| 64/64 [00:22<00:00,  2.90it/s]\n"
          ]
        },
        {
          "output_type": "stream",
          "name": "stdout",
          "text": [
            "                   all       2019       8074      0.992      0.975      0.991      0.914\n",
            "\n",
            "      Epoch    GPU_mem   box_loss   cls_loss   dfl_loss  Instances       Size\n"
          ]
        },
        {
          "output_type": "stream",
          "name": "stderr",
          "text": [
            "      15/50         3G     0.4906      0.678     0.8157         97        640: 100%|██████████| 442/442 [02:15<00:00,  3.25it/s]\n",
            "                 Class     Images  Instances      Box(P          R      mAP50  mAP50-95): 100%|██████████| 64/64 [00:21<00:00,  3.03it/s]\n"
          ]
        },
        {
          "output_type": "stream",
          "name": "stdout",
          "text": [
            "                   all       2019       8074       0.99      0.986      0.989      0.925\n",
            "\n",
            "      Epoch    GPU_mem   box_loss   cls_loss   dfl_loss  Instances       Size\n"
          ]
        },
        {
          "output_type": "stream",
          "name": "stderr",
          "text": [
            "      16/50      3.02G     0.4835     0.6539     0.8153         78        640: 100%|██████████| 442/442 [02:19<00:00,  3.18it/s]\n",
            "                 Class     Images  Instances      Box(P          R      mAP50  mAP50-95): 100%|██████████| 64/64 [00:20<00:00,  3.17it/s]\n"
          ]
        },
        {
          "output_type": "stream",
          "name": "stdout",
          "text": [
            "                   all       2019       8074      0.985      0.985      0.991       0.93\n",
            "\n",
            "      Epoch    GPU_mem   box_loss   cls_loss   dfl_loss  Instances       Size\n"
          ]
        },
        {
          "output_type": "stream",
          "name": "stderr",
          "text": [
            "      17/50      3.04G     0.4751     0.6322     0.8154         86        640: 100%|██████████| 442/442 [02:15<00:00,  3.26it/s]\n",
            "                 Class     Images  Instances      Box(P          R      mAP50  mAP50-95): 100%|██████████| 64/64 [00:20<00:00,  3.12it/s]\n"
          ]
        },
        {
          "output_type": "stream",
          "name": "stdout",
          "text": [
            "                   all       2019       8074      0.986      0.995      0.994      0.926\n",
            "\n",
            "      Epoch    GPU_mem   box_loss   cls_loss   dfl_loss  Instances       Size\n"
          ]
        },
        {
          "output_type": "stream",
          "name": "stderr",
          "text": [
            "      18/50      3.05G      0.463     0.6098     0.8132         89        640: 100%|██████████| 442/442 [02:14<00:00,  3.29it/s]\n",
            "                 Class     Images  Instances      Box(P          R      mAP50  mAP50-95): 100%|██████████| 64/64 [00:20<00:00,  3.15it/s]\n"
          ]
        },
        {
          "output_type": "stream",
          "name": "stdout",
          "text": [
            "                   all       2019       8074      0.992      0.996      0.995      0.936\n",
            "\n",
            "      Epoch    GPU_mem   box_loss   cls_loss   dfl_loss  Instances       Size\n"
          ]
        },
        {
          "output_type": "stream",
          "name": "stderr",
          "text": [
            "      19/50      3.07G     0.4589     0.5956     0.8119        109        640: 100%|██████████| 442/442 [02:14<00:00,  3.29it/s]\n",
            "                 Class     Images  Instances      Box(P          R      mAP50  mAP50-95): 100%|██████████| 64/64 [00:21<00:00,  2.92it/s]\n"
          ]
        },
        {
          "output_type": "stream",
          "name": "stdout",
          "text": [
            "                   all       2019       8074      0.995      0.992      0.993      0.937\n",
            "\n",
            "      Epoch    GPU_mem   box_loss   cls_loss   dfl_loss  Instances       Size\n"
          ]
        },
        {
          "output_type": "stream",
          "name": "stderr",
          "text": [
            "      20/50      3.09G     0.4518      0.576     0.8096         85        640: 100%|██████████| 442/442 [02:14<00:00,  3.28it/s]\n",
            "                 Class     Images  Instances      Box(P          R      mAP50  mAP50-95): 100%|██████████| 64/64 [00:21<00:00,  3.04it/s]\n"
          ]
        },
        {
          "output_type": "stream",
          "name": "stdout",
          "text": [
            "                   all       2019       8074      0.996      0.995      0.995      0.939\n",
            "\n",
            "      Epoch    GPU_mem   box_loss   cls_loss   dfl_loss  Instances       Size\n"
          ]
        },
        {
          "output_type": "stream",
          "name": "stderr",
          "text": [
            "      21/50       3.1G     0.4492     0.5628     0.8093         88        640: 100%|██████████| 442/442 [02:14<00:00,  3.29it/s]\n",
            "                 Class     Images  Instances      Box(P          R      mAP50  mAP50-95): 100%|██████████| 64/64 [00:21<00:00,  2.92it/s]\n"
          ]
        },
        {
          "output_type": "stream",
          "name": "stdout",
          "text": [
            "                   all       2019       8074      0.996      0.994      0.993      0.938\n",
            "\n",
            "      Epoch    GPU_mem   box_loss   cls_loss   dfl_loss  Instances       Size\n"
          ]
        },
        {
          "output_type": "stream",
          "name": "stderr",
          "text": [
            "      22/50      3.12G     0.4426      0.554     0.8087         66        640: 100%|██████████| 442/442 [02:13<00:00,  3.31it/s]\n",
            "                 Class     Images  Instances      Box(P          R      mAP50  mAP50-95): 100%|██████████| 64/64 [00:21<00:00,  2.99it/s]\n"
          ]
        },
        {
          "output_type": "stream",
          "name": "stdout",
          "text": [
            "                   all       2019       8074      0.995       0.99       0.99      0.943\n",
            "\n",
            "      Epoch    GPU_mem   box_loss   cls_loss   dfl_loss  Instances       Size\n"
          ]
        },
        {
          "output_type": "stream",
          "name": "stderr",
          "text": [
            "      23/50      3.14G     0.4401     0.5404     0.8083         68        640: 100%|██████████| 442/442 [02:14<00:00,  3.28it/s]\n",
            "                 Class     Images  Instances      Box(P          R      mAP50  mAP50-95): 100%|██████████| 64/64 [00:21<00:00,  2.99it/s]\n"
          ]
        },
        {
          "output_type": "stream",
          "name": "stdout",
          "text": [
            "                   all       2019       8074      0.996      0.985      0.983      0.935\n",
            "\n",
            "      Epoch    GPU_mem   box_loss   cls_loss   dfl_loss  Instances       Size\n"
          ]
        },
        {
          "output_type": "stream",
          "name": "stderr",
          "text": [
            "      24/50      3.15G     0.4329     0.5261     0.8065         56        640: 100%|██████████| 442/442 [02:13<00:00,  3.30it/s]\n",
            "                 Class     Images  Instances      Box(P          R      mAP50  mAP50-95): 100%|██████████| 64/64 [00:21<00:00,  3.01it/s]\n"
          ]
        },
        {
          "output_type": "stream",
          "name": "stdout",
          "text": [
            "                   all       2019       8074      0.993       0.99      0.992      0.945\n",
            "\n",
            "      Epoch    GPU_mem   box_loss   cls_loss   dfl_loss  Instances       Size\n"
          ]
        },
        {
          "output_type": "stream",
          "name": "stderr",
          "text": [
            "      25/50      3.17G     0.4279      0.516     0.8053         88        640: 100%|██████████| 442/442 [02:11<00:00,  3.37it/s]\n",
            "                 Class     Images  Instances      Box(P          R      mAP50  mAP50-95): 100%|██████████| 64/64 [00:21<00:00,  3.04it/s]\n"
          ]
        },
        {
          "output_type": "stream",
          "name": "stdout",
          "text": [
            "                   all       2019       8074      0.994      0.991      0.989      0.945\n",
            "\n",
            "      Epoch    GPU_mem   box_loss   cls_loss   dfl_loss  Instances       Size\n"
          ]
        },
        {
          "output_type": "stream",
          "name": "stderr",
          "text": [
            "      26/50      3.19G     0.4239     0.5079     0.8057         68        640: 100%|██████████| 442/442 [02:12<00:00,  3.33it/s]\n",
            "                 Class     Images  Instances      Box(P          R      mAP50  mAP50-95): 100%|██████████| 64/64 [00:20<00:00,  3.16it/s]\n"
          ]
        },
        {
          "output_type": "stream",
          "name": "stdout",
          "text": [
            "                   all       2019       8074       0.99      0.993      0.991      0.946\n",
            "\n",
            "      Epoch    GPU_mem   box_loss   cls_loss   dfl_loss  Instances       Size\n"
          ]
        },
        {
          "output_type": "stream",
          "name": "stderr",
          "text": [
            "      27/50      3.21G     0.4197     0.5018     0.8058        100        640: 100%|██████████| 442/442 [02:15<00:00,  3.27it/s]\n",
            "                 Class     Images  Instances      Box(P          R      mAP50  mAP50-95): 100%|██████████| 64/64 [00:20<00:00,  3.16it/s]\n"
          ]
        },
        {
          "output_type": "stream",
          "name": "stdout",
          "text": [
            "                   all       2019       8074      0.996       0.99      0.989      0.946\n",
            "\n",
            "      Epoch    GPU_mem   box_loss   cls_loss   dfl_loss  Instances       Size\n"
          ]
        },
        {
          "output_type": "stream",
          "name": "stderr",
          "text": [
            "      28/50      3.22G      0.419     0.4914     0.8042        125        640: 100%|██████████| 442/442 [02:14<00:00,  3.28it/s]\n",
            "                 Class     Images  Instances      Box(P          R      mAP50  mAP50-95): 100%|██████████| 64/64 [00:21<00:00,  2.93it/s]\n"
          ]
        },
        {
          "output_type": "stream",
          "name": "stdout",
          "text": [
            "                   all       2019       8074      0.997      0.988      0.989      0.949\n",
            "\n",
            "      Epoch    GPU_mem   box_loss   cls_loss   dfl_loss  Instances       Size\n"
          ]
        },
        {
          "output_type": "stream",
          "name": "stderr",
          "text": [
            "      29/50      3.24G     0.4136     0.4835     0.8035         99        640: 100%|██████████| 442/442 [02:13<00:00,  3.30it/s]\n",
            "                 Class     Images  Instances      Box(P          R      mAP50  mAP50-95): 100%|██████████| 64/64 [00:20<00:00,  3.09it/s]"
          ]
        },
        {
          "output_type": "stream",
          "name": "stdout",
          "text": [
            "                   all       2019       8074      0.996      0.986      0.987      0.948\n"
          ]
        },
        {
          "output_type": "stream",
          "name": "stderr",
          "text": [
            "\n"
          ]
        },
        {
          "output_type": "stream",
          "name": "stdout",
          "text": [
            "\n",
            "      Epoch    GPU_mem   box_loss   cls_loss   dfl_loss  Instances       Size\n"
          ]
        },
        {
          "output_type": "stream",
          "name": "stderr",
          "text": [
            "      30/50      3.26G     0.4122     0.4775     0.8015         70        640: 100%|██████████| 442/442 [02:19<00:00,  3.17it/s]\n",
            "                 Class     Images  Instances      Box(P          R      mAP50  mAP50-95): 100%|██████████| 64/64 [00:20<00:00,  3.17it/s]\n"
          ]
        },
        {
          "output_type": "stream",
          "name": "stdout",
          "text": [
            "                   all       2019       8074      0.997      0.992      0.992       0.95\n",
            "\n",
            "      Epoch    GPU_mem   box_loss   cls_loss   dfl_loss  Instances       Size\n"
          ]
        },
        {
          "output_type": "stream",
          "name": "stderr",
          "text": [
            "      31/50      3.27G      0.407     0.4706     0.8015         95        640: 100%|██████████| 442/442 [02:14<00:00,  3.28it/s]\n",
            "                 Class     Images  Instances      Box(P          R      mAP50  mAP50-95): 100%|██████████| 64/64 [00:21<00:00,  2.95it/s]\n"
          ]
        },
        {
          "output_type": "stream",
          "name": "stdout",
          "text": [
            "                   all       2019       8074      0.995      0.987      0.988      0.947\n",
            "\n",
            "      Epoch    GPU_mem   box_loss   cls_loss   dfl_loss  Instances       Size\n"
          ]
        },
        {
          "output_type": "stream",
          "name": "stderr",
          "text": [
            "      32/50      3.29G     0.4031     0.4648     0.8012         66        640: 100%|██████████| 442/442 [02:14<00:00,  3.29it/s]\n",
            "                 Class     Images  Instances      Box(P          R      mAP50  mAP50-95): 100%|██████████| 64/64 [00:22<00:00,  2.83it/s]\n"
          ]
        },
        {
          "output_type": "stream",
          "name": "stdout",
          "text": [
            "                   all       2019       8074      0.982      0.985      0.987      0.947\n",
            "\n",
            "      Epoch    GPU_mem   box_loss   cls_loss   dfl_loss  Instances       Size\n"
          ]
        },
        {
          "output_type": "stream",
          "name": "stderr",
          "text": [
            "      33/50      3.31G     0.4008     0.4604     0.8025         73        640: 100%|██████████| 442/442 [02:10<00:00,  3.38it/s]\n",
            "                 Class     Images  Instances      Box(P          R      mAP50  mAP50-95): 100%|██████████| 64/64 [00:20<00:00,  3.17it/s]\n"
          ]
        },
        {
          "output_type": "stream",
          "name": "stdout",
          "text": [
            "                   all       2019       8074      0.995       0.99      0.992      0.952\n",
            "\n",
            "      Epoch    GPU_mem   box_loss   cls_loss   dfl_loss  Instances       Size\n"
          ]
        },
        {
          "output_type": "stream",
          "name": "stderr",
          "text": [
            "      34/50      3.33G     0.4016     0.4562     0.8017         71        640: 100%|██████████| 442/442 [02:12<00:00,  3.34it/s]\n",
            "                 Class     Images  Instances      Box(P          R      mAP50  mAP50-95): 100%|██████████| 64/64 [00:20<00:00,  3.17it/s]\n"
          ]
        },
        {
          "output_type": "stream",
          "name": "stdout",
          "text": [
            "                   all       2019       8074      0.998      0.989      0.989      0.952\n",
            "\n",
            "      Epoch    GPU_mem   box_loss   cls_loss   dfl_loss  Instances       Size\n"
          ]
        },
        {
          "output_type": "stream",
          "name": "stderr",
          "text": [
            "      35/50      3.34G     0.3973       0.45     0.8021         68        640: 100%|██████████| 442/442 [02:12<00:00,  3.34it/s]\n",
            "                 Class     Images  Instances      Box(P          R      mAP50  mAP50-95): 100%|██████████| 64/64 [00:22<00:00,  2.87it/s]\n"
          ]
        },
        {
          "output_type": "stream",
          "name": "stdout",
          "text": [
            "                   all       2019       8074      0.993       0.99      0.988      0.951\n",
            "\n",
            "      Epoch    GPU_mem   box_loss   cls_loss   dfl_loss  Instances       Size\n"
          ]
        },
        {
          "output_type": "stream",
          "name": "stderr",
          "text": [
            "      36/50      3.36G     0.3933     0.4423     0.7998         68        640: 100%|██████████| 442/442 [02:14<00:00,  3.27it/s]\n",
            "                 Class     Images  Instances      Box(P          R      mAP50  mAP50-95): 100%|██████████| 64/64 [00:21<00:00,  2.99it/s]\n"
          ]
        },
        {
          "output_type": "stream",
          "name": "stdout",
          "text": [
            "                   all       2019       8074      0.988      0.989      0.988      0.948\n",
            "\n",
            "      Epoch    GPU_mem   box_loss   cls_loss   dfl_loss  Instances       Size\n"
          ]
        },
        {
          "output_type": "stream",
          "name": "stderr",
          "text": [
            "      37/50      3.38G     0.3894     0.4405     0.7985        109        640: 100%|██████████| 442/442 [02:17<00:00,  3.22it/s]\n",
            "                 Class     Images  Instances      Box(P          R      mAP50  mAP50-95): 100%|██████████| 64/64 [00:22<00:00,  2.90it/s]\n"
          ]
        },
        {
          "output_type": "stream",
          "name": "stdout",
          "text": [
            "                   all       2019       8074      0.995       0.99      0.987      0.952\n",
            "\n",
            "      Epoch    GPU_mem   box_loss   cls_loss   dfl_loss  Instances       Size\n"
          ]
        },
        {
          "output_type": "stream",
          "name": "stderr",
          "text": [
            "      38/50      3.39G     0.3858     0.4311     0.7977         66        640: 100%|██████████| 442/442 [02:16<00:00,  3.25it/s]\n",
            "                 Class     Images  Instances      Box(P          R      mAP50  mAP50-95): 100%|██████████| 64/64 [00:21<00:00,  3.02it/s]\n"
          ]
        },
        {
          "output_type": "stream",
          "name": "stdout",
          "text": [
            "                   all       2019       8074      0.998      0.991      0.991      0.956\n",
            "\n",
            "      Epoch    GPU_mem   box_loss   cls_loss   dfl_loss  Instances       Size\n"
          ]
        },
        {
          "output_type": "stream",
          "name": "stderr",
          "text": [
            "      39/50      3.41G     0.3836     0.4279     0.7992         88        640: 100%|██████████| 442/442 [02:17<00:00,  3.21it/s]\n",
            "                 Class     Images  Instances      Box(P          R      mAP50  mAP50-95): 100%|██████████| 64/64 [00:20<00:00,  3.17it/s]\n"
          ]
        },
        {
          "output_type": "stream",
          "name": "stdout",
          "text": [
            "                   all       2019       8074      0.995       0.99      0.989      0.953\n",
            "\n",
            "      Epoch    GPU_mem   box_loss   cls_loss   dfl_loss  Instances       Size\n"
          ]
        },
        {
          "output_type": "stream",
          "name": "stderr",
          "text": [
            "      40/50      3.43G     0.3853     0.4246     0.7981         75        640: 100%|██████████| 442/442 [02:14<00:00,  3.29it/s]\n",
            "                 Class     Images  Instances      Box(P          R      mAP50  mAP50-95): 100%|██████████| 64/64 [00:21<00:00,  3.02it/s]\n"
          ]
        },
        {
          "output_type": "stream",
          "name": "stdout",
          "text": [
            "                   all       2019       8074      0.996       0.99      0.988      0.956\n",
            "Closing dataloader mosaic\n",
            "\u001b[34m\u001b[1malbumentations: \u001b[0mBlur(p=0.01, blur_limit=(3, 7)), MedianBlur(p=0.01, blur_limit=(3, 7)), ToGray(p=0.01, method='weighted_average', num_output_channels=3), CLAHE(p=0.01, clip_limit=(1.0, 4.0), tile_grid_size=(8, 8))\n",
            "\n",
            "      Epoch    GPU_mem   box_loss   cls_loss   dfl_loss  Instances       Size\n"
          ]
        },
        {
          "output_type": "stream",
          "name": "stderr",
          "text": [
            "      41/50      3.45G     0.3341     0.3443     0.7849         60        640: 100%|██████████| 442/442 [02:12<00:00,  3.35it/s]\n",
            "                 Class     Images  Instances      Box(P          R      mAP50  mAP50-95): 100%|██████████| 64/64 [00:21<00:00,  2.93it/s]\n"
          ]
        },
        {
          "output_type": "stream",
          "name": "stdout",
          "text": [
            "                   all       2019       8074      0.994      0.991      0.993      0.955\n",
            "\n",
            "      Epoch    GPU_mem   box_loss   cls_loss   dfl_loss  Instances       Size\n"
          ]
        },
        {
          "output_type": "stream",
          "name": "stderr",
          "text": [
            "      42/50      3.46G     0.3252     0.3349     0.7841         59        640: 100%|██████████| 442/442 [02:13<00:00,  3.32it/s]\n",
            "                 Class     Images  Instances      Box(P          R      mAP50  mAP50-95): 100%|██████████| 64/64 [00:20<00:00,  3.09it/s]\n"
          ]
        },
        {
          "output_type": "stream",
          "name": "stdout",
          "text": [
            "                   all       2019       8074      0.998       0.99      0.992      0.955\n",
            "\n",
            "      Epoch    GPU_mem   box_loss   cls_loss   dfl_loss  Instances       Size\n"
          ]
        },
        {
          "output_type": "stream",
          "name": "stderr",
          "text": [
            "      43/50      3.48G     0.3196     0.3312     0.7839         59        640: 100%|██████████| 442/442 [02:11<00:00,  3.35it/s]\n",
            "                 Class     Images  Instances      Box(P          R      mAP50  mAP50-95): 100%|██████████| 64/64 [00:21<00:00,  3.00it/s]\n"
          ]
        },
        {
          "output_type": "stream",
          "name": "stdout",
          "text": [
            "                   all       2019       8074      0.997      0.986       0.99      0.954\n",
            "\n",
            "      Epoch    GPU_mem   box_loss   cls_loss   dfl_loss  Instances       Size\n"
          ]
        },
        {
          "output_type": "stream",
          "name": "stderr",
          "text": [
            "      44/50       3.5G     0.3175     0.3235     0.7841         58        640: 100%|██████████| 442/442 [02:09<00:00,  3.42it/s]\n",
            "                 Class     Images  Instances      Box(P          R      mAP50  mAP50-95): 100%|██████████| 64/64 [00:21<00:00,  2.99it/s]\n"
          ]
        },
        {
          "output_type": "stream",
          "name": "stdout",
          "text": [
            "                   all       2019       8074      0.995      0.989      0.989      0.955\n",
            "\n",
            "      Epoch    GPU_mem   box_loss   cls_loss   dfl_loss  Instances       Size\n"
          ]
        },
        {
          "output_type": "stream",
          "name": "stderr",
          "text": [
            "      45/50      3.51G      0.314     0.3207      0.782         60        640: 100%|██████████| 442/442 [02:10<00:00,  3.40it/s]\n",
            "                 Class     Images  Instances      Box(P          R      mAP50  mAP50-95): 100%|██████████| 64/64 [00:21<00:00,  3.04it/s]\n"
          ]
        },
        {
          "output_type": "stream",
          "name": "stdout",
          "text": [
            "                   all       2019       8074      0.996       0.99       0.99      0.957\n",
            "\n",
            "      Epoch    GPU_mem   box_loss   cls_loss   dfl_loss  Instances       Size\n"
          ]
        },
        {
          "output_type": "stream",
          "name": "stderr",
          "text": [
            "      46/50      3.53G     0.3112     0.3173     0.7819         59        640: 100%|██████████| 442/442 [02:10<00:00,  3.40it/s]\n",
            "                 Class     Images  Instances      Box(P          R      mAP50  mAP50-95): 100%|██████████| 64/64 [00:21<00:00,  2.93it/s]\n"
          ]
        },
        {
          "output_type": "stream",
          "name": "stdout",
          "text": [
            "                   all       2019       8074      0.997       0.99      0.992      0.961\n",
            "\n",
            "      Epoch    GPU_mem   box_loss   cls_loss   dfl_loss  Instances       Size\n"
          ]
        },
        {
          "output_type": "stream",
          "name": "stderr",
          "text": [
            "      47/50      3.55G     0.3109     0.3164     0.7819         58        640: 100%|██████████| 442/442 [02:08<00:00,  3.43it/s]\n",
            "                 Class     Images  Instances      Box(P          R      mAP50  mAP50-95): 100%|██████████| 64/64 [00:21<00:00,  2.95it/s]\n"
          ]
        },
        {
          "output_type": "stream",
          "name": "stdout",
          "text": [
            "                   all       2019       8074      0.996       0.99      0.992      0.962\n",
            "\n",
            "      Epoch    GPU_mem   box_loss   cls_loss   dfl_loss  Instances       Size\n"
          ]
        },
        {
          "output_type": "stream",
          "name": "stderr",
          "text": [
            "      48/50      3.56G      0.308     0.3133     0.7823         59        640: 100%|██████████| 442/442 [02:07<00:00,  3.46it/s]\n",
            "                 Class     Images  Instances      Box(P          R      mAP50  mAP50-95): 100%|██████████| 64/64 [00:21<00:00,  3.03it/s]\n"
          ]
        },
        {
          "output_type": "stream",
          "name": "stdout",
          "text": [
            "                   all       2019       8074      0.998      0.991      0.995      0.964\n",
            "\n",
            "      Epoch    GPU_mem   box_loss   cls_loss   dfl_loss  Instances       Size\n"
          ]
        },
        {
          "output_type": "stream",
          "name": "stderr",
          "text": [
            "      49/50      3.58G     0.3066     0.3121     0.7831         60        640: 100%|██████████| 442/442 [02:09<00:00,  3.42it/s]\n",
            "                 Class     Images  Instances      Box(P          R      mAP50  mAP50-95): 100%|██████████| 64/64 [00:20<00:00,  3.11it/s]\n"
          ]
        },
        {
          "output_type": "stream",
          "name": "stdout",
          "text": [
            "                   all       2019       8074      0.998       0.99      0.994      0.963\n",
            "\n",
            "      Epoch    GPU_mem   box_loss   cls_loss   dfl_loss  Instances       Size\n"
          ]
        },
        {
          "output_type": "stream",
          "name": "stderr",
          "text": [
            "      50/50       3.6G     0.3051     0.3106     0.7824         60        640: 100%|██████████| 442/442 [02:08<00:00,  3.43it/s]\n",
            "                 Class     Images  Instances      Box(P          R      mAP50  mAP50-95): 100%|██████████| 64/64 [00:21<00:00,  3.02it/s]\n"
          ]
        },
        {
          "output_type": "stream",
          "name": "stdout",
          "text": [
            "                   all       2019       8074      0.998       0.99      0.993      0.964\n",
            "\n",
            "50 epochs completed in 2.171 hours.\n",
            "Optimizer stripped from runs/detect/playing_cards_yolov8/weights/last.pt, 6.3MB\n",
            "Optimizer stripped from runs/detect/playing_cards_yolov8/weights/best.pt, 6.3MB\n",
            "\n",
            "Validating runs/detect/playing_cards_yolov8/weights/best.pt...\n",
            "Ultralytics 8.3.129 🚀 Python-3.11.12 torch-2.6.0+cu124 CUDA:0 (Tesla T4, 15095MiB)\n",
            "Model summary (fused): 72 layers, 3,015,983 parameters, 0 gradients, 8.1 GFLOPs\n"
          ]
        },
        {
          "output_type": "stream",
          "name": "stderr",
          "text": [
            "                 Class     Images  Instances      Box(P          R      mAP50  mAP50-95): 100%|██████████| 64/64 [00:24<00:00,  2.64it/s]\n"
          ]
        },
        {
          "output_type": "stream",
          "name": "stdout",
          "text": [
            "                   all       2019       8074      0.998       0.99      0.993      0.964\n",
            "                   10C        129        172      0.999          1      0.995      0.972\n",
            "                   10D        122        157      0.999          1      0.995      0.973\n",
            "                   10H        103        148      0.999          1      0.995      0.976\n",
            "                   10S        112        153      0.999          1      0.995      0.976\n",
            "                    2C        105        143          1      0.997      0.995      0.982\n",
            "                    2D        117        165      0.999          1      0.995      0.978\n",
            "                    2H        135        182      0.999          1      0.995      0.974\n",
            "                    2S        102        137          1      0.998      0.995      0.978\n",
            "                    3C        122        176      0.999          1      0.995      0.982\n",
            "                    3D        106        145          1      0.992      0.995      0.977\n",
            "                    3H        119        168          1      0.998      0.995      0.973\n",
            "                    3S        104        142          1       0.99      0.995      0.981\n",
            "                    4C        124        173      0.998          1      0.995      0.958\n",
            "                    4D         92        117      0.992          1      0.995      0.954\n",
            "                    4H        112        146      0.999          1      0.995      0.973\n",
            "                    4S        108        144      0.999          1      0.995      0.973\n",
            "                    5C        129        177          1          1      0.995      0.968\n",
            "                    5D        133        181      0.998      0.994      0.995      0.968\n",
            "                    5H        125        166      0.998          1      0.995      0.976\n",
            "                    5S        114        157      0.994      0.997      0.995      0.977\n",
            "                    6C        122        167          1          1      0.995      0.973\n",
            "                    6D        131        175      0.998          1      0.995      0.977\n",
            "                    6H         88        113      0.999          1      0.995      0.979\n",
            "                    6S        100        129      0.999          1      0.995       0.97\n",
            "                    7C        108        145      0.999          1      0.995       0.97\n",
            "                    7D        121        167      0.999          1      0.995      0.948\n",
            "                    7H        113        160          1          1      0.995      0.964\n",
            "                    7S        115        148      0.999          1      0.995      0.968\n",
            "                    8C        109        152      0.999          1      0.995      0.977\n",
            "                    8D        123        171          1      0.997      0.995      0.967\n",
            "                    8H        120        166      0.999          1      0.995      0.973\n",
            "                    8S        111        152      0.999          1      0.995      0.969\n",
            "                    9C        110        147      0.999          1      0.995      0.979\n",
            "                    9D        106        140      0.999          1      0.995      0.961\n",
            "                    9H        120        172      0.999          1      0.995      0.972\n",
            "                    9S        121        154          1          1      0.995      0.972\n",
            "                    AC        129        180      0.999          1      0.995      0.966\n",
            "                    AD        108        146          1      0.996      0.995      0.965\n",
            "                    AH        121        165      0.992          1      0.995      0.967\n",
            "                    AS        111        144          1          1      0.995      0.961\n",
            "                    JC        103        137      0.999          1      0.995      0.962\n",
            "                    JD        105        145      0.999          1      0.995      0.961\n",
            "                    JH        107        151      0.999          1      0.995      0.964\n",
            "                    JS        107        144      0.999          1      0.995      0.948\n",
            "                    KC        145        198      0.999          1      0.995      0.927\n",
            "                    KD        105        144      0.999          1      0.995      0.968\n",
            "                    KH        122        160          1      0.997      0.995      0.966\n",
            "                    KS         97        118      0.999          1      0.995      0.964\n",
            "                    QC        100        142      0.999          1      0.995      0.977\n",
            "                    QD        127        174      0.999          1      0.995      0.977\n",
            "                    QH        115        152          1          1      0.995      0.955\n",
            "                    QS        113        161      0.999          1      0.995      0.985\n",
            "                 joker          2          6      0.947        0.5      0.898      0.678\n",
            "Speed: 0.3ms preprocess, 2.2ms inference, 0.0ms loss, 2.6ms postprocess per image\n",
            "Results saved to \u001b[1mruns/detect/playing_cards_yolov8\u001b[0m\n"
          ]
        },
        {
          "output_type": "execute_result",
          "data": {
            "text/plain": [
              "ultralytics.utils.metrics.DetMetrics object with attributes:\n",
              "\n",
              "ap_class_index: array([ 0,  1,  2,  3,  4,  5,  6,  7,  8,  9, 10, 11, 12, 13, 14, 15, 16, 17, 18, 19, 20, 21, 22, 23, 24, 25, 26, 27, 28, 29, 30, 31, 32, 33, 34, 35, 36, 37, 38, 39, 40, 41, 42, 43, 44, 45, 46, 47, 48, 49, 50, 51, 52])\n",
              "box: ultralytics.utils.metrics.Metric object\n",
              "confusion_matrix: <ultralytics.utils.metrics.ConfusionMatrix object at 0x7ba58c6e0150>\n",
              "curves: ['Precision-Recall(B)', 'F1-Confidence(B)', 'Precision-Confidence(B)', 'Recall-Confidence(B)']\n",
              "curves_results: [[array([          0,    0.001001,    0.002002,    0.003003,    0.004004,    0.005005,    0.006006,    0.007007,    0.008008,    0.009009,     0.01001,    0.011011,    0.012012,    0.013013,    0.014014,    0.015015,    0.016016,    0.017017,    0.018018,    0.019019,     0.02002,    0.021021,    0.022022,    0.023023,\n",
              "          0.024024,    0.025025,    0.026026,    0.027027,    0.028028,    0.029029,     0.03003,    0.031031,    0.032032,    0.033033,    0.034034,    0.035035,    0.036036,    0.037037,    0.038038,    0.039039,     0.04004,    0.041041,    0.042042,    0.043043,    0.044044,    0.045045,    0.046046,    0.047047,\n",
              "          0.048048,    0.049049,     0.05005,    0.051051,    0.052052,    0.053053,    0.054054,    0.055055,    0.056056,    0.057057,    0.058058,    0.059059,     0.06006,    0.061061,    0.062062,    0.063063,    0.064064,    0.065065,    0.066066,    0.067067,    0.068068,    0.069069,     0.07007,    0.071071,\n",
              "          0.072072,    0.073073,    0.074074,    0.075075,    0.076076,    0.077077,    0.078078,    0.079079,     0.08008,    0.081081,    0.082082,    0.083083,    0.084084,    0.085085,    0.086086,    0.087087,    0.088088,    0.089089,     0.09009,    0.091091,    0.092092,    0.093093,    0.094094,    0.095095,\n",
              "          0.096096,    0.097097,    0.098098,    0.099099,      0.1001,      0.1011,      0.1021,      0.1031,      0.1041,     0.10511,     0.10611,     0.10711,     0.10811,     0.10911,     0.11011,     0.11111,     0.11211,     0.11311,     0.11411,     0.11512,     0.11612,     0.11712,     0.11812,     0.11912,\n",
              "           0.12012,     0.12112,     0.12212,     0.12312,     0.12412,     0.12513,     0.12613,     0.12713,     0.12813,     0.12913,     0.13013,     0.13113,     0.13213,     0.13313,     0.13413,     0.13514,     0.13614,     0.13714,     0.13814,     0.13914,     0.14014,     0.14114,     0.14214,     0.14314,\n",
              "           0.14414,     0.14515,     0.14615,     0.14715,     0.14815,     0.14915,     0.15015,     0.15115,     0.15215,     0.15315,     0.15415,     0.15516,     0.15616,     0.15716,     0.15816,     0.15916,     0.16016,     0.16116,     0.16216,     0.16316,     0.16416,     0.16517,     0.16617,     0.16717,\n",
              "           0.16817,     0.16917,     0.17017,     0.17117,     0.17217,     0.17317,     0.17417,     0.17518,     0.17618,     0.17718,     0.17818,     0.17918,     0.18018,     0.18118,     0.18218,     0.18318,     0.18418,     0.18519,     0.18619,     0.18719,     0.18819,     0.18919,     0.19019,     0.19119,\n",
              "           0.19219,     0.19319,     0.19419,      0.1952,      0.1962,      0.1972,      0.1982,      0.1992,      0.2002,      0.2012,      0.2022,      0.2032,      0.2042,     0.20521,     0.20621,     0.20721,     0.20821,     0.20921,     0.21021,     0.21121,     0.21221,     0.21321,     0.21421,     0.21522,\n",
              "           0.21622,     0.21722,     0.21822,     0.21922,     0.22022,     0.22122,     0.22222,     0.22322,     0.22422,     0.22523,     0.22623,     0.22723,     0.22823,     0.22923,     0.23023,     0.23123,     0.23223,     0.23323,     0.23423,     0.23524,     0.23624,     0.23724,     0.23824,     0.23924,\n",
              "           0.24024,     0.24124,     0.24224,     0.24324,     0.24424,     0.24525,     0.24625,     0.24725,     0.24825,     0.24925,     0.25025,     0.25125,     0.25225,     0.25325,     0.25425,     0.25526,     0.25626,     0.25726,     0.25826,     0.25926,     0.26026,     0.26126,     0.26226,     0.26326,\n",
              "           0.26426,     0.26527,     0.26627,     0.26727,     0.26827,     0.26927,     0.27027,     0.27127,     0.27227,     0.27327,     0.27427,     0.27528,     0.27628,     0.27728,     0.27828,     0.27928,     0.28028,     0.28128,     0.28228,     0.28328,     0.28428,     0.28529,     0.28629,     0.28729,\n",
              "           0.28829,     0.28929,     0.29029,     0.29129,     0.29229,     0.29329,     0.29429,      0.2953,      0.2963,      0.2973,      0.2983,      0.2993,      0.3003,      0.3013,      0.3023,      0.3033,      0.3043,     0.30531,     0.30631,     0.30731,     0.30831,     0.30931,     0.31031,     0.31131,\n",
              "           0.31231,     0.31331,     0.31431,     0.31532,     0.31632,     0.31732,     0.31832,     0.31932,     0.32032,     0.32132,     0.32232,     0.32332,     0.32432,     0.32533,     0.32633,     0.32733,     0.32833,     0.32933,     0.33033,     0.33133,     0.33233,     0.33333,     0.33433,     0.33534,\n",
              "           0.33634,     0.33734,     0.33834,     0.33934,     0.34034,     0.34134,     0.34234,     0.34334,     0.34434,     0.34535,     0.34635,     0.34735,     0.34835,     0.34935,     0.35035,     0.35135,     0.35235,     0.35335,     0.35435,     0.35536,     0.35636,     0.35736,     0.35836,     0.35936,\n",
              "           0.36036,     0.36136,     0.36236,     0.36336,     0.36436,     0.36537,     0.36637,     0.36737,     0.36837,     0.36937,     0.37037,     0.37137,     0.37237,     0.37337,     0.37437,     0.37538,     0.37638,     0.37738,     0.37838,     0.37938,     0.38038,     0.38138,     0.38238,     0.38338,\n",
              "           0.38438,     0.38539,     0.38639,     0.38739,     0.38839,     0.38939,     0.39039,     0.39139,     0.39239,     0.39339,     0.39439,      0.3954,      0.3964,      0.3974,      0.3984,      0.3994,      0.4004,      0.4014,      0.4024,      0.4034,      0.4044,     0.40541,     0.40641,     0.40741,\n",
              "           0.40841,     0.40941,     0.41041,     0.41141,     0.41241,     0.41341,     0.41441,     0.41542,     0.41642,     0.41742,     0.41842,     0.41942,     0.42042,     0.42142,     0.42242,     0.42342,     0.42442,     0.42543,     0.42643,     0.42743,     0.42843,     0.42943,     0.43043,     0.43143,\n",
              "           0.43243,     0.43343,     0.43443,     0.43544,     0.43644,     0.43744,     0.43844,     0.43944,     0.44044,     0.44144,     0.44244,     0.44344,     0.44444,     0.44545,     0.44645,     0.44745,     0.44845,     0.44945,     0.45045,     0.45145,     0.45245,     0.45345,     0.45445,     0.45546,\n",
              "           0.45646,     0.45746,     0.45846,     0.45946,     0.46046,     0.46146,     0.46246,     0.46346,     0.46446,     0.46547,     0.46647,     0.46747,     0.46847,     0.46947,     0.47047,     0.47147,     0.47247,     0.47347,     0.47447,     0.47548,     0.47648,     0.47748,     0.47848,     0.47948,\n",
              "           0.48048,     0.48148,     0.48248,     0.48348,     0.48448,     0.48549,     0.48649,     0.48749,     0.48849,     0.48949,     0.49049,     0.49149,     0.49249,     0.49349,     0.49449,      0.4955,      0.4965,      0.4975,      0.4985,      0.4995,      0.5005,      0.5015,      0.5025,      0.5035,\n",
              "            0.5045,     0.50551,     0.50651,     0.50751,     0.50851,     0.50951,     0.51051,     0.51151,     0.51251,     0.51351,     0.51451,     0.51552,     0.51652,     0.51752,     0.51852,     0.51952,     0.52052,     0.52152,     0.52252,     0.52352,     0.52452,     0.52553,     0.52653,     0.52753,\n",
              "           0.52853,     0.52953,     0.53053,     0.53153,     0.53253,     0.53353,     0.53453,     0.53554,     0.53654,     0.53754,     0.53854,     0.53954,     0.54054,     0.54154,     0.54254,     0.54354,     0.54454,     0.54555,     0.54655,     0.54755,     0.54855,     0.54955,     0.55055,     0.55155,\n",
              "           0.55255,     0.55355,     0.55455,     0.55556,     0.55656,     0.55756,     0.55856,     0.55956,     0.56056,     0.56156,     0.56256,     0.56356,     0.56456,     0.56557,     0.56657,     0.56757,     0.56857,     0.56957,     0.57057,     0.57157,     0.57257,     0.57357,     0.57457,     0.57558,\n",
              "           0.57658,     0.57758,     0.57858,     0.57958,     0.58058,     0.58158,     0.58258,     0.58358,     0.58458,     0.58559,     0.58659,     0.58759,     0.58859,     0.58959,     0.59059,     0.59159,     0.59259,     0.59359,     0.59459,      0.5956,      0.5966,      0.5976,      0.5986,      0.5996,\n",
              "            0.6006,      0.6016,      0.6026,      0.6036,      0.6046,     0.60561,     0.60661,     0.60761,     0.60861,     0.60961,     0.61061,     0.61161,     0.61261,     0.61361,     0.61461,     0.61562,     0.61662,     0.61762,     0.61862,     0.61962,     0.62062,     0.62162,     0.62262,     0.62362,\n",
              "           0.62462,     0.62563,     0.62663,     0.62763,     0.62863,     0.62963,     0.63063,     0.63163,     0.63263,     0.63363,     0.63463,     0.63564,     0.63664,     0.63764,     0.63864,     0.63964,     0.64064,     0.64164,     0.64264,     0.64364,     0.64464,     0.64565,     0.64665,     0.64765,\n",
              "           0.64865,     0.64965,     0.65065,     0.65165,     0.65265,     0.65365,     0.65465,     0.65566,     0.65666,     0.65766,     0.65866,     0.65966,     0.66066,     0.66166,     0.66266,     0.66366,     0.66466,     0.66567,     0.66667,     0.66767,     0.66867,     0.66967,     0.67067,     0.67167,\n",
              "           0.67267,     0.67367,     0.67467,     0.67568,     0.67668,     0.67768,     0.67868,     0.67968,     0.68068,     0.68168,     0.68268,     0.68368,     0.68468,     0.68569,     0.68669,     0.68769,     0.68869,     0.68969,     0.69069,     0.69169,     0.69269,     0.69369,     0.69469,      0.6957,\n",
              "            0.6967,      0.6977,      0.6987,      0.6997,      0.7007,      0.7017,      0.7027,      0.7037,      0.7047,     0.70571,     0.70671,     0.70771,     0.70871,     0.70971,     0.71071,     0.71171,     0.71271,     0.71371,     0.71471,     0.71572,     0.71672,     0.71772,     0.71872,     0.71972,\n",
              "           0.72072,     0.72172,     0.72272,     0.72372,     0.72472,     0.72573,     0.72673,     0.72773,     0.72873,     0.72973,     0.73073,     0.73173,     0.73273,     0.73373,     0.73473,     0.73574,     0.73674,     0.73774,     0.73874,     0.73974,     0.74074,     0.74174,     0.74274,     0.74374,\n",
              "           0.74474,     0.74575,     0.74675,     0.74775,     0.74875,     0.74975,     0.75075,     0.75175,     0.75275,     0.75375,     0.75475,     0.75576,     0.75676,     0.75776,     0.75876,     0.75976,     0.76076,     0.76176,     0.76276,     0.76376,     0.76476,     0.76577,     0.76677,     0.76777,\n",
              "           0.76877,     0.76977,     0.77077,     0.77177,     0.77277,     0.77377,     0.77477,     0.77578,     0.77678,     0.77778,     0.77878,     0.77978,     0.78078,     0.78178,     0.78278,     0.78378,     0.78478,     0.78579,     0.78679,     0.78779,     0.78879,     0.78979,     0.79079,     0.79179,\n",
              "           0.79279,     0.79379,     0.79479,      0.7958,      0.7968,      0.7978,      0.7988,      0.7998,      0.8008,      0.8018,      0.8028,      0.8038,      0.8048,     0.80581,     0.80681,     0.80781,     0.80881,     0.80981,     0.81081,     0.81181,     0.81281,     0.81381,     0.81481,     0.81582,\n",
              "           0.81682,     0.81782,     0.81882,     0.81982,     0.82082,     0.82182,     0.82282,     0.82382,     0.82482,     0.82583,     0.82683,     0.82783,     0.82883,     0.82983,     0.83083,     0.83183,     0.83283,     0.83383,     0.83483,     0.83584,     0.83684,     0.83784,     0.83884,     0.83984,\n",
              "           0.84084,     0.84184,     0.84284,     0.84384,     0.84484,     0.84585,     0.84685,     0.84785,     0.84885,     0.84985,     0.85085,     0.85185,     0.85285,     0.85385,     0.85485,     0.85586,     0.85686,     0.85786,     0.85886,     0.85986,     0.86086,     0.86186,     0.86286,     0.86386,\n",
              "           0.86486,     0.86587,     0.86687,     0.86787,     0.86887,     0.86987,     0.87087,     0.87187,     0.87287,     0.87387,     0.87487,     0.87588,     0.87688,     0.87788,     0.87888,     0.87988,     0.88088,     0.88188,     0.88288,     0.88388,     0.88488,     0.88589,     0.88689,     0.88789,\n",
              "           0.88889,     0.88989,     0.89089,     0.89189,     0.89289,     0.89389,     0.89489,      0.8959,      0.8969,      0.8979,      0.8989,      0.8999,      0.9009,      0.9019,      0.9029,      0.9039,      0.9049,     0.90591,     0.90691,     0.90791,     0.90891,     0.90991,     0.91091,     0.91191,\n",
              "           0.91291,     0.91391,     0.91491,     0.91592,     0.91692,     0.91792,     0.91892,     0.91992,     0.92092,     0.92192,     0.92292,     0.92392,     0.92492,     0.92593,     0.92693,     0.92793,     0.92893,     0.92993,     0.93093,     0.93193,     0.93293,     0.93393,     0.93493,     0.93594,\n",
              "           0.93694,     0.93794,     0.93894,     0.93994,     0.94094,     0.94194,     0.94294,     0.94394,     0.94494,     0.94595,     0.94695,     0.94795,     0.94895,     0.94995,     0.95095,     0.95195,     0.95295,     0.95395,     0.95495,     0.95596,     0.95696,     0.95796,     0.95896,     0.95996,\n",
              "           0.96096,     0.96196,     0.96296,     0.96396,     0.96496,     0.96597,     0.96697,     0.96797,     0.96897,     0.96997,     0.97097,     0.97197,     0.97297,     0.97397,     0.97497,     0.97598,     0.97698,     0.97798,     0.97898,     0.97998,     0.98098,     0.98198,     0.98298,     0.98398,\n",
              "           0.98498,     0.98599,     0.98699,     0.98799,     0.98899,     0.98999,     0.99099,     0.99199,     0.99299,     0.99399,     0.99499,       0.996,       0.997,       0.998,       0.999,           1]), array([[          1,           1,           1, ...,           1,           1,           0],\n",
              "       [          1,           1,           1, ...,           1,           1,           0],\n",
              "       [          1,           1,           1, ...,           1,           1,           0],\n",
              "       ...,\n",
              "       [          1,           1,           1, ...,           1,           1,           0],\n",
              "       [          1,           1,           1, ...,           1,           1,           0],\n",
              "       [          1,           1,           1, ...,        0.75,        0.75,           0]]), 'Recall', 'Precision'], [array([          0,    0.001001,    0.002002,    0.003003,    0.004004,    0.005005,    0.006006,    0.007007,    0.008008,    0.009009,     0.01001,    0.011011,    0.012012,    0.013013,    0.014014,    0.015015,    0.016016,    0.017017,    0.018018,    0.019019,     0.02002,    0.021021,    0.022022,    0.023023,\n",
              "          0.024024,    0.025025,    0.026026,    0.027027,    0.028028,    0.029029,     0.03003,    0.031031,    0.032032,    0.033033,    0.034034,    0.035035,    0.036036,    0.037037,    0.038038,    0.039039,     0.04004,    0.041041,    0.042042,    0.043043,    0.044044,    0.045045,    0.046046,    0.047047,\n",
              "          0.048048,    0.049049,     0.05005,    0.051051,    0.052052,    0.053053,    0.054054,    0.055055,    0.056056,    0.057057,    0.058058,    0.059059,     0.06006,    0.061061,    0.062062,    0.063063,    0.064064,    0.065065,    0.066066,    0.067067,    0.068068,    0.069069,     0.07007,    0.071071,\n",
              "          0.072072,    0.073073,    0.074074,    0.075075,    0.076076,    0.077077,    0.078078,    0.079079,     0.08008,    0.081081,    0.082082,    0.083083,    0.084084,    0.085085,    0.086086,    0.087087,    0.088088,    0.089089,     0.09009,    0.091091,    0.092092,    0.093093,    0.094094,    0.095095,\n",
              "          0.096096,    0.097097,    0.098098,    0.099099,      0.1001,      0.1011,      0.1021,      0.1031,      0.1041,     0.10511,     0.10611,     0.10711,     0.10811,     0.10911,     0.11011,     0.11111,     0.11211,     0.11311,     0.11411,     0.11512,     0.11612,     0.11712,     0.11812,     0.11912,\n",
              "           0.12012,     0.12112,     0.12212,     0.12312,     0.12412,     0.12513,     0.12613,     0.12713,     0.12813,     0.12913,     0.13013,     0.13113,     0.13213,     0.13313,     0.13413,     0.13514,     0.13614,     0.13714,     0.13814,     0.13914,     0.14014,     0.14114,     0.14214,     0.14314,\n",
              "           0.14414,     0.14515,     0.14615,     0.14715,     0.14815,     0.14915,     0.15015,     0.15115,     0.15215,     0.15315,     0.15415,     0.15516,     0.15616,     0.15716,     0.15816,     0.15916,     0.16016,     0.16116,     0.16216,     0.16316,     0.16416,     0.16517,     0.16617,     0.16717,\n",
              "           0.16817,     0.16917,     0.17017,     0.17117,     0.17217,     0.17317,     0.17417,     0.17518,     0.17618,     0.17718,     0.17818,     0.17918,     0.18018,     0.18118,     0.18218,     0.18318,     0.18418,     0.18519,     0.18619,     0.18719,     0.18819,     0.18919,     0.19019,     0.19119,\n",
              "           0.19219,     0.19319,     0.19419,      0.1952,      0.1962,      0.1972,      0.1982,      0.1992,      0.2002,      0.2012,      0.2022,      0.2032,      0.2042,     0.20521,     0.20621,     0.20721,     0.20821,     0.20921,     0.21021,     0.21121,     0.21221,     0.21321,     0.21421,     0.21522,\n",
              "           0.21622,     0.21722,     0.21822,     0.21922,     0.22022,     0.22122,     0.22222,     0.22322,     0.22422,     0.22523,     0.22623,     0.22723,     0.22823,     0.22923,     0.23023,     0.23123,     0.23223,     0.23323,     0.23423,     0.23524,     0.23624,     0.23724,     0.23824,     0.23924,\n",
              "           0.24024,     0.24124,     0.24224,     0.24324,     0.24424,     0.24525,     0.24625,     0.24725,     0.24825,     0.24925,     0.25025,     0.25125,     0.25225,     0.25325,     0.25425,     0.25526,     0.25626,     0.25726,     0.25826,     0.25926,     0.26026,     0.26126,     0.26226,     0.26326,\n",
              "           0.26426,     0.26527,     0.26627,     0.26727,     0.26827,     0.26927,     0.27027,     0.27127,     0.27227,     0.27327,     0.27427,     0.27528,     0.27628,     0.27728,     0.27828,     0.27928,     0.28028,     0.28128,     0.28228,     0.28328,     0.28428,     0.28529,     0.28629,     0.28729,\n",
              "           0.28829,     0.28929,     0.29029,     0.29129,     0.29229,     0.29329,     0.29429,      0.2953,      0.2963,      0.2973,      0.2983,      0.2993,      0.3003,      0.3013,      0.3023,      0.3033,      0.3043,     0.30531,     0.30631,     0.30731,     0.30831,     0.30931,     0.31031,     0.31131,\n",
              "           0.31231,     0.31331,     0.31431,     0.31532,     0.31632,     0.31732,     0.31832,     0.31932,     0.32032,     0.32132,     0.32232,     0.32332,     0.32432,     0.32533,     0.32633,     0.32733,     0.32833,     0.32933,     0.33033,     0.33133,     0.33233,     0.33333,     0.33433,     0.33534,\n",
              "           0.33634,     0.33734,     0.33834,     0.33934,     0.34034,     0.34134,     0.34234,     0.34334,     0.34434,     0.34535,     0.34635,     0.34735,     0.34835,     0.34935,     0.35035,     0.35135,     0.35235,     0.35335,     0.35435,     0.35536,     0.35636,     0.35736,     0.35836,     0.35936,\n",
              "           0.36036,     0.36136,     0.36236,     0.36336,     0.36436,     0.36537,     0.36637,     0.36737,     0.36837,     0.36937,     0.37037,     0.37137,     0.37237,     0.37337,     0.37437,     0.37538,     0.37638,     0.37738,     0.37838,     0.37938,     0.38038,     0.38138,     0.38238,     0.38338,\n",
              "           0.38438,     0.38539,     0.38639,     0.38739,     0.38839,     0.38939,     0.39039,     0.39139,     0.39239,     0.39339,     0.39439,      0.3954,      0.3964,      0.3974,      0.3984,      0.3994,      0.4004,      0.4014,      0.4024,      0.4034,      0.4044,     0.40541,     0.40641,     0.40741,\n",
              "           0.40841,     0.40941,     0.41041,     0.41141,     0.41241,     0.41341,     0.41441,     0.41542,     0.41642,     0.41742,     0.41842,     0.41942,     0.42042,     0.42142,     0.42242,     0.42342,     0.42442,     0.42543,     0.42643,     0.42743,     0.42843,     0.42943,     0.43043,     0.43143,\n",
              "           0.43243,     0.43343,     0.43443,     0.43544,     0.43644,     0.43744,     0.43844,     0.43944,     0.44044,     0.44144,     0.44244,     0.44344,     0.44444,     0.44545,     0.44645,     0.44745,     0.44845,     0.44945,     0.45045,     0.45145,     0.45245,     0.45345,     0.45445,     0.45546,\n",
              "           0.45646,     0.45746,     0.45846,     0.45946,     0.46046,     0.46146,     0.46246,     0.46346,     0.46446,     0.46547,     0.46647,     0.46747,     0.46847,     0.46947,     0.47047,     0.47147,     0.47247,     0.47347,     0.47447,     0.47548,     0.47648,     0.47748,     0.47848,     0.47948,\n",
              "           0.48048,     0.48148,     0.48248,     0.48348,     0.48448,     0.48549,     0.48649,     0.48749,     0.48849,     0.48949,     0.49049,     0.49149,     0.49249,     0.49349,     0.49449,      0.4955,      0.4965,      0.4975,      0.4985,      0.4995,      0.5005,      0.5015,      0.5025,      0.5035,\n",
              "            0.5045,     0.50551,     0.50651,     0.50751,     0.50851,     0.50951,     0.51051,     0.51151,     0.51251,     0.51351,     0.51451,     0.51552,     0.51652,     0.51752,     0.51852,     0.51952,     0.52052,     0.52152,     0.52252,     0.52352,     0.52452,     0.52553,     0.52653,     0.52753,\n",
              "           0.52853,     0.52953,     0.53053,     0.53153,     0.53253,     0.53353,     0.53453,     0.53554,     0.53654,     0.53754,     0.53854,     0.53954,     0.54054,     0.54154,     0.54254,     0.54354,     0.54454,     0.54555,     0.54655,     0.54755,     0.54855,     0.54955,     0.55055,     0.55155,\n",
              "           0.55255,     0.55355,     0.55455,     0.55556,     0.55656,     0.55756,     0.55856,     0.55956,     0.56056,     0.56156,     0.56256,     0.56356,     0.56456,     0.56557,     0.56657,     0.56757,     0.56857,     0.56957,     0.57057,     0.57157,     0.57257,     0.57357,     0.57457,     0.57558,\n",
              "           0.57658,     0.57758,     0.57858,     0.57958,     0.58058,     0.58158,     0.58258,     0.58358,     0.58458,     0.58559,     0.58659,     0.58759,     0.58859,     0.58959,     0.59059,     0.59159,     0.59259,     0.59359,     0.59459,      0.5956,      0.5966,      0.5976,      0.5986,      0.5996,\n",
              "            0.6006,      0.6016,      0.6026,      0.6036,      0.6046,     0.60561,     0.60661,     0.60761,     0.60861,     0.60961,     0.61061,     0.61161,     0.61261,     0.61361,     0.61461,     0.61562,     0.61662,     0.61762,     0.61862,     0.61962,     0.62062,     0.62162,     0.62262,     0.62362,\n",
              "           0.62462,     0.62563,     0.62663,     0.62763,     0.62863,     0.62963,     0.63063,     0.63163,     0.63263,     0.63363,     0.63463,     0.63564,     0.63664,     0.63764,     0.63864,     0.63964,     0.64064,     0.64164,     0.64264,     0.64364,     0.64464,     0.64565,     0.64665,     0.64765,\n",
              "           0.64865,     0.64965,     0.65065,     0.65165,     0.65265,     0.65365,     0.65465,     0.65566,     0.65666,     0.65766,     0.65866,     0.65966,     0.66066,     0.66166,     0.66266,     0.66366,     0.66466,     0.66567,     0.66667,     0.66767,     0.66867,     0.66967,     0.67067,     0.67167,\n",
              "           0.67267,     0.67367,     0.67467,     0.67568,     0.67668,     0.67768,     0.67868,     0.67968,     0.68068,     0.68168,     0.68268,     0.68368,     0.68468,     0.68569,     0.68669,     0.68769,     0.68869,     0.68969,     0.69069,     0.69169,     0.69269,     0.69369,     0.69469,      0.6957,\n",
              "            0.6967,      0.6977,      0.6987,      0.6997,      0.7007,      0.7017,      0.7027,      0.7037,      0.7047,     0.70571,     0.70671,     0.70771,     0.70871,     0.70971,     0.71071,     0.71171,     0.71271,     0.71371,     0.71471,     0.71572,     0.71672,     0.71772,     0.71872,     0.71972,\n",
              "           0.72072,     0.72172,     0.72272,     0.72372,     0.72472,     0.72573,     0.72673,     0.72773,     0.72873,     0.72973,     0.73073,     0.73173,     0.73273,     0.73373,     0.73473,     0.73574,     0.73674,     0.73774,     0.73874,     0.73974,     0.74074,     0.74174,     0.74274,     0.74374,\n",
              "           0.74474,     0.74575,     0.74675,     0.74775,     0.74875,     0.74975,     0.75075,     0.75175,     0.75275,     0.75375,     0.75475,     0.75576,     0.75676,     0.75776,     0.75876,     0.75976,     0.76076,     0.76176,     0.76276,     0.76376,     0.76476,     0.76577,     0.76677,     0.76777,\n",
              "           0.76877,     0.76977,     0.77077,     0.77177,     0.77277,     0.77377,     0.77477,     0.77578,     0.77678,     0.77778,     0.77878,     0.77978,     0.78078,     0.78178,     0.78278,     0.78378,     0.78478,     0.78579,     0.78679,     0.78779,     0.78879,     0.78979,     0.79079,     0.79179,\n",
              "           0.79279,     0.79379,     0.79479,      0.7958,      0.7968,      0.7978,      0.7988,      0.7998,      0.8008,      0.8018,      0.8028,      0.8038,      0.8048,     0.80581,     0.80681,     0.80781,     0.80881,     0.80981,     0.81081,     0.81181,     0.81281,     0.81381,     0.81481,     0.81582,\n",
              "           0.81682,     0.81782,     0.81882,     0.81982,     0.82082,     0.82182,     0.82282,     0.82382,     0.82482,     0.82583,     0.82683,     0.82783,     0.82883,     0.82983,     0.83083,     0.83183,     0.83283,     0.83383,     0.83483,     0.83584,     0.83684,     0.83784,     0.83884,     0.83984,\n",
              "           0.84084,     0.84184,     0.84284,     0.84384,     0.84484,     0.84585,     0.84685,     0.84785,     0.84885,     0.84985,     0.85085,     0.85185,     0.85285,     0.85385,     0.85485,     0.85586,     0.85686,     0.85786,     0.85886,     0.85986,     0.86086,     0.86186,     0.86286,     0.86386,\n",
              "           0.86486,     0.86587,     0.86687,     0.86787,     0.86887,     0.86987,     0.87087,     0.87187,     0.87287,     0.87387,     0.87487,     0.87588,     0.87688,     0.87788,     0.87888,     0.87988,     0.88088,     0.88188,     0.88288,     0.88388,     0.88488,     0.88589,     0.88689,     0.88789,\n",
              "           0.88889,     0.88989,     0.89089,     0.89189,     0.89289,     0.89389,     0.89489,      0.8959,      0.8969,      0.8979,      0.8989,      0.8999,      0.9009,      0.9019,      0.9029,      0.9039,      0.9049,     0.90591,     0.90691,     0.90791,     0.90891,     0.90991,     0.91091,     0.91191,\n",
              "           0.91291,     0.91391,     0.91491,     0.91592,     0.91692,     0.91792,     0.91892,     0.91992,     0.92092,     0.92192,     0.92292,     0.92392,     0.92492,     0.92593,     0.92693,     0.92793,     0.92893,     0.92993,     0.93093,     0.93193,     0.93293,     0.93393,     0.93493,     0.93594,\n",
              "           0.93694,     0.93794,     0.93894,     0.93994,     0.94094,     0.94194,     0.94294,     0.94394,     0.94494,     0.94595,     0.94695,     0.94795,     0.94895,     0.94995,     0.95095,     0.95195,     0.95295,     0.95395,     0.95495,     0.95596,     0.95696,     0.95796,     0.95896,     0.95996,\n",
              "           0.96096,     0.96196,     0.96296,     0.96396,     0.96496,     0.96597,     0.96697,     0.96797,     0.96897,     0.96997,     0.97097,     0.97197,     0.97297,     0.97397,     0.97497,     0.97598,     0.97698,     0.97798,     0.97898,     0.97998,     0.98098,     0.98198,     0.98298,     0.98398,\n",
              "           0.98498,     0.98599,     0.98699,     0.98799,     0.98899,     0.98999,     0.99099,     0.99199,     0.99299,     0.99399,     0.99499,       0.996,       0.997,       0.998,       0.999,           1]), array([[    0.44792,     0.44792,     0.58559, ...,           0,           0,           0],\n",
              "       [    0.46176,     0.46176,      0.5761, ...,           0,           0,           0],\n",
              "       [        0.4,         0.4,     0.53809, ...,           0,           0,           0],\n",
              "       ...,\n",
              "       [    0.35145,     0.35145,     0.46406, ...,           0,           0,           0],\n",
              "       [    0.38152,     0.38152,     0.52606, ...,           0,           0,           0],\n",
              "       [    0.36364,     0.36364,     0.43288, ...,     0.30527,     0.28619,           0]]), 'Confidence', 'F1'], [array([          0,    0.001001,    0.002002,    0.003003,    0.004004,    0.005005,    0.006006,    0.007007,    0.008008,    0.009009,     0.01001,    0.011011,    0.012012,    0.013013,    0.014014,    0.015015,    0.016016,    0.017017,    0.018018,    0.019019,     0.02002,    0.021021,    0.022022,    0.023023,\n",
              "          0.024024,    0.025025,    0.026026,    0.027027,    0.028028,    0.029029,     0.03003,    0.031031,    0.032032,    0.033033,    0.034034,    0.035035,    0.036036,    0.037037,    0.038038,    0.039039,     0.04004,    0.041041,    0.042042,    0.043043,    0.044044,    0.045045,    0.046046,    0.047047,\n",
              "          0.048048,    0.049049,     0.05005,    0.051051,    0.052052,    0.053053,    0.054054,    0.055055,    0.056056,    0.057057,    0.058058,    0.059059,     0.06006,    0.061061,    0.062062,    0.063063,    0.064064,    0.065065,    0.066066,    0.067067,    0.068068,    0.069069,     0.07007,    0.071071,\n",
              "          0.072072,    0.073073,    0.074074,    0.075075,    0.076076,    0.077077,    0.078078,    0.079079,     0.08008,    0.081081,    0.082082,    0.083083,    0.084084,    0.085085,    0.086086,    0.087087,    0.088088,    0.089089,     0.09009,    0.091091,    0.092092,    0.093093,    0.094094,    0.095095,\n",
              "          0.096096,    0.097097,    0.098098,    0.099099,      0.1001,      0.1011,      0.1021,      0.1031,      0.1041,     0.10511,     0.10611,     0.10711,     0.10811,     0.10911,     0.11011,     0.11111,     0.11211,     0.11311,     0.11411,     0.11512,     0.11612,     0.11712,     0.11812,     0.11912,\n",
              "           0.12012,     0.12112,     0.12212,     0.12312,     0.12412,     0.12513,     0.12613,     0.12713,     0.12813,     0.12913,     0.13013,     0.13113,     0.13213,     0.13313,     0.13413,     0.13514,     0.13614,     0.13714,     0.13814,     0.13914,     0.14014,     0.14114,     0.14214,     0.14314,\n",
              "           0.14414,     0.14515,     0.14615,     0.14715,     0.14815,     0.14915,     0.15015,     0.15115,     0.15215,     0.15315,     0.15415,     0.15516,     0.15616,     0.15716,     0.15816,     0.15916,     0.16016,     0.16116,     0.16216,     0.16316,     0.16416,     0.16517,     0.16617,     0.16717,\n",
              "           0.16817,     0.16917,     0.17017,     0.17117,     0.17217,     0.17317,     0.17417,     0.17518,     0.17618,     0.17718,     0.17818,     0.17918,     0.18018,     0.18118,     0.18218,     0.18318,     0.18418,     0.18519,     0.18619,     0.18719,     0.18819,     0.18919,     0.19019,     0.19119,\n",
              "           0.19219,     0.19319,     0.19419,      0.1952,      0.1962,      0.1972,      0.1982,      0.1992,      0.2002,      0.2012,      0.2022,      0.2032,      0.2042,     0.20521,     0.20621,     0.20721,     0.20821,     0.20921,     0.21021,     0.21121,     0.21221,     0.21321,     0.21421,     0.21522,\n",
              "           0.21622,     0.21722,     0.21822,     0.21922,     0.22022,     0.22122,     0.22222,     0.22322,     0.22422,     0.22523,     0.22623,     0.22723,     0.22823,     0.22923,     0.23023,     0.23123,     0.23223,     0.23323,     0.23423,     0.23524,     0.23624,     0.23724,     0.23824,     0.23924,\n",
              "           0.24024,     0.24124,     0.24224,     0.24324,     0.24424,     0.24525,     0.24625,     0.24725,     0.24825,     0.24925,     0.25025,     0.25125,     0.25225,     0.25325,     0.25425,     0.25526,     0.25626,     0.25726,     0.25826,     0.25926,     0.26026,     0.26126,     0.26226,     0.26326,\n",
              "           0.26426,     0.26527,     0.26627,     0.26727,     0.26827,     0.26927,     0.27027,     0.27127,     0.27227,     0.27327,     0.27427,     0.27528,     0.27628,     0.27728,     0.27828,     0.27928,     0.28028,     0.28128,     0.28228,     0.28328,     0.28428,     0.28529,     0.28629,     0.28729,\n",
              "           0.28829,     0.28929,     0.29029,     0.29129,     0.29229,     0.29329,     0.29429,      0.2953,      0.2963,      0.2973,      0.2983,      0.2993,      0.3003,      0.3013,      0.3023,      0.3033,      0.3043,     0.30531,     0.30631,     0.30731,     0.30831,     0.30931,     0.31031,     0.31131,\n",
              "           0.31231,     0.31331,     0.31431,     0.31532,     0.31632,     0.31732,     0.31832,     0.31932,     0.32032,     0.32132,     0.32232,     0.32332,     0.32432,     0.32533,     0.32633,     0.32733,     0.32833,     0.32933,     0.33033,     0.33133,     0.33233,     0.33333,     0.33433,     0.33534,\n",
              "           0.33634,     0.33734,     0.33834,     0.33934,     0.34034,     0.34134,     0.34234,     0.34334,     0.34434,     0.34535,     0.34635,     0.34735,     0.34835,     0.34935,     0.35035,     0.35135,     0.35235,     0.35335,     0.35435,     0.35536,     0.35636,     0.35736,     0.35836,     0.35936,\n",
              "           0.36036,     0.36136,     0.36236,     0.36336,     0.36436,     0.36537,     0.36637,     0.36737,     0.36837,     0.36937,     0.37037,     0.37137,     0.37237,     0.37337,     0.37437,     0.37538,     0.37638,     0.37738,     0.37838,     0.37938,     0.38038,     0.38138,     0.38238,     0.38338,\n",
              "           0.38438,     0.38539,     0.38639,     0.38739,     0.38839,     0.38939,     0.39039,     0.39139,     0.39239,     0.39339,     0.39439,      0.3954,      0.3964,      0.3974,      0.3984,      0.3994,      0.4004,      0.4014,      0.4024,      0.4034,      0.4044,     0.40541,     0.40641,     0.40741,\n",
              "           0.40841,     0.40941,     0.41041,     0.41141,     0.41241,     0.41341,     0.41441,     0.41542,     0.41642,     0.41742,     0.41842,     0.41942,     0.42042,     0.42142,     0.42242,     0.42342,     0.42442,     0.42543,     0.42643,     0.42743,     0.42843,     0.42943,     0.43043,     0.43143,\n",
              "           0.43243,     0.43343,     0.43443,     0.43544,     0.43644,     0.43744,     0.43844,     0.43944,     0.44044,     0.44144,     0.44244,     0.44344,     0.44444,     0.44545,     0.44645,     0.44745,     0.44845,     0.44945,     0.45045,     0.45145,     0.45245,     0.45345,     0.45445,     0.45546,\n",
              "           0.45646,     0.45746,     0.45846,     0.45946,     0.46046,     0.46146,     0.46246,     0.46346,     0.46446,     0.46547,     0.46647,     0.46747,     0.46847,     0.46947,     0.47047,     0.47147,     0.47247,     0.47347,     0.47447,     0.47548,     0.47648,     0.47748,     0.47848,     0.47948,\n",
              "           0.48048,     0.48148,     0.48248,     0.48348,     0.48448,     0.48549,     0.48649,     0.48749,     0.48849,     0.48949,     0.49049,     0.49149,     0.49249,     0.49349,     0.49449,      0.4955,      0.4965,      0.4975,      0.4985,      0.4995,      0.5005,      0.5015,      0.5025,      0.5035,\n",
              "            0.5045,     0.50551,     0.50651,     0.50751,     0.50851,     0.50951,     0.51051,     0.51151,     0.51251,     0.51351,     0.51451,     0.51552,     0.51652,     0.51752,     0.51852,     0.51952,     0.52052,     0.52152,     0.52252,     0.52352,     0.52452,     0.52553,     0.52653,     0.52753,\n",
              "           0.52853,     0.52953,     0.53053,     0.53153,     0.53253,     0.53353,     0.53453,     0.53554,     0.53654,     0.53754,     0.53854,     0.53954,     0.54054,     0.54154,     0.54254,     0.54354,     0.54454,     0.54555,     0.54655,     0.54755,     0.54855,     0.54955,     0.55055,     0.55155,\n",
              "           0.55255,     0.55355,     0.55455,     0.55556,     0.55656,     0.55756,     0.55856,     0.55956,     0.56056,     0.56156,     0.56256,     0.56356,     0.56456,     0.56557,     0.56657,     0.56757,     0.56857,     0.56957,     0.57057,     0.57157,     0.57257,     0.57357,     0.57457,     0.57558,\n",
              "           0.57658,     0.57758,     0.57858,     0.57958,     0.58058,     0.58158,     0.58258,     0.58358,     0.58458,     0.58559,     0.58659,     0.58759,     0.58859,     0.58959,     0.59059,     0.59159,     0.59259,     0.59359,     0.59459,      0.5956,      0.5966,      0.5976,      0.5986,      0.5996,\n",
              "            0.6006,      0.6016,      0.6026,      0.6036,      0.6046,     0.60561,     0.60661,     0.60761,     0.60861,     0.60961,     0.61061,     0.61161,     0.61261,     0.61361,     0.61461,     0.61562,     0.61662,     0.61762,     0.61862,     0.61962,     0.62062,     0.62162,     0.62262,     0.62362,\n",
              "           0.62462,     0.62563,     0.62663,     0.62763,     0.62863,     0.62963,     0.63063,     0.63163,     0.63263,     0.63363,     0.63463,     0.63564,     0.63664,     0.63764,     0.63864,     0.63964,     0.64064,     0.64164,     0.64264,     0.64364,     0.64464,     0.64565,     0.64665,     0.64765,\n",
              "           0.64865,     0.64965,     0.65065,     0.65165,     0.65265,     0.65365,     0.65465,     0.65566,     0.65666,     0.65766,     0.65866,     0.65966,     0.66066,     0.66166,     0.66266,     0.66366,     0.66466,     0.66567,     0.66667,     0.66767,     0.66867,     0.66967,     0.67067,     0.67167,\n",
              "           0.67267,     0.67367,     0.67467,     0.67568,     0.67668,     0.67768,     0.67868,     0.67968,     0.68068,     0.68168,     0.68268,     0.68368,     0.68468,     0.68569,     0.68669,     0.68769,     0.68869,     0.68969,     0.69069,     0.69169,     0.69269,     0.69369,     0.69469,      0.6957,\n",
              "            0.6967,      0.6977,      0.6987,      0.6997,      0.7007,      0.7017,      0.7027,      0.7037,      0.7047,     0.70571,     0.70671,     0.70771,     0.70871,     0.70971,     0.71071,     0.71171,     0.71271,     0.71371,     0.71471,     0.71572,     0.71672,     0.71772,     0.71872,     0.71972,\n",
              "           0.72072,     0.72172,     0.72272,     0.72372,     0.72472,     0.72573,     0.72673,     0.72773,     0.72873,     0.72973,     0.73073,     0.73173,     0.73273,     0.73373,     0.73473,     0.73574,     0.73674,     0.73774,     0.73874,     0.73974,     0.74074,     0.74174,     0.74274,     0.74374,\n",
              "           0.74474,     0.74575,     0.74675,     0.74775,     0.74875,     0.74975,     0.75075,     0.75175,     0.75275,     0.75375,     0.75475,     0.75576,     0.75676,     0.75776,     0.75876,     0.75976,     0.76076,     0.76176,     0.76276,     0.76376,     0.76476,     0.76577,     0.76677,     0.76777,\n",
              "           0.76877,     0.76977,     0.77077,     0.77177,     0.77277,     0.77377,     0.77477,     0.77578,     0.77678,     0.77778,     0.77878,     0.77978,     0.78078,     0.78178,     0.78278,     0.78378,     0.78478,     0.78579,     0.78679,     0.78779,     0.78879,     0.78979,     0.79079,     0.79179,\n",
              "           0.79279,     0.79379,     0.79479,      0.7958,      0.7968,      0.7978,      0.7988,      0.7998,      0.8008,      0.8018,      0.8028,      0.8038,      0.8048,     0.80581,     0.80681,     0.80781,     0.80881,     0.80981,     0.81081,     0.81181,     0.81281,     0.81381,     0.81481,     0.81582,\n",
              "           0.81682,     0.81782,     0.81882,     0.81982,     0.82082,     0.82182,     0.82282,     0.82382,     0.82482,     0.82583,     0.82683,     0.82783,     0.82883,     0.82983,     0.83083,     0.83183,     0.83283,     0.83383,     0.83483,     0.83584,     0.83684,     0.83784,     0.83884,     0.83984,\n",
              "           0.84084,     0.84184,     0.84284,     0.84384,     0.84484,     0.84585,     0.84685,     0.84785,     0.84885,     0.84985,     0.85085,     0.85185,     0.85285,     0.85385,     0.85485,     0.85586,     0.85686,     0.85786,     0.85886,     0.85986,     0.86086,     0.86186,     0.86286,     0.86386,\n",
              "           0.86486,     0.86587,     0.86687,     0.86787,     0.86887,     0.86987,     0.87087,     0.87187,     0.87287,     0.87387,     0.87487,     0.87588,     0.87688,     0.87788,     0.87888,     0.87988,     0.88088,     0.88188,     0.88288,     0.88388,     0.88488,     0.88589,     0.88689,     0.88789,\n",
              "           0.88889,     0.88989,     0.89089,     0.89189,     0.89289,     0.89389,     0.89489,      0.8959,      0.8969,      0.8979,      0.8989,      0.8999,      0.9009,      0.9019,      0.9029,      0.9039,      0.9049,     0.90591,     0.90691,     0.90791,     0.90891,     0.90991,     0.91091,     0.91191,\n",
              "           0.91291,     0.91391,     0.91491,     0.91592,     0.91692,     0.91792,     0.91892,     0.91992,     0.92092,     0.92192,     0.92292,     0.92392,     0.92492,     0.92593,     0.92693,     0.92793,     0.92893,     0.92993,     0.93093,     0.93193,     0.93293,     0.93393,     0.93493,     0.93594,\n",
              "           0.93694,     0.93794,     0.93894,     0.93994,     0.94094,     0.94194,     0.94294,     0.94394,     0.94494,     0.94595,     0.94695,     0.94795,     0.94895,     0.94995,     0.95095,     0.95195,     0.95295,     0.95395,     0.95495,     0.95596,     0.95696,     0.95796,     0.95896,     0.95996,\n",
              "           0.96096,     0.96196,     0.96296,     0.96396,     0.96496,     0.96597,     0.96697,     0.96797,     0.96897,     0.96997,     0.97097,     0.97197,     0.97297,     0.97397,     0.97497,     0.97598,     0.97698,     0.97798,     0.97898,     0.97998,     0.98098,     0.98198,     0.98298,     0.98398,\n",
              "           0.98498,     0.98599,     0.98699,     0.98799,     0.98899,     0.98999,     0.99099,     0.99199,     0.99299,     0.99399,     0.99499,       0.996,       0.997,       0.998,       0.999,           1]), array([[    0.28859,     0.28859,     0.41401, ...,           1,           1,           1],\n",
              "       [    0.30019,     0.30019,     0.40459, ...,           1,           1,           1],\n",
              "       [       0.25,        0.25,     0.36807, ...,           1,           1,           1],\n",
              "       ...,\n",
              "       [    0.21318,     0.21318,     0.30213, ...,           1,           1,           1],\n",
              "       [    0.23572,     0.23572,     0.35691, ...,           1,           1,           1],\n",
              "       [    0.22222,     0.22222,     0.27623, ...,           1,           1,           1]]), 'Confidence', 'Precision'], [array([          0,    0.001001,    0.002002,    0.003003,    0.004004,    0.005005,    0.006006,    0.007007,    0.008008,    0.009009,     0.01001,    0.011011,    0.012012,    0.013013,    0.014014,    0.015015,    0.016016,    0.017017,    0.018018,    0.019019,     0.02002,    0.021021,    0.022022,    0.023023,\n",
              "          0.024024,    0.025025,    0.026026,    0.027027,    0.028028,    0.029029,     0.03003,    0.031031,    0.032032,    0.033033,    0.034034,    0.035035,    0.036036,    0.037037,    0.038038,    0.039039,     0.04004,    0.041041,    0.042042,    0.043043,    0.044044,    0.045045,    0.046046,    0.047047,\n",
              "          0.048048,    0.049049,     0.05005,    0.051051,    0.052052,    0.053053,    0.054054,    0.055055,    0.056056,    0.057057,    0.058058,    0.059059,     0.06006,    0.061061,    0.062062,    0.063063,    0.064064,    0.065065,    0.066066,    0.067067,    0.068068,    0.069069,     0.07007,    0.071071,\n",
              "          0.072072,    0.073073,    0.074074,    0.075075,    0.076076,    0.077077,    0.078078,    0.079079,     0.08008,    0.081081,    0.082082,    0.083083,    0.084084,    0.085085,    0.086086,    0.087087,    0.088088,    0.089089,     0.09009,    0.091091,    0.092092,    0.093093,    0.094094,    0.095095,\n",
              "          0.096096,    0.097097,    0.098098,    0.099099,      0.1001,      0.1011,      0.1021,      0.1031,      0.1041,     0.10511,     0.10611,     0.10711,     0.10811,     0.10911,     0.11011,     0.11111,     0.11211,     0.11311,     0.11411,     0.11512,     0.11612,     0.11712,     0.11812,     0.11912,\n",
              "           0.12012,     0.12112,     0.12212,     0.12312,     0.12412,     0.12513,     0.12613,     0.12713,     0.12813,     0.12913,     0.13013,     0.13113,     0.13213,     0.13313,     0.13413,     0.13514,     0.13614,     0.13714,     0.13814,     0.13914,     0.14014,     0.14114,     0.14214,     0.14314,\n",
              "           0.14414,     0.14515,     0.14615,     0.14715,     0.14815,     0.14915,     0.15015,     0.15115,     0.15215,     0.15315,     0.15415,     0.15516,     0.15616,     0.15716,     0.15816,     0.15916,     0.16016,     0.16116,     0.16216,     0.16316,     0.16416,     0.16517,     0.16617,     0.16717,\n",
              "           0.16817,     0.16917,     0.17017,     0.17117,     0.17217,     0.17317,     0.17417,     0.17518,     0.17618,     0.17718,     0.17818,     0.17918,     0.18018,     0.18118,     0.18218,     0.18318,     0.18418,     0.18519,     0.18619,     0.18719,     0.18819,     0.18919,     0.19019,     0.19119,\n",
              "           0.19219,     0.19319,     0.19419,      0.1952,      0.1962,      0.1972,      0.1982,      0.1992,      0.2002,      0.2012,      0.2022,      0.2032,      0.2042,     0.20521,     0.20621,     0.20721,     0.20821,     0.20921,     0.21021,     0.21121,     0.21221,     0.21321,     0.21421,     0.21522,\n",
              "           0.21622,     0.21722,     0.21822,     0.21922,     0.22022,     0.22122,     0.22222,     0.22322,     0.22422,     0.22523,     0.22623,     0.22723,     0.22823,     0.22923,     0.23023,     0.23123,     0.23223,     0.23323,     0.23423,     0.23524,     0.23624,     0.23724,     0.23824,     0.23924,\n",
              "           0.24024,     0.24124,     0.24224,     0.24324,     0.24424,     0.24525,     0.24625,     0.24725,     0.24825,     0.24925,     0.25025,     0.25125,     0.25225,     0.25325,     0.25425,     0.25526,     0.25626,     0.25726,     0.25826,     0.25926,     0.26026,     0.26126,     0.26226,     0.26326,\n",
              "           0.26426,     0.26527,     0.26627,     0.26727,     0.26827,     0.26927,     0.27027,     0.27127,     0.27227,     0.27327,     0.27427,     0.27528,     0.27628,     0.27728,     0.27828,     0.27928,     0.28028,     0.28128,     0.28228,     0.28328,     0.28428,     0.28529,     0.28629,     0.28729,\n",
              "           0.28829,     0.28929,     0.29029,     0.29129,     0.29229,     0.29329,     0.29429,      0.2953,      0.2963,      0.2973,      0.2983,      0.2993,      0.3003,      0.3013,      0.3023,      0.3033,      0.3043,     0.30531,     0.30631,     0.30731,     0.30831,     0.30931,     0.31031,     0.31131,\n",
              "           0.31231,     0.31331,     0.31431,     0.31532,     0.31632,     0.31732,     0.31832,     0.31932,     0.32032,     0.32132,     0.32232,     0.32332,     0.32432,     0.32533,     0.32633,     0.32733,     0.32833,     0.32933,     0.33033,     0.33133,     0.33233,     0.33333,     0.33433,     0.33534,\n",
              "           0.33634,     0.33734,     0.33834,     0.33934,     0.34034,     0.34134,     0.34234,     0.34334,     0.34434,     0.34535,     0.34635,     0.34735,     0.34835,     0.34935,     0.35035,     0.35135,     0.35235,     0.35335,     0.35435,     0.35536,     0.35636,     0.35736,     0.35836,     0.35936,\n",
              "           0.36036,     0.36136,     0.36236,     0.36336,     0.36436,     0.36537,     0.36637,     0.36737,     0.36837,     0.36937,     0.37037,     0.37137,     0.37237,     0.37337,     0.37437,     0.37538,     0.37638,     0.37738,     0.37838,     0.37938,     0.38038,     0.38138,     0.38238,     0.38338,\n",
              "           0.38438,     0.38539,     0.38639,     0.38739,     0.38839,     0.38939,     0.39039,     0.39139,     0.39239,     0.39339,     0.39439,      0.3954,      0.3964,      0.3974,      0.3984,      0.3994,      0.4004,      0.4014,      0.4024,      0.4034,      0.4044,     0.40541,     0.40641,     0.40741,\n",
              "           0.40841,     0.40941,     0.41041,     0.41141,     0.41241,     0.41341,     0.41441,     0.41542,     0.41642,     0.41742,     0.41842,     0.41942,     0.42042,     0.42142,     0.42242,     0.42342,     0.42442,     0.42543,     0.42643,     0.42743,     0.42843,     0.42943,     0.43043,     0.43143,\n",
              "           0.43243,     0.43343,     0.43443,     0.43544,     0.43644,     0.43744,     0.43844,     0.43944,     0.44044,     0.44144,     0.44244,     0.44344,     0.44444,     0.44545,     0.44645,     0.44745,     0.44845,     0.44945,     0.45045,     0.45145,     0.45245,     0.45345,     0.45445,     0.45546,\n",
              "           0.45646,     0.45746,     0.45846,     0.45946,     0.46046,     0.46146,     0.46246,     0.46346,     0.46446,     0.46547,     0.46647,     0.46747,     0.46847,     0.46947,     0.47047,     0.47147,     0.47247,     0.47347,     0.47447,     0.47548,     0.47648,     0.47748,     0.47848,     0.47948,\n",
              "           0.48048,     0.48148,     0.48248,     0.48348,     0.48448,     0.48549,     0.48649,     0.48749,     0.48849,     0.48949,     0.49049,     0.49149,     0.49249,     0.49349,     0.49449,      0.4955,      0.4965,      0.4975,      0.4985,      0.4995,      0.5005,      0.5015,      0.5025,      0.5035,\n",
              "            0.5045,     0.50551,     0.50651,     0.50751,     0.50851,     0.50951,     0.51051,     0.51151,     0.51251,     0.51351,     0.51451,     0.51552,     0.51652,     0.51752,     0.51852,     0.51952,     0.52052,     0.52152,     0.52252,     0.52352,     0.52452,     0.52553,     0.52653,     0.52753,\n",
              "           0.52853,     0.52953,     0.53053,     0.53153,     0.53253,     0.53353,     0.53453,     0.53554,     0.53654,     0.53754,     0.53854,     0.53954,     0.54054,     0.54154,     0.54254,     0.54354,     0.54454,     0.54555,     0.54655,     0.54755,     0.54855,     0.54955,     0.55055,     0.55155,\n",
              "           0.55255,     0.55355,     0.55455,     0.55556,     0.55656,     0.55756,     0.55856,     0.55956,     0.56056,     0.56156,     0.56256,     0.56356,     0.56456,     0.56557,     0.56657,     0.56757,     0.56857,     0.56957,     0.57057,     0.57157,     0.57257,     0.57357,     0.57457,     0.57558,\n",
              "           0.57658,     0.57758,     0.57858,     0.57958,     0.58058,     0.58158,     0.58258,     0.58358,     0.58458,     0.58559,     0.58659,     0.58759,     0.58859,     0.58959,     0.59059,     0.59159,     0.59259,     0.59359,     0.59459,      0.5956,      0.5966,      0.5976,      0.5986,      0.5996,\n",
              "            0.6006,      0.6016,      0.6026,      0.6036,      0.6046,     0.60561,     0.60661,     0.60761,     0.60861,     0.60961,     0.61061,     0.61161,     0.61261,     0.61361,     0.61461,     0.61562,     0.61662,     0.61762,     0.61862,     0.61962,     0.62062,     0.62162,     0.62262,     0.62362,\n",
              "           0.62462,     0.62563,     0.62663,     0.62763,     0.62863,     0.62963,     0.63063,     0.63163,     0.63263,     0.63363,     0.63463,     0.63564,     0.63664,     0.63764,     0.63864,     0.63964,     0.64064,     0.64164,     0.64264,     0.64364,     0.64464,     0.64565,     0.64665,     0.64765,\n",
              "           0.64865,     0.64965,     0.65065,     0.65165,     0.65265,     0.65365,     0.65465,     0.65566,     0.65666,     0.65766,     0.65866,     0.65966,     0.66066,     0.66166,     0.66266,     0.66366,     0.66466,     0.66567,     0.66667,     0.66767,     0.66867,     0.66967,     0.67067,     0.67167,\n",
              "           0.67267,     0.67367,     0.67467,     0.67568,     0.67668,     0.67768,     0.67868,     0.67968,     0.68068,     0.68168,     0.68268,     0.68368,     0.68468,     0.68569,     0.68669,     0.68769,     0.68869,     0.68969,     0.69069,     0.69169,     0.69269,     0.69369,     0.69469,      0.6957,\n",
              "            0.6967,      0.6977,      0.6987,      0.6997,      0.7007,      0.7017,      0.7027,      0.7037,      0.7047,     0.70571,     0.70671,     0.70771,     0.70871,     0.70971,     0.71071,     0.71171,     0.71271,     0.71371,     0.71471,     0.71572,     0.71672,     0.71772,     0.71872,     0.71972,\n",
              "           0.72072,     0.72172,     0.72272,     0.72372,     0.72472,     0.72573,     0.72673,     0.72773,     0.72873,     0.72973,     0.73073,     0.73173,     0.73273,     0.73373,     0.73473,     0.73574,     0.73674,     0.73774,     0.73874,     0.73974,     0.74074,     0.74174,     0.74274,     0.74374,\n",
              "           0.74474,     0.74575,     0.74675,     0.74775,     0.74875,     0.74975,     0.75075,     0.75175,     0.75275,     0.75375,     0.75475,     0.75576,     0.75676,     0.75776,     0.75876,     0.75976,     0.76076,     0.76176,     0.76276,     0.76376,     0.76476,     0.76577,     0.76677,     0.76777,\n",
              "           0.76877,     0.76977,     0.77077,     0.77177,     0.77277,     0.77377,     0.77477,     0.77578,     0.77678,     0.77778,     0.77878,     0.77978,     0.78078,     0.78178,     0.78278,     0.78378,     0.78478,     0.78579,     0.78679,     0.78779,     0.78879,     0.78979,     0.79079,     0.79179,\n",
              "           0.79279,     0.79379,     0.79479,      0.7958,      0.7968,      0.7978,      0.7988,      0.7998,      0.8008,      0.8018,      0.8028,      0.8038,      0.8048,     0.80581,     0.80681,     0.80781,     0.80881,     0.80981,     0.81081,     0.81181,     0.81281,     0.81381,     0.81481,     0.81582,\n",
              "           0.81682,     0.81782,     0.81882,     0.81982,     0.82082,     0.82182,     0.82282,     0.82382,     0.82482,     0.82583,     0.82683,     0.82783,     0.82883,     0.82983,     0.83083,     0.83183,     0.83283,     0.83383,     0.83483,     0.83584,     0.83684,     0.83784,     0.83884,     0.83984,\n",
              "           0.84084,     0.84184,     0.84284,     0.84384,     0.84484,     0.84585,     0.84685,     0.84785,     0.84885,     0.84985,     0.85085,     0.85185,     0.85285,     0.85385,     0.85485,     0.85586,     0.85686,     0.85786,     0.85886,     0.85986,     0.86086,     0.86186,     0.86286,     0.86386,\n",
              "           0.86486,     0.86587,     0.86687,     0.86787,     0.86887,     0.86987,     0.87087,     0.87187,     0.87287,     0.87387,     0.87487,     0.87588,     0.87688,     0.87788,     0.87888,     0.87988,     0.88088,     0.88188,     0.88288,     0.88388,     0.88488,     0.88589,     0.88689,     0.88789,\n",
              "           0.88889,     0.88989,     0.89089,     0.89189,     0.89289,     0.89389,     0.89489,      0.8959,      0.8969,      0.8979,      0.8989,      0.8999,      0.9009,      0.9019,      0.9029,      0.9039,      0.9049,     0.90591,     0.90691,     0.90791,     0.90891,     0.90991,     0.91091,     0.91191,\n",
              "           0.91291,     0.91391,     0.91491,     0.91592,     0.91692,     0.91792,     0.91892,     0.91992,     0.92092,     0.92192,     0.92292,     0.92392,     0.92492,     0.92593,     0.92693,     0.92793,     0.92893,     0.92993,     0.93093,     0.93193,     0.93293,     0.93393,     0.93493,     0.93594,\n",
              "           0.93694,     0.93794,     0.93894,     0.93994,     0.94094,     0.94194,     0.94294,     0.94394,     0.94494,     0.94595,     0.94695,     0.94795,     0.94895,     0.94995,     0.95095,     0.95195,     0.95295,     0.95395,     0.95495,     0.95596,     0.95696,     0.95796,     0.95896,     0.95996,\n",
              "           0.96096,     0.96196,     0.96296,     0.96396,     0.96496,     0.96597,     0.96697,     0.96797,     0.96897,     0.96997,     0.97097,     0.97197,     0.97297,     0.97397,     0.97497,     0.97598,     0.97698,     0.97798,     0.97898,     0.97998,     0.98098,     0.98198,     0.98298,     0.98398,\n",
              "           0.98498,     0.98599,     0.98699,     0.98799,     0.98899,     0.98999,     0.99099,     0.99199,     0.99299,     0.99399,     0.99499,       0.996,       0.997,       0.998,       0.999,           1]), array([[          1,           1,           1, ...,           0,           0,           0],\n",
              "       [          1,           1,           1, ...,           0,           0,           0],\n",
              "       [          1,           1,           1, ...,           0,           0,           0],\n",
              "       ...,\n",
              "       [          1,           1,           1, ...,           0,           0,           0],\n",
              "       [          1,           1,           1, ...,           0,           0,           0],\n",
              "       [          1,           1,           1, ...,     0.18013,     0.16699,           0]]), 'Confidence', 'Recall']]\n",
              "fitness: np.float64(0.9667136864536428)\n",
              "keys: ['metrics/precision(B)', 'metrics/recall(B)', 'metrics/mAP50(B)', 'metrics/mAP50-95(B)']\n",
              "maps: array([    0.97175,     0.97253,     0.97601,     0.97608,     0.98173,     0.97848,     0.97379,     0.97761,     0.98212,      0.9775,     0.97258,     0.98118,     0.95839,     0.95448,     0.97293,     0.97291,     0.96778,       0.968,     0.97622,     0.97724,     0.97287,     0.97657,     0.97947,     0.97048,\n",
              "            0.9703,     0.94788,     0.96446,     0.96823,     0.97694,     0.96663,     0.97327,     0.96886,     0.97945,     0.96095,     0.97205,     0.97162,     0.96573,     0.96508,     0.96736,     0.96062,     0.96198,     0.96065,     0.96417,     0.94838,     0.92665,     0.96848,     0.96554,     0.96444,\n",
              "           0.97652,     0.97666,     0.95505,     0.98513,     0.67824])\n",
              "names: {0: '10C', 1: '10D', 2: '10H', 3: '10S', 4: '2C', 5: '2D', 6: '2H', 7: '2S', 8: '3C', 9: '3D', 10: '3H', 11: '3S', 12: '4C', 13: '4D', 14: '4H', 15: '4S', 16: '5C', 17: '5D', 18: '5H', 19: '5S', 20: '6C', 21: '6D', 22: '6H', 23: '6S', 24: '7C', 25: '7D', 26: '7H', 27: '7S', 28: '8C', 29: '8D', 30: '8H', 31: '8S', 32: '9C', 33: '9D', 34: '9H', 35: '9S', 36: 'AC', 37: 'AD', 38: 'AH', 39: 'AS', 40: 'JC', 41: 'JD', 42: 'JH', 43: 'JS', 44: 'KC', 45: 'KD', 46: 'KH', 47: 'KS', 48: 'QC', 49: 'QD', 50: 'QH', 51: 'QS', 52: 'joker'}\n",
              "plot: True\n",
              "results_dict: {'metrics/precision(B)': np.float64(0.9978461148353092), 'metrics/recall(B)': np.float64(0.9897446483302597), 'metrics/mAP50(B)': np.float64(0.9931725181116151), 'metrics/mAP50-95(B)': np.float64(0.9637738162694236), 'fitness': np.float64(0.9667136864536428)}\n",
              "save_dir: PosixPath('runs/detect/playing_cards_yolov8')\n",
              "speed: {'preprocess': 0.2511857751372142, 'inference': 2.210456085679217, 'loss': 0.0006467924762908494, 'postprocess': 2.612731354136291}\n",
              "task: 'detect'"
            ]
          },
          "metadata": {},
          "execution_count": 8
        }
      ]
    },
    {
      "cell_type": "code",
      "source": [
        "!cp /content/runs/detect/playing_cards_yolov8/weights/best.pt /content/drive/MyDrive/playing_cards_best.pt"
      ],
      "metadata": {
        "id": "LKyou38krP0N"
      },
      "execution_count": null,
      "outputs": []
    },
    {
      "cell_type": "code",
      "source": [
        "model.val(data=\"/content/Playing-Cards-2/data.yaml\")"
      ],
      "metadata": {
        "colab": {
          "base_uri": "https://localhost:8080/"
        },
        "id": "eRSCi5n4rVtB",
        "outputId": "70eb638b-76a6-4013-d698-0c33ff784b2a"
      },
      "execution_count": null,
      "outputs": [
        {
          "output_type": "stream",
          "name": "stdout",
          "text": [
            "Ultralytics 8.3.129 🚀 Python-3.11.12 torch-2.6.0+cu124 CUDA:0 (Tesla T4, 15095MiB)\n",
            "Model summary (fused): 72 layers, 3,015,983 parameters, 0 gradients, 8.1 GFLOPs\n",
            "\u001b[34m\u001b[1mval: \u001b[0mFast image access ✅ (ping: 0.0±0.0 ms, read: 1750.4±484.2 MB/s, size: 82.1 KB)\n"
          ]
        },
        {
          "output_type": "stream",
          "name": "stderr",
          "text": [
            "\u001b[34m\u001b[1mval: \u001b[0mScanning /content/Playing-Cards-2/valid/labels.cache... 2019 images, 0 backgrounds, 0 corrupt: 100%|██████████| 2019/2019 [00:00<?, ?it/s]\n",
            "                 Class     Images  Instances      Box(P          R      mAP50  mAP50-95): 100%|██████████| 127/127 [00:24<00:00,  5.25it/s]\n"
          ]
        },
        {
          "output_type": "stream",
          "name": "stdout",
          "text": [
            "                   all       2019       8074      0.998       0.99      0.994      0.968\n",
            "                   10C        129        172      0.999          1      0.995      0.972\n",
            "                   10D        122        157      0.999          1      0.995      0.974\n",
            "                   10H        103        148      0.999          1      0.995      0.984\n",
            "                   10S        112        153      0.999          1      0.995      0.981\n",
            "                    2C        105        143          1      0.997      0.995      0.991\n",
            "                    2D        117        165      0.999          1      0.995      0.979\n",
            "                    2H        135        182      0.999          1      0.995      0.982\n",
            "                    2S        102        137          1      0.998      0.995      0.983\n",
            "                    3C        122        176      0.999          1      0.995       0.98\n",
            "                    3D        106        145          1      0.992      0.995       0.98\n",
            "                    3H        119        168          1      0.998      0.995       0.98\n",
            "                    3S        104        142          1       0.99      0.995      0.981\n",
            "                    4C        124        173      0.998          1      0.995      0.968\n",
            "                    4D         92        117      0.992          1      0.995      0.961\n",
            "                    4H        112        146      0.999          1      0.995      0.975\n",
            "                    4S        108        144      0.999          1      0.995       0.98\n",
            "                    5C        129        177          1          1      0.995      0.968\n",
            "                    5D        133        181      0.998      0.994      0.995      0.971\n",
            "                    5H        125        166      0.998          1      0.995      0.982\n",
            "                    5S        114        157      0.994      0.997      0.995      0.975\n",
            "                    6C        122        167          1          1      0.995      0.982\n",
            "                    6D        131        175      0.998          1      0.995       0.98\n",
            "                    6H         88        113      0.999          1      0.995      0.978\n",
            "                    6S        100        129      0.999          1      0.995      0.977\n",
            "                    7C        108        145      0.999          1      0.995      0.974\n",
            "                    7D        121        167      0.999          1      0.995       0.95\n",
            "                    7H        113        160          1          1      0.995      0.973\n",
            "                    7S        115        148      0.999          1      0.995      0.969\n",
            "                    8C        109        152      0.999          1      0.995      0.982\n",
            "                    8D        123        171          1      0.997      0.995      0.972\n",
            "                    8H        120        166      0.999          1      0.995      0.979\n",
            "                    8S        111        152      0.999          1      0.995       0.97\n",
            "                    9C        110        147      0.999          1      0.995      0.982\n",
            "                    9D        106        140      0.999          1      0.995      0.969\n",
            "                    9H        120        172      0.999          1      0.995      0.979\n",
            "                    9S        121        154          1          1      0.995      0.979\n",
            "                    AC        129        180      0.999          1      0.995      0.966\n",
            "                    AD        108        146          1      0.996      0.995      0.973\n",
            "                    AH        121        165      0.992          1      0.995      0.972\n",
            "                    AS        111        144          1          1      0.995      0.953\n",
            "                    JC        103        137      0.999          1      0.995      0.972\n",
            "                    JD        105        145      0.999          1      0.995      0.961\n",
            "                    JH        107        151      0.999          1      0.995      0.976\n",
            "                    JS        107        144      0.999          1      0.995      0.956\n",
            "                    KC        145        198      0.999          1      0.995      0.927\n",
            "                    KD        105        144      0.999          1      0.995      0.976\n",
            "                    KH        122        160          1      0.997      0.995      0.972\n",
            "                    KS         97        118      0.999          1      0.995       0.97\n",
            "                    QC        100        142      0.999          1      0.995      0.981\n",
            "                    QD        127        174      0.999          1      0.995       0.98\n",
            "                    QH        115        152          1          1      0.995      0.957\n",
            "                    QS        113        161      0.999          1      0.995      0.988\n",
            "                 joker          2          6      0.946        0.5      0.924      0.674\n",
            "Speed: 0.7ms preprocess, 3.8ms inference, 0.0ms loss, 1.4ms postprocess per image\n",
            "Results saved to \u001b[1mruns/detect/playing_cards_yolov82\u001b[0m\n"
          ]
        },
        {
          "output_type": "execute_result",
          "data": {
            "text/plain": [
              "ultralytics.utils.metrics.DetMetrics object with attributes:\n",
              "\n",
              "ap_class_index: array([ 0,  1,  2,  3,  4,  5,  6,  7,  8,  9, 10, 11, 12, 13, 14, 15, 16, 17, 18, 19, 20, 21, 22, 23, 24, 25, 26, 27, 28, 29, 30, 31, 32, 33, 34, 35, 36, 37, 38, 39, 40, 41, 42, 43, 44, 45, 46, 47, 48, 49, 50, 51, 52])\n",
              "box: ultralytics.utils.metrics.Metric object\n",
              "confusion_matrix: <ultralytics.utils.metrics.ConfusionMatrix object at 0x7ba6aa1b0ed0>\n",
              "curves: ['Precision-Recall(B)', 'F1-Confidence(B)', 'Precision-Confidence(B)', 'Recall-Confidence(B)']\n",
              "curves_results: [[array([          0,    0.001001,    0.002002,    0.003003,    0.004004,    0.005005,    0.006006,    0.007007,    0.008008,    0.009009,     0.01001,    0.011011,    0.012012,    0.013013,    0.014014,    0.015015,    0.016016,    0.017017,    0.018018,    0.019019,     0.02002,    0.021021,    0.022022,    0.023023,\n",
              "          0.024024,    0.025025,    0.026026,    0.027027,    0.028028,    0.029029,     0.03003,    0.031031,    0.032032,    0.033033,    0.034034,    0.035035,    0.036036,    0.037037,    0.038038,    0.039039,     0.04004,    0.041041,    0.042042,    0.043043,    0.044044,    0.045045,    0.046046,    0.047047,\n",
              "          0.048048,    0.049049,     0.05005,    0.051051,    0.052052,    0.053053,    0.054054,    0.055055,    0.056056,    0.057057,    0.058058,    0.059059,     0.06006,    0.061061,    0.062062,    0.063063,    0.064064,    0.065065,    0.066066,    0.067067,    0.068068,    0.069069,     0.07007,    0.071071,\n",
              "          0.072072,    0.073073,    0.074074,    0.075075,    0.076076,    0.077077,    0.078078,    0.079079,     0.08008,    0.081081,    0.082082,    0.083083,    0.084084,    0.085085,    0.086086,    0.087087,    0.088088,    0.089089,     0.09009,    0.091091,    0.092092,    0.093093,    0.094094,    0.095095,\n",
              "          0.096096,    0.097097,    0.098098,    0.099099,      0.1001,      0.1011,      0.1021,      0.1031,      0.1041,     0.10511,     0.10611,     0.10711,     0.10811,     0.10911,     0.11011,     0.11111,     0.11211,     0.11311,     0.11411,     0.11512,     0.11612,     0.11712,     0.11812,     0.11912,\n",
              "           0.12012,     0.12112,     0.12212,     0.12312,     0.12412,     0.12513,     0.12613,     0.12713,     0.12813,     0.12913,     0.13013,     0.13113,     0.13213,     0.13313,     0.13413,     0.13514,     0.13614,     0.13714,     0.13814,     0.13914,     0.14014,     0.14114,     0.14214,     0.14314,\n",
              "           0.14414,     0.14515,     0.14615,     0.14715,     0.14815,     0.14915,     0.15015,     0.15115,     0.15215,     0.15315,     0.15415,     0.15516,     0.15616,     0.15716,     0.15816,     0.15916,     0.16016,     0.16116,     0.16216,     0.16316,     0.16416,     0.16517,     0.16617,     0.16717,\n",
              "           0.16817,     0.16917,     0.17017,     0.17117,     0.17217,     0.17317,     0.17417,     0.17518,     0.17618,     0.17718,     0.17818,     0.17918,     0.18018,     0.18118,     0.18218,     0.18318,     0.18418,     0.18519,     0.18619,     0.18719,     0.18819,     0.18919,     0.19019,     0.19119,\n",
              "           0.19219,     0.19319,     0.19419,      0.1952,      0.1962,      0.1972,      0.1982,      0.1992,      0.2002,      0.2012,      0.2022,      0.2032,      0.2042,     0.20521,     0.20621,     0.20721,     0.20821,     0.20921,     0.21021,     0.21121,     0.21221,     0.21321,     0.21421,     0.21522,\n",
              "           0.21622,     0.21722,     0.21822,     0.21922,     0.22022,     0.22122,     0.22222,     0.22322,     0.22422,     0.22523,     0.22623,     0.22723,     0.22823,     0.22923,     0.23023,     0.23123,     0.23223,     0.23323,     0.23423,     0.23524,     0.23624,     0.23724,     0.23824,     0.23924,\n",
              "           0.24024,     0.24124,     0.24224,     0.24324,     0.24424,     0.24525,     0.24625,     0.24725,     0.24825,     0.24925,     0.25025,     0.25125,     0.25225,     0.25325,     0.25425,     0.25526,     0.25626,     0.25726,     0.25826,     0.25926,     0.26026,     0.26126,     0.26226,     0.26326,\n",
              "           0.26426,     0.26527,     0.26627,     0.26727,     0.26827,     0.26927,     0.27027,     0.27127,     0.27227,     0.27327,     0.27427,     0.27528,     0.27628,     0.27728,     0.27828,     0.27928,     0.28028,     0.28128,     0.28228,     0.28328,     0.28428,     0.28529,     0.28629,     0.28729,\n",
              "           0.28829,     0.28929,     0.29029,     0.29129,     0.29229,     0.29329,     0.29429,      0.2953,      0.2963,      0.2973,      0.2983,      0.2993,      0.3003,      0.3013,      0.3023,      0.3033,      0.3043,     0.30531,     0.30631,     0.30731,     0.30831,     0.30931,     0.31031,     0.31131,\n",
              "           0.31231,     0.31331,     0.31431,     0.31532,     0.31632,     0.31732,     0.31832,     0.31932,     0.32032,     0.32132,     0.32232,     0.32332,     0.32432,     0.32533,     0.32633,     0.32733,     0.32833,     0.32933,     0.33033,     0.33133,     0.33233,     0.33333,     0.33433,     0.33534,\n",
              "           0.33634,     0.33734,     0.33834,     0.33934,     0.34034,     0.34134,     0.34234,     0.34334,     0.34434,     0.34535,     0.34635,     0.34735,     0.34835,     0.34935,     0.35035,     0.35135,     0.35235,     0.35335,     0.35435,     0.35536,     0.35636,     0.35736,     0.35836,     0.35936,\n",
              "           0.36036,     0.36136,     0.36236,     0.36336,     0.36436,     0.36537,     0.36637,     0.36737,     0.36837,     0.36937,     0.37037,     0.37137,     0.37237,     0.37337,     0.37437,     0.37538,     0.37638,     0.37738,     0.37838,     0.37938,     0.38038,     0.38138,     0.38238,     0.38338,\n",
              "           0.38438,     0.38539,     0.38639,     0.38739,     0.38839,     0.38939,     0.39039,     0.39139,     0.39239,     0.39339,     0.39439,      0.3954,      0.3964,      0.3974,      0.3984,      0.3994,      0.4004,      0.4014,      0.4024,      0.4034,      0.4044,     0.40541,     0.40641,     0.40741,\n",
              "           0.40841,     0.40941,     0.41041,     0.41141,     0.41241,     0.41341,     0.41441,     0.41542,     0.41642,     0.41742,     0.41842,     0.41942,     0.42042,     0.42142,     0.42242,     0.42342,     0.42442,     0.42543,     0.42643,     0.42743,     0.42843,     0.42943,     0.43043,     0.43143,\n",
              "           0.43243,     0.43343,     0.43443,     0.43544,     0.43644,     0.43744,     0.43844,     0.43944,     0.44044,     0.44144,     0.44244,     0.44344,     0.44444,     0.44545,     0.44645,     0.44745,     0.44845,     0.44945,     0.45045,     0.45145,     0.45245,     0.45345,     0.45445,     0.45546,\n",
              "           0.45646,     0.45746,     0.45846,     0.45946,     0.46046,     0.46146,     0.46246,     0.46346,     0.46446,     0.46547,     0.46647,     0.46747,     0.46847,     0.46947,     0.47047,     0.47147,     0.47247,     0.47347,     0.47447,     0.47548,     0.47648,     0.47748,     0.47848,     0.47948,\n",
              "           0.48048,     0.48148,     0.48248,     0.48348,     0.48448,     0.48549,     0.48649,     0.48749,     0.48849,     0.48949,     0.49049,     0.49149,     0.49249,     0.49349,     0.49449,      0.4955,      0.4965,      0.4975,      0.4985,      0.4995,      0.5005,      0.5015,      0.5025,      0.5035,\n",
              "            0.5045,     0.50551,     0.50651,     0.50751,     0.50851,     0.50951,     0.51051,     0.51151,     0.51251,     0.51351,     0.51451,     0.51552,     0.51652,     0.51752,     0.51852,     0.51952,     0.52052,     0.52152,     0.52252,     0.52352,     0.52452,     0.52553,     0.52653,     0.52753,\n",
              "           0.52853,     0.52953,     0.53053,     0.53153,     0.53253,     0.53353,     0.53453,     0.53554,     0.53654,     0.53754,     0.53854,     0.53954,     0.54054,     0.54154,     0.54254,     0.54354,     0.54454,     0.54555,     0.54655,     0.54755,     0.54855,     0.54955,     0.55055,     0.55155,\n",
              "           0.55255,     0.55355,     0.55455,     0.55556,     0.55656,     0.55756,     0.55856,     0.55956,     0.56056,     0.56156,     0.56256,     0.56356,     0.56456,     0.56557,     0.56657,     0.56757,     0.56857,     0.56957,     0.57057,     0.57157,     0.57257,     0.57357,     0.57457,     0.57558,\n",
              "           0.57658,     0.57758,     0.57858,     0.57958,     0.58058,     0.58158,     0.58258,     0.58358,     0.58458,     0.58559,     0.58659,     0.58759,     0.58859,     0.58959,     0.59059,     0.59159,     0.59259,     0.59359,     0.59459,      0.5956,      0.5966,      0.5976,      0.5986,      0.5996,\n",
              "            0.6006,      0.6016,      0.6026,      0.6036,      0.6046,     0.60561,     0.60661,     0.60761,     0.60861,     0.60961,     0.61061,     0.61161,     0.61261,     0.61361,     0.61461,     0.61562,     0.61662,     0.61762,     0.61862,     0.61962,     0.62062,     0.62162,     0.62262,     0.62362,\n",
              "           0.62462,     0.62563,     0.62663,     0.62763,     0.62863,     0.62963,     0.63063,     0.63163,     0.63263,     0.63363,     0.63463,     0.63564,     0.63664,     0.63764,     0.63864,     0.63964,     0.64064,     0.64164,     0.64264,     0.64364,     0.64464,     0.64565,     0.64665,     0.64765,\n",
              "           0.64865,     0.64965,     0.65065,     0.65165,     0.65265,     0.65365,     0.65465,     0.65566,     0.65666,     0.65766,     0.65866,     0.65966,     0.66066,     0.66166,     0.66266,     0.66366,     0.66466,     0.66567,     0.66667,     0.66767,     0.66867,     0.66967,     0.67067,     0.67167,\n",
              "           0.67267,     0.67367,     0.67467,     0.67568,     0.67668,     0.67768,     0.67868,     0.67968,     0.68068,     0.68168,     0.68268,     0.68368,     0.68468,     0.68569,     0.68669,     0.68769,     0.68869,     0.68969,     0.69069,     0.69169,     0.69269,     0.69369,     0.69469,      0.6957,\n",
              "            0.6967,      0.6977,      0.6987,      0.6997,      0.7007,      0.7017,      0.7027,      0.7037,      0.7047,     0.70571,     0.70671,     0.70771,     0.70871,     0.70971,     0.71071,     0.71171,     0.71271,     0.71371,     0.71471,     0.71572,     0.71672,     0.71772,     0.71872,     0.71972,\n",
              "           0.72072,     0.72172,     0.72272,     0.72372,     0.72472,     0.72573,     0.72673,     0.72773,     0.72873,     0.72973,     0.73073,     0.73173,     0.73273,     0.73373,     0.73473,     0.73574,     0.73674,     0.73774,     0.73874,     0.73974,     0.74074,     0.74174,     0.74274,     0.74374,\n",
              "           0.74474,     0.74575,     0.74675,     0.74775,     0.74875,     0.74975,     0.75075,     0.75175,     0.75275,     0.75375,     0.75475,     0.75576,     0.75676,     0.75776,     0.75876,     0.75976,     0.76076,     0.76176,     0.76276,     0.76376,     0.76476,     0.76577,     0.76677,     0.76777,\n",
              "           0.76877,     0.76977,     0.77077,     0.77177,     0.77277,     0.77377,     0.77477,     0.77578,     0.77678,     0.77778,     0.77878,     0.77978,     0.78078,     0.78178,     0.78278,     0.78378,     0.78478,     0.78579,     0.78679,     0.78779,     0.78879,     0.78979,     0.79079,     0.79179,\n",
              "           0.79279,     0.79379,     0.79479,      0.7958,      0.7968,      0.7978,      0.7988,      0.7998,      0.8008,      0.8018,      0.8028,      0.8038,      0.8048,     0.80581,     0.80681,     0.80781,     0.80881,     0.80981,     0.81081,     0.81181,     0.81281,     0.81381,     0.81481,     0.81582,\n",
              "           0.81682,     0.81782,     0.81882,     0.81982,     0.82082,     0.82182,     0.82282,     0.82382,     0.82482,     0.82583,     0.82683,     0.82783,     0.82883,     0.82983,     0.83083,     0.83183,     0.83283,     0.83383,     0.83483,     0.83584,     0.83684,     0.83784,     0.83884,     0.83984,\n",
              "           0.84084,     0.84184,     0.84284,     0.84384,     0.84484,     0.84585,     0.84685,     0.84785,     0.84885,     0.84985,     0.85085,     0.85185,     0.85285,     0.85385,     0.85485,     0.85586,     0.85686,     0.85786,     0.85886,     0.85986,     0.86086,     0.86186,     0.86286,     0.86386,\n",
              "           0.86486,     0.86587,     0.86687,     0.86787,     0.86887,     0.86987,     0.87087,     0.87187,     0.87287,     0.87387,     0.87487,     0.87588,     0.87688,     0.87788,     0.87888,     0.87988,     0.88088,     0.88188,     0.88288,     0.88388,     0.88488,     0.88589,     0.88689,     0.88789,\n",
              "           0.88889,     0.88989,     0.89089,     0.89189,     0.89289,     0.89389,     0.89489,      0.8959,      0.8969,      0.8979,      0.8989,      0.8999,      0.9009,      0.9019,      0.9029,      0.9039,      0.9049,     0.90591,     0.90691,     0.90791,     0.90891,     0.90991,     0.91091,     0.91191,\n",
              "           0.91291,     0.91391,     0.91491,     0.91592,     0.91692,     0.91792,     0.91892,     0.91992,     0.92092,     0.92192,     0.92292,     0.92392,     0.92492,     0.92593,     0.92693,     0.92793,     0.92893,     0.92993,     0.93093,     0.93193,     0.93293,     0.93393,     0.93493,     0.93594,\n",
              "           0.93694,     0.93794,     0.93894,     0.93994,     0.94094,     0.94194,     0.94294,     0.94394,     0.94494,     0.94595,     0.94695,     0.94795,     0.94895,     0.94995,     0.95095,     0.95195,     0.95295,     0.95395,     0.95495,     0.95596,     0.95696,     0.95796,     0.95896,     0.95996,\n",
              "           0.96096,     0.96196,     0.96296,     0.96396,     0.96496,     0.96597,     0.96697,     0.96797,     0.96897,     0.96997,     0.97097,     0.97197,     0.97297,     0.97397,     0.97497,     0.97598,     0.97698,     0.97798,     0.97898,     0.97998,     0.98098,     0.98198,     0.98298,     0.98398,\n",
              "           0.98498,     0.98599,     0.98699,     0.98799,     0.98899,     0.98999,     0.99099,     0.99199,     0.99299,     0.99399,     0.99499,       0.996,       0.997,       0.998,       0.999,           1]), array([[          1,           1,           1, ...,           1,           1,           0],\n",
              "       [          1,           1,           1, ...,           1,           1,           0],\n",
              "       [          1,           1,           1, ...,           1,           1,           0],\n",
              "       ...,\n",
              "       [          1,           1,           1, ...,           1,           1,           0],\n",
              "       [          1,           1,           1, ...,           1,           1,           0],\n",
              "       [          1,           1,           1, ...,     0.85714,     0.85714,           0]]), 'Recall', 'Precision'], [array([          0,    0.001001,    0.002002,    0.003003,    0.004004,    0.005005,    0.006006,    0.007007,    0.008008,    0.009009,     0.01001,    0.011011,    0.012012,    0.013013,    0.014014,    0.015015,    0.016016,    0.017017,    0.018018,    0.019019,     0.02002,    0.021021,    0.022022,    0.023023,\n",
              "          0.024024,    0.025025,    0.026026,    0.027027,    0.028028,    0.029029,     0.03003,    0.031031,    0.032032,    0.033033,    0.034034,    0.035035,    0.036036,    0.037037,    0.038038,    0.039039,     0.04004,    0.041041,    0.042042,    0.043043,    0.044044,    0.045045,    0.046046,    0.047047,\n",
              "          0.048048,    0.049049,     0.05005,    0.051051,    0.052052,    0.053053,    0.054054,    0.055055,    0.056056,    0.057057,    0.058058,    0.059059,     0.06006,    0.061061,    0.062062,    0.063063,    0.064064,    0.065065,    0.066066,    0.067067,    0.068068,    0.069069,     0.07007,    0.071071,\n",
              "          0.072072,    0.073073,    0.074074,    0.075075,    0.076076,    0.077077,    0.078078,    0.079079,     0.08008,    0.081081,    0.082082,    0.083083,    0.084084,    0.085085,    0.086086,    0.087087,    0.088088,    0.089089,     0.09009,    0.091091,    0.092092,    0.093093,    0.094094,    0.095095,\n",
              "          0.096096,    0.097097,    0.098098,    0.099099,      0.1001,      0.1011,      0.1021,      0.1031,      0.1041,     0.10511,     0.10611,     0.10711,     0.10811,     0.10911,     0.11011,     0.11111,     0.11211,     0.11311,     0.11411,     0.11512,     0.11612,     0.11712,     0.11812,     0.11912,\n",
              "           0.12012,     0.12112,     0.12212,     0.12312,     0.12412,     0.12513,     0.12613,     0.12713,     0.12813,     0.12913,     0.13013,     0.13113,     0.13213,     0.13313,     0.13413,     0.13514,     0.13614,     0.13714,     0.13814,     0.13914,     0.14014,     0.14114,     0.14214,     0.14314,\n",
              "           0.14414,     0.14515,     0.14615,     0.14715,     0.14815,     0.14915,     0.15015,     0.15115,     0.15215,     0.15315,     0.15415,     0.15516,     0.15616,     0.15716,     0.15816,     0.15916,     0.16016,     0.16116,     0.16216,     0.16316,     0.16416,     0.16517,     0.16617,     0.16717,\n",
              "           0.16817,     0.16917,     0.17017,     0.17117,     0.17217,     0.17317,     0.17417,     0.17518,     0.17618,     0.17718,     0.17818,     0.17918,     0.18018,     0.18118,     0.18218,     0.18318,     0.18418,     0.18519,     0.18619,     0.18719,     0.18819,     0.18919,     0.19019,     0.19119,\n",
              "           0.19219,     0.19319,     0.19419,      0.1952,      0.1962,      0.1972,      0.1982,      0.1992,      0.2002,      0.2012,      0.2022,      0.2032,      0.2042,     0.20521,     0.20621,     0.20721,     0.20821,     0.20921,     0.21021,     0.21121,     0.21221,     0.21321,     0.21421,     0.21522,\n",
              "           0.21622,     0.21722,     0.21822,     0.21922,     0.22022,     0.22122,     0.22222,     0.22322,     0.22422,     0.22523,     0.22623,     0.22723,     0.22823,     0.22923,     0.23023,     0.23123,     0.23223,     0.23323,     0.23423,     0.23524,     0.23624,     0.23724,     0.23824,     0.23924,\n",
              "           0.24024,     0.24124,     0.24224,     0.24324,     0.24424,     0.24525,     0.24625,     0.24725,     0.24825,     0.24925,     0.25025,     0.25125,     0.25225,     0.25325,     0.25425,     0.25526,     0.25626,     0.25726,     0.25826,     0.25926,     0.26026,     0.26126,     0.26226,     0.26326,\n",
              "           0.26426,     0.26527,     0.26627,     0.26727,     0.26827,     0.26927,     0.27027,     0.27127,     0.27227,     0.27327,     0.27427,     0.27528,     0.27628,     0.27728,     0.27828,     0.27928,     0.28028,     0.28128,     0.28228,     0.28328,     0.28428,     0.28529,     0.28629,     0.28729,\n",
              "           0.28829,     0.28929,     0.29029,     0.29129,     0.29229,     0.29329,     0.29429,      0.2953,      0.2963,      0.2973,      0.2983,      0.2993,      0.3003,      0.3013,      0.3023,      0.3033,      0.3043,     0.30531,     0.30631,     0.30731,     0.30831,     0.30931,     0.31031,     0.31131,\n",
              "           0.31231,     0.31331,     0.31431,     0.31532,     0.31632,     0.31732,     0.31832,     0.31932,     0.32032,     0.32132,     0.32232,     0.32332,     0.32432,     0.32533,     0.32633,     0.32733,     0.32833,     0.32933,     0.33033,     0.33133,     0.33233,     0.33333,     0.33433,     0.33534,\n",
              "           0.33634,     0.33734,     0.33834,     0.33934,     0.34034,     0.34134,     0.34234,     0.34334,     0.34434,     0.34535,     0.34635,     0.34735,     0.34835,     0.34935,     0.35035,     0.35135,     0.35235,     0.35335,     0.35435,     0.35536,     0.35636,     0.35736,     0.35836,     0.35936,\n",
              "           0.36036,     0.36136,     0.36236,     0.36336,     0.36436,     0.36537,     0.36637,     0.36737,     0.36837,     0.36937,     0.37037,     0.37137,     0.37237,     0.37337,     0.37437,     0.37538,     0.37638,     0.37738,     0.37838,     0.37938,     0.38038,     0.38138,     0.38238,     0.38338,\n",
              "           0.38438,     0.38539,     0.38639,     0.38739,     0.38839,     0.38939,     0.39039,     0.39139,     0.39239,     0.39339,     0.39439,      0.3954,      0.3964,      0.3974,      0.3984,      0.3994,      0.4004,      0.4014,      0.4024,      0.4034,      0.4044,     0.40541,     0.40641,     0.40741,\n",
              "           0.40841,     0.40941,     0.41041,     0.41141,     0.41241,     0.41341,     0.41441,     0.41542,     0.41642,     0.41742,     0.41842,     0.41942,     0.42042,     0.42142,     0.42242,     0.42342,     0.42442,     0.42543,     0.42643,     0.42743,     0.42843,     0.42943,     0.43043,     0.43143,\n",
              "           0.43243,     0.43343,     0.43443,     0.43544,     0.43644,     0.43744,     0.43844,     0.43944,     0.44044,     0.44144,     0.44244,     0.44344,     0.44444,     0.44545,     0.44645,     0.44745,     0.44845,     0.44945,     0.45045,     0.45145,     0.45245,     0.45345,     0.45445,     0.45546,\n",
              "           0.45646,     0.45746,     0.45846,     0.45946,     0.46046,     0.46146,     0.46246,     0.46346,     0.46446,     0.46547,     0.46647,     0.46747,     0.46847,     0.46947,     0.47047,     0.47147,     0.47247,     0.47347,     0.47447,     0.47548,     0.47648,     0.47748,     0.47848,     0.47948,\n",
              "           0.48048,     0.48148,     0.48248,     0.48348,     0.48448,     0.48549,     0.48649,     0.48749,     0.48849,     0.48949,     0.49049,     0.49149,     0.49249,     0.49349,     0.49449,      0.4955,      0.4965,      0.4975,      0.4985,      0.4995,      0.5005,      0.5015,      0.5025,      0.5035,\n",
              "            0.5045,     0.50551,     0.50651,     0.50751,     0.50851,     0.50951,     0.51051,     0.51151,     0.51251,     0.51351,     0.51451,     0.51552,     0.51652,     0.51752,     0.51852,     0.51952,     0.52052,     0.52152,     0.52252,     0.52352,     0.52452,     0.52553,     0.52653,     0.52753,\n",
              "           0.52853,     0.52953,     0.53053,     0.53153,     0.53253,     0.53353,     0.53453,     0.53554,     0.53654,     0.53754,     0.53854,     0.53954,     0.54054,     0.54154,     0.54254,     0.54354,     0.54454,     0.54555,     0.54655,     0.54755,     0.54855,     0.54955,     0.55055,     0.55155,\n",
              "           0.55255,     0.55355,     0.55455,     0.55556,     0.55656,     0.55756,     0.55856,     0.55956,     0.56056,     0.56156,     0.56256,     0.56356,     0.56456,     0.56557,     0.56657,     0.56757,     0.56857,     0.56957,     0.57057,     0.57157,     0.57257,     0.57357,     0.57457,     0.57558,\n",
              "           0.57658,     0.57758,     0.57858,     0.57958,     0.58058,     0.58158,     0.58258,     0.58358,     0.58458,     0.58559,     0.58659,     0.58759,     0.58859,     0.58959,     0.59059,     0.59159,     0.59259,     0.59359,     0.59459,      0.5956,      0.5966,      0.5976,      0.5986,      0.5996,\n",
              "            0.6006,      0.6016,      0.6026,      0.6036,      0.6046,     0.60561,     0.60661,     0.60761,     0.60861,     0.60961,     0.61061,     0.61161,     0.61261,     0.61361,     0.61461,     0.61562,     0.61662,     0.61762,     0.61862,     0.61962,     0.62062,     0.62162,     0.62262,     0.62362,\n",
              "           0.62462,     0.62563,     0.62663,     0.62763,     0.62863,     0.62963,     0.63063,     0.63163,     0.63263,     0.63363,     0.63463,     0.63564,     0.63664,     0.63764,     0.63864,     0.63964,     0.64064,     0.64164,     0.64264,     0.64364,     0.64464,     0.64565,     0.64665,     0.64765,\n",
              "           0.64865,     0.64965,     0.65065,     0.65165,     0.65265,     0.65365,     0.65465,     0.65566,     0.65666,     0.65766,     0.65866,     0.65966,     0.66066,     0.66166,     0.66266,     0.66366,     0.66466,     0.66567,     0.66667,     0.66767,     0.66867,     0.66967,     0.67067,     0.67167,\n",
              "           0.67267,     0.67367,     0.67467,     0.67568,     0.67668,     0.67768,     0.67868,     0.67968,     0.68068,     0.68168,     0.68268,     0.68368,     0.68468,     0.68569,     0.68669,     0.68769,     0.68869,     0.68969,     0.69069,     0.69169,     0.69269,     0.69369,     0.69469,      0.6957,\n",
              "            0.6967,      0.6977,      0.6987,      0.6997,      0.7007,      0.7017,      0.7027,      0.7037,      0.7047,     0.70571,     0.70671,     0.70771,     0.70871,     0.70971,     0.71071,     0.71171,     0.71271,     0.71371,     0.71471,     0.71572,     0.71672,     0.71772,     0.71872,     0.71972,\n",
              "           0.72072,     0.72172,     0.72272,     0.72372,     0.72472,     0.72573,     0.72673,     0.72773,     0.72873,     0.72973,     0.73073,     0.73173,     0.73273,     0.73373,     0.73473,     0.73574,     0.73674,     0.73774,     0.73874,     0.73974,     0.74074,     0.74174,     0.74274,     0.74374,\n",
              "           0.74474,     0.74575,     0.74675,     0.74775,     0.74875,     0.74975,     0.75075,     0.75175,     0.75275,     0.75375,     0.75475,     0.75576,     0.75676,     0.75776,     0.75876,     0.75976,     0.76076,     0.76176,     0.76276,     0.76376,     0.76476,     0.76577,     0.76677,     0.76777,\n",
              "           0.76877,     0.76977,     0.77077,     0.77177,     0.77277,     0.77377,     0.77477,     0.77578,     0.77678,     0.77778,     0.77878,     0.77978,     0.78078,     0.78178,     0.78278,     0.78378,     0.78478,     0.78579,     0.78679,     0.78779,     0.78879,     0.78979,     0.79079,     0.79179,\n",
              "           0.79279,     0.79379,     0.79479,      0.7958,      0.7968,      0.7978,      0.7988,      0.7998,      0.8008,      0.8018,      0.8028,      0.8038,      0.8048,     0.80581,     0.80681,     0.80781,     0.80881,     0.80981,     0.81081,     0.81181,     0.81281,     0.81381,     0.81481,     0.81582,\n",
              "           0.81682,     0.81782,     0.81882,     0.81982,     0.82082,     0.82182,     0.82282,     0.82382,     0.82482,     0.82583,     0.82683,     0.82783,     0.82883,     0.82983,     0.83083,     0.83183,     0.83283,     0.83383,     0.83483,     0.83584,     0.83684,     0.83784,     0.83884,     0.83984,\n",
              "           0.84084,     0.84184,     0.84284,     0.84384,     0.84484,     0.84585,     0.84685,     0.84785,     0.84885,     0.84985,     0.85085,     0.85185,     0.85285,     0.85385,     0.85485,     0.85586,     0.85686,     0.85786,     0.85886,     0.85986,     0.86086,     0.86186,     0.86286,     0.86386,\n",
              "           0.86486,     0.86587,     0.86687,     0.86787,     0.86887,     0.86987,     0.87087,     0.87187,     0.87287,     0.87387,     0.87487,     0.87588,     0.87688,     0.87788,     0.87888,     0.87988,     0.88088,     0.88188,     0.88288,     0.88388,     0.88488,     0.88589,     0.88689,     0.88789,\n",
              "           0.88889,     0.88989,     0.89089,     0.89189,     0.89289,     0.89389,     0.89489,      0.8959,      0.8969,      0.8979,      0.8989,      0.8999,      0.9009,      0.9019,      0.9029,      0.9039,      0.9049,     0.90591,     0.90691,     0.90791,     0.90891,     0.90991,     0.91091,     0.91191,\n",
              "           0.91291,     0.91391,     0.91491,     0.91592,     0.91692,     0.91792,     0.91892,     0.91992,     0.92092,     0.92192,     0.92292,     0.92392,     0.92492,     0.92593,     0.92693,     0.92793,     0.92893,     0.92993,     0.93093,     0.93193,     0.93293,     0.93393,     0.93493,     0.93594,\n",
              "           0.93694,     0.93794,     0.93894,     0.93994,     0.94094,     0.94194,     0.94294,     0.94394,     0.94494,     0.94595,     0.94695,     0.94795,     0.94895,     0.94995,     0.95095,     0.95195,     0.95295,     0.95395,     0.95495,     0.95596,     0.95696,     0.95796,     0.95896,     0.95996,\n",
              "           0.96096,     0.96196,     0.96296,     0.96396,     0.96496,     0.96597,     0.96697,     0.96797,     0.96897,     0.96997,     0.97097,     0.97197,     0.97297,     0.97397,     0.97497,     0.97598,     0.97698,     0.97798,     0.97898,     0.97998,     0.98098,     0.98198,     0.98298,     0.98398,\n",
              "           0.98498,     0.98599,     0.98699,     0.98799,     0.98899,     0.98999,     0.99099,     0.99199,     0.99299,     0.99399,     0.99499,       0.996,       0.997,       0.998,       0.999,           1]), array([[    0.44733,     0.44733,     0.58482, ...,           0,           0,           0],\n",
              "       [    0.46244,     0.46244,     0.58051, ...,           0,           0,           0],\n",
              "       [    0.40054,     0.40054,     0.54257, ...,           0,           0,           0],\n",
              "       ...,\n",
              "       [    0.35145,     0.35145,     0.46407, ...,           0,           0,           0],\n",
              "       [    0.38152,     0.38152,     0.52765, ...,           0,           0,           0],\n",
              "       [    0.36364,     0.36364,     0.43151, ...,     0.30876,     0.29067,           0]]), 'Confidence', 'F1'], [array([          0,    0.001001,    0.002002,    0.003003,    0.004004,    0.005005,    0.006006,    0.007007,    0.008008,    0.009009,     0.01001,    0.011011,    0.012012,    0.013013,    0.014014,    0.015015,    0.016016,    0.017017,    0.018018,    0.019019,     0.02002,    0.021021,    0.022022,    0.023023,\n",
              "          0.024024,    0.025025,    0.026026,    0.027027,    0.028028,    0.029029,     0.03003,    0.031031,    0.032032,    0.033033,    0.034034,    0.035035,    0.036036,    0.037037,    0.038038,    0.039039,     0.04004,    0.041041,    0.042042,    0.043043,    0.044044,    0.045045,    0.046046,    0.047047,\n",
              "          0.048048,    0.049049,     0.05005,    0.051051,    0.052052,    0.053053,    0.054054,    0.055055,    0.056056,    0.057057,    0.058058,    0.059059,     0.06006,    0.061061,    0.062062,    0.063063,    0.064064,    0.065065,    0.066066,    0.067067,    0.068068,    0.069069,     0.07007,    0.071071,\n",
              "          0.072072,    0.073073,    0.074074,    0.075075,    0.076076,    0.077077,    0.078078,    0.079079,     0.08008,    0.081081,    0.082082,    0.083083,    0.084084,    0.085085,    0.086086,    0.087087,    0.088088,    0.089089,     0.09009,    0.091091,    0.092092,    0.093093,    0.094094,    0.095095,\n",
              "          0.096096,    0.097097,    0.098098,    0.099099,      0.1001,      0.1011,      0.1021,      0.1031,      0.1041,     0.10511,     0.10611,     0.10711,     0.10811,     0.10911,     0.11011,     0.11111,     0.11211,     0.11311,     0.11411,     0.11512,     0.11612,     0.11712,     0.11812,     0.11912,\n",
              "           0.12012,     0.12112,     0.12212,     0.12312,     0.12412,     0.12513,     0.12613,     0.12713,     0.12813,     0.12913,     0.13013,     0.13113,     0.13213,     0.13313,     0.13413,     0.13514,     0.13614,     0.13714,     0.13814,     0.13914,     0.14014,     0.14114,     0.14214,     0.14314,\n",
              "           0.14414,     0.14515,     0.14615,     0.14715,     0.14815,     0.14915,     0.15015,     0.15115,     0.15215,     0.15315,     0.15415,     0.15516,     0.15616,     0.15716,     0.15816,     0.15916,     0.16016,     0.16116,     0.16216,     0.16316,     0.16416,     0.16517,     0.16617,     0.16717,\n",
              "           0.16817,     0.16917,     0.17017,     0.17117,     0.17217,     0.17317,     0.17417,     0.17518,     0.17618,     0.17718,     0.17818,     0.17918,     0.18018,     0.18118,     0.18218,     0.18318,     0.18418,     0.18519,     0.18619,     0.18719,     0.18819,     0.18919,     0.19019,     0.19119,\n",
              "           0.19219,     0.19319,     0.19419,      0.1952,      0.1962,      0.1972,      0.1982,      0.1992,      0.2002,      0.2012,      0.2022,      0.2032,      0.2042,     0.20521,     0.20621,     0.20721,     0.20821,     0.20921,     0.21021,     0.21121,     0.21221,     0.21321,     0.21421,     0.21522,\n",
              "           0.21622,     0.21722,     0.21822,     0.21922,     0.22022,     0.22122,     0.22222,     0.22322,     0.22422,     0.22523,     0.22623,     0.22723,     0.22823,     0.22923,     0.23023,     0.23123,     0.23223,     0.23323,     0.23423,     0.23524,     0.23624,     0.23724,     0.23824,     0.23924,\n",
              "           0.24024,     0.24124,     0.24224,     0.24324,     0.24424,     0.24525,     0.24625,     0.24725,     0.24825,     0.24925,     0.25025,     0.25125,     0.25225,     0.25325,     0.25425,     0.25526,     0.25626,     0.25726,     0.25826,     0.25926,     0.26026,     0.26126,     0.26226,     0.26326,\n",
              "           0.26426,     0.26527,     0.26627,     0.26727,     0.26827,     0.26927,     0.27027,     0.27127,     0.27227,     0.27327,     0.27427,     0.27528,     0.27628,     0.27728,     0.27828,     0.27928,     0.28028,     0.28128,     0.28228,     0.28328,     0.28428,     0.28529,     0.28629,     0.28729,\n",
              "           0.28829,     0.28929,     0.29029,     0.29129,     0.29229,     0.29329,     0.29429,      0.2953,      0.2963,      0.2973,      0.2983,      0.2993,      0.3003,      0.3013,      0.3023,      0.3033,      0.3043,     0.30531,     0.30631,     0.30731,     0.30831,     0.30931,     0.31031,     0.31131,\n",
              "           0.31231,     0.31331,     0.31431,     0.31532,     0.31632,     0.31732,     0.31832,     0.31932,     0.32032,     0.32132,     0.32232,     0.32332,     0.32432,     0.32533,     0.32633,     0.32733,     0.32833,     0.32933,     0.33033,     0.33133,     0.33233,     0.33333,     0.33433,     0.33534,\n",
              "           0.33634,     0.33734,     0.33834,     0.33934,     0.34034,     0.34134,     0.34234,     0.34334,     0.34434,     0.34535,     0.34635,     0.34735,     0.34835,     0.34935,     0.35035,     0.35135,     0.35235,     0.35335,     0.35435,     0.35536,     0.35636,     0.35736,     0.35836,     0.35936,\n",
              "           0.36036,     0.36136,     0.36236,     0.36336,     0.36436,     0.36537,     0.36637,     0.36737,     0.36837,     0.36937,     0.37037,     0.37137,     0.37237,     0.37337,     0.37437,     0.37538,     0.37638,     0.37738,     0.37838,     0.37938,     0.38038,     0.38138,     0.38238,     0.38338,\n",
              "           0.38438,     0.38539,     0.38639,     0.38739,     0.38839,     0.38939,     0.39039,     0.39139,     0.39239,     0.39339,     0.39439,      0.3954,      0.3964,      0.3974,      0.3984,      0.3994,      0.4004,      0.4014,      0.4024,      0.4034,      0.4044,     0.40541,     0.40641,     0.40741,\n",
              "           0.40841,     0.40941,     0.41041,     0.41141,     0.41241,     0.41341,     0.41441,     0.41542,     0.41642,     0.41742,     0.41842,     0.41942,     0.42042,     0.42142,     0.42242,     0.42342,     0.42442,     0.42543,     0.42643,     0.42743,     0.42843,     0.42943,     0.43043,     0.43143,\n",
              "           0.43243,     0.43343,     0.43443,     0.43544,     0.43644,     0.43744,     0.43844,     0.43944,     0.44044,     0.44144,     0.44244,     0.44344,     0.44444,     0.44545,     0.44645,     0.44745,     0.44845,     0.44945,     0.45045,     0.45145,     0.45245,     0.45345,     0.45445,     0.45546,\n",
              "           0.45646,     0.45746,     0.45846,     0.45946,     0.46046,     0.46146,     0.46246,     0.46346,     0.46446,     0.46547,     0.46647,     0.46747,     0.46847,     0.46947,     0.47047,     0.47147,     0.47247,     0.47347,     0.47447,     0.47548,     0.47648,     0.47748,     0.47848,     0.47948,\n",
              "           0.48048,     0.48148,     0.48248,     0.48348,     0.48448,     0.48549,     0.48649,     0.48749,     0.48849,     0.48949,     0.49049,     0.49149,     0.49249,     0.49349,     0.49449,      0.4955,      0.4965,      0.4975,      0.4985,      0.4995,      0.5005,      0.5015,      0.5025,      0.5035,\n",
              "            0.5045,     0.50551,     0.50651,     0.50751,     0.50851,     0.50951,     0.51051,     0.51151,     0.51251,     0.51351,     0.51451,     0.51552,     0.51652,     0.51752,     0.51852,     0.51952,     0.52052,     0.52152,     0.52252,     0.52352,     0.52452,     0.52553,     0.52653,     0.52753,\n",
              "           0.52853,     0.52953,     0.53053,     0.53153,     0.53253,     0.53353,     0.53453,     0.53554,     0.53654,     0.53754,     0.53854,     0.53954,     0.54054,     0.54154,     0.54254,     0.54354,     0.54454,     0.54555,     0.54655,     0.54755,     0.54855,     0.54955,     0.55055,     0.55155,\n",
              "           0.55255,     0.55355,     0.55455,     0.55556,     0.55656,     0.55756,     0.55856,     0.55956,     0.56056,     0.56156,     0.56256,     0.56356,     0.56456,     0.56557,     0.56657,     0.56757,     0.56857,     0.56957,     0.57057,     0.57157,     0.57257,     0.57357,     0.57457,     0.57558,\n",
              "           0.57658,     0.57758,     0.57858,     0.57958,     0.58058,     0.58158,     0.58258,     0.58358,     0.58458,     0.58559,     0.58659,     0.58759,     0.58859,     0.58959,     0.59059,     0.59159,     0.59259,     0.59359,     0.59459,      0.5956,      0.5966,      0.5976,      0.5986,      0.5996,\n",
              "            0.6006,      0.6016,      0.6026,      0.6036,      0.6046,     0.60561,     0.60661,     0.60761,     0.60861,     0.60961,     0.61061,     0.61161,     0.61261,     0.61361,     0.61461,     0.61562,     0.61662,     0.61762,     0.61862,     0.61962,     0.62062,     0.62162,     0.62262,     0.62362,\n",
              "           0.62462,     0.62563,     0.62663,     0.62763,     0.62863,     0.62963,     0.63063,     0.63163,     0.63263,     0.63363,     0.63463,     0.63564,     0.63664,     0.63764,     0.63864,     0.63964,     0.64064,     0.64164,     0.64264,     0.64364,     0.64464,     0.64565,     0.64665,     0.64765,\n",
              "           0.64865,     0.64965,     0.65065,     0.65165,     0.65265,     0.65365,     0.65465,     0.65566,     0.65666,     0.65766,     0.65866,     0.65966,     0.66066,     0.66166,     0.66266,     0.66366,     0.66466,     0.66567,     0.66667,     0.66767,     0.66867,     0.66967,     0.67067,     0.67167,\n",
              "           0.67267,     0.67367,     0.67467,     0.67568,     0.67668,     0.67768,     0.67868,     0.67968,     0.68068,     0.68168,     0.68268,     0.68368,     0.68468,     0.68569,     0.68669,     0.68769,     0.68869,     0.68969,     0.69069,     0.69169,     0.69269,     0.69369,     0.69469,      0.6957,\n",
              "            0.6967,      0.6977,      0.6987,      0.6997,      0.7007,      0.7017,      0.7027,      0.7037,      0.7047,     0.70571,     0.70671,     0.70771,     0.70871,     0.70971,     0.71071,     0.71171,     0.71271,     0.71371,     0.71471,     0.71572,     0.71672,     0.71772,     0.71872,     0.71972,\n",
              "           0.72072,     0.72172,     0.72272,     0.72372,     0.72472,     0.72573,     0.72673,     0.72773,     0.72873,     0.72973,     0.73073,     0.73173,     0.73273,     0.73373,     0.73473,     0.73574,     0.73674,     0.73774,     0.73874,     0.73974,     0.74074,     0.74174,     0.74274,     0.74374,\n",
              "           0.74474,     0.74575,     0.74675,     0.74775,     0.74875,     0.74975,     0.75075,     0.75175,     0.75275,     0.75375,     0.75475,     0.75576,     0.75676,     0.75776,     0.75876,     0.75976,     0.76076,     0.76176,     0.76276,     0.76376,     0.76476,     0.76577,     0.76677,     0.76777,\n",
              "           0.76877,     0.76977,     0.77077,     0.77177,     0.77277,     0.77377,     0.77477,     0.77578,     0.77678,     0.77778,     0.77878,     0.77978,     0.78078,     0.78178,     0.78278,     0.78378,     0.78478,     0.78579,     0.78679,     0.78779,     0.78879,     0.78979,     0.79079,     0.79179,\n",
              "           0.79279,     0.79379,     0.79479,      0.7958,      0.7968,      0.7978,      0.7988,      0.7998,      0.8008,      0.8018,      0.8028,      0.8038,      0.8048,     0.80581,     0.80681,     0.80781,     0.80881,     0.80981,     0.81081,     0.81181,     0.81281,     0.81381,     0.81481,     0.81582,\n",
              "           0.81682,     0.81782,     0.81882,     0.81982,     0.82082,     0.82182,     0.82282,     0.82382,     0.82482,     0.82583,     0.82683,     0.82783,     0.82883,     0.82983,     0.83083,     0.83183,     0.83283,     0.83383,     0.83483,     0.83584,     0.83684,     0.83784,     0.83884,     0.83984,\n",
              "           0.84084,     0.84184,     0.84284,     0.84384,     0.84484,     0.84585,     0.84685,     0.84785,     0.84885,     0.84985,     0.85085,     0.85185,     0.85285,     0.85385,     0.85485,     0.85586,     0.85686,     0.85786,     0.85886,     0.85986,     0.86086,     0.86186,     0.86286,     0.86386,\n",
              "           0.86486,     0.86587,     0.86687,     0.86787,     0.86887,     0.86987,     0.87087,     0.87187,     0.87287,     0.87387,     0.87487,     0.87588,     0.87688,     0.87788,     0.87888,     0.87988,     0.88088,     0.88188,     0.88288,     0.88388,     0.88488,     0.88589,     0.88689,     0.88789,\n",
              "           0.88889,     0.88989,     0.89089,     0.89189,     0.89289,     0.89389,     0.89489,      0.8959,      0.8969,      0.8979,      0.8989,      0.8999,      0.9009,      0.9019,      0.9029,      0.9039,      0.9049,     0.90591,     0.90691,     0.90791,     0.90891,     0.90991,     0.91091,     0.91191,\n",
              "           0.91291,     0.91391,     0.91491,     0.91592,     0.91692,     0.91792,     0.91892,     0.91992,     0.92092,     0.92192,     0.92292,     0.92392,     0.92492,     0.92593,     0.92693,     0.92793,     0.92893,     0.92993,     0.93093,     0.93193,     0.93293,     0.93393,     0.93493,     0.93594,\n",
              "           0.93694,     0.93794,     0.93894,     0.93994,     0.94094,     0.94194,     0.94294,     0.94394,     0.94494,     0.94595,     0.94695,     0.94795,     0.94895,     0.94995,     0.95095,     0.95195,     0.95295,     0.95395,     0.95495,     0.95596,     0.95696,     0.95796,     0.95896,     0.95996,\n",
              "           0.96096,     0.96196,     0.96296,     0.96396,     0.96496,     0.96597,     0.96697,     0.96797,     0.96897,     0.96997,     0.97097,     0.97197,     0.97297,     0.97397,     0.97497,     0.97598,     0.97698,     0.97798,     0.97898,     0.97998,     0.98098,     0.98198,     0.98298,     0.98398,\n",
              "           0.98498,     0.98599,     0.98699,     0.98799,     0.98899,     0.98999,     0.99099,     0.99199,     0.99299,     0.99399,     0.99499,       0.996,       0.997,       0.998,       0.999,           1]), array([[    0.28811,     0.28811,     0.41325, ...,           1,           1,           1],\n",
              "       [    0.30077,     0.30077,     0.40896, ...,           1,           1,           1],\n",
              "       [    0.25042,     0.25042,     0.37228, ...,           1,           1,           1],\n",
              "       ...,\n",
              "       [    0.21318,     0.21318,     0.30214, ...,           1,           1,           1],\n",
              "       [    0.23572,     0.23572,     0.35837, ...,           1,           1,           1],\n",
              "       [    0.22222,     0.22222,     0.27511, ...,           1,           1,           1]]), 'Confidence', 'Precision'], [array([          0,    0.001001,    0.002002,    0.003003,    0.004004,    0.005005,    0.006006,    0.007007,    0.008008,    0.009009,     0.01001,    0.011011,    0.012012,    0.013013,    0.014014,    0.015015,    0.016016,    0.017017,    0.018018,    0.019019,     0.02002,    0.021021,    0.022022,    0.023023,\n",
              "          0.024024,    0.025025,    0.026026,    0.027027,    0.028028,    0.029029,     0.03003,    0.031031,    0.032032,    0.033033,    0.034034,    0.035035,    0.036036,    0.037037,    0.038038,    0.039039,     0.04004,    0.041041,    0.042042,    0.043043,    0.044044,    0.045045,    0.046046,    0.047047,\n",
              "          0.048048,    0.049049,     0.05005,    0.051051,    0.052052,    0.053053,    0.054054,    0.055055,    0.056056,    0.057057,    0.058058,    0.059059,     0.06006,    0.061061,    0.062062,    0.063063,    0.064064,    0.065065,    0.066066,    0.067067,    0.068068,    0.069069,     0.07007,    0.071071,\n",
              "          0.072072,    0.073073,    0.074074,    0.075075,    0.076076,    0.077077,    0.078078,    0.079079,     0.08008,    0.081081,    0.082082,    0.083083,    0.084084,    0.085085,    0.086086,    0.087087,    0.088088,    0.089089,     0.09009,    0.091091,    0.092092,    0.093093,    0.094094,    0.095095,\n",
              "          0.096096,    0.097097,    0.098098,    0.099099,      0.1001,      0.1011,      0.1021,      0.1031,      0.1041,     0.10511,     0.10611,     0.10711,     0.10811,     0.10911,     0.11011,     0.11111,     0.11211,     0.11311,     0.11411,     0.11512,     0.11612,     0.11712,     0.11812,     0.11912,\n",
              "           0.12012,     0.12112,     0.12212,     0.12312,     0.12412,     0.12513,     0.12613,     0.12713,     0.12813,     0.12913,     0.13013,     0.13113,     0.13213,     0.13313,     0.13413,     0.13514,     0.13614,     0.13714,     0.13814,     0.13914,     0.14014,     0.14114,     0.14214,     0.14314,\n",
              "           0.14414,     0.14515,     0.14615,     0.14715,     0.14815,     0.14915,     0.15015,     0.15115,     0.15215,     0.15315,     0.15415,     0.15516,     0.15616,     0.15716,     0.15816,     0.15916,     0.16016,     0.16116,     0.16216,     0.16316,     0.16416,     0.16517,     0.16617,     0.16717,\n",
              "           0.16817,     0.16917,     0.17017,     0.17117,     0.17217,     0.17317,     0.17417,     0.17518,     0.17618,     0.17718,     0.17818,     0.17918,     0.18018,     0.18118,     0.18218,     0.18318,     0.18418,     0.18519,     0.18619,     0.18719,     0.18819,     0.18919,     0.19019,     0.19119,\n",
              "           0.19219,     0.19319,     0.19419,      0.1952,      0.1962,      0.1972,      0.1982,      0.1992,      0.2002,      0.2012,      0.2022,      0.2032,      0.2042,     0.20521,     0.20621,     0.20721,     0.20821,     0.20921,     0.21021,     0.21121,     0.21221,     0.21321,     0.21421,     0.21522,\n",
              "           0.21622,     0.21722,     0.21822,     0.21922,     0.22022,     0.22122,     0.22222,     0.22322,     0.22422,     0.22523,     0.22623,     0.22723,     0.22823,     0.22923,     0.23023,     0.23123,     0.23223,     0.23323,     0.23423,     0.23524,     0.23624,     0.23724,     0.23824,     0.23924,\n",
              "           0.24024,     0.24124,     0.24224,     0.24324,     0.24424,     0.24525,     0.24625,     0.24725,     0.24825,     0.24925,     0.25025,     0.25125,     0.25225,     0.25325,     0.25425,     0.25526,     0.25626,     0.25726,     0.25826,     0.25926,     0.26026,     0.26126,     0.26226,     0.26326,\n",
              "           0.26426,     0.26527,     0.26627,     0.26727,     0.26827,     0.26927,     0.27027,     0.27127,     0.27227,     0.27327,     0.27427,     0.27528,     0.27628,     0.27728,     0.27828,     0.27928,     0.28028,     0.28128,     0.28228,     0.28328,     0.28428,     0.28529,     0.28629,     0.28729,\n",
              "           0.28829,     0.28929,     0.29029,     0.29129,     0.29229,     0.29329,     0.29429,      0.2953,      0.2963,      0.2973,      0.2983,      0.2993,      0.3003,      0.3013,      0.3023,      0.3033,      0.3043,     0.30531,     0.30631,     0.30731,     0.30831,     0.30931,     0.31031,     0.31131,\n",
              "           0.31231,     0.31331,     0.31431,     0.31532,     0.31632,     0.31732,     0.31832,     0.31932,     0.32032,     0.32132,     0.32232,     0.32332,     0.32432,     0.32533,     0.32633,     0.32733,     0.32833,     0.32933,     0.33033,     0.33133,     0.33233,     0.33333,     0.33433,     0.33534,\n",
              "           0.33634,     0.33734,     0.33834,     0.33934,     0.34034,     0.34134,     0.34234,     0.34334,     0.34434,     0.34535,     0.34635,     0.34735,     0.34835,     0.34935,     0.35035,     0.35135,     0.35235,     0.35335,     0.35435,     0.35536,     0.35636,     0.35736,     0.35836,     0.35936,\n",
              "           0.36036,     0.36136,     0.36236,     0.36336,     0.36436,     0.36537,     0.36637,     0.36737,     0.36837,     0.36937,     0.37037,     0.37137,     0.37237,     0.37337,     0.37437,     0.37538,     0.37638,     0.37738,     0.37838,     0.37938,     0.38038,     0.38138,     0.38238,     0.38338,\n",
              "           0.38438,     0.38539,     0.38639,     0.38739,     0.38839,     0.38939,     0.39039,     0.39139,     0.39239,     0.39339,     0.39439,      0.3954,      0.3964,      0.3974,      0.3984,      0.3994,      0.4004,      0.4014,      0.4024,      0.4034,      0.4044,     0.40541,     0.40641,     0.40741,\n",
              "           0.40841,     0.40941,     0.41041,     0.41141,     0.41241,     0.41341,     0.41441,     0.41542,     0.41642,     0.41742,     0.41842,     0.41942,     0.42042,     0.42142,     0.42242,     0.42342,     0.42442,     0.42543,     0.42643,     0.42743,     0.42843,     0.42943,     0.43043,     0.43143,\n",
              "           0.43243,     0.43343,     0.43443,     0.43544,     0.43644,     0.43744,     0.43844,     0.43944,     0.44044,     0.44144,     0.44244,     0.44344,     0.44444,     0.44545,     0.44645,     0.44745,     0.44845,     0.44945,     0.45045,     0.45145,     0.45245,     0.45345,     0.45445,     0.45546,\n",
              "           0.45646,     0.45746,     0.45846,     0.45946,     0.46046,     0.46146,     0.46246,     0.46346,     0.46446,     0.46547,     0.46647,     0.46747,     0.46847,     0.46947,     0.47047,     0.47147,     0.47247,     0.47347,     0.47447,     0.47548,     0.47648,     0.47748,     0.47848,     0.47948,\n",
              "           0.48048,     0.48148,     0.48248,     0.48348,     0.48448,     0.48549,     0.48649,     0.48749,     0.48849,     0.48949,     0.49049,     0.49149,     0.49249,     0.49349,     0.49449,      0.4955,      0.4965,      0.4975,      0.4985,      0.4995,      0.5005,      0.5015,      0.5025,      0.5035,\n",
              "            0.5045,     0.50551,     0.50651,     0.50751,     0.50851,     0.50951,     0.51051,     0.51151,     0.51251,     0.51351,     0.51451,     0.51552,     0.51652,     0.51752,     0.51852,     0.51952,     0.52052,     0.52152,     0.52252,     0.52352,     0.52452,     0.52553,     0.52653,     0.52753,\n",
              "           0.52853,     0.52953,     0.53053,     0.53153,     0.53253,     0.53353,     0.53453,     0.53554,     0.53654,     0.53754,     0.53854,     0.53954,     0.54054,     0.54154,     0.54254,     0.54354,     0.54454,     0.54555,     0.54655,     0.54755,     0.54855,     0.54955,     0.55055,     0.55155,\n",
              "           0.55255,     0.55355,     0.55455,     0.55556,     0.55656,     0.55756,     0.55856,     0.55956,     0.56056,     0.56156,     0.56256,     0.56356,     0.56456,     0.56557,     0.56657,     0.56757,     0.56857,     0.56957,     0.57057,     0.57157,     0.57257,     0.57357,     0.57457,     0.57558,\n",
              "           0.57658,     0.57758,     0.57858,     0.57958,     0.58058,     0.58158,     0.58258,     0.58358,     0.58458,     0.58559,     0.58659,     0.58759,     0.58859,     0.58959,     0.59059,     0.59159,     0.59259,     0.59359,     0.59459,      0.5956,      0.5966,      0.5976,      0.5986,      0.5996,\n",
              "            0.6006,      0.6016,      0.6026,      0.6036,      0.6046,     0.60561,     0.60661,     0.60761,     0.60861,     0.60961,     0.61061,     0.61161,     0.61261,     0.61361,     0.61461,     0.61562,     0.61662,     0.61762,     0.61862,     0.61962,     0.62062,     0.62162,     0.62262,     0.62362,\n",
              "           0.62462,     0.62563,     0.62663,     0.62763,     0.62863,     0.62963,     0.63063,     0.63163,     0.63263,     0.63363,     0.63463,     0.63564,     0.63664,     0.63764,     0.63864,     0.63964,     0.64064,     0.64164,     0.64264,     0.64364,     0.64464,     0.64565,     0.64665,     0.64765,\n",
              "           0.64865,     0.64965,     0.65065,     0.65165,     0.65265,     0.65365,     0.65465,     0.65566,     0.65666,     0.65766,     0.65866,     0.65966,     0.66066,     0.66166,     0.66266,     0.66366,     0.66466,     0.66567,     0.66667,     0.66767,     0.66867,     0.66967,     0.67067,     0.67167,\n",
              "           0.67267,     0.67367,     0.67467,     0.67568,     0.67668,     0.67768,     0.67868,     0.67968,     0.68068,     0.68168,     0.68268,     0.68368,     0.68468,     0.68569,     0.68669,     0.68769,     0.68869,     0.68969,     0.69069,     0.69169,     0.69269,     0.69369,     0.69469,      0.6957,\n",
              "            0.6967,      0.6977,      0.6987,      0.6997,      0.7007,      0.7017,      0.7027,      0.7037,      0.7047,     0.70571,     0.70671,     0.70771,     0.70871,     0.70971,     0.71071,     0.71171,     0.71271,     0.71371,     0.71471,     0.71572,     0.71672,     0.71772,     0.71872,     0.71972,\n",
              "           0.72072,     0.72172,     0.72272,     0.72372,     0.72472,     0.72573,     0.72673,     0.72773,     0.72873,     0.72973,     0.73073,     0.73173,     0.73273,     0.73373,     0.73473,     0.73574,     0.73674,     0.73774,     0.73874,     0.73974,     0.74074,     0.74174,     0.74274,     0.74374,\n",
              "           0.74474,     0.74575,     0.74675,     0.74775,     0.74875,     0.74975,     0.75075,     0.75175,     0.75275,     0.75375,     0.75475,     0.75576,     0.75676,     0.75776,     0.75876,     0.75976,     0.76076,     0.76176,     0.76276,     0.76376,     0.76476,     0.76577,     0.76677,     0.76777,\n",
              "           0.76877,     0.76977,     0.77077,     0.77177,     0.77277,     0.77377,     0.77477,     0.77578,     0.77678,     0.77778,     0.77878,     0.77978,     0.78078,     0.78178,     0.78278,     0.78378,     0.78478,     0.78579,     0.78679,     0.78779,     0.78879,     0.78979,     0.79079,     0.79179,\n",
              "           0.79279,     0.79379,     0.79479,      0.7958,      0.7968,      0.7978,      0.7988,      0.7998,      0.8008,      0.8018,      0.8028,      0.8038,      0.8048,     0.80581,     0.80681,     0.80781,     0.80881,     0.80981,     0.81081,     0.81181,     0.81281,     0.81381,     0.81481,     0.81582,\n",
              "           0.81682,     0.81782,     0.81882,     0.81982,     0.82082,     0.82182,     0.82282,     0.82382,     0.82482,     0.82583,     0.82683,     0.82783,     0.82883,     0.82983,     0.83083,     0.83183,     0.83283,     0.83383,     0.83483,     0.83584,     0.83684,     0.83784,     0.83884,     0.83984,\n",
              "           0.84084,     0.84184,     0.84284,     0.84384,     0.84484,     0.84585,     0.84685,     0.84785,     0.84885,     0.84985,     0.85085,     0.85185,     0.85285,     0.85385,     0.85485,     0.85586,     0.85686,     0.85786,     0.85886,     0.85986,     0.86086,     0.86186,     0.86286,     0.86386,\n",
              "           0.86486,     0.86587,     0.86687,     0.86787,     0.86887,     0.86987,     0.87087,     0.87187,     0.87287,     0.87387,     0.87487,     0.87588,     0.87688,     0.87788,     0.87888,     0.87988,     0.88088,     0.88188,     0.88288,     0.88388,     0.88488,     0.88589,     0.88689,     0.88789,\n",
              "           0.88889,     0.88989,     0.89089,     0.89189,     0.89289,     0.89389,     0.89489,      0.8959,      0.8969,      0.8979,      0.8989,      0.8999,      0.9009,      0.9019,      0.9029,      0.9039,      0.9049,     0.90591,     0.90691,     0.90791,     0.90891,     0.90991,     0.91091,     0.91191,\n",
              "           0.91291,     0.91391,     0.91491,     0.91592,     0.91692,     0.91792,     0.91892,     0.91992,     0.92092,     0.92192,     0.92292,     0.92392,     0.92492,     0.92593,     0.92693,     0.92793,     0.92893,     0.92993,     0.93093,     0.93193,     0.93293,     0.93393,     0.93493,     0.93594,\n",
              "           0.93694,     0.93794,     0.93894,     0.93994,     0.94094,     0.94194,     0.94294,     0.94394,     0.94494,     0.94595,     0.94695,     0.94795,     0.94895,     0.94995,     0.95095,     0.95195,     0.95295,     0.95395,     0.95495,     0.95596,     0.95696,     0.95796,     0.95896,     0.95996,\n",
              "           0.96096,     0.96196,     0.96296,     0.96396,     0.96496,     0.96597,     0.96697,     0.96797,     0.96897,     0.96997,     0.97097,     0.97197,     0.97297,     0.97397,     0.97497,     0.97598,     0.97698,     0.97798,     0.97898,     0.97998,     0.98098,     0.98198,     0.98298,     0.98398,\n",
              "           0.98498,     0.98599,     0.98699,     0.98799,     0.98899,     0.98999,     0.99099,     0.99199,     0.99299,     0.99399,     0.99499,       0.996,       0.997,       0.998,       0.999,           1]), array([[          1,           1,           1, ...,           0,           0,           0],\n",
              "       [          1,           1,           1, ...,           0,           0,           0],\n",
              "       [          1,           1,           1, ...,           0,           0,           0],\n",
              "       ...,\n",
              "       [          1,           1,           1, ...,           0,           0,           0],\n",
              "       [          1,           1,           1, ...,           0,           0,           0],\n",
              "       [          1,           1,           1, ...,     0.18256,     0.17005,           0]]), 'Confidence', 'Recall']]\n",
              "fitness: np.float64(0.9704423834388816)\n",
              "keys: ['metrics/precision(B)', 'metrics/recall(B)', 'metrics/mAP50(B)', 'metrics/mAP50-95(B)']\n",
              "maps: array([     0.9718,       0.974,     0.98437,     0.98137,     0.99052,      0.9795,      0.9815,     0.98281,      0.9801,     0.98017,     0.97986,     0.98118,     0.96758,     0.96058,     0.97547,     0.97954,      0.9676,     0.97133,     0.98208,     0.97534,     0.98228,     0.98001,     0.97837,     0.97708,\n",
              "           0.97401,     0.95015,     0.97299,     0.96915,     0.98161,     0.97249,     0.97854,     0.96982,     0.98226,     0.96869,     0.97942,     0.97929,     0.96599,     0.97334,     0.97156,     0.95343,     0.97153,     0.96104,     0.97605,     0.95587,     0.92706,     0.97576,     0.97152,     0.96994,\n",
              "           0.98076,     0.98009,     0.95728,      0.9882,     0.67448])\n",
              "names: {0: '10C', 1: '10D', 2: '10H', 3: '10S', 4: '2C', 5: '2D', 6: '2H', 7: '2S', 8: '3C', 9: '3D', 10: '3H', 11: '3S', 12: '4C', 13: '4D', 14: '4H', 15: '4S', 16: '5C', 17: '5D', 18: '5H', 19: '5S', 20: '6C', 21: '6D', 22: '6H', 23: '6S', 24: '7C', 25: '7D', 26: '7H', 27: '7S', 28: '8C', 29: '8D', 30: '8H', 31: '8S', 32: '9C', 33: '9D', 34: '9H', 35: '9S', 36: 'AC', 37: 'AD', 38: 'AH', 39: 'AS', 40: 'JC', 41: 'JD', 42: 'JH', 43: 'JS', 44: 'KC', 45: 'KD', 46: 'KH', 47: 'KS', 48: 'QC', 49: 'QD', 50: 'QH', 51: 'QS', 52: 'joker'}\n",
              "plot: True\n",
              "results_dict: {'metrics/precision(B)': np.float64(0.9978329079535444), 'metrics/recall(B)': np.float64(0.9897455987738386), 'metrics/mAP50(B)': np.float64(0.9936487085878056), 'metrics/mAP50-95(B)': np.float64(0.9678639028667789), 'fitness': np.float64(0.9704423834388816)}\n",
              "save_dir: PosixPath('runs/detect/playing_cards_yolov82')\n",
              "speed: {'preprocess': 0.6834028132674551, 'inference': 3.788608525010898, 'loss': 0.0009185814773028466, 'postprocess': 1.4178561461121195}\n",
              "task: 'detect'"
            ]
          },
          "metadata": {},
          "execution_count": 10
        }
      ]
    },
    {
      "cell_type": "code",
      "source": [
        "results = model.predict(\n",
        "    source=\"/content/Playing-Cards-2/test/images\",\n",
        "    save=True\n",
        ")"
      ],
      "metadata": {
        "colab": {
          "base_uri": "https://localhost:8080/"
        },
        "id": "ICAc0RnKrfrV",
        "outputId": "7ac8d51a-b4a3-444f-be08-38293623db87"
      },
      "execution_count": null,
      "outputs": [
        {
          "output_type": "stream",
          "name": "stdout",
          "text": [
            "\n",
            "image 1/803 /content/Playing-Cards-2/test/images/001771721_jpg.rf.108a310eedbf5c9bacf2216820c3f225.jpg: 640x640 2 7Ss, 1 8S, 1 AH, 7.7ms\n",
            "image 2/803 /content/Playing-Cards-2/test/images/002352486_jpg.rf.07dd8b02062afc5f0ef699c25bc737c1.jpg: 640x640 2 9Cs, 1 AD, 1 KS, 7.5ms\n",
            "image 3/803 /content/Playing-Cards-2/test/images/003123257_jpg.rf.8dfdeb5e3ee0876bcd84a42775c57b34.jpg: 640x640 2 3Cs, 1 6H, 1 8H, 7.5ms\n",
            "image 4/803 /content/Playing-Cards-2/test/images/004452289_jpg.rf.53bedd1bea71edbc164c064e05cf47bf.jpg: 640x640 1 2C, 1 7H, 2 9Ds, 7.5ms\n",
            "image 5/803 /content/Playing-Cards-2/test/images/004843130_jpg.rf.31dbc4d062da77d0c3b32b6900fc5df0.jpg: 640x640 1 4H, 1 6D, 2 QDs, 7.5ms\n",
            "image 6/803 /content/Playing-Cards-2/test/images/006016179_jpg.rf.f23f603adb7c66b3e0ff61ffb1237b81.jpg: 640x640 1 4D, 1 7D, 2 7Hs, 7.5ms\n",
            "image 7/803 /content/Playing-Cards-2/test/images/006828683_jpg.rf.ece5a065cef0831f2a8d2b5b1f0ded1e.jpg: 640x640 1 2C, 2 9Ss, 1 KD, 7.5ms\n",
            "image 8/803 /content/Playing-Cards-2/test/images/007044536_jpg.rf.aa9e778b19e597c3cabd2ac9454b0533.jpg: 640x640 1 QC, 1 QH, 2 QSs, 7.5ms\n",
            "image 9/803 /content/Playing-Cards-2/test/images/008605280_jpg.rf.b1c945f6d95f853af4cfe3afefbc49b6.jpg: 640x640 1 2C, 1 KS, 2 QSs, 7.5ms\n",
            "image 10/803 /content/Playing-Cards-2/test/images/009043943_jpg.rf.47004b3a33e66dabb609fe5acab6d9fb.jpg: 640x640 1 4S, 2 KHs, 1 QD, 7.5ms\n",
            "image 11/803 /content/Playing-Cards-2/test/images/012942033_jpg.rf.f683265452f0e34f2110887e4f799a16.jpg: 640x640 2 5Hs, 1 8H, 1 KH, 7.9ms\n",
            "image 12/803 /content/Playing-Cards-2/test/images/013022167_jpg.rf.a9e853ab31154f3f2ef7753784f5c7d2.jpg: 640x640 1 6C, 2 ACs, 1 AD, 7.5ms\n",
            "image 13/803 /content/Playing-Cards-2/test/images/014856104_jpg.rf.a963ac277491bc382e4d64cb5d468387.jpg: 640x640 2 2Ss, 1 4D, 1 AH, 7.5ms\n",
            "image 14/803 /content/Playing-Cards-2/test/images/016026560_jpg.rf.ff9fac5cdf092d620633a18c018e6158.jpg: 640x640 1 10S, 2 3Ss, 1 7C, 7.5ms\n",
            "image 15/803 /content/Playing-Cards-2/test/images/016084701_jpg.rf.b7d4d6b820115452bdf5ea75a8fc4619.jpg: 640x640 1 3H, 1 4D, 2 8Ss, 7.5ms\n",
            "image 16/803 /content/Playing-Cards-2/test/images/017733999_jpg.rf.1948d9624680be80c248200b92718a36.jpg: 640x640 2 8Ds, 1 AS, 1 QH, 7.5ms\n",
            "image 17/803 /content/Playing-Cards-2/test/images/018322802_jpg.rf.9ceeeef2bc0e251585e4d7b15277bd8f.jpg: 640x640 2 2Cs, 1 3S, 1 4D, 7.5ms\n",
            "image 18/803 /content/Playing-Cards-2/test/images/019718854_jpg.rf.0cbb1f15e0288a19449620d349437c7e.jpg: 640x640 1 4D, 2 KSs, 1 QS, 7.5ms\n",
            "image 19/803 /content/Playing-Cards-2/test/images/019781284_jpg.rf.f841d61b68aacb3f0fefcb51d95e9617.jpg: 640x640 2 10Ss, 1 AD, 1 KH, 7.5ms\n",
            "image 20/803 /content/Playing-Cards-2/test/images/021407554_jpg.rf.a6fa99801cd0eb4ac7fb795a8153d62f.jpg: 640x640 2 10Cs, 1 4C, 1 QS, 7.5ms\n",
            "image 21/803 /content/Playing-Cards-2/test/images/021582997_jpg.rf.c34076d500d479ebb67ded58b7d1d8b9.jpg: 640x640 2 2Ds, 1 8H, 1 9S, 7.5ms\n",
            "image 22/803 /content/Playing-Cards-2/test/images/022103614_jpg.rf.6a70b7ae24ba0cbbb280d18966b693d0.jpg: 640x640 1 3S, 2 8Ss, 1 AS, 7.5ms\n",
            "image 23/803 /content/Playing-Cards-2/test/images/023295949_jpg.rf.2446322be96b24c688acfce4b6db2702.jpg: 640x640 2 4Ss, 1 7D, 1 9D, 7.5ms\n",
            "image 24/803 /content/Playing-Cards-2/test/images/028383299_jpg.rf.2faa2d8ad39c5ad535d008ac12bda636.jpg: 640x640 1 2S, 1 4H, 2 7Ss, 7.5ms\n",
            "image 25/803 /content/Playing-Cards-2/test/images/028975433_jpg.rf.34efa08af4ab75eae3a0b3e2bf8643ad.jpg: 640x640 1 6D, 1 8H, 2 JDs, 7.5ms\n",
            "image 26/803 /content/Playing-Cards-2/test/images/030975137_jpg.rf.3b5e195429d05291a04190cbe06e0e72.jpg: 640x640 1 10C, 2 4Ss, 1 KH, 7.8ms\n",
            "image 27/803 /content/Playing-Cards-2/test/images/035664641_jpg.rf.d445de82127629b94b0665c9446eb5ad.jpg: 640x640 2 2Ss, 1 6C, 1 7C, 7.5ms\n",
            "image 28/803 /content/Playing-Cards-2/test/images/036426441_jpg.rf.8415612328972b308eb9c5a68271f505.jpg: 640x640 1 6D, 2 JCs, 1 KH, 7.5ms\n",
            "image 29/803 /content/Playing-Cards-2/test/images/036842271_jpg.rf.6a9124ae9a54924e213420b8577b0b60.jpg: 640x640 1 2H, 2 6Ss, 1 KC, 7.5ms\n",
            "image 30/803 /content/Playing-Cards-2/test/images/038390467_jpg.rf.344efaa8aa393e551dba3e3cef82a403.jpg: 640x640 1 4D, 1 7H, 2 ADs, 7.5ms\n",
            "image 31/803 /content/Playing-Cards-2/test/images/039546921_jpg.rf.43e4345cf6984521b863f03327ac248e.jpg: 640x640 1 3C, 1 AC, 2 QSs, 7.5ms\n",
            "image 32/803 /content/Playing-Cards-2/test/images/040860406_jpg.rf.f5a51652e9a24a64a7e410e533c0c498.jpg: 640x640 1 2C, 2 7Hs, 1 KS, 7.5ms\n",
            "image 33/803 /content/Playing-Cards-2/test/images/041300128_jpg.rf.1d6e0cbdf8dd4e62fca840d2d702fa6b.jpg: 640x640 1 2H, 2 8Cs, 1 KS, 7.5ms\n",
            "image 34/803 /content/Playing-Cards-2/test/images/042011193_jpg.rf.1515506b6c0013ebfa4448f07686c62d.jpg: 640x640 2 5Cs, 1 6D, 1 8S, 7.5ms\n",
            "image 35/803 /content/Playing-Cards-2/test/images/042106424_jpg.rf.3a21ee45ebe645551b39df27a61995cc.jpg: 640x640 2 2Ds, 1 3S, 1 8C, 7.5ms\n",
            "image 36/803 /content/Playing-Cards-2/test/images/042156951_jpg.rf.d06c5a37d377f0417b3d8ba298ace7d7.jpg: 640x640 2 6Hs, 1 7S, 1 JD, 7.5ms\n",
            "image 37/803 /content/Playing-Cards-2/test/images/042514560_jpg.rf.09b0ecc9d5168a49eb9b12b440f8ad67.jpg: 640x640 1 4D, 2 6Ds, 1 8S, 7.5ms\n",
            "image 38/803 /content/Playing-Cards-2/test/images/043616940_jpg.rf.82a67ae6ef731066750660405e22b9fd.jpg: 640x640 2 10Ss, 1 2H, 1 6S, 7.5ms\n",
            "image 39/803 /content/Playing-Cards-2/test/images/044405036_jpg.rf.f753552eb45586cc676d5528a78b91d7.jpg: 640x640 2 5Cs, 1 6D, 1 AS, 7.5ms\n",
            "image 40/803 /content/Playing-Cards-2/test/images/050154717_jpg.rf.2d4ced4bab97b4c6ffc64b95924cc879.jpg: 640x640 1 2H, 2 6Cs, 1 AH, 7.5ms\n",
            "image 41/803 /content/Playing-Cards-2/test/images/055789119_jpg.rf.3da3558e328d0596e7415fdcd9c557ce.jpg: 640x640 1 10S, 1 KC, 2 QHs, 7.5ms\n",
            "image 42/803 /content/Playing-Cards-2/test/images/055934321_jpg.rf.27b046cfacc89c818a52b64ed9dc386d.jpg: 640x640 2 4Ss, 1 5H, 1 5S, 8.8ms\n",
            "image 43/803 /content/Playing-Cards-2/test/images/057760411_jpg.rf.efbfd368220b82b048a2513f5eaaf1e7.jpg: 640x640 1 10D, 2 10Ss, 1 QD, 7.5ms\n",
            "image 44/803 /content/Playing-Cards-2/test/images/058985814_jpg.rf.d7f8e239394803a9fdabb9d4216a452f.jpg: 640x640 1 5S, 2 8Ds, 1 9C, 7.6ms\n",
            "image 45/803 /content/Playing-Cards-2/test/images/060270493_jpg.rf.f7c8025668ed84ba4526d992bc2c1a3c.jpg: 640x640 1 10C, 2 10Hs, 1 7D, 7.5ms\n",
            "image 46/803 /content/Playing-Cards-2/test/images/060968896_jpg.rf.680665ba5c9b24b76a315d4fdb8ca2db.jpg: 640x640 1 4C, 2 7Ss, 1 QC, 14.4ms\n",
            "image 47/803 /content/Playing-Cards-2/test/images/063337042_jpg.rf.61698924baea1a364764ddaead79b90e.jpg: 640x640 1 8D, 1 AC, 2 KDs, 7.6ms\n",
            "image 48/803 /content/Playing-Cards-2/test/images/065119367_jpg.rf.4ff7b2a722500172b7b13fe678dcddf3.jpg: 640x640 2 3Cs, 1 3S, 1 QC, 7.6ms\n",
            "image 49/803 /content/Playing-Cards-2/test/images/066596529_jpg.rf.0befa06d2a15d711aa0d16b76efcccaa.jpg: 640x640 2 3Ds, 1 5D, 1 AH, 7.7ms\n",
            "image 50/803 /content/Playing-Cards-2/test/images/068072443_jpg.rf.83fca624d22b835a4e297ae9e4c7ce6a.jpg: 640x640 2 5Ss, 1 8D, 1 AC, 7.5ms\n",
            "image 51/803 /content/Playing-Cards-2/test/images/069155125_jpg.rf.8740f076016a1c4040c17a5eee5fa8d8.jpg: 640x640 2 10Cs, 1 10D, 1 4S, 7.5ms\n",
            "image 52/803 /content/Playing-Cards-2/test/images/070010192_jpg.rf.e28f1201370da4abcd0ebffd8d31e009.jpg: 640x640 2 10Ds, 2 6Hs, 7.5ms\n",
            "image 53/803 /content/Playing-Cards-2/test/images/070560465_jpg.rf.11c9a7cab229a6388fb7fce0d24b334d.jpg: 640x640 1 8C, 1 AC, 2 ASs, 7.5ms\n",
            "image 54/803 /content/Playing-Cards-2/test/images/071635855_jpg.rf.310e18e6d13183de7af37832f48d9978.jpg: 640x640 1 10H, 1 4H, 2 QHs, 7.5ms\n",
            "image 55/803 /content/Playing-Cards-2/test/images/071833736_jpg.rf.4bbad411bf22ae024ed180bf8b5b94f9.jpg: 640x640 2 4Ds, 1 5H, 1 9H, 7.5ms\n",
            "image 56/803 /content/Playing-Cards-2/test/images/072353177_jpg.rf.bc450dd0eb18042a02fd7cba9b0ac907.jpg: 640x640 2 5Cs, 2 7Ss, 7.5ms\n",
            "image 57/803 /content/Playing-Cards-2/test/images/073145360_jpg.rf.b8cb88f7fa62c9da5d19d629f1ccb4ab.jpg: 640x640 2 7Ds, 2 QHs, 7.5ms\n",
            "image 58/803 /content/Playing-Cards-2/test/images/074112270_jpg.rf.e57b3c40a5c14178c1689fc0fbe4ec45.jpg: 640x640 2 10Ds, 1 3D, 1 9H, 8.8ms\n",
            "image 59/803 /content/Playing-Cards-2/test/images/074328779_jpg.rf.d47859277d18ab7a6fea1dc6aa8de9e3.jpg: 640x640 1 5C, 1 7C, 2 QSs, 7.5ms\n",
            "image 60/803 /content/Playing-Cards-2/test/images/075948227_jpg.rf.d3de46a2807e1370421798e888602be3.jpg: 640x640 2 2Hs, 1 3D, 1 7S, 7.5ms\n",
            "image 61/803 /content/Playing-Cards-2/test/images/077072394_jpg.rf.262df519bd647541068f785593d4ba77.jpg: 640x640 1 3D, 2 5Ds, 1 9H, 7.5ms\n",
            "image 62/803 /content/Playing-Cards-2/test/images/077297324_jpg.rf.5782095965bfda4e0aa7bf54faff1381.jpg: 640x640 1 KH, 1 QD, 2 QSs, 7.5ms\n",
            "image 63/803 /content/Playing-Cards-2/test/images/078253773_jpg.rf.cfa9dac9c5515c39691a77f01add32bb.jpg: 640x640 2 5Ss, 1 7C, 1 8D, 7.5ms\n",
            "image 64/803 /content/Playing-Cards-2/test/images/078520217_jpg.rf.4c02605b91ed6a15829fd6d29b6917c2.jpg: 640x640 1 5D, 1 5S, 2 9Ss, 7.5ms\n",
            "image 65/803 /content/Playing-Cards-2/test/images/079046420_jpg.rf.b538aa5b57657c755dd1b2d36f1474c6.jpg: 640x640 3 4Cs, 1 KH, 7.5ms\n",
            "image 66/803 /content/Playing-Cards-2/test/images/080014567_jpg.rf.b1b421ecfbf97ce23eb21c56790d53d5.jpg: 640x640 1 6D, 2 8Ss, 1 AH, 7.5ms\n",
            "image 67/803 /content/Playing-Cards-2/test/images/081111127_jpg.rf.7978122556bebb0bd715c741aef59357.jpg: 640x640 1 3H, 2 4Ds, 1 AS, 7.6ms\n",
            "image 68/803 /content/Playing-Cards-2/test/images/081285750_jpg.rf.e9b29ce72ea8a12be80bc5687d3104c8.jpg: 640x640 1 4H, 2 5Ss, 1 AC, 1 AS, 8.2ms\n",
            "image 69/803 /content/Playing-Cards-2/test/images/081450781_jpg.rf.67b63735943689161f94288852be5835.jpg: 640x640 1 4H, 3 9Hs, 7.5ms\n",
            "image 70/803 /content/Playing-Cards-2/test/images/082313723_jpg.rf.f349b3ea439255989f30bd3b7934e573.jpg: 640x640 1 7C, 1 7S, 2 8Ds, 7.5ms\n",
            "image 71/803 /content/Playing-Cards-2/test/images/082994887_jpg.rf.41046f2c5d7031096380934941dad068.jpg: 640x640 1 4S, 1 6H, 2 8Ds, 7.5ms\n",
            "image 72/803 /content/Playing-Cards-2/test/images/083634613_jpg.rf.7ec7d8154d1a5b70b13a8d66e007e611.jpg: 640x640 1 2S, 1 6D, 2 ACs, 7.5ms\n",
            "image 73/803 /content/Playing-Cards-2/test/images/084841190_jpg.rf.3f2b65be38cf7d890c22cbdb5bd624b0.jpg: 640x640 3 3Cs, 1 QH, 7.5ms\n",
            "image 74/803 /content/Playing-Cards-2/test/images/087154917_jpg.rf.640e624267868d3ef6146d51f8d72874.jpg: 640x640 1 8H, 1 KS, 2 QSs, 7.5ms\n",
            "image 75/803 /content/Playing-Cards-2/test/images/088440578_jpg.rf.07586850b8bf50734b4879b101af853b.jpg: 640x640 1 3D, 1 9S, 2 ASs, 7.5ms\n",
            "image 76/803 /content/Playing-Cards-2/test/images/088512882_jpg.rf.cedbf0e10cf16b7e10b6331a79fc6287.jpg: 640x640 2 4Ds, 1 4H, 1 KC, 7.5ms\n",
            "image 77/803 /content/Playing-Cards-2/test/images/089480485_jpg.rf.bcb4184d300211cada094a4da5d38a63.jpg: 640x640 1 3C, 2 4Ss, 1 QS, 7.5ms\n",
            "image 78/803 /content/Playing-Cards-2/test/images/089650483_jpg.rf.5c0edd741d10d0fbcc8f716248ea6fc8.jpg: 640x640 2 3Cs, 1 4S, 1 6S, 7.5ms\n",
            "image 79/803 /content/Playing-Cards-2/test/images/090004563_jpg.rf.d155e732d65315c0153d6d340b6eba94.jpg: 640x640 2 5Ds, 1 7D, 1 QC, 7.6ms\n",
            "image 80/803 /content/Playing-Cards-2/test/images/090004992_jpg.rf.21783b010f3352de9ed1d0be1e543f66.jpg: 640x640 1 6S, 2 JCs, 1 JD, 12.2ms\n",
            "image 81/803 /content/Playing-Cards-2/test/images/091876537_jpg.rf.4c5aafc8f29032d75d1760ec68641b50.jpg: 640x640 1 7C, 2 8Ds, 1 JH, 7.5ms\n",
            "image 82/803 /content/Playing-Cards-2/test/images/092462192_jpg.rf.57e5e6aac9878d688ad6acd3bb15bfc4.jpg: 640x640 1 4H, 1 6H, 2 9Ss, 7.5ms\n",
            "image 83/803 /content/Playing-Cards-2/test/images/092623285_jpg.rf.52162d98c73c5f5a285609e20d28bf9a.jpg: 640x640 1 4H, 1 7S, 2 KHs, 7.5ms\n",
            "image 84/803 /content/Playing-Cards-2/test/images/093384421_jpg.rf.a684546be1c475687c67709df2251081.jpg: 640x640 1 3H, 1 7S, 2 QDs, 7.5ms\n",
            "image 85/803 /content/Playing-Cards-2/test/images/093876819_jpg.rf.17e5c1743623603fbad98a4ad67247c6.jpg: 640x640 1 10C, 2 3Hs, 1 6C, 8.4ms\n",
            "image 86/803 /content/Playing-Cards-2/test/images/095693410_jpg.rf.1a49c9c8bb07b566c174aa7c6ccaa721.jpg: 640x640 1 KH, 1 QH, 2 QSs, 7.8ms\n",
            "image 87/803 /content/Playing-Cards-2/test/images/095780474_jpg.rf.c0a557f0f0ce1686c66f248fc39f428f.jpg: 640x640 1 9D, 2 ADs, 1 QC, 7.6ms\n",
            "image 88/803 /content/Playing-Cards-2/test/images/098471366_jpg.rf.f78c378d5a8e845309454db370bf37d9.jpg: 640x640 1 10H, 1 3H, 2 ACs, 7.5ms\n",
            "image 89/803 /content/Playing-Cards-2/test/images/101685277_jpg.rf.caa2969ffe4df1ab9c1834f304fe2419.jpg: 640x640 2 3Ss, 1 6S, 1 QC, 7.5ms\n",
            "image 90/803 /content/Playing-Cards-2/test/images/106691619_jpg.rf.3aa76696575cf5f74f2e72b6e9f8ae84.jpg: 640x640 1 4D, 1 6H, 2 9Hs, 7.5ms\n",
            "image 91/803 /content/Playing-Cards-2/test/images/109997393_jpg.rf.9a504c51ef5b1bf9382141530e19c1c9.jpg: 640x640 1 3C, 1 6H, 2 ASs, 12.1ms\n",
            "image 92/803 /content/Playing-Cards-2/test/images/111180444_jpg.rf.d8fb093f8811c783cab44b3072b419d4.jpg: 640x640 2 3Hs, 1 5C, 1 6S, 8.1ms\n",
            "image 93/803 /content/Playing-Cards-2/test/images/111899556_jpg.rf.e0e6cef763cfa8fe6048301aae94f71d.jpg: 640x640 2 10Hs, 1 5C, 1 9S, 7.5ms\n",
            "image 94/803 /content/Playing-Cards-2/test/images/112446226_jpg.rf.de45d6e0328ae760214850e6615825db.jpg: 640x640 1 5D, 1 6C, 2 KDs, 7.5ms\n",
            "image 95/803 /content/Playing-Cards-2/test/images/116116618_jpg.rf.01230c981824ba58b6cf6edd37d41d34.jpg: 640x640 2 7Ds, 1 9H, 1 AH, 7.5ms\n",
            "image 96/803 /content/Playing-Cards-2/test/images/117131710_jpg.rf.6049931061167cbf25420bc8a9fdb0bf.jpg: 640x640 1 9H, 3 QDs, 7.5ms\n",
            "image 97/803 /content/Playing-Cards-2/test/images/119779040_jpg.rf.8a4086477e8301a8306431baa0144e87.jpg: 640x640 2 3Ss, 1 4D, 1 7H, 7.5ms\n",
            "image 98/803 /content/Playing-Cards-2/test/images/119812133_jpg.rf.2dab24ea9af24d5a83c386578cfa485d.jpg: 640x640 2 8Ss, 1 JC, 1 KD, 7.5ms\n",
            "image 99/803 /content/Playing-Cards-2/test/images/121553051_jpg.rf.c9f485df5b1947d7d708cb8ebcf3e583.jpg: 640x640 1 3C, 1 4D, 2 5Ss, 7.5ms\n",
            "image 100/803 /content/Playing-Cards-2/test/images/121915385_jpg.rf.6b467911ded96d049f93435f98aae90f.jpg: 640x640 1 8H, 1 AC, 2 JCs, 7.6ms\n",
            "image 101/803 /content/Playing-Cards-2/test/images/122389541_jpg.rf.90e6b335186b28f484766f3a166a5f17.jpg: 640x640 2 9Ss, 1 AS, 1 KS, 7.5ms\n",
            "image 102/803 /content/Playing-Cards-2/test/images/123111740_jpg.rf.915dedc9644f8a8faa7782d54e7fde05.jpg: 640x640 2 3Ss, 1 4S, 1 QC, 8.0ms\n",
            "image 103/803 /content/Playing-Cards-2/test/images/125332851_jpg.rf.33549e970acb41d033f20092b860f546.jpg: 640x640 1 7D, 1 9C, 2 JHs, 7.5ms\n",
            "image 104/803 /content/Playing-Cards-2/test/images/126183608_jpg.rf.8c359ef69a7d9080058f8b958cf431f3.jpg: 640x640 1 10H, 2 JCs, 1 KS, 7.5ms\n",
            "image 105/803 /content/Playing-Cards-2/test/images/126460529_jpg.rf.6fc334c68954494c53abb2b33bba4696.jpg: 640x640 2 10Cs, 1 JH, 1 KC, 7.5ms\n",
            "image 106/803 /content/Playing-Cards-2/test/images/128298665_jpg.rf.021abea4757d5dfcf53a8edc2b0fccd4.jpg: 640x640 1 10D, 1 2S, 2 JSs, 7.5ms\n",
            "image 107/803 /content/Playing-Cards-2/test/images/129150288_jpg.rf.60c8ea4b6670ffbacec43dad2d3970ab.jpg: 640x640 1 10S, 3 2Ds, 7.5ms\n",
            "image 108/803 /content/Playing-Cards-2/test/images/129287679_jpg.rf.071e553cebc88902f713d3b489289456.jpg: 640x640 1 10D, 2 5Cs, 1 7H, 7.5ms\n",
            "image 109/803 /content/Playing-Cards-2/test/images/129848329_jpg.rf.f0af37958cce97a82f63460d3ec92fe9.jpg: 640x640 1 AC, 1 JH, 2 QCs, 7.5ms\n",
            "image 110/803 /content/Playing-Cards-2/test/images/132469365_jpg.rf.340e216acf9244f27c81b1d6ebb8b95a.jpg: 640x640 1 6D, 2 JSs, 1 QH, 7.5ms\n",
            "image 111/803 /content/Playing-Cards-2/test/images/132486099_jpg.rf.3894757966554d813efb938330f5c383.jpg: 640x640 2 10Ds, 1 2C, 1 5D, 7.5ms\n",
            "image 112/803 /content/Playing-Cards-2/test/images/133119922_jpg.rf.42136b63c0ba06276bb33152423071af.jpg: 640x640 2 5Hs, 1 7S, 1 8H, 12.0ms\n",
            "image 113/803 /content/Playing-Cards-2/test/images/136109077_jpg.rf.4f59e5500fae1e958b6a49a14f03a3ac.jpg: 640x640 1 10C, 2 4Hs, 1 7C, 7.5ms\n",
            "image 114/803 /content/Playing-Cards-2/test/images/136313099_jpg.rf.f7e606577522716c3d27d8b5a3280a58.jpg: 640x640 2 4Hs, 1 8C, 1 9D, 7.6ms\n",
            "image 115/803 /content/Playing-Cards-2/test/images/137729216_jpg.rf.10ffe5ae062a95db48325c5ed5abbc48.jpg: 640x640 2 4Hs, 1 8H, 1 JS, 7.5ms\n",
            "image 116/803 /content/Playing-Cards-2/test/images/138122532_jpg.rf.6fdb69c5ffdc65680bc80b2b8517a322.jpg: 640x640 2 2Ds, 1 JD, 1 JH, 7.5ms\n",
            "image 117/803 /content/Playing-Cards-2/test/images/141723110_jpg.rf.3ac0e109d21dc5547054f894040e1761.jpg: 640x640 1 JC, 3 QDs, 7.5ms\n",
            "image 118/803 /content/Playing-Cards-2/test/images/141750242_jpg.rf.86c1e3e21498804a5d89d67bf61e31a1.jpg: 640x640 2 3Hs, 1 5S, 1 KH, 7.6ms\n",
            "image 119/803 /content/Playing-Cards-2/test/images/144039544_jpg.rf.a2480b1be6323201996c4da7a53fa719.jpg: 640x640 1 6H, 1 9S, 2 QDs, 7.5ms\n",
            "image 120/803 /content/Playing-Cards-2/test/images/144041953_jpg.rf.8802dc59428fe311045241397f4b08fa.jpg: 640x640 1 7S, 1 JD, 2 JSs, 7.5ms\n",
            "image 121/803 /content/Playing-Cards-2/test/images/144180383_jpg.rf.65a4969706f8fd3bcaa10ee5fad3032d.jpg: 640x640 2 5Cs, 1 7C, 1 8C, 7.5ms\n",
            "image 122/803 /content/Playing-Cards-2/test/images/144219121_jpg.rf.c38de5ac84992ad08b047323b7b183f4.jpg: 640x640 2 4Ss, 1 AS, 1 JH, 7.5ms\n",
            "image 123/803 /content/Playing-Cards-2/test/images/145061144_jpg.rf.7a0e1193ea3fd05d93cb7be87602fb17.jpg: 640x640 1 5C, 1 AS, 2 KSs, 7.5ms\n",
            "image 124/803 /content/Playing-Cards-2/test/images/145345972_jpg.rf.91658e6a1c5c015c6795c259615db473.jpg: 640x640 1 10D, 3 QDs, 8.5ms\n",
            "image 125/803 /content/Playing-Cards-2/test/images/145696005_jpg.rf.a680cefc60e142ce27c57c13d0f3ddfa.jpg: 640x640 1 10H, 1 3D, 2 ACs, 7.5ms\n",
            "image 126/803 /content/Playing-Cards-2/test/images/146254247_jpg.rf.4efe7d74654b8b711b6425e0f2022c71.jpg: 640x640 1 5C, 2 AHs, 1 JC, 8.5ms\n",
            "image 127/803 /content/Playing-Cards-2/test/images/146340808_jpg.rf.a5d6976a2c592397f0411e08099d2d93.jpg: 640x640 1 2S, 1 4S, 2 5Ds, 7.5ms\n",
            "image 128/803 /content/Playing-Cards-2/test/images/146697529_jpg.rf.474e5a327231afb0725d8938501ce6a0.jpg: 640x640 1 10S, 2 5Hs, 1 JH, 7.5ms\n",
            "image 129/803 /content/Playing-Cards-2/test/images/146757854_jpg.rf.7b7c7c4d23abb9efbb5e72a6b75a0727.jpg: 640x640 1 5H, 2 ADs, 1 AS, 7.5ms\n",
            "image 130/803 /content/Playing-Cards-2/test/images/148035226_jpg.rf.2dfd6cc148aa169881dd90fd6776f3db.jpg: 640x640 1 5S, 1 8S, 2 KCs, 7.5ms\n",
            "image 131/803 /content/Playing-Cards-2/test/images/148294425_jpg.rf.001f04fbed76d136662700d2488e44e5.jpg: 640x640 1 3S, 2 4Ds, 1 AD, 7.5ms\n",
            "image 132/803 /content/Playing-Cards-2/test/images/148620140_jpg.rf.cde154d542ad4032fbfce8c9584bf4bc.jpg: 640x640 1 3D, 1 6C, 2 JCs, 7.5ms\n",
            "image 133/803 /content/Playing-Cards-2/test/images/150949061_jpg.rf.78ddd87bf0abcf04a7a165f0820b5a7c.jpg: 640x640 1 8C, 2 9Hs, 1 AS, 7.5ms\n",
            "image 134/803 /content/Playing-Cards-2/test/images/151860990_jpg.rf.916fb7761c36f6c6a19b6e2fe167d369.jpg: 640x640 1 2H, 1 4H, 2 JSs, 7.5ms\n",
            "image 135/803 /content/Playing-Cards-2/test/images/152513649_jpg.rf.9ab7d98629f4699f98627f5bc24e485a.jpg: 640x640 1 9H, 2 ACs, 1 AH, 7.5ms\n",
            "image 136/803 /content/Playing-Cards-2/test/images/157474020_jpg.rf.c83e812e32a5ec3a3785f53ef994311b.jpg: 640x640 2 2Hs, 1 QC, 1 QD, 7.5ms\n",
            "image 137/803 /content/Playing-Cards-2/test/images/157594826_jpg.rf.a4853f7020326e03328c9e8d8a54f4e2.jpg: 640x640 1 3H, 1 6S, 2 ASs, 7.5ms\n",
            "image 138/803 /content/Playing-Cards-2/test/images/158671211_jpg.rf.2dcedab2efbf5cf8238627b734fb2341.jpg: 640x640 1 4C, 1 9D, 2 QDs, 14.3ms\n",
            "image 139/803 /content/Playing-Cards-2/test/images/159846415_jpg.rf.febd90a161561647d70849ca9526c206.jpg: 640x640 1 3D, 3 4Ds, 7.5ms\n",
            "image 140/803 /content/Playing-Cards-2/test/images/160267132_jpg.rf.1614c60d4ef6773ae0e51a24fa0984be.jpg: 640x640 2 2Ss, 1 JD, 1 KS, 7.5ms\n",
            "image 141/803 /content/Playing-Cards-2/test/images/162158139_jpg.rf.33a95edc885996eb0b72708f238f0461.jpg: 640x640 1 10H, 2 7Ss, 1 JD, 7.5ms\n",
            "image 142/803 /content/Playing-Cards-2/test/images/162938989_jpg.rf.a7c66a9c0f84b9da18a5dea588122600.jpg: 640x640 1 4C, 2 7Ds, 1 JS, 7.5ms\n",
            "image 143/803 /content/Playing-Cards-2/test/images/163901637_jpg.rf.a4fe304318ac130075544ac85093372a.jpg: 640x640 2 3Hs, 1 9H, 1 KC, 7.5ms\n",
            "image 144/803 /content/Playing-Cards-2/test/images/164513502_jpg.rf.3d4b348edc92ccf5264ebf4a237950fe.jpg: 640x640 1 4C, 1 7D, 2 JSs, 7.5ms\n",
            "image 145/803 /content/Playing-Cards-2/test/images/165763695_jpg.rf.6524a5c4e3b8cf801f058462c1ff0dac.jpg: 640x640 3 3Cs, 1 6D, 7.5ms\n",
            "image 146/803 /content/Playing-Cards-2/test/images/167265111_jpg.rf.0cff9d3d68959a6b6cbc1a24aa1fbeec.jpg: 640x640 1 9H, 2 JSs, 1 QH, 7.5ms\n",
            "image 147/803 /content/Playing-Cards-2/test/images/168815699_jpg.rf.65388717112b9ea98ff42f58b2e7228d.jpg: 640x640 2 10Hs, 1 2D, 1 KH, 7.5ms\n",
            "image 148/803 /content/Playing-Cards-2/test/images/170825035_jpg.rf.8d5569274b4d76a73d7208b9efd4388e.jpg: 640x640 1 10H, 2 4Hs, 1 5S, 7.5ms\n",
            "image 149/803 /content/Playing-Cards-2/test/images/173216193_jpg.rf.a94a1f351687f0a2ed26c003085dbb22.jpg: 640x640 1 4S, 1 6C, 2 9Hs, 7.5ms\n",
            "image 150/803 /content/Playing-Cards-2/test/images/175866508_jpg.rf.12a4e505a98c56465ddd9d50c3cd3806.jpg: 640x640 2 10Ss, 1 4S, 1 6C, 7.5ms\n",
            "image 151/803 /content/Playing-Cards-2/test/images/176474152_jpg.rf.7740d8c18cee4eb68a391b94063183ef.jpg: 640x640 1 6C, 1 8C, 2 ADs, 7.5ms\n",
            "image 152/803 /content/Playing-Cards-2/test/images/179020613_jpg.rf.0507dffdac56da9f4135021e004fcb33.jpg: 640x640 1 10S, 2 8Ss, 1 JD, 7.5ms\n",
            "image 153/803 /content/Playing-Cards-2/test/images/179663480_jpg.rf.c3c43187aebda5b87b261a5dbc733151.jpg: 640x640 2 10Cs, 1 2D, 1 3D, 7.3ms\n",
            "image 154/803 /content/Playing-Cards-2/test/images/179834124_jpg.rf.c40f3e545f6017e67efc125d6d74637b.jpg: 640x640 1 10D, 1 7D, 2 9Ss, 7.3ms\n",
            "image 155/803 /content/Playing-Cards-2/test/images/179965519_jpg.rf.159ee27b86923dd4f3957602d411d05a.jpg: 640x640 2 5Ss, 1 AC, 1 AD, 7.4ms\n",
            "image 156/803 /content/Playing-Cards-2/test/images/181301964_jpg.rf.0f074f888201648a65595f471056ea71.jpg: 640x640 1 10S, 1 2S, 2 3Ss, 7.3ms\n",
            "image 157/803 /content/Playing-Cards-2/test/images/182704928_jpg.rf.410d040ca3fa033ea2755638e82faa28.jpg: 640x640 1 3D, 1 8S, 2 QHs, 7.4ms\n",
            "image 158/803 /content/Playing-Cards-2/test/images/183130205_jpg.rf.8fcbfa218b9e2d837afb8b1e74a6be22.jpg: 640x640 1 6C, 1 JC, 2 KSs, 7.3ms\n",
            "image 159/803 /content/Playing-Cards-2/test/images/183190903_jpg.rf.132b2355b586046d0031273c2d507228.jpg: 640x640 2 5Hs, 1 6C, 1 7S, 7.4ms\n",
            "image 160/803 /content/Playing-Cards-2/test/images/183492439_jpg.rf.cb560225345738d070b95e85441cd649.jpg: 640x640 2 2Cs, 1 7D, 1 AH, 7.4ms\n",
            "image 161/803 /content/Playing-Cards-2/test/images/185668829_jpg.rf.3b5e479e96a80f10d7892f68c18b88f8.jpg: 640x640 1 3H, 1 KD, 2 QCs, 7.3ms\n",
            "image 162/803 /content/Playing-Cards-2/test/images/186925603_jpg.rf.ae4c80540fd45baa0bc20ea5068ba1d0.jpg: 640x640 1 2C, 2 KDs, 1 QC, 7.5ms\n",
            "image 163/803 /content/Playing-Cards-2/test/images/189671260_jpg.rf.20218e2979d48a0d96862b425a06b3af.jpg: 640x640 1 4H, 2 8Ds, 1 KD, 7.3ms\n",
            "image 164/803 /content/Playing-Cards-2/test/images/190778462_jpg.rf.0186d3408429ba818ce9c03264fc0843.jpg: 640x640 2 4Ds, 1 8C, 1 QS, 7.3ms\n",
            "image 165/803 /content/Playing-Cards-2/test/images/191576015_jpg.rf.6ae20dbf039e944127093bc830cffc0e.jpg: 640x640 2 3Hs, 1 4D, 1 QD, 7.3ms\n",
            "image 166/803 /content/Playing-Cards-2/test/images/192737614_jpg.rf.73a0d5834c2ddbfb4595facb3e1dd93e.jpg: 640x640 1 7H, 3 ADs, 7.3ms\n",
            "image 167/803 /content/Playing-Cards-2/test/images/195385648_jpg.rf.b08d770368dccc759e4eb7417dba4b7f.jpg: 640x640 1 10S, 2 3Cs, 1 JD, 7.7ms\n",
            "image 168/803 /content/Playing-Cards-2/test/images/196258880_jpg.rf.f1fdda68bb89b89b7fcee8f06946e98c.jpg: 640x640 2 5Cs, 2 6Ds, 7.3ms\n",
            "image 169/803 /content/Playing-Cards-2/test/images/197639949_jpg.rf.1dfc404970226f1fd6809a4dd6f22682.jpg: 640x640 2 4Ds, 1 6H, 1 8S, 8.1ms\n",
            "image 170/803 /content/Playing-Cards-2/test/images/200498406_jpg.rf.6a00c528822c4619a45c7632b8297347.jpg: 640x640 2 7Ds, 1 JC, 1 KC, 7.3ms\n",
            "image 171/803 /content/Playing-Cards-2/test/images/202533590_jpg.rf.1e9449ffd0c2d3cec0889f2a105b8a12.jpg: 640x640 1 2C, 1 3C, 2 QCs, 7.3ms\n",
            "image 172/803 /content/Playing-Cards-2/test/images/203348806_jpg.rf.16125f711c0ef86fa793e8e3fef1b88e.jpg: 640x640 1 7H, 2 ASs, 1 QD, 7.3ms\n",
            "image 173/803 /content/Playing-Cards-2/test/images/203376085_jpg.rf.c56d0d2d0e8efbcb1c97850fb86d535b.jpg: 640x640 2 7Cs, 1 KS, 1 QD, 7.3ms\n",
            "image 174/803 /content/Playing-Cards-2/test/images/205338076_jpg.rf.17bac6cbf446316d64ccdc45276f2f83.jpg: 640x640 1 2H, 1 6C, 2 ACs, 7.9ms\n",
            "image 175/803 /content/Playing-Cards-2/test/images/205387250_jpg.rf.e7057b2a7202779a982a22c8ab8670ca.jpg: 640x640 1 10D, 2 8Ds, 1 KD, 7.3ms\n",
            "image 176/803 /content/Playing-Cards-2/test/images/206260205_jpg.rf.07f3d9a0732dc2ad2ee28ab8442e0ead.jpg: 640x640 1 10C, 1 4D, 2 ASs, 7.3ms\n",
            "image 177/803 /content/Playing-Cards-2/test/images/208329580_jpg.rf.cf60e80dd0b02ffef9230a74e8ec97f4.jpg: 640x640 1 7H, 1 7S, 2 KSs, 7.3ms\n",
            "image 178/803 /content/Playing-Cards-2/test/images/209082339_jpg.rf.9d657551fa5ec178fb98bc6af7caf4e6.jpg: 640x640 1 4S, 1 5S, 2 QSs, 7.3ms\n",
            "image 179/803 /content/Playing-Cards-2/test/images/209379974_jpg.rf.51afe20735aa32399637b2c4419ce73a.jpg: 640x640 1 4D, 2 4Hs, 1 8H, 7.4ms\n",
            "image 180/803 /content/Playing-Cards-2/test/images/210149693_jpg.rf.6680830987c592539618fa0a8b5b2302.jpg: 640x640 1 AC, 2 ADs, 1 JH, 7.4ms\n",
            "image 181/803 /content/Playing-Cards-2/test/images/210209123_jpg.rf.f8169254304a217b547f6f30ef808a6a.jpg: 640x640 1 2S, 2 5Cs, 1 7D, 7.3ms\n",
            "image 182/803 /content/Playing-Cards-2/test/images/212295188_jpg.rf.c05f800b2daedccab703a19f5bbb6d63.jpg: 640x640 1 2D, 2 3Hs, 1 7H, 7.3ms\n",
            "image 183/803 /content/Playing-Cards-2/test/images/214626879_jpg.rf.48b98ce1ecf3453b61ee18bce4e1bfdf.jpg: 640x640 2 7Ds, 1 7H, 1 AD, 7.4ms\n",
            "image 184/803 /content/Playing-Cards-2/test/images/216547814_jpg.rf.16a2a63e05572af3e92099ea09f1c680.jpg: 640x640 2 4Cs, 1 5C, 1 8D, 7.3ms\n",
            "image 185/803 /content/Playing-Cards-2/test/images/217256824_jpg.rf.0c7ae0e776f4f525e0228d0305ff3862.jpg: 640x640 2 6Ss, 1 7D, 1 8C, 11.1ms\n",
            "image 186/803 /content/Playing-Cards-2/test/images/218932460_jpg.rf.cbda9178e084b91ba5154a8968fb0e54.jpg: 640x640 2 4Hs, 1 8H, 1 JC, 10.7ms\n",
            "image 187/803 /content/Playing-Cards-2/test/images/220298707_jpg.rf.e3db59be2c88bec36c17333d0d3498e5.jpg: 640x640 2 10Ss, 1 7D, 1 JC, 7.3ms\n",
            "image 188/803 /content/Playing-Cards-2/test/images/222006250_jpg.rf.601659550ffa48d12aa99dae26fb8788.jpg: 640x640 2 10Cs, 1 5D, 1 KH, 7.3ms\n",
            "image 189/803 /content/Playing-Cards-2/test/images/223557298_jpg.rf.3159cf87a4a166de1cf1fb51d1a2ae7f.jpg: 640x640 1 10D, 2 7Ds, 1 QD, 7.3ms\n",
            "image 190/803 /content/Playing-Cards-2/test/images/224029800_jpg.rf.05b8456296b9298f751649962030b0bb.jpg: 640x640 1 6D, 2 6Ss, 1 7H, 7.3ms\n",
            "image 191/803 /content/Playing-Cards-2/test/images/225035248_jpg.rf.5a0b5fa0a543f5367fc9163ef36942ee.jpg: 640x640 1 4S, 2 8Ds, 1 QC, 7.3ms\n",
            "image 192/803 /content/Playing-Cards-2/test/images/226219342_jpg.rf.687dbd04569bfe6ccbdff8158be43fc1.jpg: 640x640 2 10Ds, 1 2C, 1 KD, 7.3ms\n",
            "image 193/803 /content/Playing-Cards-2/test/images/226431208_jpg.rf.ab8defb51d9723d3a09b1ccf57002660.jpg: 640x640 1 2C, 1 AS, 2 JDs, 7.3ms\n",
            "image 194/803 /content/Playing-Cards-2/test/images/228059353_jpg.rf.e3f131964d6165dcffc8f5963ddf67a5.jpg: 640x640 1 3H, 2 4Ss, 1 5D, 7.3ms\n",
            "image 195/803 /content/Playing-Cards-2/test/images/228555177_jpg.rf.0aee8c559b835365e82b07dfcf6aae32.jpg: 640x640 1 7S, 2 8Cs, 1 QD, 7.3ms\n",
            "image 196/803 /content/Playing-Cards-2/test/images/231011095_jpg.rf.cbc8d81c84d375f90f084f7a605e440f.jpg: 640x640 1 7H, 1 8C, 2 QSs, 7.3ms\n",
            "image 197/803 /content/Playing-Cards-2/test/images/231689291_jpg.rf.722eafed24612b23d59c7fcc2f77645e.jpg: 640x640 1 3D, 2 4Ss, 1 9D, 7.3ms\n",
            "image 198/803 /content/Playing-Cards-2/test/images/236816339_jpg.rf.aa99a47fd831de7fa66c24c89b53b0a7.jpg: 640x640 2 2Cs, 1 5C, 1 7C, 7.3ms\n",
            "image 199/803 /content/Playing-Cards-2/test/images/236866252_jpg.rf.db6c888691d566a1d4b50aa2867ba7f1.jpg: 640x640 2 7Hs, 1 JC, 1 QD, 7.3ms\n",
            "image 200/803 /content/Playing-Cards-2/test/images/239943081_jpg.rf.32b8cef6bf2367fac547c5313bed2860.jpg: 640x640 1 2S, 1 7C, 2 QCs, 7.4ms\n",
            "image 201/803 /content/Playing-Cards-2/test/images/240361447_jpg.rf.04f883dbd03910f86ba191fe5b48faa5.jpg: 640x640 1 5S, 1 8H, 2 JDs, 7.3ms\n",
            "image 202/803 /content/Playing-Cards-2/test/images/241332035_jpg.rf.d2869a1e57eca81b02dd11dcc7dca2fb.jpg: 640x640 1 6H, 1 7S, 2 9Ss, 7.3ms\n",
            "image 203/803 /content/Playing-Cards-2/test/images/241349077_jpg.rf.ef71ee5ddff28683581c611c6c9d8af4.jpg: 640x640 1 7D, 1 9C, 2 ASs, 7.3ms\n",
            "image 204/803 /content/Playing-Cards-2/test/images/242520802_jpg.rf.6acfc54e81d946ade093e25bf47b8d83.jpg: 640x640 1 10C, 1 2D, 2 8Cs, 7.3ms\n",
            "image 205/803 /content/Playing-Cards-2/test/images/245148029_jpg.rf.36cbec01080018d9d3a32d3e2901e110.jpg: 640x640 1 6H, 2 7Ss, 1 QH, 7.4ms\n",
            "image 206/803 /content/Playing-Cards-2/test/images/251898380_jpg.rf.810d89f05514118a7843dd37ecd635e4.jpg: 640x640 1 7S, 3 QDs, 7.4ms\n",
            "image 207/803 /content/Playing-Cards-2/test/images/252396158_jpg.rf.cf27130295f47e6c9e64df3cd46b4778.jpg: 640x640 2 10Hs, 1 9C, 1 AH, 7.4ms\n",
            "image 208/803 /content/Playing-Cards-2/test/images/252613028_jpg.rf.c08cf80533ca9751bf69f6b08d69f908.jpg: 640x640 2 5Cs, 1 8H, 1 JS, 1 KS, 9.6ms\n",
            "image 209/803 /content/Playing-Cards-2/test/images/253774709_jpg.rf.9168bb85e41db287cd025bec0688d8f5.jpg: 640x640 2 7Ds, 1 AH, 1 KD, 13.9ms\n",
            "image 210/803 /content/Playing-Cards-2/test/images/255782428_jpg.rf.1938e7c0833d045ce962dc96c1725688.jpg: 640x640 2 2Ss, 1 7S, 1 KD, 10.9ms\n",
            "image 211/803 /content/Playing-Cards-2/test/images/255803240_jpg.rf.41e9d881ef5a3ca5c15af1bc18603090.jpg: 640x640 1 6S, 1 8H, 2 KSs, 10.7ms\n",
            "image 212/803 /content/Playing-Cards-2/test/images/257419206_jpg.rf.c9c689997156d497bb4fb692402aa540.jpg: 640x640 1 6H, 1 AD, 2 JSs, 11.7ms\n",
            "image 213/803 /content/Playing-Cards-2/test/images/257791792_jpg.rf.434d17da4791190ee4d4f8abf5a5a383.jpg: 640x640 1 3H, 2 5Hs, 1 6S, 9.4ms\n",
            "image 214/803 /content/Playing-Cards-2/test/images/260181295_jpg.rf.801107d0a213f443a186f7aeeef8a943.jpg: 640x640 2 4Hs, 1 6S, 1 7D, 12.0ms\n",
            "image 215/803 /content/Playing-Cards-2/test/images/260526305_jpg.rf.70e681bff2dfa7a6bf9c23314dada417.jpg: 640x640 2 2Ds, 1 4H, 1 KH, 8.1ms\n",
            "image 216/803 /content/Playing-Cards-2/test/images/260893743_jpg.rf.40f9dd33ee7811e15da0838e8789592b.jpg: 640x640 1 10D, 1 7S, 2 8Ss, 9.1ms\n",
            "image 217/803 /content/Playing-Cards-2/test/images/262214787_jpg.rf.6965acf92f81617eb881e375aa1de7d1.jpg: 640x640 1 7S, 1 8D, 2 QDs, 11.2ms\n",
            "image 218/803 /content/Playing-Cards-2/test/images/262683337_jpg.rf.39cc00d991318087d3448640682e4ea6.jpg: 640x640 1 JS, 2 QCs, 1 QS, 9.4ms\n",
            "image 219/803 /content/Playing-Cards-2/test/images/263140249_jpg.rf.dbc69720adc35428db1d160a59796c0f.jpg: 640x640 2 5Ss, 1 6S, 1 JS, 8.1ms\n",
            "image 220/803 /content/Playing-Cards-2/test/images/265141738_jpg.rf.cbfe981457bacaec32e0d9b0387d865e.jpg: 640x640 2 6Ss, 1 AC, 1 JS, 8.2ms\n",
            "image 221/803 /content/Playing-Cards-2/test/images/266901299_jpg.rf.d745dd8c74313ed6e8a56d9dd349756b.jpg: 640x640 1 10S, 1 3H, 2 8Hs, 8.5ms\n",
            "image 222/803 /content/Playing-Cards-2/test/images/269379014_jpg.rf.d6ce8f559d00fdf79d1771fcd05c9280.jpg: 640x640 1 6D, 2 KCs, 1 QS, 8.0ms\n",
            "image 223/803 /content/Playing-Cards-2/test/images/269485741_jpg.rf.b4d13a63e05db274b5acf601cc3561fb.jpg: 640x640 1 2H, 2 4Ss, 1 8H, 12.9ms\n",
            "image 224/803 /content/Playing-Cards-2/test/images/270933079_jpg.rf.1930cc1c1fde9eeaa720fc68d71a0984.jpg: 640x640 2 5Ss, 1 JC, 1 QC, 15.7ms\n",
            "image 225/803 /content/Playing-Cards-2/test/images/272235752_jpg.rf.2664d7a823a7c1a6fe11833e001e77c8.jpg: 640x640 1 6S, 2 9Ss, 1 QD, 8.6ms\n",
            "image 226/803 /content/Playing-Cards-2/test/images/274208959_jpg.rf.23eb3888e66bdb3f51c0ca0bcdef98bd.jpg: 640x640 1 3D, 2 ACs, 1 AD, 9.3ms\n",
            "image 227/803 /content/Playing-Cards-2/test/images/274696259_jpg.rf.661ab3f2716b30bdac6d74aef5c3738a.jpg: 640x640 1 10C, 1 10H, 2 8Hs, 11.6ms\n",
            "image 228/803 /content/Playing-Cards-2/test/images/277061188_jpg.rf.37c47757a1e8eeb87922c9b3330b9d62.jpg: 640x640 2 4Ds, 1 5C, 1 8H, 8.8ms\n",
            "image 229/803 /content/Playing-Cards-2/test/images/277293160_jpg.rf.fc0fc85ec80b7943b583a2d73037947a.jpg: 640x640 1 3C, 1 3H, 2 QDs, 9.7ms\n",
            "image 230/803 /content/Playing-Cards-2/test/images/278308451_jpg.rf.8f3a85b405eab3a2d7eb5c1c2172e247.jpg: 640x640 2 3Ds, 1 9D, 1 AH, 8.4ms\n",
            "image 231/803 /content/Playing-Cards-2/test/images/279503414_jpg.rf.28f049825af95bb755028e269279a2f1.jpg: 640x640 1 7S, 2 8Cs, 1 KS, 8.9ms\n",
            "image 232/803 /content/Playing-Cards-2/test/images/279572969_jpg.rf.b1bdcf35aaf41b1e86558d6a75027bdf.jpg: 640x640 1 7D, 1 7S, 2 9Hs, 8.2ms\n",
            "image 233/803 /content/Playing-Cards-2/test/images/280819336_jpg.rf.8345a4cb9ca19c636aac4fc61a45b44b.jpg: 640x640 1 6D, 2 7Ss, 1 9S, 8.6ms\n",
            "image 234/803 /content/Playing-Cards-2/test/images/281565079_jpg.rf.644a03b2d2b6eae679dc3dd6e5ea7314.jpg: 640x640 1 4C, 2 8Cs, 1 KC, 8.3ms\n",
            "image 235/803 /content/Playing-Cards-2/test/images/281749562_jpg.rf.aa1fec954af4ec13bee83d863a93c4db.jpg: 640x640 1 10H, 1 8H, 2 QHs, 9.2ms\n",
            "image 236/803 /content/Playing-Cards-2/test/images/285263970_jpg.rf.cbab0f35d02a4ff17e5ab48a34bb91ca.jpg: 640x640 1 2C, 1 6S, 2 8Hs, 8.6ms\n",
            "image 237/803 /content/Playing-Cards-2/test/images/288108571_jpg.rf.2f6ab81c07c5f20761d358841050e29c.jpg: 640x640 1 3S, 1 9H, 2 KDs, 8.4ms\n",
            "image 238/803 /content/Playing-Cards-2/test/images/288301455_jpg.rf.2cc588e02d9d5045f5d347fdb4fcde12.jpg: 640x640 2 10Ss, 1 4S, 1 AS, 1 KD, 8.8ms\n",
            "image 239/803 /content/Playing-Cards-2/test/images/290008251_jpg.rf.b270f1579d6b99bcd1f329f88118ddd0.jpg: 640x640 2 4Hs, 1 4S, 1 5S, 10.6ms\n",
            "image 240/803 /content/Playing-Cards-2/test/images/290036695_jpg.rf.3abf27f45032304177d119d91e50cc81.jpg: 640x640 1 7H, 1 8S, 2 JDs, 8.4ms\n",
            "image 241/803 /content/Playing-Cards-2/test/images/290433499_jpg.rf.7b56bf8ac0d0ded0455f8c884f9c6149.jpg: 640x640 2 10Cs, 1 9S, 1 QC, 9.7ms\n",
            "image 242/803 /content/Playing-Cards-2/test/images/290470760_jpg.rf.e898f7af0a707c1098e93d8c402f1772.jpg: 640x640 1 3D, 2 5Cs, 1 QH, 9.1ms\n",
            "image 243/803 /content/Playing-Cards-2/test/images/291339136_jpg.rf.6d42199ca7a1859ee5cd21afe641911f.jpg: 640x640 2 10Hs, 1 4D, 1 5C, 7.9ms\n",
            "image 244/803 /content/Playing-Cards-2/test/images/292562449_jpg.rf.9c225bb41e2b849936fc249a899c2df7.jpg: 640x640 1 3S, 2 4Ds, 1 6C, 7.9ms\n",
            "image 245/803 /content/Playing-Cards-2/test/images/294154101_jpg.rf.239d1f6118380cbb397c55759ac2a2ee.jpg: 640x640 1 6H, 2 ADs, 1 JD, 8.4ms\n",
            "image 246/803 /content/Playing-Cards-2/test/images/296606241_jpg.rf.5d19a7b03429164c8a5b7762080fef36.jpg: 640x640 2 3Ss, 1 8H, 1 QC, 8.2ms\n",
            "image 247/803 /content/Playing-Cards-2/test/images/297041922_jpg.rf.eedcd3efaf6837ed273a234cc0e2ef4d.jpg: 640x640 1 4S, 1 9S, 2 JDs, 8.6ms\n",
            "image 248/803 /content/Playing-Cards-2/test/images/298195363_jpg.rf.112c74d8802531a71e640c732e8ffc51.jpg: 640x640 1 9D, 1 AD, 2 JSs, 8.4ms\n",
            "image 249/803 /content/Playing-Cards-2/test/images/298330496_jpg.rf.ae486d712a9c954ce0187fd1d63a4608.jpg: 640x640 1 10S, 1 8S, 2 KHs, 8.1ms\n",
            "image 250/803 /content/Playing-Cards-2/test/images/298582506_jpg.rf.4de696eabf47d2ce072cbd1e797a7bc0.jpg: 640x640 1 3D, 2 6Ss, 1 9S, 8.5ms\n",
            "image 251/803 /content/Playing-Cards-2/test/images/301239979_jpg.rf.fa52c90a401ee20d095ee5380542279b.jpg: 640x640 1 2H, 2 4Hs, 1 JD, 8.0ms\n",
            "image 252/803 /content/Playing-Cards-2/test/images/301839461_jpg.rf.2b5986468b763665739d1e81b3c86c82.jpg: 640x640 2 2Cs, 1 2S, 1 JC, 9.7ms\n",
            "image 253/803 /content/Playing-Cards-2/test/images/302802891_jpg.rf.8787f186870af0ad5405935eb6a92ac1.jpg: 640x640 1 10S, 1 5C, 2 7Hs, 8.2ms\n",
            "image 254/803 /content/Playing-Cards-2/test/images/303119711_jpg.rf.ad810ae1a72848f4358c1fc07f8ffa6f.jpg: 640x640 1 3C, 2 7Cs, 1 KC, 8.0ms\n",
            "image 255/803 /content/Playing-Cards-2/test/images/305122093_jpg.rf.57eeec3c668f1392171d74c8d9cce664.jpg: 640x640 2 10Hs, 1 5H, 1 7S, 7.9ms\n",
            "image 256/803 /content/Playing-Cards-2/test/images/305221632_jpg.rf.beaa9550ddb2c9b2e6485270371e4f45.jpg: 640x640 2 5Ss, 1 7H, 1 8C, 7.9ms\n",
            "image 257/803 /content/Playing-Cards-2/test/images/305532045_jpg.rf.100d88a379f7f3a29ef734b613d4b2db.jpg: 640x640 1 2S, 3 9Ss, 8.3ms\n",
            "image 258/803 /content/Playing-Cards-2/test/images/305703071_jpg.rf.00fada663f1b31012425b1964ac35a96.jpg: 640x640 1 5S, 1 8S, 2 QSs, 9.4ms\n",
            "image 259/803 /content/Playing-Cards-2/test/images/306608314_jpg.rf.d7992681290f2cf679bad160a26c9b6c.jpg: 640x640 1 2H, 1 9H, 2 ADs, 12.9ms\n",
            "image 260/803 /content/Playing-Cards-2/test/images/306857607_jpg.rf.2bc6375bd0a84913afdaf0b6f978449c.jpg: 640x640 2 10Cs, 1 8D, 1 KH, 14.3ms\n",
            "image 261/803 /content/Playing-Cards-2/test/images/310037621_jpg.rf.a560622227cd1fbf3cddddbb1c696c7a.jpg: 640x640 1 2S, 2 4Hs, 1 JD, 13.6ms\n",
            "image 262/803 /content/Playing-Cards-2/test/images/310121956_jpg.rf.b9fefbf908232938142558176d6d2135.jpg: 640x640 2 2Hs, 1 2S, 1 6S, 18.8ms\n",
            "image 263/803 /content/Playing-Cards-2/test/images/311343781_jpg.rf.5916f7a361ae52c86ce6ae8996a6799f.jpg: 640x640 1 3S, 2 9Ss, 1 QC, 13.5ms\n",
            "image 264/803 /content/Playing-Cards-2/test/images/312222824_jpg.rf.6a8c12d64ac82559936c41d4219e0f55.jpg: 640x640 2 3Ss, 1 7C, 1 9H, 12.2ms\n",
            "image 265/803 /content/Playing-Cards-2/test/images/312619145_jpg.rf.ec507c869b8c1f1efe3f55fd7f11b826.jpg: 640x640 1 10C, 1 8C, 2 QSs, 8.5ms\n",
            "image 266/803 /content/Playing-Cards-2/test/images/314076446_jpg.rf.2fadf652c38c2fae5b18316db1082cb9.jpg: 640x640 1 4C, 1 9H, 2 KHs, 12.8ms\n",
            "image 267/803 /content/Playing-Cards-2/test/images/321415620_jpg.rf.18f72685d8169777aa45198f9789ae25.jpg: 640x640 2 ACs, 1 JC, 1 QS, 8.4ms\n",
            "image 268/803 /content/Playing-Cards-2/test/images/321493355_jpg.rf.ba9bd390ee82e6c0950815088b4213d1.jpg: 640x640 1 5H, 2 7Hs, 1 9H, 9.1ms\n",
            "image 269/803 /content/Playing-Cards-2/test/images/321578602_jpg.rf.ef83124afd0a95f9b23a2b7660fa882c.jpg: 640x640 2 2Hs, 1 5D, 1 8H, 9.8ms\n",
            "image 270/803 /content/Playing-Cards-2/test/images/321747901_jpg.rf.ea080fc320847eebf679ad63a02c9299.jpg: 640x640 2 2Hs, 1 3H, 1 JD, 9.3ms\n",
            "image 271/803 /content/Playing-Cards-2/test/images/323301683_jpg.rf.c8582f48a365bea2b32a3cc9e4f14117.jpg: 640x640 2 7Hs, 1 9H, 1 KC, 14.6ms\n",
            "image 272/803 /content/Playing-Cards-2/test/images/325432734_jpg.rf.5b703cedb9c6914ce6fe11fccf5658f2.jpg: 640x640 1 10D, 2 9Hs, 1 KH, 11.2ms\n",
            "image 273/803 /content/Playing-Cards-2/test/images/325459466_jpg.rf.6a20954e380eaa5b2c82f7f9a8e16ae5.jpg: 640x640 2 10Hs, 1 9H, 1 JS, 12.0ms\n",
            "image 274/803 /content/Playing-Cards-2/test/images/326246861_jpg.rf.7d7222f22cbe9d40ce1f9e8bde2f5f3b.jpg: 640x640 2 4Ds, 1 7H, 1 8D, 12.0ms\n",
            "image 275/803 /content/Playing-Cards-2/test/images/326923306_jpg.rf.e87b71b46fdb6f389f6e38c6eae55532.jpg: 640x640 1 6C, 2 6Hs, 1 9S, 20.0ms\n",
            "image 276/803 /content/Playing-Cards-2/test/images/327786040_jpg.rf.6d9f0aba66f9ad7bb2b8143c386619b2.jpg: 640x640 2 9Cs, 1 9S, 1 JC, 14.0ms\n",
            "image 277/803 /content/Playing-Cards-2/test/images/329183833_jpg.rf.8ca5b2257e6715f693615e99a8444703.jpg: 640x640 1 7S, 2 QCs, 1 QD, 33.3ms\n",
            "image 278/803 /content/Playing-Cards-2/test/images/330063189_jpg.rf.70a42bf70b333ea3d705be6af317029e.jpg: 640x640 1 3S, 2 4Ds, 1 5S, 1 8H, 10.0ms\n",
            "image 279/803 /content/Playing-Cards-2/test/images/330166153_jpg.rf.39522316189f74f8040c85b436a710ea.jpg: 640x640 1 10H, 2 2Cs, 1 8D, 11.2ms\n",
            "image 280/803 /content/Playing-Cards-2/test/images/330699280_jpg.rf.e3936b6f2f23086c9205dfc36c6b6e09.jpg: 640x640 2 7Hs, 1 9C, 1 JC, 11.7ms\n",
            "image 281/803 /content/Playing-Cards-2/test/images/331139417_jpg.rf.8bb8da904f3927845fcc2e8aba36910f.jpg: 640x640 1 2C, 2 4Hs, 1 9D, 12.5ms\n",
            "image 282/803 /content/Playing-Cards-2/test/images/332430556_jpg.rf.e13d5d6fdd88aa1f83dbab0d50fafdb0.jpg: 640x640 2 JHs, 2 QCs, 14.5ms\n",
            "image 283/803 /content/Playing-Cards-2/test/images/333851746_jpg.rf.4fa751e461c246ac1936aef1ccf19db4.jpg: 640x640 1 10C, 2 10Ss, 1 8D, 12.0ms\n",
            "image 284/803 /content/Playing-Cards-2/test/images/334427291_jpg.rf.7a357e1a06496abb1a668c09d2d6a784.jpg: 640x640 2 10Ss, 1 3C, 1 KC, 12.1ms\n",
            "image 285/803 /content/Playing-Cards-2/test/images/334682805_jpg.rf.4dce81efe164195ced996c0fe55131aa.jpg: 640x640 2 2Hs, 1 3H, 1 KD, 13.1ms\n",
            "image 286/803 /content/Playing-Cards-2/test/images/335657425_jpg.rf.81a970d8dcc801bda61f6d5bceb590af.jpg: 640x640 2 3Ds, 1 5H, 1 QS, 7.6ms\n",
            "image 287/803 /content/Playing-Cards-2/test/images/336068313_jpg.rf.86bfc213418ec94b8b0a23eb483184bd.jpg: 640x640 1 2C, 1 AD, 2 ASs, 8.8ms\n",
            "image 288/803 /content/Playing-Cards-2/test/images/336350308_jpg.rf.a640d5b055f12e5584547c99247cc669.jpg: 640x640 1 5C, 1 8H, 2 QDs, 7.5ms\n",
            "image 289/803 /content/Playing-Cards-2/test/images/336636671_jpg.rf.751b01a5b0648449a0b65a4d12f46265.jpg: 640x640 1 7D, 1 8C, 2 QHs, 7.5ms\n",
            "image 290/803 /content/Playing-Cards-2/test/images/339209428_jpg.rf.48918cb6414b8ad5afde5dddd11fe362.jpg: 640x640 3 10Ds, 1 JD, 7.5ms\n",
            "image 291/803 /content/Playing-Cards-2/test/images/339917809_jpg.rf.af60b8bf1bee9079daa1507ad13cbf36.jpg: 640x640 1 2H, 1 AD, 2 ASs, 7.5ms\n",
            "image 292/803 /content/Playing-Cards-2/test/images/342845764_jpg.rf.d6a218bd71ef687a9a3f79e978755b7d.jpg: 640x640 2 3Hs, 1 6C, 1 JS, 7.5ms\n",
            "image 293/803 /content/Playing-Cards-2/test/images/343593824_jpg.rf.cf478271098600d390c63c61dba457c4.jpg: 640x640 2 10Ds, 1 9H, 1 AC, 7.5ms\n",
            "image 294/803 /content/Playing-Cards-2/test/images/343876222_jpg.rf.d90dacc4755680ac19dd1355010578d5.jpg: 640x640 2 2Ds, 1 JH, 1 KD, 7.5ms\n",
            "image 295/803 /content/Playing-Cards-2/test/images/347251743_jpg.rf.ad4654967443cd12c0cc83e1b730ed44.jpg: 640x640 1 4H, 2 9Ds, 1 9H, 11.1ms\n",
            "image 296/803 /content/Playing-Cards-2/test/images/348356833_jpg.rf.12b18cc700e49ed1f1b152ec8bd33911.jpg: 640x640 2 10Ds, 1 3D, 1 QS, 7.5ms\n",
            "image 297/803 /content/Playing-Cards-2/test/images/352516544_jpg.rf.20fe753113fbdf208109df0f2ff5b04b.jpg: 640x640 1 4C, 2 5Ds, 1 AC, 7.6ms\n",
            "image 298/803 /content/Playing-Cards-2/test/images/352606125_jpg.rf.20504e19783e74571fbc7793a68f792b.jpg: 640x640 2 10Ss, 1 8C, 1 JH, 7.5ms\n",
            "image 299/803 /content/Playing-Cards-2/test/images/353485553_jpg.rf.8cf580df0db182284199e6bc82bff278.jpg: 640x640 1 5H, 2 8Ss, 1 KC, 7.5ms\n",
            "image 300/803 /content/Playing-Cards-2/test/images/353564249_jpg.rf.148fb2b54f44befae65472ca95c4186f.jpg: 640x640 1 3D, 2 4Hs, 1 8H, 7.5ms\n",
            "image 301/803 /content/Playing-Cards-2/test/images/353880322_jpg.rf.ef1c109a55d239891eeedcac3fdc1797.jpg: 640x640 2 6Ds, 1 8S, 1 AS, 7.5ms\n",
            "image 302/803 /content/Playing-Cards-2/test/images/354186586_jpg.rf.52dd874239927b23642b7e0b0f5ceeb9.jpg: 640x640 2 ASs, 2 JCs, 7.5ms\n",
            "image 303/803 /content/Playing-Cards-2/test/images/354661385_jpg.rf.59a7f720be5249415daec9910cd97db6.jpg: 640x640 1 6D, 2 ASs, 1 QH, 7.5ms\n",
            "image 304/803 /content/Playing-Cards-2/test/images/355135683_jpg.rf.be5729e5135f3c27ec32040946544900.jpg: 640x640 2 10Ss, 1 8S, 1 AC, 7.5ms\n",
            "image 305/803 /content/Playing-Cards-2/test/images/357448804_jpg.rf.1e95bc63e633872b275d66a7094a43db.jpg: 640x640 1 4H, 2 7Ss, 1 8D, 7.5ms\n",
            "image 306/803 /content/Playing-Cards-2/test/images/357618668_jpg.rf.c3efa98c630aa3a0a9556f3d814bae40.jpg: 640x640 1 10C, 1 5S, 2 QDs, 7.5ms\n",
            "image 307/803 /content/Playing-Cards-2/test/images/357967567_jpg.rf.fd1931270cf513a95ee7f89eed43a397.jpg: 640x640 1 3C, 2 3Hs, 1 7H, 7.5ms\n",
            "image 308/803 /content/Playing-Cards-2/test/images/358702940_jpg.rf.6729e44382524c4b688d620e5be915ab.jpg: 640x640 2 2Ss, 1 9C, 1 QH, 7.5ms\n",
            "image 309/803 /content/Playing-Cards-2/test/images/360253505_jpg.rf.4dc84eeb612ec2ceaff5ff2b2d0a2429.jpg: 640x640 1 4C, 1 8D, 2 QDs, 7.5ms\n",
            "image 310/803 /content/Playing-Cards-2/test/images/360875699_jpg.rf.9250d0f34a20058a5dc649ffa6a2f83e.jpg: 640x640 2 2Ds, 1 7H, 1 KD, 7.5ms\n",
            "image 311/803 /content/Playing-Cards-2/test/images/361075061_jpg.rf.b628f275f11a7a3ffad155159d4d3639.jpg: 640x640 1 10S, 2 4Hs, 1 5D, 7.5ms\n",
            "image 312/803 /content/Playing-Cards-2/test/images/362766140_jpg.rf.fb49f2aadbf2c4f9004fa142d8d88bea.jpg: 640x640 2 6Hs, 1 8S, 1 AS, 7.5ms\n",
            "image 313/803 /content/Playing-Cards-2/test/images/366166258_jpg.rf.d09135c3d4c50fc0813812c71ce8a902.jpg: 640x640 1 4C, 2 7Ds, 1 AD, 7.5ms\n",
            "image 314/803 /content/Playing-Cards-2/test/images/367130772_jpg.rf.faec8f62699980b777d2bb155da69500.jpg: 640x640 2 4Hs, 1 JC, 1 QS, 7.5ms\n",
            "image 315/803 /content/Playing-Cards-2/test/images/369753009_jpg.rf.13fa4937359b8d61b6242de829f9cd01.jpg: 640x640 1 2D, 2 4Ds, 1 QH, 7.5ms\n",
            "image 316/803 /content/Playing-Cards-2/test/images/373333424_jpg.rf.8d28a9c6b492e0a3e54505254fe7a3dc.jpg: 640x640 2 7Ds, 2 8Hs, 7.6ms\n",
            "image 317/803 /content/Playing-Cards-2/test/images/374459681_jpg.rf.a84ff1b8103fe96cf93c3f9f86d918cb.jpg: 640x640 1 10D, 3 8Hs, 7.5ms\n",
            "image 318/803 /content/Playing-Cards-2/test/images/375490477_jpg.rf.81d5895656b84ed191d986c8d6ff863d.jpg: 640x640 2 3Ss, 1 7D, 1 7S, 7.5ms\n",
            "image 319/803 /content/Playing-Cards-2/test/images/378631758_jpg.rf.5f1deb8bbe82ca030cb75c2ee8829e90.jpg: 640x640 1 10D, 1 4S, 2 ACs, 7.5ms\n",
            "image 320/803 /content/Playing-Cards-2/test/images/380901050_jpg.rf.6e4bdb2d7b3baa1385dbe72a3aa3cdb0.jpg: 640x640 2 3Ds, 1 5D, 1 JD, 7.5ms\n",
            "image 321/803 /content/Playing-Cards-2/test/images/383018416_jpg.rf.9ab792b9a3879ca2254664d9250153c1.jpg: 640x640 1 2D, 2 JDs, 1 KS, 8.9ms\n",
            "image 322/803 /content/Playing-Cards-2/test/images/384409052_jpg.rf.3a2f1b80d6bc58afd8865d71240f6407.jpg: 640x640 1 10H, 2 3Hs, 1 AC, 7.5ms\n",
            "image 323/803 /content/Playing-Cards-2/test/images/386707176_jpg.rf.ab44680a0ce71c134bb7af76c2c9f2f8.jpg: 640x640 1 2C, 2 9Ss, 1 KS, 7.8ms\n",
            "image 324/803 /content/Playing-Cards-2/test/images/387453418_jpg.rf.69ca2ab0440cb60053f2b5ed2f387f44.jpg: 640x640 3 9Hs, 1 QS, 7.5ms\n",
            "image 325/803 /content/Playing-Cards-2/test/images/387996477_jpg.rf.d02062a7501cab7090efe9ddef36ddb5.jpg: 640x640 1 4D, 2 ACs, 1 AD, 7.5ms\n",
            "image 326/803 /content/Playing-Cards-2/test/images/389944457_jpg.rf.c3a548b412e2563585dbdd8cb65c067a.jpg: 640x640 1 2S, 1 5C, 2 KDs, 7.5ms\n",
            "image 327/803 /content/Playing-Cards-2/test/images/391582875_jpg.rf.904a129730dfc3aae97f8c5d99bdc2ab.jpg: 640x640 1 3H, 1 4D, 2 9Ds, 7.5ms\n",
            "image 328/803 /content/Playing-Cards-2/test/images/393044471_jpg.rf.ccbc61f5d6ef6448830e888f6ab85093.jpg: 640x640 1 9H, 1 KC, 2 KSs, 7.5ms\n",
            "image 329/803 /content/Playing-Cards-2/test/images/393428093_jpg.rf.889f6ad811c4e9a01ef78d03d8e82dbb.jpg: 640x640 1 10C, 1 5H, 2 7Cs, 7.5ms\n",
            "image 330/803 /content/Playing-Cards-2/test/images/393587366_jpg.rf.22e4fc08c2a25435eec573d6ce6f4ae7.jpg: 640x640 1 2H, 2 KSs, 1 QS, 7.5ms\n",
            "image 331/803 /content/Playing-Cards-2/test/images/399938084_jpg.rf.87d3b2a51e34e63f0619e8c887ca31e9.jpg: 640x640 2 2Ss, 1 4C, 1 6H, 8.5ms\n",
            "image 332/803 /content/Playing-Cards-2/test/images/400181469_jpg.rf.8082a46c6f7c347665ac24ec13a0e5fc.jpg: 640x640 2 10Ss, 1 9C, 1 JC, 7.6ms\n",
            "image 333/803 /content/Playing-Cards-2/test/images/400810680_jpg.rf.48c888e2790b2e19a6abd1dd6c36d0bf.jpg: 640x640 2 5Ss, 1 9D, 1 QH, 7.5ms\n",
            "image 334/803 /content/Playing-Cards-2/test/images/400890028_jpg.rf.032a9fd1fa5fbcc34ed5c77bcbde2667.jpg: 640x640 3 2Cs, 1 7S, 7.5ms\n",
            "image 335/803 /content/Playing-Cards-2/test/images/401572722_jpg.rf.277269f67968e793f306994ff70698f9.jpg: 640x640 2 3Cs, 1 8H, 1 JS, 7.5ms\n",
            "image 336/803 /content/Playing-Cards-2/test/images/402882191_jpg.rf.8860dc025b3569096d7801400e460a8c.jpg: 640x640 1 10D, 2 4Ss, 1 KS, 7.5ms\n",
            "image 337/803 /content/Playing-Cards-2/test/images/403383222_jpg.rf.b8ab095f80bca6f82e9cedf4f0f28ba4.jpg: 640x640 1 5S, 1 6C, 2 6Ss, 7.5ms\n",
            "image 338/803 /content/Playing-Cards-2/test/images/403903037_jpg.rf.94db296177abaa2e4be8206741c3b2aa.jpg: 640x640 3 JCs, 1 QH, 7.5ms\n",
            "image 339/803 /content/Playing-Cards-2/test/images/405492896_jpg.rf.23e7a30a4bc9dc539b74c01baaa2297b.jpg: 640x640 1 10D, 2 5Ss, 1 7C, 7.5ms\n",
            "image 340/803 /content/Playing-Cards-2/test/images/405513647_jpg.rf.f78a7477259b03f7c509c5f1742f5154.jpg: 640x640 1 10D, 1 4S, 2 QDs, 13.8ms\n",
            "image 341/803 /content/Playing-Cards-2/test/images/405947350_jpg.rf.7cc6eb157de82eafdd6fcfba4c744ee3.jpg: 640x640 1 4C, 1 5S, 2 ASs, 7.5ms\n",
            "image 342/803 /content/Playing-Cards-2/test/images/408362456_jpg.rf.87ec38adfa482302725c39350331b1d6.jpg: 640x640 1 2D, 2 5Ss, 1 7H, 7.5ms\n",
            "image 343/803 /content/Playing-Cards-2/test/images/408702925_jpg.rf.65017e555f1296ee66cad2a4fc6311f2.jpg: 640x640 2 2Hs, 1 6H, 1 8D, 8.1ms\n",
            "image 344/803 /content/Playing-Cards-2/test/images/408879256_jpg.rf.3da693bf980f996e8b456d3f321410a2.jpg: 640x640 1 2D, 1 9H, 2 JSs, 7.6ms\n",
            "image 345/803 /content/Playing-Cards-2/test/images/409648037_jpg.rf.68c0884e50ae75e56cdf848ae38c5fc0.jpg: 640x640 1 2S, 1 3C, 2 9Cs, 7.5ms\n",
            "image 346/803 /content/Playing-Cards-2/test/images/410873626_jpg.rf.a3d659429d86133db4f6f426983507bc.jpg: 640x640 2 7Ds, 1 7S, 1 9H, 7.5ms\n",
            "image 347/803 /content/Playing-Cards-2/test/images/411989683_jpg.rf.6e2b3218af52e226fedcbdebabe900da.jpg: 640x640 1 2C, 2 6Hs, 1 KD, 7.5ms\n",
            "image 348/803 /content/Playing-Cards-2/test/images/412804668_jpg.rf.7ec42760549e4160e962612d79850c02.jpg: 640x640 1 10S, 1 4S, 2 AHs, 7.5ms\n",
            "image 349/803 /content/Playing-Cards-2/test/images/413913114_jpg.rf.fd48d331f4732b9c1be88a604e20c06e.jpg: 640x640 1 KD, 2 QHs, 1 QS, 7.5ms\n",
            "image 350/803 /content/Playing-Cards-2/test/images/414358657_jpg.rf.d5ee4336e112aaaea4f5b8bed3880153.jpg: 640x640 2 3Ss, 1 AS, 1 QC, 7.5ms\n",
            "image 351/803 /content/Playing-Cards-2/test/images/416251135_jpg.rf.71443115fe09d17fcd5b0f01bc80da67.jpg: 640x640 1 2D, 2 6Cs, 1 JD, 7.5ms\n",
            "image 352/803 /content/Playing-Cards-2/test/images/420583145_jpg.rf.8c063a779f00200feb9e03e721a5d6b6.jpg: 640x640 1 3S, 1 6C, 2 AHs, 7.5ms\n",
            "image 353/803 /content/Playing-Cards-2/test/images/421218502_jpg.rf.4966bb57600f97247bfbf328fb1bc974.jpg: 640x640 2 4Ds, 1 4S, 1 7S, 7.5ms\n",
            "image 354/803 /content/Playing-Cards-2/test/images/422356634_jpg.rf.48dcb11f76bed4564e4595a6ed1d8991.jpg: 640x640 1 4D, 2 KCs, 1 QC, 7.5ms\n",
            "image 355/803 /content/Playing-Cards-2/test/images/424426755_jpg.rf.ac1f6b3343b232289e4e5837dd37b57c.jpg: 640x640 2 2Cs, 1 7D, 1 8H, 7.6ms\n",
            "image 356/803 /content/Playing-Cards-2/test/images/425757911_jpg.rf.0e628fdfaaed34294235d8eaf3b265ed.jpg: 640x640 1 8C, 1 8D, 2 ADs, 8.0ms\n",
            "image 357/803 /content/Playing-Cards-2/test/images/427315647_jpg.rf.34e2aa31bb85df2604dcb2c51625aaf1.jpg: 640x640 2 3Ss, 1 6C, 1 KH, 7.5ms\n",
            "image 358/803 /content/Playing-Cards-2/test/images/428704279_jpg.rf.ccaeb01f8f75fea4e68ca4855e7622f4.jpg: 640x640 1 4H, 2 AHs, 1 QD, 7.5ms\n",
            "image 359/803 /content/Playing-Cards-2/test/images/428833729_jpg.rf.d66715980cb7f85b7f14de40b5a5fb6e.jpg: 640x640 2 4Cs, 1 5S, 1 AS, 7.5ms\n",
            "image 360/803 /content/Playing-Cards-2/test/images/429213543_jpg.rf.6017c89ae06c55943e5b227e595da535.jpg: 640x640 1 10H, 1 9H, 2 ADs, 7.5ms\n",
            "image 361/803 /content/Playing-Cards-2/test/images/430281760_jpg.rf.f852670a9dd543b1d24c6e4dae0a79b7.jpg: 640x640 2 10Ss, 1 6D, 1 8D, 7.5ms\n",
            "image 362/803 /content/Playing-Cards-2/test/images/430600910_jpg.rf.b6f4c2ec96f8c4a1ff752073d1265672.jpg: 640x640 1 4C, 2 5Ss, 1 QH, 7.5ms\n",
            "image 363/803 /content/Playing-Cards-2/test/images/430823611_jpg.rf.d9c605889100475c3d1aeaba330bef81.jpg: 640x640 1 2C, 1 6C, 2 8Ds, 8.8ms\n",
            "image 364/803 /content/Playing-Cards-2/test/images/432255616_jpg.rf.f27ea631c776eb7c018f2c61a9ed65f0.jpg: 640x640 1 3D, 2 8Cs, 1 KC, 7.5ms\n",
            "image 365/803 /content/Playing-Cards-2/test/images/433498525_jpg.rf.973ae9b1f901d984151d5a0c382e0510.jpg: 640x640 1 5C, 1 JS, 2 QDs, 8.4ms\n",
            "image 366/803 /content/Playing-Cards-2/test/images/438521982_jpg.rf.8da858074f6a737c4184e1ed0bb6ae88.jpg: 640x640 1 6H, 1 7D, 2 KHs, 8.7ms\n",
            "image 367/803 /content/Playing-Cards-2/test/images/440358740_jpg.rf.3e5ac8f3c4ad5f9723c7d1526d784043.jpg: 640x640 1 6S, 2 8Ss, 1 QH, 7.5ms\n",
            "image 368/803 /content/Playing-Cards-2/test/images/441601820_jpg.rf.aa4e263e9e382d61c8a4ee13016c3492.jpg: 640x640 1 2C, 3 JSs, 7.5ms\n",
            "image 369/803 /content/Playing-Cards-2/test/images/444356074_jpg.rf.979f7e69f631b2db687618ebe88cd0b7.jpg: 640x640 1 2S, 2 4Hs, 1 6C, 7.6ms\n",
            "image 370/803 /content/Playing-Cards-2/test/images/445251359_jpg.rf.4b808872efb4b23cf25f6dfdc50478a1.jpg: 640x640 2 3Ss, 2 KCs, 8.0ms\n",
            "image 371/803 /content/Playing-Cards-2/test/images/445569084_jpg.rf.15427ba79fa05a9d57cc185e932deac9.jpg: 640x640 2 3Ss, 1 4S, 1 5H, 7.5ms\n",
            "image 372/803 /content/Playing-Cards-2/test/images/446801686_jpg.rf.8a4f1f9b4497599b1cc69d4911f4d9d2.jpg: 640x640 3 10Ds, 1 5D, 7.5ms\n",
            "image 373/803 /content/Playing-Cards-2/test/images/450012036_jpg.rf.02b446dce1ecd79fa73533522a276852.jpg: 640x640 2 QHs, 2 QSs, 7.5ms\n",
            "image 374/803 /content/Playing-Cards-2/test/images/451229143_jpg.rf.38728ad4555342c2af67ba377704a6e4.jpg: 640x640 1 3S, 2 9Ss, 1 KH, 7.5ms\n",
            "image 375/803 /content/Playing-Cards-2/test/images/453944888_jpg.rf.f30c29b7a1fc00a890c44eeceaf4ee25.jpg: 640x640 1 3S, 2 5Hs, 1 5S, 7.5ms\n",
            "image 376/803 /content/Playing-Cards-2/test/images/454014883_jpg.rf.bf00bcf46867b0618e7a9b3938466022.jpg: 640x640 2 3Ss, 1 5D, 1 5S, 7.5ms\n",
            "image 377/803 /content/Playing-Cards-2/test/images/455579824_jpg.rf.ff4aa0c6d0131c5f0faccf66cd823084.jpg: 640x640 1 10D, 1 6S, 2 ADs, 20.3ms\n",
            "image 378/803 /content/Playing-Cards-2/test/images/455984196_jpg.rf.ffacf72175a940b4e685782648d1fd83.jpg: 640x640 2 4Ss, 1 7S, 1 9D, 7.6ms\n",
            "image 379/803 /content/Playing-Cards-2/test/images/456593563_jpg.rf.6a7ce1619724b15210188663ba17a27e.jpg: 640x640 2 4Ss, 1 5D, 1 KD, 7.6ms\n",
            "image 380/803 /content/Playing-Cards-2/test/images/458103091_jpg.rf.d5551fd20a37a2de8487aa8c6ae9f4c2.jpg: 640x640 1 10S, 2 ADs, 1 QS, 7.5ms\n",
            "image 381/803 /content/Playing-Cards-2/test/images/458806360_jpg.rf.cf21168d5e5c3da67fda7324392b1d71.jpg: 640x640 1 10S, 2 4Cs, 1 9H, 8.0ms\n",
            "image 382/803 /content/Playing-Cards-2/test/images/460299064_jpg.rf.881b49fc4222e7ca7bc1ed92046e520f.jpg: 640x640 2 10Hs, 1 8H, 1 AS, 7.5ms\n",
            "image 383/803 /content/Playing-Cards-2/test/images/460650989_jpg.rf.f6a89d3e9f03b5b79eb558e039927f4a.jpg: 640x640 1 3C, 2 6Cs, 1 9D, 7.5ms\n",
            "image 384/803 /content/Playing-Cards-2/test/images/461716168_jpg.rf.cd87ffda65d395964197d711233489ca.jpg: 640x640 2 5Hs, 1 6C, 1 6D, 11.3ms\n",
            "image 385/803 /content/Playing-Cards-2/test/images/463468456_jpg.rf.734f3059567a549273edd331e703f2f9.jpg: 640x640 1 3H, 2 7Hs, 1 QH, 7.5ms\n",
            "image 386/803 /content/Playing-Cards-2/test/images/463481960_jpg.rf.c7162f01893258f4145ee6787c553c85.jpg: 640x640 1 10S, 2 6Ds, 1 AD, 7.5ms\n",
            "image 387/803 /content/Playing-Cards-2/test/images/465407947_jpg.rf.5491b5c91e354799c93a553762e33477.jpg: 640x640 2 5Ss, 1 AD, 1 JC, 7.6ms\n",
            "image 388/803 /content/Playing-Cards-2/test/images/466027525_jpg.rf.3a4694c6b63a13710c3cdc0821f6b902.jpg: 640x640 2 2Ds, 1 7D, 1 8H, 7.6ms\n",
            "image 389/803 /content/Playing-Cards-2/test/images/467491547_jpg.rf.98a224e45d5ef36f0715ea96ef93b990.jpg: 640x640 1 8C, 2 JDs, 1 KC, 7.5ms\n",
            "image 390/803 /content/Playing-Cards-2/test/images/473598755_jpg.rf.5138f7175528aa392fcab60aa07bbbe5.jpg: 640x640 1 4H, 1 JS, 2 KHs, 7.5ms\n",
            "image 391/803 /content/Playing-Cards-2/test/images/476124309_jpg.rf.12f61fa8b902e1e30a72739dd5d7455b.jpg: 640x640 1 2S, 1 4H, 2 6Ss, 7.5ms\n",
            "image 392/803 /content/Playing-Cards-2/test/images/476534969_jpg.rf.26a281e5d70bfdc1cc6cfa397db40661.jpg: 640x640 2 2Hs, 2 8Hs, 7.6ms\n",
            "image 393/803 /content/Playing-Cards-2/test/images/478907120_jpg.rf.fe02485e45c36c4610db2a8dc4a78edb.jpg: 640x640 1 3C, 2 8Ss, 1 KS, 7.5ms\n",
            "image 394/803 /content/Playing-Cards-2/test/images/480259653_jpg.rf.6373bcd4359d6777f1b9d3dd96d40e12.jpg: 640x640 1 6H, 2 9Cs, 1 AD, 7.6ms\n",
            "image 395/803 /content/Playing-Cards-2/test/images/482312439_jpg.rf.5a0525189354643dbbc8f78de0e37ac8.jpg: 640x640 1 10C, 3 7Hs, 7.5ms\n",
            "image 396/803 /content/Playing-Cards-2/test/images/482988159_jpg.rf.871bdced56903160c92b9e74dad7527d.jpg: 640x640 2 2Hs, 1 6S, 1 9C, 7.5ms\n",
            "image 397/803 /content/Playing-Cards-2/test/images/483874857_jpg.rf.62b7f1439ad497107b77fba1a1761a79.jpg: 640x640 2 7Hs, 2 QHs, 7.5ms\n",
            "image 398/803 /content/Playing-Cards-2/test/images/485020290_jpg.rf.d09e0ad00ed56bde3922d540d575986f.jpg: 640x640 2 8Ss, 1 9S, 1 KC, 7.6ms\n",
            "image 399/803 /content/Playing-Cards-2/test/images/486126923_jpg.rf.618c67191acdd83f7a899249ee34cd17.jpg: 640x640 2 10Cs, 2 10Ds, 7.5ms\n",
            "image 400/803 /content/Playing-Cards-2/test/images/487163197_jpg.rf.7857aab412087e4ef07cbeafdc38bf38.jpg: 640x640 2 10Ss, 1 9S, 1 KD, 7.5ms\n",
            "image 401/803 /content/Playing-Cards-2/test/images/487606603_jpg.rf.b2aa9efd22fe8dc1d905ef012d5c9c68.jpg: 640x640 2 5Cs, 1 JS, 1 QC, 9.6ms\n",
            "image 402/803 /content/Playing-Cards-2/test/images/487861950_jpg.rf.d4b102f3915d7b853a2e2b1022f92f7e.jpg: 640x640 1 2S, 1 9S, 2 JDs, 7.5ms\n",
            "image 403/803 /content/Playing-Cards-2/test/images/488235756_jpg.rf.4e79506074cfa8392f538332fb8e5843.jpg: 640x640 1 2H, 2 3Ds, 1 QD, 8.4ms\n",
            "image 404/803 /content/Playing-Cards-2/test/images/489696389_jpg.rf.06505b103b4f1b4dfee940715bd01cc3.jpg: 640x640 1 JD, 1 KS, 2 QCs, 7.5ms\n",
            "image 405/803 /content/Playing-Cards-2/test/images/489923898_jpg.rf.fa76bee033321405014b1cb834a73a77.jpg: 640x640 1 10S, 1 2H, 2 6Hs, 7.5ms\n",
            "image 406/803 /content/Playing-Cards-2/test/images/490372183_jpg.rf.380e84f19e322c7853050c3895336335.jpg: 640x640 2 10Hs, 1 6C, 1 9D, 7.5ms\n",
            "image 407/803 /content/Playing-Cards-2/test/images/491024110_jpg.rf.360cdb50971f38e6b3b15651e8613c3a.jpg: 640x640 2 3Hs, 1 4S, 1 QH, 7.5ms\n",
            "image 408/803 /content/Playing-Cards-2/test/images/491649801_jpg.rf.5084d6316379166992f01ad78cba2aba.jpg: 640x640 1 10D, 2 5Ss, 1 8S, 7.5ms\n",
            "image 409/803 /content/Playing-Cards-2/test/images/494862494_jpg.rf.6dbba007e8f0569295db4d869f318414.jpg: 640x640 1 9C, 2 JSs, 1 QC, 8.4ms\n",
            "image 410/803 /content/Playing-Cards-2/test/images/496778198_jpg.rf.c83e7fc1dfa31745ddf072c652a34908.jpg: 640x640 1 AC, 2 JHs, 1 QD, 7.5ms\n",
            "image 411/803 /content/Playing-Cards-2/test/images/498010269_jpg.rf.fcd20eab7898d1c584c331ba83a4471f.jpg: 640x640 2 4Ss, 1 8S, 1 AH, 7.5ms\n",
            "image 412/803 /content/Playing-Cards-2/test/images/502713647_jpg.rf.d39d96235b55bd460e49f8e82bd25c81.jpg: 640x640 2 10Ss, 1 2C, 1 4S, 7.5ms\n",
            "image 413/803 /content/Playing-Cards-2/test/images/503297133_jpg.rf.21e75741d82e47a6e0f77c6d387bc3a9.jpg: 640x640 2 2Ds, 1 6D, 1 AD, 7.5ms\n",
            "image 414/803 /content/Playing-Cards-2/test/images/503494245_jpg.rf.d08ea678f225981283a88e220f3db0d0.jpg: 640x640 1 7D, 1 JC, 2 JDs, 7.5ms\n",
            "image 415/803 /content/Playing-Cards-2/test/images/505106121_jpg.rf.3b76ffe905ccf2ae81d680a0d1c446c4.jpg: 640x640 1 5D, 2 9Ss, 1 KS, 7.5ms\n",
            "image 416/803 /content/Playing-Cards-2/test/images/507682833_jpg.rf.9cde3d9ca22746028c9013f931a8a30a.jpg: 640x640 1 5C, 1 6D, 2 KHs, 7.5ms\n",
            "image 417/803 /content/Playing-Cards-2/test/images/510025150_jpg.rf.02cc1f991c7be0db43c2d771a0df4e0c.jpg: 640x640 2 5Cs, 1 7H, 1 JH, 10.7ms\n",
            "image 418/803 /content/Playing-Cards-2/test/images/513145427_jpg.rf.31057be0a516f23034824dc0f2823a0f.jpg: 640x640 2 3Ds, 1 9D, 1 KD, 7.5ms\n",
            "image 419/803 /content/Playing-Cards-2/test/images/515653645_jpg.rf.3a4c75928a04dee4b2b6cb076b88623f.jpg: 640x640 2 8Hs, 1 AH, 1 KH, 7.5ms\n",
            "image 420/803 /content/Playing-Cards-2/test/images/516773377_jpg.rf.50650dea94ccf3120b60cd5292e661f0.jpg: 640x640 2 5Cs, 1 6D, 1 KC, 7.5ms\n",
            "image 421/803 /content/Playing-Cards-2/test/images/516938431_jpg.rf.caf2264bae8ce1d0308218589b95664e.jpg: 640x640 1 10H, 2 9Ds, 1 QS, 7.5ms\n",
            "image 422/803 /content/Playing-Cards-2/test/images/517015665_jpg.rf.7867b3cc5d1406f9b980320e0df099e8.jpg: 640x640 1 7S, 1 9S, 2 KCs, 12.2ms\n",
            "image 423/803 /content/Playing-Cards-2/test/images/520587550_jpg.rf.41cd284c6ea0b048b8d7445593da150c.jpg: 640x640 2 2Ds, 1 4H, 1 5D, 7.6ms\n",
            "image 424/803 /content/Playing-Cards-2/test/images/520587991_jpg.rf.863d3d904d6e3a7e75f731e5f761b746.jpg: 640x640 1 2S, 2 8Ds, 1 JH, 7.6ms\n",
            "image 425/803 /content/Playing-Cards-2/test/images/521414281_jpg.rf.47361ddaa873da5d8be368993241c1eb.jpg: 640x640 1 3S, 1 4H, 2 7Cs, 8.9ms\n",
            "image 426/803 /content/Playing-Cards-2/test/images/522540856_jpg.rf.72f039d9b25cc099db4795e1e282d542.jpg: 640x640 1 10C, 1 JH, 2 QSs, 8.2ms\n",
            "image 427/803 /content/Playing-Cards-2/test/images/522819110_jpg.rf.2b32822235fb0bf02088b9506257ff77.jpg: 640x640 1 2C, 1 6D, 2 7Hs, 7.5ms\n",
            "image 428/803 /content/Playing-Cards-2/test/images/523110536_jpg.rf.f63f20b773f165b72adab39c150eef6a.jpg: 640x640 1 2H, 2 6Hs, 1 8S, 12.5ms\n",
            "image 429/803 /content/Playing-Cards-2/test/images/524021388_jpg.rf.81a3d023f150854ee7ffc622e25dbf9b.jpg: 640x640 1 10S, 2 6Cs, 1 AS, 7.6ms\n",
            "image 430/803 /content/Playing-Cards-2/test/images/525659846_jpg.rf.6385b38a61f0dbeecb074e9fbbfbe939.jpg: 640x640 1 2C, 2 8Hs, 1 JS, 8.4ms\n",
            "image 431/803 /content/Playing-Cards-2/test/images/527898214_jpg.rf.fec2b286a2041fa058159d3a93472d15.jpg: 640x640 2 10Cs, 1 2H, 1 JD, 7.5ms\n",
            "image 432/803 /content/Playing-Cards-2/test/images/528665159_jpg.rf.91d17c2d16f63789f78246ca2d2faf9c.jpg: 640x640 2 5Ds, 1 6D, 1 6S, 7.5ms\n",
            "image 433/803 /content/Playing-Cards-2/test/images/529268360_jpg.rf.17fddf5d7d5d7414c7ea61bd4aa7a4ee.jpg: 640x640 1 3D, 1 AC, 2 JHs, 7.7ms\n",
            "image 434/803 /content/Playing-Cards-2/test/images/529682954_jpg.rf.08f2e25b05507da7ecd2fe9405330ef0.jpg: 640x640 1 7S, 1 8C, 2 KHs, 7.5ms\n",
            "image 435/803 /content/Playing-Cards-2/test/images/529734875_jpg.rf.471b503f210ce1ba594065c3fd0e47e2.jpg: 640x640 1 3H, 1 3S, 2 7Ss, 7.5ms\n",
            "image 436/803 /content/Playing-Cards-2/test/images/530389982_jpg.rf.c432677560e3af2f302e6d53f7cab237.jpg: 640x640 1 4S, 2 5Cs, 1 AD, 7.5ms\n",
            "image 437/803 /content/Playing-Cards-2/test/images/531236308_jpg.rf.020b06db25b758392eb9a4113dbd15b7.jpg: 640x640 2 10Cs, 1 4D, 1 AC, 1 KD, 7.5ms\n",
            "image 438/803 /content/Playing-Cards-2/test/images/533187786_jpg.rf.1191f8f91c5d86e4c347ec042ab97e0e.jpg: 640x640 2 2Ds, 1 4S, 1 9D, 7.6ms\n",
            "image 439/803 /content/Playing-Cards-2/test/images/533699163_jpg.rf.ad1c722d931a696eb208e6989fa06cfa.jpg: 640x640 1 2S, 1 AH, 2 QCs, 7.5ms\n",
            "image 440/803 /content/Playing-Cards-2/test/images/537329295_jpg.rf.dc5b0d8551feceede33c1f8975f9a45a.jpg: 640x640 1 10S, 2 5Cs, 1 QD, 7.5ms\n",
            "image 441/803 /content/Playing-Cards-2/test/images/537893329_jpg.rf.dad3505d773bf957a7363088ad86a7c7.jpg: 640x640 2 5Ss, 1 KH, 1 QC, 7.5ms\n",
            "image 442/803 /content/Playing-Cards-2/test/images/538913083_jpg.rf.89b4a7242f7e42eeeccddd9ac6a4b3a2.jpg: 640x640 2 5Ss, 1 9H, 1 QS, 7.9ms\n",
            "image 443/803 /content/Playing-Cards-2/test/images/540471995_jpg.rf.f0d909a892c51043c7919e88aa743db5.jpg: 640x640 2 9Cs, 1 9H, 1 KS, 7.5ms\n",
            "image 444/803 /content/Playing-Cards-2/test/images/541304696_jpg.rf.e5e955bea992806b5206468b69f34c9b.jpg: 640x640 1 5S, 2 9Ss, 1 JS, 7.5ms\n",
            "image 445/803 /content/Playing-Cards-2/test/images/541324792_jpg.rf.43b4a2b0f07c42ae0d23ac1efe33102f.jpg: 640x640 1 3C, 2 4Ds, 1 AD, 7.5ms\n",
            "image 446/803 /content/Playing-Cards-2/test/images/542756394_jpg.rf.3f5445c9da2f0879f5b15d2606c52b0c.jpg: 640x640 2 5Ds, 1 8C, 1 JS, 12.4ms\n",
            "image 447/803 /content/Playing-Cards-2/test/images/542963817_jpg.rf.2ecf5f471dcc4ebb2bcfc0fdaddf69a7.jpg: 640x640 1 7S, 1 8H, 2 JSs, 7.5ms\n",
            "image 448/803 /content/Playing-Cards-2/test/images/544877958_jpg.rf.ef7eff8679a08109c5a10a10cbae6828.jpg: 640x640 1 8H, 1 9H, 2 JHs, 7.5ms\n",
            "image 449/803 /content/Playing-Cards-2/test/images/550672326_jpg.rf.48606f7b3ccf95e51f887b7e05df3ac7.jpg: 640x640 1 10C, 1 2D, 2 JSs, 7.5ms\n",
            "image 450/803 /content/Playing-Cards-2/test/images/552097959_jpg.rf.f18627e1639281a1860e7de9477f7892.jpg: 640x640 1 2H, 2 7Ss, 1 8H, 7.5ms\n",
            "image 451/803 /content/Playing-Cards-2/test/images/555096232_jpg.rf.200463a7eaa4c5ce136f858cf62173ff.jpg: 640x640 2 10Ds, 1 4H, 1 5C, 8.4ms\n",
            "image 452/803 /content/Playing-Cards-2/test/images/555406034_jpg.rf.48e3477a87c18064082eeaaf0d382e1d.jpg: 640x640 1 2S, 1 9H, 2 ACs, 7.5ms\n",
            "image 453/803 /content/Playing-Cards-2/test/images/555842654_jpg.rf.d85dfa09634c3f2ed048a3d1b2a24f03.jpg: 640x640 1 2D, 2 4Ds, 1 4S, 7.6ms\n",
            "image 454/803 /content/Playing-Cards-2/test/images/558059210_jpg.rf.013fe44bcbfc33b42bfe94d788deb872.jpg: 640x640 1 6S, 2 9Cs, 1 QC, 7.5ms\n",
            "image 455/803 /content/Playing-Cards-2/test/images/559177000_jpg.rf.3acf9498d5844a7e837370ebcd00fa99.jpg: 640x640 1 10S, 2 2Hs, 1 KH, 7.5ms\n",
            "image 456/803 /content/Playing-Cards-2/test/images/561857073_jpg.rf.15e749c04abfe8705b3fd59ab8a6eb66.jpg: 640x640 2 2Cs, 1 2S, 1 AH, 7.5ms\n",
            "image 457/803 /content/Playing-Cards-2/test/images/562483228_jpg.rf.68beeda0b670d3f1c067f9d45ee402a6.jpg: 640x640 1 4S, 2 5Ds, 1 KS, 7.5ms\n",
            "image 458/803 /content/Playing-Cards-2/test/images/565409248_jpg.rf.bdc5863ff1d64be940eb7738ca8c81fa.jpg: 640x640 1 8D, 1 JC, 2 JSs, 7.5ms\n",
            "image 459/803 /content/Playing-Cards-2/test/images/566465804_jpg.rf.df7455d817815bdb32ccb437da6e4ec7.jpg: 640x640 1 JC, 1 JS, 2 KDs, 9.0ms\n",
            "image 460/803 /content/Playing-Cards-2/test/images/566563281_jpg.rf.4b46c19c9ef5eb4a2b0a1ae63f4a02e1.jpg: 640x640 1 5C, 1 7H, 2 9Hs, 7.5ms\n",
            "image 461/803 /content/Playing-Cards-2/test/images/567471724_jpg.rf.f6d2b91ea763730fd5ee265675c83730.jpg: 640x640 1 4C, 1 4S, 2 6Hs, 7.5ms\n",
            "image 462/803 /content/Playing-Cards-2/test/images/569395275_jpg.rf.1e10a29994ebe2642a714565134b67eb.jpg: 640x640 1 3S, 1 4D, 2 9Hs, 7.5ms\n",
            "image 463/803 /content/Playing-Cards-2/test/images/571366521_jpg.rf.915fbdc7b3b178c62174ab2edca51cb4.jpg: 640x640 2 5Hs, 1 5S, 1 JD, 7.5ms\n",
            "image 464/803 /content/Playing-Cards-2/test/images/575101955_jpg.rf.d8845203071038b9588e59ee392982b9.jpg: 640x640 1 5S, 2 6Ss, 1 7C, 7.5ms\n",
            "image 465/803 /content/Playing-Cards-2/test/images/578950296_jpg.rf.14fda2da6677c9b0a717d232edb121b9.jpg: 640x640 2 3Ss, 1 9C, 1 JC, 7.5ms\n",
            "image 466/803 /content/Playing-Cards-2/test/images/580339586_jpg.rf.5f52eb91257a3064f9fda5b8d598ae4c.jpg: 640x640 1 4C, 3 8Ds, 7.8ms\n",
            "image 467/803 /content/Playing-Cards-2/test/images/582693230_jpg.rf.040dafab057c4977dcf9f08b551126ee.jpg: 640x640 1 3S, 2 7Ds, 1 KS, 7.5ms\n",
            "image 468/803 /content/Playing-Cards-2/test/images/582769051_jpg.rf.b18932ccbed8b397321ef027887720d7.jpg: 640x640 2 5Ss, 1 6H, 1 AC, 7.5ms\n",
            "image 469/803 /content/Playing-Cards-2/test/images/583039129_jpg.rf.b564436b5f1390274841e939c69b588d.jpg: 640x640 2 6Hs, 1 8S, 1 KS, 7.5ms\n",
            "image 470/803 /content/Playing-Cards-2/test/images/583434448_jpg.rf.5834fbce33e09177452bd37acdfe1a1d.jpg: 640x640 1 3S, 2 8Ss, 1 AD, 7.5ms\n",
            "image 471/803 /content/Playing-Cards-2/test/images/583641479_jpg.rf.d33af043194219e2221ea2991dd48f54.jpg: 640x640 2 2Ss, 1 4D, 1 AS, 7.5ms\n",
            "image 472/803 /content/Playing-Cards-2/test/images/584857942_jpg.rf.95e98a2cf3b6bb074c0fe2c46501bbac.jpg: 640x640 1 7S, 2 8Hs, 1 QS, 7.5ms\n",
            "image 473/803 /content/Playing-Cards-2/test/images/588586839_jpg.rf.03403ee5d5896288ba2a4b24358bca14.jpg: 640x640 1 5C, 2 6Hs, 1 9H, 12.6ms\n",
            "image 474/803 /content/Playing-Cards-2/test/images/591640094_jpg.rf.daf55b16e3901a943df35d5f5cf6026c.jpg: 640x640 2 10Hs, 1 10S, 1 4H, 7.5ms\n",
            "image 475/803 /content/Playing-Cards-2/test/images/593302763_jpg.rf.5c53ef45f2b070543b63fe32c0dd1499.jpg: 640x640 1 4D, 1 8D, 2 8Ss, 1 AD, 7.5ms\n",
            "image 476/803 /content/Playing-Cards-2/test/images/594486128_jpg.rf.5f94de75f28963752337f0b2f442c045.jpg: 640x640 2 3Hs, 1 4S, 1 QD, 7.7ms\n",
            "image 477/803 /content/Playing-Cards-2/test/images/594687076_jpg.rf.70a70571bcdfca1eb7bb289e0a1f7ce6.jpg: 640x640 2 3Ds, 1 7C, 1 JH, 7.5ms\n",
            "image 478/803 /content/Playing-Cards-2/test/images/596131312_jpg.rf.e44c7abc78d0317f532babdfc1c23cb7.jpg: 640x640 1 2S, 2 JCs, 1 KC, 7.5ms\n",
            "image 479/803 /content/Playing-Cards-2/test/images/596276837_jpg.rf.e3502dbaf8f3a1dea485c2df80547bdd.jpg: 640x640 1 2C, 2 8Ss, 1 9D, 7.5ms\n",
            "image 480/803 /content/Playing-Cards-2/test/images/596288588_jpg.rf.6d3048eefeea4564ad6e7dd918623a70.jpg: 640x640 1 2C, 1 6H, 2 KDs, 7.5ms\n",
            "image 481/803 /content/Playing-Cards-2/test/images/596508023_jpg.rf.421bb519b3b49e74c15339788409ce9a.jpg: 640x640 1 10C, 2 6Ss, 1 7C, 7.5ms\n",
            "image 482/803 /content/Playing-Cards-2/test/images/598672638_jpg.rf.d13ef04dd20d15b529d1cc89fda90d43.jpg: 640x640 1 10C, 2 9Hs, 1 AS, 7.5ms\n",
            "image 483/803 /content/Playing-Cards-2/test/images/599847500_jpg.rf.11aecb3206b6d3b1955d40a70d0a0ebf.jpg: 640x640 1 3H, 1 6H, 2 7Ds, 7.5ms\n",
            "image 484/803 /content/Playing-Cards-2/test/images/600030552_jpg.rf.2fa202bcc94ac55161e47dcefd21cce7.jpg: 640x640 1 4C, 2 6Ss, 1 8C, 7.5ms\n",
            "image 485/803 /content/Playing-Cards-2/test/images/601284549_jpg.rf.ba70c5a0819331b1dea26c32c8cc9292.jpg: 640x640 1 4D, 2 JDs, 1 QD, 7.5ms\n",
            "image 486/803 /content/Playing-Cards-2/test/images/601762743_jpg.rf.9a34ea8042736c44dc98ccf7f9a121fa.jpg: 640x640 1 10C, 2 6Hs, 1 AD, 7.5ms\n",
            "image 487/803 /content/Playing-Cards-2/test/images/602126770_jpg.rf.3c62752002cc79411da3315e3ae30f96.jpg: 640x640 2 10Ds, 1 2D, 1 7D, 7.5ms\n",
            "image 488/803 /content/Playing-Cards-2/test/images/602279123_jpg.rf.beadf69d145ab0ad036000ca141353da.jpg: 640x640 1 3D, 2 6Ss, 1 AD, 7.5ms\n",
            "image 489/803 /content/Playing-Cards-2/test/images/602934141_jpg.rf.ee6e134af6b2d3bf452bc4827100935d.jpg: 640x640 1 2S, 2 5Ds, 1 QC, 7.5ms\n",
            "image 490/803 /content/Playing-Cards-2/test/images/603912427_jpg.rf.ba11c5f33fe002d9c9df8d464a228fab.jpg: 640x640 1 7D, 1 7S, 2 8Ds, 7.5ms\n",
            "image 491/803 /content/Playing-Cards-2/test/images/604049558_jpg.rf.4898e1350a0e79be3bf1f20c670e6906.jpg: 640x640 2 JSs, 1 KC, 1 QH, 7.5ms\n",
            "image 492/803 /content/Playing-Cards-2/test/images/606226778_jpg.rf.28f9ba8fa08a38e20ce9bda8fbc8b3e9.jpg: 640x640 1 4D, 2 KCs, 1 KS, 7.5ms\n",
            "image 493/803 /content/Playing-Cards-2/test/images/607475358_jpg.rf.f5ecb1f30478917b647ec05c812e9f98.jpg: 640x640 1 10S, 1 7D, 2 9Ds, 7.5ms\n",
            "image 494/803 /content/Playing-Cards-2/test/images/607997555_jpg.rf.daa776b363b12855387411648df673fc.jpg: 640x640 2 5Ds, 1 AD, 1 QH, 7.5ms\n",
            "image 495/803 /content/Playing-Cards-2/test/images/608875727_jpg.rf.e09a25f1486a43583fb421223780d226.jpg: 640x640 1 6S, 3 KDs, 7.5ms\n",
            "image 496/803 /content/Playing-Cards-2/test/images/609918361_jpg.rf.0d8df234f24c78dc7cf32dbbebe34982.jpg: 640x640 2 10Cs, 1 2D, 1 8H, 7.5ms\n",
            "image 497/803 /content/Playing-Cards-2/test/images/610724608_jpg.rf.cff0f6cc44347998ec148b2d7c14fe68.jpg: 640x640 2 5Ss, 1 6D, 1 8H, 7.5ms\n",
            "image 498/803 /content/Playing-Cards-2/test/images/611140106_jpg.rf.d7d571e14f6efed834e442f283d26e38.jpg: 640x640 1 6C, 2 8Ds, 1 AD, 7.5ms\n",
            "image 499/803 /content/Playing-Cards-2/test/images/611320019_jpg.rf.34b9cd49966b03daf3530f7b021f83ab.jpg: 640x640 2 3Cs, 1 4D, 1 9C, 7.5ms\n",
            "image 500/803 /content/Playing-Cards-2/test/images/611886474_jpg.rf.7bb446cf5599e214aef7e259f7c92a19.jpg: 640x640 2 2Hs, 1 8H, 1 9C, 7.5ms\n",
            "image 501/803 /content/Playing-Cards-2/test/images/613346096_jpg.rf.24c5cd9913ed047dc81b55279a328044.jpg: 640x640 1 2D, 2 JHs, 1 KS, 10.7ms\n",
            "image 502/803 /content/Playing-Cards-2/test/images/614470790_jpg.rf.a4cc8d703acd54f339987fcf8bfa977b.jpg: 640x640 1 3D, 2 ASs, 1 JC, 9.4ms\n",
            "image 503/803 /content/Playing-Cards-2/test/images/616498238_jpg.rf.dd865c046d71f8b8f91dfff1250a41e0.jpg: 640x640 1 6D, 2 9Ds, 1 AS, 7.5ms\n",
            "image 504/803 /content/Playing-Cards-2/test/images/618212804_jpg.rf.89dd60ca794047f2dcf0740a7e4613cd.jpg: 640x640 1 2D, 1 6D, 2 JCs, 7.5ms\n",
            "image 505/803 /content/Playing-Cards-2/test/images/619286483_jpg.rf.403bc6a850c6ab5290bc6f6301f87e29.jpg: 640x640 1 10C, 2 5Ss, 1 JC, 7.5ms\n",
            "image 506/803 /content/Playing-Cards-2/test/images/619397283_jpg.rf.17d7941746f9c0fb4638773522c4b049.jpg: 640x640 2 4Ds, 1 AS, 1 JS, 7.5ms\n",
            "image 507/803 /content/Playing-Cards-2/test/images/620524681_jpg.rf.e5c73228439fca46bf023a654d9e4c9e.jpg: 640x640 2 5Hs, 1 9D, 1 JD, 7.5ms\n",
            "image 508/803 /content/Playing-Cards-2/test/images/627384584_jpg.rf.c652cc306f2afd5ab31ce3c4d7893243.jpg: 640x640 1 3D, 2 ACs, 1 JS, 7.5ms\n",
            "image 509/803 /content/Playing-Cards-2/test/images/627681418_jpg.rf.277db92565be17d079815c7da34569ad.jpg: 640x640 1 4S, 1 6S, 2 AHs, 7.5ms\n",
            "image 510/803 /content/Playing-Cards-2/test/images/628421502_jpg.rf.43ad3085871c5ed64e1b4c059fe133a5.jpg: 640x640 2 10Hs, 1 3S, 1 8C, 7.5ms\n",
            "image 511/803 /content/Playing-Cards-2/test/images/628467240_jpg.rf.bca4832da395c862012d20d2ae4b7768.jpg: 640x640 2 4Cs, 1 6D, 1 AD, 8.7ms\n",
            "image 512/803 /content/Playing-Cards-2/test/images/628490123_jpg.rf.f6c334fc5cb0653c06fd3bbbac1b1a9d.jpg: 640x640 1 5C, 1 5S, 2 AHs, 7.5ms\n",
            "image 513/803 /content/Playing-Cards-2/test/images/630252214_jpg.rf.182f602253cf848465e975bfa7ca1990.jpg: 640x640 2 4Ds, 1 7C, 1 7S, 7.5ms\n",
            "image 514/803 /content/Playing-Cards-2/test/images/631460252_jpg.rf.0d9d775be5f53c81707fd4828d90bb24.jpg: 640x640 1 10D, 1 10H, 2 2Hs, 7.5ms\n",
            "image 515/803 /content/Playing-Cards-2/test/images/633355618_jpg.rf.2fa4e92f393e61bc8e796077990a532e.jpg: 640x640 1 6H, 2 7Ss, 1 8D, 7.5ms\n",
            "image 516/803 /content/Playing-Cards-2/test/images/633426926_jpg.rf.9aa180bd6a3e8ba35116d307b1f06dce.jpg: 640x640 2 10Ds, 1 7D, 1 AS, 7.5ms\n",
            "image 517/803 /content/Playing-Cards-2/test/images/633479844_jpg.rf.ff2ea25eb4f66047b804afb139cb7e41.jpg: 640x640 1 6H, 2 7Hs, 1 KS, 7.5ms\n",
            "image 518/803 /content/Playing-Cards-2/test/images/635454710_jpg.rf.464e8270c6e90d262cb549fe76345d42.jpg: 640x640 1 10S, 1 5H, 2 8Ss, 13.1ms\n",
            "image 519/803 /content/Playing-Cards-2/test/images/636433006_jpg.rf.d9541499e674bec9f8e05bba158c320a.jpg: 640x640 1 6C, 2 8Cs, 1 JS, 7.5ms\n",
            "image 520/803 /content/Playing-Cards-2/test/images/639885883_jpg.rf.ca9b5f7f6d94d44d82498952d12a26af.jpg: 640x640 1 3H, 1 4S, 2 JHs, 7.5ms\n",
            "image 521/803 /content/Playing-Cards-2/test/images/640658847_jpg.rf.fe887ad1e8732773b4325d7d578dcdf2.jpg: 640x640 1 2D, 1 6C, 2 QSs, 7.5ms\n",
            "image 522/803 /content/Playing-Cards-2/test/images/642412748_jpg.rf.66b309e09d503ed9e5e4de616d0f9a8a.jpg: 640x640 1 4D, 1 6D, 2 ADs, 7.5ms\n",
            "image 523/803 /content/Playing-Cards-2/test/images/649684893_jpg.rf.713c1d131fb3679f72cd66e68b7aeeb9.jpg: 640x640 1 10C, 2 4Ds, 1 7H, 7.5ms\n",
            "image 524/803 /content/Playing-Cards-2/test/images/650251706_jpg.rf.2d9154c376e0019b202ea861daaf67ed.jpg: 640x640 2 10Ds, 1 9S, 1 KS, 7.5ms\n",
            "image 525/803 /content/Playing-Cards-2/test/images/650908418_jpg.rf.019e6e924145ac8e1e56661883915dcb.jpg: 640x640 2 3Hs, 1 4H, 1 KC, 7.5ms\n",
            "image 526/803 /content/Playing-Cards-2/test/images/651264429_jpg.rf.85380f37736622c2aac125d770da6961.jpg: 640x640 2 4Ss, 1 AC, 1 QH, 7.5ms\n",
            "image 527/803 /content/Playing-Cards-2/test/images/651346478_jpg.rf.66fd4cf6997e547f85521372c7678eec.jpg: 640x640 2 8Cs, 2 JHs, 7.5ms\n",
            "image 528/803 /content/Playing-Cards-2/test/images/651643483_jpg.rf.82e007d8413f07347e5cee758ea87374.jpg: 640x640 1 7H, 2 9Cs, 1 AD, 7.5ms\n",
            "image 529/803 /content/Playing-Cards-2/test/images/652311884_jpg.rf.c5791542e751d0373ebe27a104175202.jpg: 640x640 1 9D, 2 9Hs, 1 AH, 7.5ms\n",
            "image 530/803 /content/Playing-Cards-2/test/images/652530792_jpg.rf.7459d3039576cc2e60197488fc99b5ee.jpg: 640x640 2 3Cs, 1 6C, 1 QH, 7.5ms\n",
            "image 531/803 /content/Playing-Cards-2/test/images/652869201_jpg.rf.e2ea62b73ed62ff8a0e40a61936121d4.jpg: 640x640 1 5H, 1 9D, 2 9Ss, 7.5ms\n",
            "image 532/803 /content/Playing-Cards-2/test/images/654079340_jpg.rf.62d054b6bb692d86391046a7f54b1e98.jpg: 640x640 2 9Cs, 2 KCs, 12.0ms\n",
            "image 533/803 /content/Playing-Cards-2/test/images/655669665_jpg.rf.f66d5f851819a070cff18b076f467e1e.jpg: 640x640 2 5Ss, 1 AD, 1 JS, 8.3ms\n",
            "image 534/803 /content/Playing-Cards-2/test/images/656206005_jpg.rf.d5276f8d50a1f95b216d66fc9dd5a9b3.jpg: 640x640 1 2C, 2 8Cs, 1 QS, 7.5ms\n",
            "image 535/803 /content/Playing-Cards-2/test/images/659226035_jpg.rf.b473a6f77d3b48912f2a6c7f0e2b525d.jpg: 640x640 3 3Ss, 1 6S, 7.9ms\n",
            "image 536/803 /content/Playing-Cards-2/test/images/659282639_jpg.rf.4a93aaeaaf05e161e9d374e63a710895.jpg: 640x640 1 7D, 1 9H, 2 KCs, 7.5ms\n",
            "image 537/803 /content/Playing-Cards-2/test/images/659935028_jpg.rf.41ea15fa330fc7a4550f6aae2361e7b8.jpg: 640x640 2 2Hs, 1 3D, 1 9D, 7.5ms\n",
            "image 538/803 /content/Playing-Cards-2/test/images/660142604_jpg.rf.a359d24864bd2c81a80a76bdb7b69abe.jpg: 640x640 1 3S, 1 9S, 2 KHs, 8.5ms\n",
            "image 539/803 /content/Playing-Cards-2/test/images/661773240_jpg.rf.31ba875a8fb064c1eeb6f4690eadfead.jpg: 640x640 1 10H, 1 9H, 2 KDs, 7.5ms\n",
            "image 540/803 /content/Playing-Cards-2/test/images/662550052_jpg.rf.93f6c1863e5442b8af4084dbd4a14054.jpg: 640x640 2 3Hs, 1 8H, 1 JC, 7.5ms\n",
            "image 541/803 /content/Playing-Cards-2/test/images/663326352_jpg.rf.d5a862d441dfecb512eada7c92f15899.jpg: 640x640 2 5Cs, 1 5S, 1 9S, 7.5ms\n",
            "image 542/803 /content/Playing-Cards-2/test/images/663375808_jpg.rf.4ae4a38eb8f176114ada01d8305c0be9.jpg: 640x640 1 10H, 1 2H, 2 KHs, 7.5ms\n",
            "image 543/803 /content/Playing-Cards-2/test/images/665400331_jpg.rf.9e9b811de78298ba5641f89e25a7df2f.jpg: 640x640 1 10C, 1 5D, 2 ADs, 10.7ms\n",
            "image 544/803 /content/Playing-Cards-2/test/images/667686427_jpg.rf.28080895742cc682e74bf621b6635ce6.jpg: 640x640 1 7C, 2 JCs, 1 KH, 7.5ms\n",
            "image 545/803 /content/Playing-Cards-2/test/images/670563608_jpg.rf.e1061a70e75594d94494185e9a88be49.jpg: 640x640 2 10Ds, 1 8D, 1 QS, 7.5ms\n",
            "image 546/803 /content/Playing-Cards-2/test/images/670662480_jpg.rf.102b70a35045433ee98ec8e886dcfd0a.jpg: 640x640 1 2S, 2 3Ds, 1 6D, 7.5ms\n",
            "image 547/803 /content/Playing-Cards-2/test/images/671806120_jpg.rf.8e94e3c0d95c1e2e52976ce4fbaf0116.jpg: 640x640 1 8S, 3 QDs, 7.5ms\n",
            "image 548/803 /content/Playing-Cards-2/test/images/673859674_jpg.rf.74c89ed7b36f0dbfcaa4f1123a2d8595.jpg: 640x640 1 3S, 2 AHs, 1 KS, 7.6ms\n",
            "image 549/803 /content/Playing-Cards-2/test/images/675998924_jpg.rf.80d4934a694013a82b9cdcb1775ebfab.jpg: 640x640 2 3Hs, 1 5C, 1 JS, 7.5ms\n",
            "image 550/803 /content/Playing-Cards-2/test/images/676132480_jpg.rf.bd9454022203d165a16359715b4fd169.jpg: 640x640 1 2S, 3 QDs, 7.5ms\n",
            "image 551/803 /content/Playing-Cards-2/test/images/676273887_jpg.rf.2ba1eb1232724cedde260aa373a736a8.jpg: 640x640 1 7C, 1 AH, 2 QCs, 7.5ms\n",
            "image 552/803 /content/Playing-Cards-2/test/images/677127677_jpg.rf.3ab54937b0832d9fce4b6931ee51b924.jpg: 640x640 1 10S, 1 2D, 2 JHs, 7.5ms\n",
            "image 553/803 /content/Playing-Cards-2/test/images/678415153_jpg.rf.870b0bea368b5ab2667cb41795bd1565.jpg: 640x640 2 10Cs, 1 4H, 1 KC, 7.5ms\n",
            "image 554/803 /content/Playing-Cards-2/test/images/680434557_jpg.rf.50292fd87845df08fb111cad831dd078.jpg: 640x640 2 6Hs, 1 7D, 1 QS, 7.5ms\n",
            "image 555/803 /content/Playing-Cards-2/test/images/680502581_jpg.rf.e42e4d65ff8fc264ead707a2c9502bab.jpg: 640x640 1 2D, 1 5C, 2 ASs, 7.5ms\n",
            "image 556/803 /content/Playing-Cards-2/test/images/682028990_jpg.rf.27769003ea968d337ec4f47cf4fe0582.jpg: 640x640 2 7Cs, 1 8C, 1 AC, 7.5ms\n",
            "image 557/803 /content/Playing-Cards-2/test/images/682667555_jpg.rf.766710151bb57d5122168de72474ab4d.jpg: 640x640 2 ACs, 1 JS, 1 QH, 7.5ms\n",
            "image 558/803 /content/Playing-Cards-2/test/images/683436390_jpg.rf.49f105979ca967387b3e23c50bf37bcc.jpg: 640x640 1 4C, 2 4Ds, 1 KC, 7.5ms\n",
            "image 559/803 /content/Playing-Cards-2/test/images/683700997_jpg.rf.f6ae5c03ae6afd43e0195f9f04ad1d80.jpg: 640x640 1 2C, 1 5H, 2 8Hs, 7.5ms\n",
            "image 560/803 /content/Playing-Cards-2/test/images/688464033_jpg.rf.b91bfb40b161246bde4acebc27d5d85d.jpg: 640x640 1 10D, 1 4H, 2 5Hs, 7.5ms\n",
            "image 561/803 /content/Playing-Cards-2/test/images/689632336_jpg.rf.355c1b1c8457a9e08efe296b91c9a476.jpg: 640x640 1 6D, 2 KDs, 1 QC, 7.5ms\n",
            "image 562/803 /content/Playing-Cards-2/test/images/690948879_jpg.rf.af7b54a562ff2d8962697feddc47b0e5.jpg: 640x640 1 2C, 1 4H, 2 5Ds, 9.7ms\n",
            "image 563/803 /content/Playing-Cards-2/test/images/693306609_jpg.rf.a68a3978379f72fcdd335aa7f2216bc5.jpg: 640x640 1 10H, 2 8Ss, 1 AS, 10.2ms\n",
            "image 564/803 /content/Playing-Cards-2/test/images/694570558_jpg.rf.efaf9a8e48579b131060ad4882f8017e.jpg: 640x640 1 10H, 2 10Ss, 1 KD, 7.5ms\n",
            "image 565/803 /content/Playing-Cards-2/test/images/696945439_jpg.rf.3314db809cd43e0dc2c81ce944733d96.jpg: 640x640 1 3D, 2 7Ds, 1 KD, 7.5ms\n",
            "image 566/803 /content/Playing-Cards-2/test/images/697034658_jpg.rf.23c11da705efc164106a0d02c3f02440.jpg: 640x640 1 5H, 1 6C, 2 7Ds, 7.5ms\n",
            "image 567/803 /content/Playing-Cards-2/test/images/699052107_jpg.rf.51056f0852581215f68fa159dbedfd3e.jpg: 640x640 2 10Cs, 1 9S, 1 JD, 7.5ms\n",
            "image 568/803 /content/Playing-Cards-2/test/images/700272188_jpg.rf.3df03c6561aa0bf3db4da93bd2eab5c4.jpg: 640x640 3 ADs, 1 KH, 7.5ms\n",
            "image 569/803 /content/Playing-Cards-2/test/images/703637601_jpg.rf.664ffaff24b0e9da15064d4b1c443841.jpg: 640x640 2 2Ss, 1 3S, 1 8S, 9.0ms\n",
            "image 570/803 /content/Playing-Cards-2/test/images/704028802_jpg.rf.05424c14404e068c62cdb3b76618ce9f.jpg: 640x640 2 3Ss, 1 6D, 1 KS, 7.5ms\n",
            "image 571/803 /content/Playing-Cards-2/test/images/704744144_jpg.rf.8d188534061c12e82ac76da8fa852eb2.jpg: 640x640 3 2Hs, 1 4H, 8.3ms\n",
            "image 572/803 /content/Playing-Cards-2/test/images/706831318_jpg.rf.acab937714161ab65351097d32ef8e31.jpg: 640x640 1 2S, 2 8Ds, 1 JD, 7.5ms\n",
            "image 573/803 /content/Playing-Cards-2/test/images/707652877_jpg.rf.2403201c068e85166953f85f20d48711.jpg: 640x640 1 10D, 2 3Cs, 1 AS, 7.5ms\n",
            "image 574/803 /content/Playing-Cards-2/test/images/708343854_jpg.rf.aaca76116b5cc15acec2de7470fc8827.jpg: 640x640 2 8Hs, 1 9H, 1 JC, 7.5ms\n",
            "image 575/803 /content/Playing-Cards-2/test/images/709619830_jpg.rf.5f86d4ac7c09fc8da2202a38dae417e6.jpg: 640x640 1 3S, 1 8D, 2 8Hs, 7.8ms\n",
            "image 576/803 /content/Playing-Cards-2/test/images/709978853_jpg.rf.bbbdcc7109df964b91e12d1f5bf97bb0.jpg: 640x640 1 AS, 2 JSs, 1 KS, 7.5ms\n",
            "image 577/803 /content/Playing-Cards-2/test/images/710720736_jpg.rf.6ff64630480d6dce6f82108282d39ca0.jpg: 640x640 1 10H, 1 4D, 2 JCs, 8.9ms\n",
            "image 578/803 /content/Playing-Cards-2/test/images/710900469_jpg.rf.9c82d6eca19d1d835b9edd626208a218.jpg: 640x640 2 2Hs, 1 4D, 1 5H, 7.5ms\n",
            "image 579/803 /content/Playing-Cards-2/test/images/711184761_jpg.rf.1082a782dd00d1a6c83c041dca8a5a04.jpg: 640x640 2 5Ss, 1 7S, 1 JS, 7.5ms\n",
            "image 580/803 /content/Playing-Cards-2/test/images/711305336_jpg.rf.a0d2f9d782848ba1fd89242b12296bc9.jpg: 640x640 2 5Cs, 1 7C, 1 AS, 7.7ms\n",
            "image 581/803 /content/Playing-Cards-2/test/images/712342282_jpg.rf.2dc0b42e48673b8af04667d82e2f54cd.jpg: 640x640 1 AC, 2 ASs, 1 KH, 7.5ms\n",
            "image 582/803 /content/Playing-Cards-2/test/images/713005562_jpg.rf.e54183b8e7e86d04272af4b5120d8ecb.jpg: 640x640 2 8Ds, 1 9H, 1 QH, 7.5ms\n",
            "image 583/803 /content/Playing-Cards-2/test/images/713869189_jpg.rf.abed543ddd06a1c6c79304cd73bd8a29.jpg: 640x640 1 2S, 2 7Ds, 1 KH, 7.5ms\n",
            "image 584/803 /content/Playing-Cards-2/test/images/720686164_jpg.rf.80489c7a0cc86a539bf36d638cd19e97.jpg: 640x640 2 3Ds, 1 4D, 1 9S, 7.5ms\n",
            "image 585/803 /content/Playing-Cards-2/test/images/721036534_jpg.rf.55ade2663ffde7311eb46d2436c3a2ac.jpg: 640x640 1 3S, 2 4Ds, 1 QC, 7.5ms\n",
            "image 586/803 /content/Playing-Cards-2/test/images/722435888_jpg.rf.6b086266a29abfbc5ced5df41ff39d7f.jpg: 640x640 1 2H, 2 3Cs, 1 8S, 7.5ms\n",
            "image 587/803 /content/Playing-Cards-2/test/images/724649405_jpg.rf.766d66d9ebfd1a0f1b0de24948982744.jpg: 640x640 1 8D, 2 9Hs, 1 QS, 7.5ms\n",
            "image 588/803 /content/Playing-Cards-2/test/images/729682549_jpg.rf.a2e63017f7db29fa6d2b2374a3adbefc.jpg: 640x640 1 4H, 2 9Cs, 1 AD, 9.1ms\n",
            "image 589/803 /content/Playing-Cards-2/test/images/731835463_jpg.rf.02de12178215cb85a4d9e77bfe3b2673.jpg: 640x640 2 4Cs, 1 9D, 1 QD, 7.5ms\n",
            "image 590/803 /content/Playing-Cards-2/test/images/733475946_jpg.rf.4f29ae26d53bf85993e339094215cfce.jpg: 640x640 2 6Cs, 1 8H, 1 QS, 7.5ms\n",
            "image 591/803 /content/Playing-Cards-2/test/images/733650240_jpg.rf.14ae8a5addcc81ace4659f3eba28d0f3.jpg: 640x640 1 8C, 2 ACs, 1 JH, 7.5ms\n",
            "image 592/803 /content/Playing-Cards-2/test/images/733666919_jpg.rf.3a60e8d1de8d034a7d0979ce8ffe76ff.jpg: 640x640 1 10C, 2 3Hs, 1 KH, 7.5ms\n",
            "image 593/803 /content/Playing-Cards-2/test/images/734399227_jpg.rf.40558b8788aed3e2f495d99f9ccbfd57.jpg: 640x640 2 2Ds, 1 2H, 1 KC, 7.5ms\n",
            "image 594/803 /content/Playing-Cards-2/test/images/734484349_jpg.rf.005361a2ebea8d90cdd1962ff6619bc1.jpg: 640x640 2 3Cs, 1 9S, 1 KD, 7.5ms\n",
            "image 595/803 /content/Playing-Cards-2/test/images/736316802_jpg.rf.7246b1d062fced2c1060e636b1d024ee.jpg: 640x640 2 2Hs, 1 5D, 1 QS, 7.5ms\n",
            "image 596/803 /content/Playing-Cards-2/test/images/740907680_jpg.rf.80fe55358baa9a4985c55fb460634a76.jpg: 640x640 1 3C, 1 7C, 2 KDs, 7.5ms\n",
            "image 597/803 /content/Playing-Cards-2/test/images/742817130_jpg.rf.d0ad44bcc903017947536077e5da2eaf.jpg: 640x640 1 8C, 1 9S, 2 ASs, 7.5ms\n",
            "image 598/803 /content/Playing-Cards-2/test/images/744556785_jpg.rf.bc0df1814d1bb99e968ffabac281f44c.jpg: 640x640 1 5C, 1 8S, 2 ACs, 7.5ms\n",
            "image 599/803 /content/Playing-Cards-2/test/images/745650783_jpg.rf.490d12b8f414cb068276dc4bcf87cbca.jpg: 640x640 1 3C, 1 6D, 2 8Ds, 13.6ms\n",
            "image 600/803 /content/Playing-Cards-2/test/images/745773749_jpg.rf.d860c44ce0abafd0dfcd4804f1f96135.jpg: 640x640 1 3S, 1 8D, 2 JHs, 7.5ms\n",
            "image 601/803 /content/Playing-Cards-2/test/images/748578339_jpg.rf.6f1c82c85fcb8623004f9cf3927d279f.jpg: 640x640 1 6D, 1 9D, 2 QSs, 7.5ms\n",
            "image 602/803 /content/Playing-Cards-2/test/images/749050493_jpg.rf.b583ee6615f8ae859b803435b21db4da.jpg: 640x640 2 4Ss, 1 5S, 1 8D, 7.5ms\n",
            "image 603/803 /content/Playing-Cards-2/test/images/749816285_jpg.rf.65ccd5d1d019ba1520a5a6ede61c9237.jpg: 640x640 3 5Ds, 1 8S, 7.5ms\n",
            "image 604/803 /content/Playing-Cards-2/test/images/750045148_jpg.rf.1f20ba15ef18ab1a341061ddf396af88.jpg: 640x640 1 6S, 1 7C, 2 KDs, 7.5ms\n",
            "image 605/803 /content/Playing-Cards-2/test/images/752207710_jpg.rf.2f34f7b88903645647b7edebdb050910.jpg: 640x640 2 10Ss, 1 5C, 1 5D, 7.5ms\n",
            "image 606/803 /content/Playing-Cards-2/test/images/752668459_jpg.rf.4907de312d06170c823de7d9a45bdf66.jpg: 640x640 1 10D, 1 4S, 2 KHs, 7.5ms\n",
            "image 607/803 /content/Playing-Cards-2/test/images/756543599_jpg.rf.c32ad543a622cf5387d81c12e69142c7.jpg: 640x640 2 2Hs, 1 3S, 1 8D, 14.9ms\n",
            "image 608/803 /content/Playing-Cards-2/test/images/758099236_jpg.rf.30ae5a6cad5811388cf00c26bac90f8f.jpg: 640x640 1 5D, 2 9Hs, 1 QH, 7.5ms\n",
            "image 609/803 /content/Playing-Cards-2/test/images/761238177_jpg.rf.dcb4db242d4141a539bd9c6ec4e28740.jpg: 640x640 2 7Hs, 1 AC, 1 QC, 7.5ms\n",
            "image 610/803 /content/Playing-Cards-2/test/images/762437423_jpg.rf.fd222ee69679da45dc930ba729115eac.jpg: 640x640 1 6H, 1 7D, 2 KCs, 7.5ms\n",
            "image 611/803 /content/Playing-Cards-2/test/images/762985224_jpg.rf.70fe071c61ad398df748412ede522e61.jpg: 640x640 1 4C, 2 6Hs, 1 8S, 7.5ms\n",
            "image 612/803 /content/Playing-Cards-2/test/images/764201392_jpg.rf.236e2a38f0020b088b51136e8670f925.jpg: 640x640 1 4S, 1 9D, 2 QCs, 7.5ms\n",
            "image 613/803 /content/Playing-Cards-2/test/images/764314639_jpg.rf.13d867923f3a0e1f5f1710b9f582ce48.jpg: 640x640 1 7D, 1 8S, 2 ACs, 7.5ms\n",
            "image 614/803 /content/Playing-Cards-2/test/images/767073441_jpg.rf.d8d4a9c2af96dd5e16767828580b72d5.jpg: 640x640 1 2H, 2 KCs, 1 QH, 7.5ms\n",
            "image 615/803 /content/Playing-Cards-2/test/images/768300467_jpg.rf.3086c4bb9148ba99517ce3df4ea508da.jpg: 640x640 1 2C, 2 5Ds, 1 6C, 7.5ms\n",
            "image 616/803 /content/Playing-Cards-2/test/images/771289161_jpg.rf.b4cc68cf4025072cc69dce2014d54b42.jpg: 640x640 2 10Ds, 1 4H, 1 5H, 7.5ms\n",
            "image 617/803 /content/Playing-Cards-2/test/images/772693523_jpg.rf.f60d02282fce88b7fb6a9d9281e51355.jpg: 640x640 1 5C, 1 AS, 2 KSs, 7.5ms\n",
            "image 618/803 /content/Playing-Cards-2/test/images/773130797_jpg.rf.bd522ff07fb2a8b426553d407e66e0f5.jpg: 640x640 2 8Ds, 1 9D, 1 KH, 7.6ms\n",
            "image 619/803 /content/Playing-Cards-2/test/images/774269131_jpg.rf.0aae988e529191f1ac401bb9c90e2135.jpg: 640x640 1 6C, 2 JHs, 1 KC, 8.5ms\n",
            "image 620/803 /content/Playing-Cards-2/test/images/778909085_jpg.rf.65283b2b944121ad9c170e41b0bdb90d.jpg: 640x640 1 6H, 1 8C, 2 8Ds, 7.5ms\n",
            "image 621/803 /content/Playing-Cards-2/test/images/779590855_jpg.rf.7c519b30642ddb5e7765d10d81d940f3.jpg: 640x640 1 2S, 2 7Ss, 1 9C, 7.5ms\n",
            "image 622/803 /content/Playing-Cards-2/test/images/780346313_jpg.rf.48ea3a23061eb352262dc99185ff4170.jpg: 640x640 2 2Cs, 1 5H, 1 7C, 8.5ms\n",
            "image 623/803 /content/Playing-Cards-2/test/images/780969139_jpg.rf.d3e2efcf4d3c63c9d512c70ae11f68d6.jpg: 640x640 1 2H, 1 9S, 2 AHs, 7.6ms\n",
            "image 624/803 /content/Playing-Cards-2/test/images/782014087_jpg.rf.7bb829e18d23774e2992c78c8dc22786.jpg: 640x640 2 3Ss, 1 9C, 1 KH, 7.5ms\n",
            "image 625/803 /content/Playing-Cards-2/test/images/782724070_jpg.rf.15d476f0da26fdc04ac4b81f66b79d35.jpg: 640x640 2 5Ds, 1 9D, 1 JH, 7.5ms\n",
            "image 626/803 /content/Playing-Cards-2/test/images/786016541_jpg.rf.30c111f16719f4b5df5c93a4c60138ed.jpg: 640x640 1 10D, 1 QD, 2 QHs, 7.8ms\n",
            "image 627/803 /content/Playing-Cards-2/test/images/787403694_jpg.rf.5b432971f980c659fe4f878c8b1c1ee1.jpg: 640x640 1 3H, 1 JH, 2 KHs, 8.4ms\n",
            "image 628/803 /content/Playing-Cards-2/test/images/790450350_jpg.rf.56fdd317672b2be8eb9d3ee8ed967f4a.jpg: 640x640 1 3H, 2 6Ss, 1 AD, 7.5ms\n",
            "image 629/803 /content/Playing-Cards-2/test/images/791094798_jpg.rf.15a021cca3b73701bfcd142660ed6eb8.jpg: 640x640 1 8D, 1 JH, 2 KHs, 7.5ms\n",
            "image 630/803 /content/Playing-Cards-2/test/images/793476488_jpg.rf.c8b5b3ee3c441166372a13fd444e21ac.jpg: 640x640 1 4H, 2 9Ds, 1 KC, 7.5ms\n",
            "image 631/803 /content/Playing-Cards-2/test/images/794057848_jpg.rf.3d118d4f97f17687d7bf061a45283409.jpg: 640x640 1 6C, 1 6H, 2 AHs, 7.6ms\n",
            "image 632/803 /content/Playing-Cards-2/test/images/794514673_jpg.rf.2aa294a8260c8929492eaf59a28b957d.jpg: 640x640 1 2S, 2 4Hs, 1 KS, 11.0ms\n",
            "image 633/803 /content/Playing-Cards-2/test/images/795076883_jpg.rf.3818b0e96b719b25fd3297b3847073d7.jpg: 640x640 1 7S, 2 QCs, 1 QD, 7.5ms\n",
            "image 634/803 /content/Playing-Cards-2/test/images/795742870_jpg.rf.f70c5b9a4647ed8151340b37abd14e3b.jpg: 640x640 2 3Cs, 1 4H, 1 QS, 7.5ms\n",
            "image 635/803 /content/Playing-Cards-2/test/images/798017093_jpg.rf.0fe68933f56b5f69d15b5e57ea586b3c.jpg: 640x640 1 2S, 1 4D, 2 KHs, 7.5ms\n",
            "image 636/803 /content/Playing-Cards-2/test/images/798086023_jpg.rf.15a7773e35a154fb097a69d61da19394.jpg: 640x640 2 10Cs, 1 9C, 1 JS, 7.5ms\n",
            "image 637/803 /content/Playing-Cards-2/test/images/799573525_jpg.rf.ece80178dba63325240d357735a72640.jpg: 640x640 2 2Ss, 1 5S, 1 JD, 7.5ms\n",
            "image 638/803 /content/Playing-Cards-2/test/images/801532411_jpg.rf.a3e055072c06cf0370d41c6f4d3ee967.jpg: 640x640 2 3Ds, 1 5C, 1 KC, 7.5ms\n",
            "image 639/803 /content/Playing-Cards-2/test/images/802757122_jpg.rf.e6b29954b9bc30c726dbc9073e25a940.jpg: 640x640 1 7S, 1 8D, 2 KCs, 7.5ms\n",
            "image 640/803 /content/Playing-Cards-2/test/images/803666008_jpg.rf.2477c2e36f07f5bb44ec8acdd58a3028.jpg: 640x640 1 5C, 2 ADs, 1 KH, 7.5ms\n",
            "image 641/803 /content/Playing-Cards-2/test/images/804238370_jpg.rf.19e8439f6d6d17732103e9c35a49bdae.jpg: 640x640 1 10C, 2 6Hs, 1 9S, 7.5ms\n",
            "image 642/803 /content/Playing-Cards-2/test/images/806213625_jpg.rf.fdb124dd145ed573f2457d0cd5397044.jpg: 640x640 2 7Hs, 2 8Ss, 7.5ms\n",
            "image 643/803 /content/Playing-Cards-2/test/images/806454126_jpg.rf.2c0ec38b3e3fe4f255cd95ee3e6374af.jpg: 640x640 2 4Hs, 1 8C, 1 8H, 7.5ms\n",
            "image 644/803 /content/Playing-Cards-2/test/images/807520149_jpg.rf.b8436ad6e6c1a98974003d75788a9ac5.jpg: 640x640 2 3Ds, 1 KD, 1 KS, 7.5ms\n",
            "image 645/803 /content/Playing-Cards-2/test/images/808974957_jpg.rf.54bf84a0b6f45fc7b468603f78322bff.jpg: 640x640 1 4C, 2 6Ds, 1 9S, 7.5ms\n",
            "image 646/803 /content/Playing-Cards-2/test/images/809485535_jpg.rf.c9e42102068b45c45881c10a8537354a.jpg: 640x640 2 10Cs, 1 2H, 1 KD, 8.9ms\n",
            "image 647/803 /content/Playing-Cards-2/test/images/811318020_jpg.rf.119ebf5cc7c82fc8a54289ca8347d703.jpg: 640x640 1 4D, 1 6D, 2 7Cs, 7.5ms\n",
            "image 648/803 /content/Playing-Cards-2/test/images/812237549_jpg.rf.457fe1c2623705696a56bab871dae7cf.jpg: 640x640 2 5Cs, 2 5Hs, 7.5ms\n",
            "image 649/803 /content/Playing-Cards-2/test/images/813590461_jpg.rf.a934a55104a3bb3300896d652214364a.jpg: 640x640 2 2Ds, 1 3H, 1 3S, 7.5ms\n",
            "image 650/803 /content/Playing-Cards-2/test/images/814500724_jpg.rf.3701912dbe136db22244963505156233.jpg: 640x640 1 6C, 2 9Ds, 1 QH, 10.9ms\n",
            "image 651/803 /content/Playing-Cards-2/test/images/816777280_jpg.rf.1a69e632e916ec7642fbc56a14bacbf1.jpg: 640x640 1 10C, 1 3C, 2 3Ss, 8.3ms\n",
            "image 652/803 /content/Playing-Cards-2/test/images/817458718_jpg.rf.78a02373f1506ad1faac138f42b81be3.jpg: 640x640 1 9C, 1 JS, 2 QCs, 7.5ms\n",
            "image 653/803 /content/Playing-Cards-2/test/images/818343622_jpg.rf.36bf462b6ca25979a0e1b1f18dbc9a44.jpg: 640x640 2 2Hs, 1 2S, 1 KS, 7.5ms\n",
            "image 654/803 /content/Playing-Cards-2/test/images/819158411_jpg.rf.d75e94c7b77065b9b8963a03f8bb4f63.jpg: 640x640 1 2C, 1 5S, 2 ADs, 7.5ms\n",
            "image 655/803 /content/Playing-Cards-2/test/images/819231143_jpg.rf.38ae8c9af039f301fe23ae0817746972.jpg: 640x640 1 5C, 1 6H, 2 KHs, 7.5ms\n",
            "image 656/803 /content/Playing-Cards-2/test/images/819428059_jpg.rf.0fee690fb2abdc25c7b9c2e8c864a572.jpg: 640x640 1 6C, 1 JC, 2 KSs, 7.5ms\n",
            "image 657/803 /content/Playing-Cards-2/test/images/819708856_jpg.rf.e82e833a8401eb63ddfd0c062c5e547e.jpg: 640x640 1 5C, 1 7H, 2 JHs, 7.5ms\n",
            "image 658/803 /content/Playing-Cards-2/test/images/821907658_jpg.rf.2fba7667e096be4e297839fd50391db4.jpg: 640x640 1 6H, 1 9S, 2 QSs, 7.5ms\n",
            "image 659/803 /content/Playing-Cards-2/test/images/822680444_jpg.rf.9279034478e6f242bcb1723f3f7dff1b.jpg: 640x640 1 2C, 1 6H, 2 KSs, 7.5ms\n",
            "image 660/803 /content/Playing-Cards-2/test/images/823699108_jpg.rf.1fe0bac5e31962eadc3a3d6c4d5363a1.jpg: 640x640 2 8Ds, 1 9C, 1 AS, 7.5ms\n",
            "image 661/803 /content/Playing-Cards-2/test/images/824930913_jpg.rf.d0b729a45b0c5912fc9d03e64387d280.jpg: 640x640 2 2Ss, 1 3D, 1 6C, 7.5ms\n",
            "image 662/803 /content/Playing-Cards-2/test/images/828127787_jpg.rf.07ff5715c51ff5c1045f92569c118ab7.jpg: 640x640 2 5Hs, 1 7S, 1 JS, 7.5ms\n",
            "image 663/803 /content/Playing-Cards-2/test/images/829052012_jpg.rf.5ad902467bf837a25420445050013abe.jpg: 640x640 1 4C, 1 5D, 2 9Ds, 7.5ms\n",
            "image 664/803 /content/Playing-Cards-2/test/images/829958751_jpg.rf.5f44cfc32642e01ab81e6df805e2f5c0.jpg: 640x640 1 5C, 1 5H, 2 KDs, 7.5ms\n",
            "image 665/803 /content/Playing-Cards-2/test/images/832794645_jpg.rf.f8dfc258589928c6a9e832926fb1322d.jpg: 640x640 1 6H, 1 7H, 2 9Ss, 7.5ms\n",
            "image 666/803 /content/Playing-Cards-2/test/images/835574755_jpg.rf.9f17532b0831e49b2508be2ebabb2cae.jpg: 640x640 1 6D, 2 8Cs, 1 9C, 9.4ms\n",
            "image 667/803 /content/Playing-Cards-2/test/images/836027375_jpg.rf.2c757009d6e1349ade8339c35613b8fe.jpg: 640x640 1 2C, 2 5Cs, 1 KD, 7.5ms\n",
            "image 668/803 /content/Playing-Cards-2/test/images/836454469_jpg.rf.2fca854974b9a42d5286b8482c407787.jpg: 640x640 2 7Hs, 1 9S, 1 KH, 7.5ms\n",
            "image 669/803 /content/Playing-Cards-2/test/images/837232137_jpg.rf.faf943f810520346b70e7a5be540dd06.jpg: 640x640 2 10Ds, 1 2D, 1 AS, 7.5ms\n",
            "image 670/803 /content/Playing-Cards-2/test/images/838105712_jpg.rf.8355217573e397529a45af074d8aef59.jpg: 640x640 2 4Ss, 1 JC, 1 JH, 7.6ms\n",
            "image 671/803 /content/Playing-Cards-2/test/images/838317907_jpg.rf.98160530b14025d4fe36775cf4a6cbf2.jpg: 640x640 1 6C, 2 6Hs, 1 9D, 7.5ms\n",
            "image 672/803 /content/Playing-Cards-2/test/images/839245809_jpg.rf.e4507274ef8df423fe5ca0564e500194.jpg: 640x640 1 10D, 1 10H, 2 6Ds, 7.5ms\n",
            "image 673/803 /content/Playing-Cards-2/test/images/840271571_jpg.rf.d4536f3b0b84779d39e14497a2ba319e.jpg: 640x640 2 10Cs, 1 7S, 1 QH, 7.5ms\n",
            "image 674/803 /content/Playing-Cards-2/test/images/841942037_jpg.rf.418ce65e97ea0d10d199a6329ae140ca.jpg: 640x640 1 6C, 2 8Hs, 1 KD, 8.8ms\n",
            "image 675/803 /content/Playing-Cards-2/test/images/843519540_jpg.rf.0552bada78ecded3e49a280ad9af8400.jpg: 640x640 1 9C, 1 9D, 2 JDs, 7.5ms\n",
            "image 676/803 /content/Playing-Cards-2/test/images/844892121_jpg.rf.d32978e704ee32233b1778e1980d5b6e.jpg: 640x640 1 10C, 2 3Hs, 1 7D, 7.5ms\n",
            "image 677/803 /content/Playing-Cards-2/test/images/845415769_jpg.rf.44c361f5b5ebce21505ee195cbcecd4d.jpg: 640x640 2 2Cs, 1 3H, 1 9S, 7.5ms\n",
            "image 678/803 /content/Playing-Cards-2/test/images/846709988_jpg.rf.944498f0341f98c8c2e813ed723449ff.jpg: 640x640 1 2H, 2 6Ss, 1 9S, 7.5ms\n",
            "image 679/803 /content/Playing-Cards-2/test/images/847282647_jpg.rf.28451414f6adc717a0550ea65398470b.jpg: 640x640 1 6D, 1 8S, 2 KCs, 7.5ms\n",
            "image 680/803 /content/Playing-Cards-2/test/images/848540480_jpg.rf.2f135932e44c3f50779dddd4c2f975c0.jpg: 640x640 1 10D, 2 ACs, 1 QS, 7.5ms\n",
            "image 681/803 /content/Playing-Cards-2/test/images/850078905_jpg.rf.bf17bd2497706213e0c13f59be7f52df.jpg: 640x640 1 10S, 1 6S, 2 8Hs, 7.5ms\n",
            "image 682/803 /content/Playing-Cards-2/test/images/852100169_jpg.rf.9e1e0f12134065f667a6cfdf277a7887.jpg: 640x640 1 4D, 1 6H, 2 9Hs, 7.5ms\n",
            "image 683/803 /content/Playing-Cards-2/test/images/852299623_jpg.rf.a1e1aeacfa72640b360cb0fe37026552.jpg: 640x640 2 2Cs, 1 6D, 1 AS, 7.5ms\n",
            "image 684/803 /content/Playing-Cards-2/test/images/854376500_jpg.rf.b3c7d2261db8ec03c2b6b4174416213e.jpg: 640x640 1 3D, 2 5Ds, 1 JS, 7.5ms\n",
            "image 685/803 /content/Playing-Cards-2/test/images/857029703_jpg.rf.5db66a5d40fc90303d00213ba330f8f2.jpg: 640x640 2 8Ds, 1 9D, 1 KD, 7.5ms\n",
            "image 686/803 /content/Playing-Cards-2/test/images/859116453_jpg.rf.26f096f83f9ebb823db2412cad16d801.jpg: 640x640 2 4Hs, 1 8S, 1 QS, 7.5ms\n",
            "image 687/803 /content/Playing-Cards-2/test/images/860128515_jpg.rf.230267c9ce90272e18ca875b30265cf8.jpg: 640x640 2 2Hs, 1 4D, 1 7S, 7.5ms\n",
            "image 688/803 /content/Playing-Cards-2/test/images/860214837_jpg.rf.4ebd66ffa091f9d36ee7ce0198543836.jpg: 640x640 2 2Ds, 1 6H, 1 JD, 7.5ms\n",
            "image 689/803 /content/Playing-Cards-2/test/images/861168023_jpg.rf.309661da7a8557e548b6aeef3f3b2774.jpg: 640x640 1 3C, 2 9Ds, 1 9H, 7.5ms\n",
            "image 690/803 /content/Playing-Cards-2/test/images/861464148_jpg.rf.ec2282a3ae51ddef61d97e6819d26e1f.jpg: 640x640 1 2D, 1 9C, 2 9Ss, 7.6ms\n",
            "image 691/803 /content/Playing-Cards-2/test/images/861942241_jpg.rf.c128db9f523f21d9b37581798277aaf1.jpg: 640x640 1 3D, 1 4D, 2 AHs, 7.5ms\n",
            "image 692/803 /content/Playing-Cards-2/test/images/864785870_jpg.rf.18f00eadee9f80424acde4f703daf06a.jpg: 640x640 2 10Ss, 1 8H, 1 AD, 7.8ms\n",
            "image 693/803 /content/Playing-Cards-2/test/images/865440852_jpg.rf.43a6887659a87fb5f357473c8330c1d7.jpg: 640x640 1 3H, 1 AD, 2 KDs, 7.5ms\n",
            "image 694/803 /content/Playing-Cards-2/test/images/867318275_jpg.rf.ec30a1b86ddd41b50cc79a546d3e6fed.jpg: 640x640 2 2Cs, 1 8H, 1 KD, 7.5ms\n",
            "image 695/803 /content/Playing-Cards-2/test/images/868751563_jpg.rf.9d9ee81a465b00a283b94b7ff11464bb.jpg: 640x640 2 2Hs, 2 8Ss, 12.4ms\n",
            "image 696/803 /content/Playing-Cards-2/test/images/869105922_jpg.rf.7b79b1c5a3ce18a9c543e59f4c5229e7.jpg: 640x640 1 3D, 1 7S, 2 8Ds, 8.9ms\n",
            "image 697/803 /content/Playing-Cards-2/test/images/869729267_jpg.rf.695df61519db9d08496c547c7352e8b9.jpg: 640x640 1 2D, 1 9C, 2 JDs, 7.5ms\n",
            "image 698/803 /content/Playing-Cards-2/test/images/870630132_jpg.rf.9b97b2d8e3e26b9c2d23f46d3e80a155.jpg: 640x640 2 2Ss, 1 9D, 1 QD, 7.5ms\n",
            "image 699/803 /content/Playing-Cards-2/test/images/871257545_jpg.rf.a86b6b77c4e2ddc6249a689ef4ff7bbd.jpg: 640x640 1 10H, 1 2C, 2 2Hs, 7.5ms\n",
            "image 700/803 /content/Playing-Cards-2/test/images/872109383_jpg.rf.fa694e8527362790a96ac9187d394235.jpg: 640x640 1 2D, 2 4Ss, 1 JC, 7.5ms\n",
            "image 701/803 /content/Playing-Cards-2/test/images/873489925_jpg.rf.d8f7dd194e21808b1eac5e4045948553.jpg: 640x640 1 10H, 1 4C, 2 AHs, 7.5ms\n",
            "image 702/803 /content/Playing-Cards-2/test/images/875916129_jpg.rf.6ab34b8bf5765ecfc661da2bdcec8dce.jpg: 640x640 2 2Cs, 1 9S, 1 QS, 7.5ms\n",
            "image 703/803 /content/Playing-Cards-2/test/images/876620650_jpg.rf.ae156c47f397d7d3911130b62510c6f4.jpg: 640x640 1 10C, 1 JS, 2 QCs, 7.5ms\n",
            "image 704/803 /content/Playing-Cards-2/test/images/876999993_jpg.rf.a773e50f060f293218235eb58cc9c889.jpg: 640x640 1 10S, 2 6Ds, 1 JC, 7.5ms\n",
            "image 705/803 /content/Playing-Cards-2/test/images/877607342_jpg.rf.cf1b84a5a5af7ccfa98099e18a828897.jpg: 640x640 2 10Ss, 1 7D, 1 KS, 7.5ms\n",
            "image 706/803 /content/Playing-Cards-2/test/images/879444114_jpg.rf.e3c65682bd567fdd228b5186c8e8aacc.jpg: 640x640 1 9S, 1 AD, 2 QHs, 7.5ms\n",
            "image 707/803 /content/Playing-Cards-2/test/images/879613211_jpg.rf.59d1d02cda7021c8bb726e0efb3a5954.jpg: 640x640 1 3S, 2 4Cs, 1 8D, 7.5ms\n",
            "image 708/803 /content/Playing-Cards-2/test/images/881066845_jpg.rf.7b9ec1c561ae3353bf9af83a3652277f.jpg: 640x640 1 3S, 1 8S, 2 QCs, 7.5ms\n",
            "image 709/803 /content/Playing-Cards-2/test/images/884614167_jpg.rf.151d7eb6e66a374b1adebba245ad4690.jpg: 640x640 2 3Ss, 1 9C, 1 AH, 8.2ms\n",
            "image 710/803 /content/Playing-Cards-2/test/images/886706142_jpg.rf.2e3862441bee34e1cb327efc7338b588.jpg: 640x640 2 7Cs, 1 9S, 1 JC, 7.5ms\n",
            "image 711/803 /content/Playing-Cards-2/test/images/887141669_jpg.rf.b6b27258e0ee96b07d8cb3357e92b509.jpg: 640x640 2 8Ss, 1 AS, 1 QD, 7.5ms\n",
            "image 712/803 /content/Playing-Cards-2/test/images/890838542_jpg.rf.40275c397a7023f92afd80813aefa07c.jpg: 640x640 1 4C, 2 8Hs, 1 9S, 7.5ms\n",
            "image 713/803 /content/Playing-Cards-2/test/images/893284386_jpg.rf.876f5651f27d7a91ce2ab8ab8a35db82.jpg: 640x640 1 2C, 2 7Ss, 1 KC, 7.5ms\n",
            "image 714/803 /content/Playing-Cards-2/test/images/894208177_jpg.rf.fe6b7bb56985b7ec28ecbe86dea16a30.jpg: 640x640 2 4Ds, 1 8D, 1 KC, 7.5ms\n",
            "image 715/803 /content/Playing-Cards-2/test/images/898605849_jpg.rf.5c900eae2ca3530355bf6c47aa359df8.jpg: 640x640 2 5Cs, 1 9D, 1 JS, 7.6ms\n",
            "image 716/803 /content/Playing-Cards-2/test/images/899009121_jpg.rf.71dd7f3023f17ceb332d08990d336f7f.jpg: 640x640 2 10Cs, 1 2C, 1 3C, 11.7ms\n",
            "image 717/803 /content/Playing-Cards-2/test/images/899323245_jpg.rf.27bfeba2a930c2e6cc928d13e58c0137.jpg: 640x640 1 5D, 2 8Cs, 1 KD, 10.6ms\n",
            "image 718/803 /content/Playing-Cards-2/test/images/900067017_jpg.rf.f0fef4fa5ead7c5f5b9502a9330c382e.jpg: 640x640 1 3D, 1 6S, 2 QHs, 11.2ms\n",
            "image 719/803 /content/Playing-Cards-2/test/images/901285933_jpg.rf.f8a3e745cfb1fdb52eb736abcf5ea442.jpg: 640x640 1 6D, 1 QC, 2 QSs, 10.9ms\n",
            "image 720/803 /content/Playing-Cards-2/test/images/906183177_jpg.rf.9594a2f02f2aa9938274ace8a786e5e2.jpg: 640x640 1 8S, 2 9Ds, 1 QD, 12.3ms\n",
            "image 721/803 /content/Playing-Cards-2/test/images/907182376_jpg.rf.f58577d271b1342909d3c415f45995f1.jpg: 640x640 2 2Ss, 1 6D, 1 7C, 8.5ms\n",
            "image 722/803 /content/Playing-Cards-2/test/images/907861373_jpg.rf.2a819ff8890f4131244781fe606cee7d.jpg: 640x640 1 3D, 2 4Ss, 1 5H, 10.5ms\n",
            "image 723/803 /content/Playing-Cards-2/test/images/909963092_jpg.rf.9ad9b9dbae3bd8e7db32b5880ca0001e.jpg: 640x640 2 9Cs, 2 QSs, 9.5ms\n",
            "image 724/803 /content/Playing-Cards-2/test/images/910055706_jpg.rf.db3cca248d79de26997a13bce7ee983e.jpg: 640x640 1 3C, 1 4D, 2 JDs, 8.0ms\n",
            "image 725/803 /content/Playing-Cards-2/test/images/910679391_jpg.rf.76eedf637a7a8c9744cacc371a8449b5.jpg: 640x640 1 10C, 1 9S, 2 QDs, 12.2ms\n",
            "image 726/803 /content/Playing-Cards-2/test/images/911753620_jpg.rf.5ccaa549b81e62fc9dbd2976b529ee6d.jpg: 640x640 2 5Ds, 1 8D, 1 JS, 8.4ms\n",
            "image 727/803 /content/Playing-Cards-2/test/images/913598756_jpg.rf.bcfe0de034bda38bb4964b9593ecf858.jpg: 640x640 2 9Hs, 1 JS, 1 QS, 9.7ms\n",
            "image 728/803 /content/Playing-Cards-2/test/images/915524455_jpg.rf.efd14688d058be9b3382ba63df9614e7.jpg: 640x640 1 10S, 1 6C, 2 KSs, 8.8ms\n",
            "image 729/803 /content/Playing-Cards-2/test/images/915786717_jpg.rf.78665e59634b11e9d2ae6956276376d8.jpg: 640x640 3 3Ds, 1 QD, 9.6ms\n",
            "image 730/803 /content/Playing-Cards-2/test/images/915881511_jpg.rf.b7365f80e99011d91218421478b8eba3.jpg: 640x640 1 5H, 1 8S, 2 JSs, 8.9ms\n",
            "image 731/803 /content/Playing-Cards-2/test/images/916142431_jpg.rf.be22272d1acba40cc589c152b2c5e5e4.jpg: 640x640 2 10Cs, 1 10D, 1 2C, 10.1ms\n",
            "image 732/803 /content/Playing-Cards-2/test/images/917051871_jpg.rf.6665c13b2c76f9ffcfc14ee882dcd17c.jpg: 640x640 1 2D, 2 6Ds, 1 QD, 11.0ms\n",
            "image 733/803 /content/Playing-Cards-2/test/images/918963054_jpg.rf.24bd5a6df6c7cf33d7e2fe84833d85d0.jpg: 640x640 1 2S, 2 5Cs, 1 KH, 8.9ms\n",
            "image 734/803 /content/Playing-Cards-2/test/images/919602477_jpg.rf.fe63d7d95914b82d3fa8194b6e5a4cc7.jpg: 640x640 1 3C, 2 9Cs, 1 QD, 13.8ms\n",
            "image 735/803 /content/Playing-Cards-2/test/images/920295769_jpg.rf.ee8ec4c9820bdde1828bb79811e54ff7.jpg: 640x640 1 10H, 2 4Ds, 1 5C, 9.2ms\n",
            "image 736/803 /content/Playing-Cards-2/test/images/920374970_jpg.rf.370317d932df48df9e34371793a2407e.jpg: 640x640 1 6H, 2 7Cs, 1 AD, 12.3ms\n",
            "image 737/803 /content/Playing-Cards-2/test/images/920462642_jpg.rf.3ce1290114d94e169507e091f72269af.jpg: 640x640 2 2Hs, 1 9H, 1 KS, 10.8ms\n",
            "image 738/803 /content/Playing-Cards-2/test/images/922218062_jpg.rf.533cd1f24cecbf7f8a07accdc82e814e.jpg: 640x640 1 10S, 2 3Hs, 1 5H, 8.7ms\n",
            "image 739/803 /content/Playing-Cards-2/test/images/925672482_jpg.rf.e56e465454fab1a5ece5198e4328baa7.jpg: 640x640 1 6C, 1 7C, 2 ASs, 8.5ms\n",
            "image 740/803 /content/Playing-Cards-2/test/images/926569361_jpg.rf.d8263fd0545ae5a21adf0199b0d6cea9.jpg: 640x640 1 10S, 1 5S, 2 9Hs, 12.3ms\n",
            "image 741/803 /content/Playing-Cards-2/test/images/927049785_jpg.rf.f975fddff922607c1299a4769b434820.jpg: 640x640 2 3Cs, 1 4C, 1 QH, 17.5ms\n",
            "image 742/803 /content/Playing-Cards-2/test/images/928469830_jpg.rf.cf20805229bbb34806cd8240bb59ba1c.jpg: 640x640 2 10Ds, 1 8S, 1 AS, 13.0ms\n",
            "image 743/803 /content/Playing-Cards-2/test/images/929197762_jpg.rf.a95f228ab5785f73ac71a7f63a750801.jpg: 640x640 1 2D, 1 2H, 2 4Ss, 10.1ms\n",
            "image 744/803 /content/Playing-Cards-2/test/images/929768179_jpg.rf.3ddc166a32c38b1c7823af204542eefc.jpg: 640x640 1 7H, 1 8C, 2 8Ds, 9.2ms\n",
            "image 745/803 /content/Playing-Cards-2/test/images/931995136_jpg.rf.553c46aeb859baa0f4db68f4cfc2cfb3.jpg: 640x640 1 4D, 1 8S, 2 AHs, 8.7ms\n",
            "image 746/803 /content/Playing-Cards-2/test/images/932667419_jpg.rf.0db32f9fe61738d95d1fe461583d55b7.jpg: 640x640 2 2Cs, 1 6H, 1 JH, 8.9ms\n",
            "image 747/803 /content/Playing-Cards-2/test/images/933204797_jpg.rf.bc11102df12dd99bb678c136cb77d250.jpg: 640x640 1 10H, 1 JS, 2 QDs, 10.1ms\n",
            "image 748/803 /content/Playing-Cards-2/test/images/934477526_jpg.rf.b562209acc947affe261e993d75a3353.jpg: 640x640 1 2C, 1 3S, 2 JDs, 15.2ms\n",
            "image 749/803 /content/Playing-Cards-2/test/images/934734800_jpg.rf.3cc0c27bb4c7bd9fd086210077179638.jpg: 640x640 2 3Cs, 1 5C, 1 7S, 12.2ms\n",
            "image 750/803 /content/Playing-Cards-2/test/images/934914668_jpg.rf.98365b53ed20a322aacf37905da6b530.jpg: 640x640 1 10D, 1 10S, 2 JSs, 10.8ms\n",
            "image 751/803 /content/Playing-Cards-2/test/images/935769765_jpg.rf.4a2b780176065156683cbdd533d51682.jpg: 640x640 1 2C, 1 2S, 2 3Hs, 12.5ms\n",
            "image 752/803 /content/Playing-Cards-2/test/images/935801201_jpg.rf.166b41243ff1c3c2b433a4f7b1f96055.jpg: 640x640 1 6C, 1 9S, 2 AHs, 8.3ms\n",
            "image 753/803 /content/Playing-Cards-2/test/images/936973687_jpg.rf.8a3a02e3e38bdc4a4bbf461d9c3fe971.jpg: 640x640 1 5C, 2 5Hs, 1 8D, 8.4ms\n",
            "image 754/803 /content/Playing-Cards-2/test/images/937443134_jpg.rf.869a7c5f24544db5dcfbb50061591617.jpg: 640x640 2 2Hs, 1 8D, 1 AH, 8.9ms\n",
            "image 755/803 /content/Playing-Cards-2/test/images/938795530_jpg.rf.5112d310ad45d046b45523b093194911.jpg: 640x640 1 10D, 2 7Ds, 1 JC, 8.3ms\n",
            "image 756/803 /content/Playing-Cards-2/test/images/939564836_jpg.rf.27dd8d5dd21d6e8abd4fb83487a5cf75.jpg: 640x640 2 8Ds, 1 9H, 1 AS, 8.5ms\n",
            "image 757/803 /content/Playing-Cards-2/test/images/940986988_jpg.rf.68a3cc9a4dc3c443b9ff38e8054ec625.jpg: 640x640 1 2S, 1 3S, 2 QDs, 8.6ms\n",
            "image 758/803 /content/Playing-Cards-2/test/images/942926303_jpg.rf.40ee0c1e1df70e9df404e3fd0fabd7e6.jpg: 640x640 1 2C, 1 KS, 2 QHs, 8.7ms\n",
            "image 759/803 /content/Playing-Cards-2/test/images/943087031_jpg.rf.023cb2082950190e036122733ee7958c.jpg: 640x640 2 2Ss, 1 7H, 1 JS, 8.3ms\n",
            "image 760/803 /content/Playing-Cards-2/test/images/943905497_jpg.rf.98a8157d3eb5239567c0aff54b489ba9.jpg: 640x640 1 10H, 2 2Ss, 1 8S, 9.3ms\n",
            "image 761/803 /content/Playing-Cards-2/test/images/948231203_jpg.rf.d55982bc5e52300b835c8d7783fe63e9.jpg: 640x640 1 2C, 2 7Ss, 1 8H, 13.9ms\n",
            "image 762/803 /content/Playing-Cards-2/test/images/948852134_jpg.rf.35867bc9ada77c09d971e3ba8349e0b1.jpg: 640x640 2 4Ds, 1 4H, 1 8D, 8.7ms\n",
            "image 763/803 /content/Playing-Cards-2/test/images/948914994_jpg.rf.68ce2807cf9d6e05db8bef0095aca6f9.jpg: 640x640 1 3C, 2 8Ds, 1 AD, 10.5ms\n",
            "image 764/803 /content/Playing-Cards-2/test/images/949363040_jpg.rf.73ec5bcaff38a10b54183359e17191ca.jpg: 640x640 2 3Ds, 1 AD, 1 JH, 14.1ms\n",
            "image 765/803 /content/Playing-Cards-2/test/images/949637919_jpg.rf.c6cf50710a20680f2311c64d030fd178.jpg: 640x640 1 10C, 2 7Ds, 1 QD, 16.2ms\n",
            "image 766/803 /content/Playing-Cards-2/test/images/952159165_jpg.rf.5ad332d3aa8e2fae4b61cb6f7b6f5cd9.jpg: 640x640 1 10S, 1 8S, 2 9Ss, 11.1ms\n",
            "image 767/803 /content/Playing-Cards-2/test/images/952331081_jpg.rf.e4ddc4b1befe4a6565221c3d1982f5c1.jpg: 640x640 2 2Hs, 1 5C, 1 KC, 11.5ms\n",
            "image 768/803 /content/Playing-Cards-2/test/images/953693685_jpg.rf.dc54ad61752a68e6b93f1a3d44a80004.jpg: 640x640 1 5C, 1 9C, 2 KHs, 17.1ms\n",
            "image 769/803 /content/Playing-Cards-2/test/images/954542544_jpg.rf.3cffda2788b4c83c063da2bdde88c21b.jpg: 640x640 1 2C, 1 4D, 2 5Ds, 11.5ms\n",
            "image 770/803 /content/Playing-Cards-2/test/images/955985216_jpg.rf.00aa18bd6204e6e6d9e5dce1d8f50b13.jpg: 640x640 2 7Ds, 1 8H, 1 QC, 12.4ms\n",
            "image 771/803 /content/Playing-Cards-2/test/images/956000668_jpg.rf.baaecdb7191e1627f684b281d9128bb2.jpg: 640x640 1 4D, 1 7C, 2 QDs, 12.5ms\n",
            "image 772/803 /content/Playing-Cards-2/test/images/956141417_jpg.rf.f56015a034af7c97e215224919310983.jpg: 640x640 2 2Ss, 1 3H, 1 4C, 11.9ms\n",
            "image 773/803 /content/Playing-Cards-2/test/images/956711498_jpg.rf.9ea199d4106f1bc16d1c4f5eaf217890.jpg: 640x640 1 2S, 1 4D, 2 9Cs, 9.3ms\n",
            "image 774/803 /content/Playing-Cards-2/test/images/958598313_jpg.rf.f3529734b342bfed38df8b0e39f1f14d.jpg: 640x640 2 3Ss, 1 4C, 1 8D, 8.0ms\n",
            "image 775/803 /content/Playing-Cards-2/test/images/960189831_jpg.rf.a0b712671951e558bb4f72fff4525a58.jpg: 640x640 2 5Cs, 1 AD, 1 JD, 8.0ms\n",
            "image 776/803 /content/Playing-Cards-2/test/images/961845767_jpg.rf.a40b9aaaefc8901c897f6d02a869d652.jpg: 640x640 1 2D, 2 4Ss, 1 QS, 11.4ms\n",
            "image 777/803 /content/Playing-Cards-2/test/images/962728714_jpg.rf.b45860e2b2f14f99210db0e40fcea893.jpg: 640x640 1 2C, 1 2S, 2 5Hs, 9.5ms\n",
            "image 778/803 /content/Playing-Cards-2/test/images/963487275_jpg.rf.1c17c5fbd414c7faafefb811052ca96a.jpg: 640x640 1 10S, 2 5Hs, 1 9D, 14.8ms\n",
            "image 779/803 /content/Playing-Cards-2/test/images/963916273_jpg.rf.58151be51145e788ef08d4d01a6797d2.jpg: 640x640 2 4Ds, 1 6C, 1 9D, 11.3ms\n",
            "image 780/803 /content/Playing-Cards-2/test/images/964368993_jpg.rf.cfef39dbe8fe26255ec94e7ce6a47e32.jpg: 640x640 2 3Cs, 1 3D, 1 JD, 12.1ms\n",
            "image 781/803 /content/Playing-Cards-2/test/images/965016732_jpg.rf.cfab2da4740dc8724a9db02b8736a901.jpg: 640x640 2 10Cs, 1 8H, 1 JD, 13.8ms\n",
            "image 782/803 /content/Playing-Cards-2/test/images/966477361_jpg.rf.e14f89cd04d8eb77814b1a13cd99aa33.jpg: 640x640 2 JDs, 1 KC, 1 KH, 8.5ms\n",
            "image 783/803 /content/Playing-Cards-2/test/images/968326455_jpg.rf.3e3b34b67130e30e347df58b12942c44.jpg: 640x640 1 10H, 1 4S, 2 6Ds, 11.3ms\n",
            "image 784/803 /content/Playing-Cards-2/test/images/969284528_jpg.rf.741eaa04bd47195d589cfd6d48d44802.jpg: 640x640 1 3C, 1 3H, 2 5Cs, 11.3ms\n",
            "image 785/803 /content/Playing-Cards-2/test/images/970552017_jpg.rf.03642b3c83579b8715c482fb0d08b845.jpg: 640x640 2 2Cs, 1 9H, 1 AS, 14.0ms\n",
            "image 786/803 /content/Playing-Cards-2/test/images/970798548_jpg.rf.dc0b098dbaee4023a2afc03f6ffd692b.jpg: 640x640 1 6H, 2 6Ss, 1 9D, 12.5ms\n",
            "image 787/803 /content/Playing-Cards-2/test/images/974575938_jpg.rf.ada81e04032c70320cd5ed7f6363fe02.jpg: 640x640 2 3Ss, 1 6S, 1 QS, 11.2ms\n",
            "image 788/803 /content/Playing-Cards-2/test/images/976705554_jpg.rf.42a54d4a3ef7ee560089e2e357858121.jpg: 640x640 1 3C, 1 KH, 2 QHs, 12.5ms\n",
            "image 789/803 /content/Playing-Cards-2/test/images/978012097_jpg.rf.056a87803e0311ab2767327202f91190.jpg: 640x640 2 10Hs, 1 3C, 1 8S, 13.2ms\n",
            "image 790/803 /content/Playing-Cards-2/test/images/978301569_jpg.rf.d20eed5e1abffc8d5374db8c646d1510.jpg: 640x640 1 2H, 1 KD, 2 QHs, 13.0ms\n",
            "image 791/803 /content/Playing-Cards-2/test/images/978472794_jpg.rf.67a201e289e81ac533a0ff9df679ec52.jpg: 640x640 1 3D, 2 7Cs, 1 8H, 14.8ms\n",
            "image 792/803 /content/Playing-Cards-2/test/images/985506652_jpg.rf.4228dc106706794a411347f944a329c3.jpg: 640x640 1 4C, 1 4S, 2 JCs, 10.6ms\n",
            "image 793/803 /content/Playing-Cards-2/test/images/989374445_jpg.rf.ecf44b3599753c77ff5d6f2563001806.jpg: 640x640 1 3D, 2 4Hs, 1 JH, 7.9ms\n",
            "image 794/803 /content/Playing-Cards-2/test/images/990148034_jpg.rf.fc3bea81df013ea47f46cd09a3eb7d12.jpg: 640x640 2 4Cs, 1 8C, 1 KD, 8.2ms\n",
            "image 795/803 /content/Playing-Cards-2/test/images/990477678_jpg.rf.11145920c466b10e4526c4e1993fc750.jpg: 640x640 1 3S, 2 ACs, 1 AS, 7.5ms\n",
            "image 796/803 /content/Playing-Cards-2/test/images/992273932_jpg.rf.e1b6b2eec8a5b7cd905302c050e4009f.jpg: 640x640 2 10Ss, 1 6C, 1 JD, 7.5ms\n",
            "image 797/803 /content/Playing-Cards-2/test/images/992604199_jpg.rf.19a08e95f34a1a241da192420867b0d7.jpg: 640x640 1 2C, 1 2D, 2 AHs, 7.5ms\n",
            "image 798/803 /content/Playing-Cards-2/test/images/995125190_jpg.rf.82894a26b39ed7cca80da84cd5f646b3.jpg: 640x640 1 5D, 2 8Ds, 1 JS, 7.5ms\n",
            "image 799/803 /content/Playing-Cards-2/test/images/996958675_jpg.rf.f7babb6c19932c26b625889c15545ca6.jpg: 640x640 1 10S, 2 7Hs, 1 QH, 8.6ms\n",
            "image 800/803 /content/Playing-Cards-2/test/images/998379961_jpg.rf.d21fb94180af1ff264cba7aba4441858.jpg: 640x640 2 10Ss, 1 5C, 1 8D, 7.5ms\n",
            "image 801/803 /content/Playing-Cards-2/test/images/998385375_jpg.rf.4bc6dc080b7ffa62cb88cea6f5a020fe.jpg: 640x640 1 6C, 1 8C, 2 KCs, 7.5ms\n",
            "image 802/803 /content/Playing-Cards-2/test/images/999441463_jpg.rf.a3c3b867329c42033eb98a01c9a69334.jpg: 640x640 1 4H, 2 6Cs, 1 QH, 7.5ms\n",
            "image 803/803 /content/Playing-Cards-2/test/images/joker-6_jpeg_jpg.rf.5db6043f51769838c73d8c8fb867a0e6.jpg: 640x640 (no detections), 7.5ms\n",
            "Speed: 3.5ms preprocess, 8.4ms inference, 1.7ms postprocess per image at shape (1, 3, 640, 640)\n",
            "Results saved to \u001b[1mruns/detect/playing_cards_yolov83\u001b[0m\n"
          ]
        }
      ]
    },
    {
      "cell_type": "code",
      "source": [
        "model.export(format=\"onnx\", dynamic=True)  # Dynamic shapes for flexible input sizes"
      ],
      "metadata": {
        "colab": {
          "base_uri": "https://localhost:8080/",
          "height": 837
        },
        "id": "tlEexZ61skBD",
        "outputId": "1182b380-b637-4165-ab09-23af4cc9edd3"
      },
      "execution_count": null,
      "outputs": [
        {
          "output_type": "stream",
          "name": "stdout",
          "text": [
            "Ultralytics 8.3.129 🚀 Python-3.11.12 torch-2.6.0+cu124 CPU (Intel Xeon 2.00GHz)\n",
            "\n",
            "\u001b[34m\u001b[1mPyTorch:\u001b[0m starting from 'runs/detect/playing_cards_yolov8/weights/best.pt' with input shape (1, 3, 640, 640) BCHW and output shape(s) (1, 57, 8400) (6.0 MB)\n",
            "\u001b[31m\u001b[1mrequirements:\u001b[0m Ultralytics requirements ['onnx>=1.12.0', 'onnxslim>=0.1.46', 'onnxruntime-gpu'] not found, attempting AutoUpdate...\n",
            "Collecting onnx>=1.12.0\n",
            "  Downloading onnx-1.17.0-cp311-cp311-manylinux_2_17_x86_64.manylinux2014_x86_64.whl.metadata (16 kB)\n",
            "Collecting onnxslim>=0.1.46\n",
            "  Downloading onnxslim-0.1.51-py3-none-any.whl.metadata (5.0 kB)\n",
            "Collecting onnxruntime-gpu\n",
            "  Downloading onnxruntime_gpu-1.21.1-cp311-cp311-manylinux_2_27_x86_64.manylinux_2_28_x86_64.whl.metadata (4.8 kB)\n",
            "Requirement already satisfied: numpy>=1.20 in /usr/local/lib/python3.11/dist-packages (from onnx>=1.12.0) (2.0.2)\n",
            "Requirement already satisfied: protobuf>=3.20.2 in /usr/local/lib/python3.11/dist-packages (from onnx>=1.12.0) (5.29.4)\n",
            "Requirement already satisfied: sympy in /usr/local/lib/python3.11/dist-packages (from onnxslim>=0.1.46) (1.13.1)\n",
            "Requirement already satisfied: packaging in /usr/local/lib/python3.11/dist-packages (from onnxslim>=0.1.46) (24.2)\n",
            "Collecting coloredlogs (from onnxruntime-gpu)\n",
            "  Downloading coloredlogs-15.0.1-py2.py3-none-any.whl.metadata (12 kB)\n",
            "Requirement already satisfied: flatbuffers in /usr/local/lib/python3.11/dist-packages (from onnxruntime-gpu) (25.2.10)\n",
            "Collecting humanfriendly>=9.1 (from coloredlogs->onnxruntime-gpu)\n",
            "  Downloading humanfriendly-10.0-py2.py3-none-any.whl.metadata (9.2 kB)\n",
            "Requirement already satisfied: mpmath<1.4,>=1.1.0 in /usr/local/lib/python3.11/dist-packages (from sympy->onnxslim>=0.1.46) (1.3.0)\n",
            "Downloading onnx-1.17.0-cp311-cp311-manylinux_2_17_x86_64.manylinux2014_x86_64.whl (16.0 MB)\n",
            "   ━━━━━━━━━━━━━━━━━━━━━━━━━━━━━━━━━━━━━━━━ 16.0/16.0 MB 231.9 MB/s eta 0:00:00\n",
            "Downloading onnxslim-0.1.51-py3-none-any.whl (145 kB)\n",
            "   ━━━━━━━━━━━━━━━━━━━━━━━━━━━━━━━━━━━━━━━ 145.6/145.6 kB 314.0 MB/s eta 0:00:00\n",
            "Downloading onnxruntime_gpu-1.21.1-cp311-cp311-manylinux_2_27_x86_64.manylinux_2_28_x86_64.whl (280.8 MB)\n",
            "   ━━━━━━━━━━━━━━━━━━━━━━━━━━━━━━━━━━━━━━━ 280.8/280.8 MB 261.6 MB/s eta 0:00:00\n",
            "Downloading coloredlogs-15.0.1-py2.py3-none-any.whl (46 kB)\n",
            "   ━━━━━━━━━━━━━━━━━━━━━━━━━━━━━━━━━━━━━━━━ 46.0/46.0 kB 171.1 MB/s eta 0:00:00\n",
            "Downloading humanfriendly-10.0-py2.py3-none-any.whl (86 kB)\n",
            "   ━━━━━━━━━━━━━━━━━━━━━━━━━━━━━━━━━━━━━━━━ 86.8/86.8 kB 300.3 MB/s eta 0:00:00\n",
            "Installing collected packages: onnx, humanfriendly, onnxslim, coloredlogs, onnxruntime-gpu\n",
            "Successfully installed coloredlogs-15.0.1 humanfriendly-10.0 onnx-1.17.0 onnxruntime-gpu-1.21.1 onnxslim-0.1.51\n",
            "\n",
            "\u001b[31m\u001b[1mrequirements:\u001b[0m AutoUpdate success ✅ 17.1s, installed 3 packages: ['onnx>=1.12.0', 'onnxslim>=0.1.46', 'onnxruntime-gpu']\n",
            "WARNING ⚠️ \u001b[31m\u001b[1mrequirements:\u001b[0m \u001b[1mRestart runtime or rerun command for updates to take effect\u001b[0m\n",
            "\n",
            "\n",
            "\u001b[34m\u001b[1mONNX:\u001b[0m starting export with onnx 1.17.0 opset 19...\n",
            "\u001b[34m\u001b[1mONNX:\u001b[0m slimming with onnxslim 0.1.51...\n",
            "\u001b[34m\u001b[1mONNX:\u001b[0m export success ✅ 36.8s, saved as 'runs/detect/playing_cards_yolov8/weights/best.onnx' (11.6 MB)\n",
            "\n",
            "Export complete (38.5s)\n",
            "Results saved to \u001b[1m/content/runs/detect/playing_cards_yolov8/weights\u001b[0m\n",
            "Predict:         yolo predict task=detect model=runs/detect/playing_cards_yolov8/weights/best.onnx imgsz=640  \n",
            "Validate:        yolo val task=detect model=runs/detect/playing_cards_yolov8/weights/best.onnx imgsz=640 data=/content/Playing-Cards-2/data.yaml  \n",
            "Visualize:       https://netron.app\n"
          ]
        },
        {
          "output_type": "execute_result",
          "data": {
            "text/plain": [
              "'runs/detect/playing_cards_yolov8/weights/best.onnx'"
            ],
            "application/vnd.google.colaboratory.intrinsic+json": {
              "type": "string"
            }
          },
          "metadata": {},
          "execution_count": 14
        }
      ]
    },
    {
      "cell_type": "code",
      "source": [
        "rf = Roboflow(api_key=\"oAeanIPa419asYxe2D5M\")\n",
        "\n",
        "workspace = rf.workspace(\"cs1430-kaepw\")\n",
        "\n",
        "workspace.deploy_model(\n",
        "  model_type=\"yolov8\",\n",
        "  model_path=\"/content/runs/detect/playing_cards_yolov8/\",\n",
        "  project_ids=[\"cs1430-_-final-project\"],\n",
        "  model_name=\"my_custom_model\"\n",
        ")"
      ],
      "metadata": {
        "colab": {
          "base_uri": "https://localhost:8080/"
        },
        "id": "2AiXrop_w7KF",
        "outputId": "1a79a127-b500-40d6-b2e1-1c6d5508d2b2"
      },
      "execution_count": null,
      "outputs": [
        {
          "output_type": "stream",
          "name": "stdout",
          "text": [
            "\rloading Roboflow workspace...\n",
            "Dependency ultralytics==8.0.196 is required but found version=8.3.129, to fix: `pip install ultralytics==8.0.196`\n",
            "Would you like to continue with the wrong version of ultralytics? y/n: y\n",
            "An error occured when getting the model deployment URL: 400 Client Error: Bad Request for url: https://api.roboflow.com/cs1430-kaepw/models/prepareUpload?api_key=oAeanIPa419asYxe2D5M&modelType=yolov8&modelName=my_custom_model&projectIds=cs1430-_-final-project&nocache=true\n"
          ]
        }
      ]
    }
  ]
}